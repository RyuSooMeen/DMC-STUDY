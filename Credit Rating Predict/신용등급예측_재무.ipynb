{
 "cells": [
  {
   "cell_type": "markdown",
   "id": "f39d1cb0-d21a-49ed-9a7b-8b0607a35858",
   "metadata": {},
   "source": [
    "---\n",
    "> # **신용등급예측 재무 머신러닝 구축 프로젝트**\n",
    "> - ## **기업정보요약**\n",
    "> - ## **재무제표정보**\n",
    "---"
   ]
  },
  {
   "cell_type": "markdown",
   "id": "a46fdf25-69ce-4d4c-aeb7-bb9a4ad3d880",
   "metadata": {},
   "source": [
    "---\n",
    "> # **라이브러리 호출**\n",
    "---"
   ]
  },
  {
   "cell_type": "code",
   "execution_count": 1,
   "id": "2da73d53-cde3-4ed0-924c-08b0e27531ef",
   "metadata": {},
   "outputs": [],
   "source": [
    "import numpy as np\n",
    "import pandas as pd # 정형데이터 전처리 / 통계 연산 수행\n",
    "from datetime import timedelta # 시간데이터 처리\n",
    "\n",
    "import seaborn as sns # 통계적 시각화 연산\n",
    "import matplotlib as mpl # 시각화 옵션 (외부)\n",
    "import matplotlib.pyplot as plt # 시각화 옵션 (내부)\n",
    "import plotly.express as px # 동적 그래프 시각화\n",
    "import scipy.stats as stats # 통계적 가설 검정 수행\n",
    "\n",
    "#!pip install scikit-learn\n",
    "from sklearn.model_selection import train_test_split # 머신러닝 데이터 split\n",
    "from sklearn.tree import DecisionTreeClassifier # 분류모델\n",
    "from sklearn.metrics import accuracy_score # 머신러닝 평가\n",
    "from sklearn.metrics import classification_report # 분류모델의 성능 측정함수\n",
    "\n",
    "mpl.rc('font',family='Malgun Gothic') # 한글 글꼴 설정\n",
    "plt.rcParams['axes.unicode_minus'] = False # 음수 오류 해결"
   ]
  },
  {
   "cell_type": "markdown",
   "id": "fb7d20ec-9c9b-437f-aa36-1a75a1c41373",
   "metadata": {},
   "source": [
    "---\n",
    "> # **기업정보 데이터**\n",
    "> ### - 기업정보요약\n",
    "> ### - 기업정보상세\n",
    "---"
   ]
  },
  {
   "cell_type": "markdown",
   "id": "fb245e67-7802-4bb8-8aef-c1ce5b5dfd87",
   "metadata": {},
   "source": [
    "--- \n",
    "> ### **DDA**\n",
    "---"
   ]
  },
  {
   "cell_type": "markdown",
   "id": "cc8bec57-1bad-4574-9fc1-ccb6c126169d",
   "metadata": {},
   "source": [
    "#### ✅**CRI 등급이 기업정보상세에 있기 때문에 이 데이터를 사용해야 할 것 같음**"
   ]
  },
  {
   "cell_type": "code",
   "execution_count": 2,
   "id": "bb11a97e-64af-4abb-86df-3905a1fc036c",
   "metadata": {},
   "outputs": [
    {
     "data": {
      "text/html": [
       "<div>\n",
       "<style scoped>\n",
       "    .dataframe tbody tr th:only-of-type {\n",
       "        vertical-align: middle;\n",
       "    }\n",
       "\n",
       "    .dataframe tbody tr th {\n",
       "        vertical-align: top;\n",
       "    }\n",
       "\n",
       "    .dataframe thead th {\n",
       "        text-align: right;\n",
       "    }\n",
       "</style>\n",
       "<table border=\"1\" class=\"dataframe\">\n",
       "  <thead>\n",
       "    <tr style=\"text-align: right;\">\n",
       "      <th></th>\n",
       "      <th>사업자등록번호</th>\n",
       "      <th>데이터수집일자</th>\n",
       "      <th>기업명</th>\n",
       "      <th>기업영문명</th>\n",
       "      <th>대표자명</th>\n",
       "      <th>종업원수</th>\n",
       "      <th>종업원수기준년월</th>\n",
       "      <th>산업분류코드</th>\n",
       "      <th>산업분류코드설명</th>\n",
       "      <th>기업규모</th>\n",
       "      <th>...</th>\n",
       "      <th>결산일자</th>\n",
       "      <th>매출액</th>\n",
       "      <th>영업이익</th>\n",
       "      <th>자본총계금액</th>\n",
       "      <th>부채총계금액</th>\n",
       "      <th>자산총계금액</th>\n",
       "      <th>작업구분코드</th>\n",
       "      <th>데이터생성일자</th>\n",
       "      <th>연계처리상태코드</th>\n",
       "      <th>연계처리일자</th>\n",
       "    </tr>\n",
       "  </thead>\n",
       "  <tbody>\n",
       "    <tr>\n",
       "      <th>0</th>\n",
       "      <td>1050508965</td>\n",
       "      <td>20220107</td>\n",
       "      <td>크린토**</td>\n",
       "      <td>Cleanto***</td>\n",
       "      <td>강**</td>\n",
       "      <td>NaN</td>\n",
       "      <td>NaN</td>\n",
       "      <td>96910.0</td>\n",
       "      <td>세탁업</td>\n",
       "      <td>중소기업</td>\n",
       "      <td>...</td>\n",
       "      <td>NaN</td>\n",
       "      <td>NaN</td>\n",
       "      <td>NaN</td>\n",
       "      <td>NaN</td>\n",
       "      <td>NaN</td>\n",
       "      <td>NaN</td>\n",
       "      <td>I</td>\n",
       "      <td>20221104</td>\n",
       "      <td>NaN</td>\n",
       "      <td>NaN</td>\n",
       "    </tr>\n",
       "    <tr>\n",
       "      <th>1</th>\n",
       "      <td>1010204456</td>\n",
       "      <td>20220107</td>\n",
       "      <td>씨앤피비즈***</td>\n",
       "      <td>C&amp;P BIZ SOLUT***</td>\n",
       "      <td>함**</td>\n",
       "      <td>5.0</td>\n",
       "      <td>2021-06</td>\n",
       "      <td>46510.0</td>\n",
       "      <td>컴퓨터 및 주변장치, 소프트웨어 도매업</td>\n",
       "      <td>중소기업</td>\n",
       "      <td>...</td>\n",
       "      <td>20201231.0</td>\n",
       "      <td>984750.0</td>\n",
       "      <td>76381.0</td>\n",
       "      <td>84972.0</td>\n",
       "      <td>866105.0</td>\n",
       "      <td>951077.0</td>\n",
       "      <td>I</td>\n",
       "      <td>20221104</td>\n",
       "      <td>NaN</td>\n",
       "      <td>NaN</td>\n",
       "    </tr>\n",
       "    <tr>\n",
       "      <th>2</th>\n",
       "      <td>1048107174</td>\n",
       "      <td>20220107</td>\n",
       "      <td>(주)씨트랜***</td>\n",
       "      <td>SEATRANS SHIPPING CO.,***</td>\n",
       "      <td>주**</td>\n",
       "      <td>12.0</td>\n",
       "      <td>2020-12</td>\n",
       "      <td>50130.0</td>\n",
       "      <td>기타 해상 운송업</td>\n",
       "      <td>중소기업</td>\n",
       "      <td>...</td>\n",
       "      <td>20201231.0</td>\n",
       "      <td>26180234.0</td>\n",
       "      <td>489115.0</td>\n",
       "      <td>3425985.0</td>\n",
       "      <td>3446960.0</td>\n",
       "      <td>6872945.0</td>\n",
       "      <td>I</td>\n",
       "      <td>20221104</td>\n",
       "      <td>NaN</td>\n",
       "      <td>NaN</td>\n",
       "    </tr>\n",
       "    <tr>\n",
       "      <th>3</th>\n",
       "      <td>1018102731</td>\n",
       "      <td>20220107</td>\n",
       "      <td>(주)파***</td>\n",
       "      <td>Power PT Co., L***</td>\n",
       "      <td>이**</td>\n",
       "      <td>18.0</td>\n",
       "      <td>2019-03</td>\n",
       "      <td>73203.0</td>\n",
       "      <td>시각 디자인업</td>\n",
       "      <td>중소기업</td>\n",
       "      <td>...</td>\n",
       "      <td>20171231.0</td>\n",
       "      <td>1167128.0</td>\n",
       "      <td>39491.0</td>\n",
       "      <td>484192.0</td>\n",
       "      <td>1747684.0</td>\n",
       "      <td>2231875.0</td>\n",
       "      <td>I</td>\n",
       "      <td>20221104</td>\n",
       "      <td>NaN</td>\n",
       "      <td>NaN</td>\n",
       "    </tr>\n",
       "    <tr>\n",
       "      <th>4</th>\n",
       "      <td>1018606595</td>\n",
       "      <td>20220107</td>\n",
       "      <td>(주)에이치제이디벨***</td>\n",
       "      <td>HJ Development Co., L***</td>\n",
       "      <td>홍**</td>\n",
       "      <td>3.0</td>\n",
       "      <td>2020-12</td>\n",
       "      <td>68122.0</td>\n",
       "      <td>비주거용 건물 개발 및 공급업</td>\n",
       "      <td>중소기업</td>\n",
       "      <td>...</td>\n",
       "      <td>20201231.0</td>\n",
       "      <td>274000.0</td>\n",
       "      <td>-322170.0</td>\n",
       "      <td>-22924093.0</td>\n",
       "      <td>62469943.0</td>\n",
       "      <td>39545850.0</td>\n",
       "      <td>I</td>\n",
       "      <td>20221104</td>\n",
       "      <td>NaN</td>\n",
       "      <td>NaN</td>\n",
       "    </tr>\n",
       "  </tbody>\n",
       "</table>\n",
       "<p>5 rows × 34 columns</p>\n",
       "</div>"
      ],
      "text/plain": [
       "      사업자등록번호   데이터수집일자            기업명                      기업영문명 대표자명  종업원수  \\\n",
       "0  1050508965  20220107          크린토**                 Cleanto***  강**   NaN   \n",
       "1  1010204456  20220107       씨앤피비즈***           C&P BIZ SOLUT***  함**   5.0   \n",
       "2  1048107174  20220107      (주)씨트랜***  SEATRANS SHIPPING CO.,***  주**  12.0   \n",
       "3  1018102731  20220107        (주)파***         Power PT Co., L***  이**  18.0   \n",
       "4  1018606595  20220107  (주)에이치제이디벨***   HJ Development Co., L***  홍**   3.0   \n",
       "\n",
       "  종업원수기준년월   산업분류코드               산업분류코드설명  기업규모  ...        결산일자         매출액  \\\n",
       "0      NaN  96910.0                    세탁업  중소기업  ...         NaN         NaN   \n",
       "1  2021-06  46510.0  컴퓨터 및 주변장치, 소프트웨어 도매업  중소기업  ...  20201231.0    984750.0   \n",
       "2  2020-12  50130.0              기타 해상 운송업  중소기업  ...  20201231.0  26180234.0   \n",
       "3  2019-03  73203.0                시각 디자인업  중소기업  ...  20171231.0   1167128.0   \n",
       "4  2020-12  68122.0       비주거용 건물 개발 및 공급업  중소기업  ...  20201231.0    274000.0   \n",
       "\n",
       "       영업이익      자본총계금액      부채총계금액      자산총계금액  작업구분코드   데이터생성일자 연계처리상태코드  \\\n",
       "0       NaN         NaN         NaN         NaN       I  20221104      NaN   \n",
       "1   76381.0     84972.0    866105.0    951077.0       I  20221104      NaN   \n",
       "2  489115.0   3425985.0   3446960.0   6872945.0       I  20221104      NaN   \n",
       "3   39491.0    484192.0   1747684.0   2231875.0       I  20221104      NaN   \n",
       "4 -322170.0 -22924093.0  62469943.0  39545850.0       I  20221104      NaN   \n",
       "\n",
       "  연계처리일자  \n",
       "0    NaN  \n",
       "1    NaN  \n",
       "2    NaN  \n",
       "3    NaN  \n",
       "4    NaN  \n",
       "\n",
       "[5 rows x 34 columns]"
      ]
     },
     "execution_count": 2,
     "metadata": {},
     "output_type": "execute_result"
    }
   ],
   "source": [
    "Company_Information_d= pd.read_csv(\"기업정보상세.csv\",index_col=0)\n",
    "Company_Information_d.head()"
   ]
  },
  {
   "cell_type": "code",
   "execution_count": 3,
   "id": "d917d7cf",
   "metadata": {},
   "outputs": [
    {
     "data": {
      "text/plain": [
       "(9881, 34)"
      ]
     },
     "execution_count": 3,
     "metadata": {},
     "output_type": "execute_result"
    }
   ],
   "source": [
    "Company_Information_d.shape"
   ]
  },
  {
   "cell_type": "code",
   "execution_count": 4,
   "id": "de374f2c-4b8f-4570-a9b8-f54d3ee9abd8",
   "metadata": {},
   "outputs": [
    {
     "name": "stdout",
     "output_type": "stream",
     "text": [
      "<class 'pandas.core.frame.DataFrame'>\n",
      "Int64Index: 9881 entries, 0 to 9880\n",
      "Data columns (total 34 columns):\n",
      " #   Column    Non-Null Count  Dtype  \n",
      "---  ------    --------------  -----  \n",
      " 0   사업자등록번호   9881 non-null   int64  \n",
      " 1   데이터수집일자   9881 non-null   int64  \n",
      " 2   기업명       9881 non-null   object \n",
      " 3   기업영문명     8998 non-null   object \n",
      " 4   대표자명      9881 non-null   object \n",
      " 5   종업원수      9274 non-null   float64\n",
      " 6   종업원수기준년월  9217 non-null   object \n",
      " 7   산업분류코드    9851 non-null   float64\n",
      " 8   산업분류코드설명  9849 non-null   object \n",
      " 9   기업규모      9881 non-null   object \n",
      " 10  기업형태      9881 non-null   object \n",
      " 11  업태명       8658 non-null   object \n",
      " 12  설립일       9412 non-null   float64\n",
      " 13  이메일주소     4076 non-null   object \n",
      " 14  전화번호      9330 non-null   object \n",
      " 15  팩스전화번호    7868 non-null   object \n",
      " 16  우편번호      9011 non-null   float64\n",
      " 17  주소        9797 non-null   object \n",
      " 18  상세주보      9157 non-null   object \n",
      " 19  휴폐업구분     235 non-null    object \n",
      " 20  상태발생일자    131 non-null    float64\n",
      " 21  휴폐업수정일    235 non-null    float64\n",
      " 22  CRI등급     9881 non-null   object \n",
      " 23  CRI기준일    9248 non-null   float64\n",
      " 24  결산일자      8218 non-null   float64\n",
      " 25  매출액       8145 non-null   float64\n",
      " 26  영업이익      8209 non-null   float64\n",
      " 27  자본총계금액    8214 non-null   float64\n",
      " 28  부채총계금액    8211 non-null   float64\n",
      " 29  자산총계금액    8216 non-null   float64\n",
      " 30  작업구분코드    9881 non-null   object \n",
      " 31  데이터생성일자   9881 non-null   int64  \n",
      " 32  연계처리상태코드  0 non-null      float64\n",
      " 33  연계처리일자    0 non-null      float64\n",
      "dtypes: float64(15), int64(3), object(16)\n",
      "memory usage: 2.6+ MB\n"
     ]
    }
   ],
   "source": [
    "Company_Information_d.info()"
   ]
  },
  {
   "cell_type": "code",
   "execution_count": 5,
   "id": "87d2450c-e4b9-4d7d-9d66-c529c378fe7d",
   "metadata": {},
   "outputs": [
    {
     "data": {
      "text/plain": [
       "14130.0    1\n",
       "17902.0    1\n",
       "33930.0    1\n",
       "29150.0    1\n",
       "26219.0    1\n",
       "          ..\n",
       "91133.0    1\n",
       "68220.0    1\n",
       "47640.0    1\n",
       "14111.0    1\n",
       "46690.0    1\n",
       "Name: 산업분류코드, Length: 279, dtype: int64"
      ]
     },
     "execution_count": 5,
     "metadata": {},
     "output_type": "execute_result"
    }
   ],
   "source": [
    "Company_Information_d.산업분류코드.value_counts()[Company_Information_d.산업분류코드.value_counts() == 1]"
   ]
  },
  {
   "cell_type": "code",
   "execution_count": 6,
   "id": "e68ef939-a752-4b5b-8efa-e04590c71ec3",
   "metadata": {},
   "outputs": [
    {
     "data": {
      "text/plain": [
       "중소기업         9354\n",
       "중견기업          310\n",
       "대기업           119\n",
       "기타(비영리법인)      91\n",
       "중견기업(하)         4\n",
       "대기업(금융)         3\n",
       "Name: 기업규모, dtype: int64"
      ]
     },
     "execution_count": 6,
     "metadata": {},
     "output_type": "execute_result"
    }
   ],
   "source": [
    "Company_Information_d.기업규모.value_counts()"
   ]
  },
  {
   "cell_type": "code",
   "execution_count": 7,
   "id": "39859c97",
   "metadata": {},
   "outputs": [
    {
     "data": {
      "text/plain": [
       "일반        8400\n",
       "외감        1085\n",
       "폐업         129\n",
       "코스닥등록       89\n",
       "신설          70\n",
       "거래소상장       59\n",
       "코넥스         16\n",
       "등록          16\n",
       "유가증권시장       7\n",
       "휴업           5\n",
       "코스닥관리        5\n",
       "Name: 기업형태, dtype: int64"
      ]
     },
     "execution_count": 7,
     "metadata": {},
     "output_type": "execute_result"
    }
   ],
   "source": [
    "Company_Information_d.기업형태.value_counts()"
   ]
  },
  {
   "cell_type": "markdown",
   "id": "f793b6e8",
   "metadata": {},
   "source": [
    "#### ✅**산업분류코드는 object로**"
   ]
  },
  {
   "cell_type": "code",
   "execution_count": 8,
   "id": "f2c04800",
   "metadata": {},
   "outputs": [],
   "source": [
    "Company_Information_d.산업분류코드 = Company_Information_d.산업분류코드.astype('object')"
   ]
  },
  {
   "cell_type": "code",
   "execution_count": 9,
   "id": "a2ca2668",
   "metadata": {},
   "outputs": [
    {
     "data": {
      "text/plain": [
       "30"
      ]
     },
     "execution_count": 9,
     "metadata": {},
     "output_type": "execute_result"
    }
   ],
   "source": [
    "Company_Information_d.산업분류코드.isnull().sum()"
   ]
  },
  {
   "cell_type": "code",
   "execution_count": 10,
   "id": "6c9c8913",
   "metadata": {},
   "outputs": [
    {
     "data": {
      "text/html": [
       "<div>\n",
       "<style scoped>\n",
       "    .dataframe tbody tr th:only-of-type {\n",
       "        vertical-align: middle;\n",
       "    }\n",
       "\n",
       "    .dataframe tbody tr th {\n",
       "        vertical-align: top;\n",
       "    }\n",
       "\n",
       "    .dataframe thead th {\n",
       "        text-align: right;\n",
       "    }\n",
       "</style>\n",
       "<table border=\"1\" class=\"dataframe\">\n",
       "  <thead>\n",
       "    <tr style=\"text-align: right;\">\n",
       "      <th></th>\n",
       "      <th>사업자등록번호</th>\n",
       "      <th>데이터수집일자</th>\n",
       "      <th>종업원수</th>\n",
       "      <th>설립일</th>\n",
       "      <th>우편번호</th>\n",
       "      <th>상태발생일자</th>\n",
       "      <th>휴폐업수정일</th>\n",
       "      <th>CRI기준일</th>\n",
       "      <th>결산일자</th>\n",
       "      <th>매출액</th>\n",
       "      <th>영업이익</th>\n",
       "      <th>자본총계금액</th>\n",
       "      <th>부채총계금액</th>\n",
       "      <th>자산총계금액</th>\n",
       "      <th>데이터생성일자</th>\n",
       "      <th>연계처리상태코드</th>\n",
       "      <th>연계처리일자</th>\n",
       "    </tr>\n",
       "  </thead>\n",
       "  <tbody>\n",
       "    <tr>\n",
       "      <th>count</th>\n",
       "      <td>9.881000e+03</td>\n",
       "      <td>9.881000e+03</td>\n",
       "      <td>9274.000000</td>\n",
       "      <td>9.412000e+03</td>\n",
       "      <td>9011.000000</td>\n",
       "      <td>1.310000e+02</td>\n",
       "      <td>2.350000e+02</td>\n",
       "      <td>9.248000e+03</td>\n",
       "      <td>8.218000e+03</td>\n",
       "      <td>8.145000e+03</td>\n",
       "      <td>8.209000e+03</td>\n",
       "      <td>8.214000e+03</td>\n",
       "      <td>8.211000e+03</td>\n",
       "      <td>8.216000e+03</td>\n",
       "      <td>9881.0</td>\n",
       "      <td>0.0</td>\n",
       "      <td>0.0</td>\n",
       "    </tr>\n",
       "    <tr>\n",
       "      <th>mean</th>\n",
       "      <td>3.347238e+09</td>\n",
       "      <td>2.021587e+07</td>\n",
       "      <td>55.877830</td>\n",
       "      <td>2.008390e+07</td>\n",
       "      <td>19879.173566</td>\n",
       "      <td>2.020741e+07</td>\n",
       "      <td>2.019657e+07</td>\n",
       "      <td>2.021546e+07</td>\n",
       "      <td>2.019458e+07</td>\n",
       "      <td>3.599271e+07</td>\n",
       "      <td>2.051928e+06</td>\n",
       "      <td>2.661370e+07</td>\n",
       "      <td>9.237261e+07</td>\n",
       "      <td>1.189236e+08</td>\n",
       "      <td>20221104.0</td>\n",
       "      <td>NaN</td>\n",
       "      <td>NaN</td>\n",
       "    </tr>\n",
       "    <tr>\n",
       "      <th>std</th>\n",
       "      <td>2.254220e+09</td>\n",
       "      <td>4.737842e+03</td>\n",
       "      <td>505.645895</td>\n",
       "      <td>9.202175e+04</td>\n",
       "      <td>19124.015509</td>\n",
       "      <td>1.201677e+04</td>\n",
       "      <td>2.363373e+04</td>\n",
       "      <td>4.688171e+03</td>\n",
       "      <td>1.571655e+04</td>\n",
       "      <td>4.707300e+08</td>\n",
       "      <td>4.416410e+07</td>\n",
       "      <td>5.047733e+08</td>\n",
       "      <td>4.544159e+09</td>\n",
       "      <td>4.946193e+09</td>\n",
       "      <td>0.0</td>\n",
       "      <td>NaN</td>\n",
       "      <td>NaN</td>\n",
       "    </tr>\n",
       "    <tr>\n",
       "      <th>min</th>\n",
       "      <td>1.010109e+09</td>\n",
       "      <td>2.021060e+07</td>\n",
       "      <td>0.000000</td>\n",
       "      <td>1.920040e+07</td>\n",
       "      <td>1025.000000</td>\n",
       "      <td>2.011022e+07</td>\n",
       "      <td>2.013011e+07</td>\n",
       "      <td>2.020110e+07</td>\n",
       "      <td>1.997123e+07</td>\n",
       "      <td>-6.949763e+06</td>\n",
       "      <td>-1.385436e+08</td>\n",
       "      <td>-1.522789e+09</td>\n",
       "      <td>0.000000e+00</td>\n",
       "      <td>-5.500000e+04</td>\n",
       "      <td>20221104.0</td>\n",
       "      <td>NaN</td>\n",
       "      <td>NaN</td>\n",
       "    </tr>\n",
       "    <tr>\n",
       "      <th>25%</th>\n",
       "      <td>1.228109e+09</td>\n",
       "      <td>2.021092e+07</td>\n",
       "      <td>5.000000</td>\n",
       "      <td>2.003022e+07</td>\n",
       "      <td>5243.000000</td>\n",
       "      <td>2.021012e+07</td>\n",
       "      <td>2.020073e+07</td>\n",
       "      <td>2.021092e+07</td>\n",
       "      <td>2.019123e+07</td>\n",
       "      <td>7.293370e+05</td>\n",
       "      <td>1.147000e+03</td>\n",
       "      <td>2.869492e+05</td>\n",
       "      <td>1.920310e+05</td>\n",
       "      <td>6.363542e+05</td>\n",
       "      <td>20221104.0</td>\n",
       "      <td>NaN</td>\n",
       "      <td>NaN</td>\n",
       "    </tr>\n",
       "    <tr>\n",
       "      <th>50%</th>\n",
       "      <td>2.368808e+09</td>\n",
       "      <td>2.022012e+07</td>\n",
       "      <td>9.000000</td>\n",
       "      <td>2.011013e+07</td>\n",
       "      <td>10551.000000</td>\n",
       "      <td>2.021063e+07</td>\n",
       "      <td>2.020123e+07</td>\n",
       "      <td>2.021122e+07</td>\n",
       "      <td>2.020123e+07</td>\n",
       "      <td>2.020255e+06</td>\n",
       "      <td>6.667900e+04</td>\n",
       "      <td>8.448620e+05</td>\n",
       "      <td>5.817680e+05</td>\n",
       "      <td>1.640188e+06</td>\n",
       "      <td>20221104.0</td>\n",
       "      <td>NaN</td>\n",
       "      <td>NaN</td>\n",
       "    </tr>\n",
       "    <tr>\n",
       "      <th>75%</th>\n",
       "      <td>5.068108e+09</td>\n",
       "      <td>2.022032e+07</td>\n",
       "      <td>22.000000</td>\n",
       "      <td>2.015122e+07</td>\n",
       "      <td>34015.500000</td>\n",
       "      <td>2.021093e+07</td>\n",
       "      <td>2.021081e+07</td>\n",
       "      <td>2.022032e+07</td>\n",
       "      <td>2.020123e+07</td>\n",
       "      <td>6.385674e+06</td>\n",
       "      <td>2.647700e+05</td>\n",
       "      <td>2.597183e+06</td>\n",
       "      <td>2.154169e+06</td>\n",
       "      <td>5.195782e+06</td>\n",
       "      <td>20221104.0</td>\n",
       "      <td>NaN</td>\n",
       "      <td>NaN</td>\n",
       "    </tr>\n",
       "    <tr>\n",
       "      <th>max</th>\n",
       "      <td>8.998804e+09</td>\n",
       "      <td>2.022102e+07</td>\n",
       "      <td>16878.000000</td>\n",
       "      <td>2.022012e+07</td>\n",
       "      <td>430815.000000</td>\n",
       "      <td>2.022032e+07</td>\n",
       "      <td>2.022032e+07</td>\n",
       "      <td>2.022052e+07</td>\n",
       "      <td>2.021123e+07</td>\n",
       "      <td>2.347011e+10</td>\n",
       "      <td>3.169620e+09</td>\n",
       "      <td>3.045981e+10</td>\n",
       "      <td>3.916664e+11</td>\n",
       "      <td>4.221262e+11</td>\n",
       "      <td>20221104.0</td>\n",
       "      <td>NaN</td>\n",
       "      <td>NaN</td>\n",
       "    </tr>\n",
       "  </tbody>\n",
       "</table>\n",
       "</div>"
      ],
      "text/plain": [
       "            사업자등록번호       데이터수집일자          종업원수           설립일           우편번호  \\\n",
       "count  9.881000e+03  9.881000e+03   9274.000000  9.412000e+03    9011.000000   \n",
       "mean   3.347238e+09  2.021587e+07     55.877830  2.008390e+07   19879.173566   \n",
       "std    2.254220e+09  4.737842e+03    505.645895  9.202175e+04   19124.015509   \n",
       "min    1.010109e+09  2.021060e+07      0.000000  1.920040e+07    1025.000000   \n",
       "25%    1.228109e+09  2.021092e+07      5.000000  2.003022e+07    5243.000000   \n",
       "50%    2.368808e+09  2.022012e+07      9.000000  2.011013e+07   10551.000000   \n",
       "75%    5.068108e+09  2.022032e+07     22.000000  2.015122e+07   34015.500000   \n",
       "max    8.998804e+09  2.022102e+07  16878.000000  2.022012e+07  430815.000000   \n",
       "\n",
       "             상태발생일자        휴폐업수정일        CRI기준일          결산일자           매출액  \\\n",
       "count  1.310000e+02  2.350000e+02  9.248000e+03  8.218000e+03  8.145000e+03   \n",
       "mean   2.020741e+07  2.019657e+07  2.021546e+07  2.019458e+07  3.599271e+07   \n",
       "std    1.201677e+04  2.363373e+04  4.688171e+03  1.571655e+04  4.707300e+08   \n",
       "min    2.011022e+07  2.013011e+07  2.020110e+07  1.997123e+07 -6.949763e+06   \n",
       "25%    2.021012e+07  2.020073e+07  2.021092e+07  2.019123e+07  7.293370e+05   \n",
       "50%    2.021063e+07  2.020123e+07  2.021122e+07  2.020123e+07  2.020255e+06   \n",
       "75%    2.021093e+07  2.021081e+07  2.022032e+07  2.020123e+07  6.385674e+06   \n",
       "max    2.022032e+07  2.022032e+07  2.022052e+07  2.021123e+07  2.347011e+10   \n",
       "\n",
       "               영업이익        자본총계금액        부채총계금액        자산총계금액     데이터생성일자  \\\n",
       "count  8.209000e+03  8.214000e+03  8.211000e+03  8.216000e+03      9881.0   \n",
       "mean   2.051928e+06  2.661370e+07  9.237261e+07  1.189236e+08  20221104.0   \n",
       "std    4.416410e+07  5.047733e+08  4.544159e+09  4.946193e+09         0.0   \n",
       "min   -1.385436e+08 -1.522789e+09  0.000000e+00 -5.500000e+04  20221104.0   \n",
       "25%    1.147000e+03  2.869492e+05  1.920310e+05  6.363542e+05  20221104.0   \n",
       "50%    6.667900e+04  8.448620e+05  5.817680e+05  1.640188e+06  20221104.0   \n",
       "75%    2.647700e+05  2.597183e+06  2.154169e+06  5.195782e+06  20221104.0   \n",
       "max    3.169620e+09  3.045981e+10  3.916664e+11  4.221262e+11  20221104.0   \n",
       "\n",
       "       연계처리상태코드  연계처리일자  \n",
       "count       0.0     0.0  \n",
       "mean        NaN     NaN  \n",
       "std         NaN     NaN  \n",
       "min         NaN     NaN  \n",
       "25%         NaN     NaN  \n",
       "50%         NaN     NaN  \n",
       "75%         NaN     NaN  \n",
       "max         NaN     NaN  "
      ]
     },
     "execution_count": 10,
     "metadata": {},
     "output_type": "execute_result"
    }
   ],
   "source": [
    "Company_Information_d.describe()"
   ]
  },
  {
   "cell_type": "code",
   "execution_count": 11,
   "id": "e17943b9",
   "metadata": {},
   "outputs": [
    {
     "data": {
      "text/html": [
       "<div>\n",
       "<style scoped>\n",
       "    .dataframe tbody tr th:only-of-type {\n",
       "        vertical-align: middle;\n",
       "    }\n",
       "\n",
       "    .dataframe tbody tr th {\n",
       "        vertical-align: top;\n",
       "    }\n",
       "\n",
       "    .dataframe thead th {\n",
       "        text-align: right;\n",
       "    }\n",
       "</style>\n",
       "<table border=\"1\" class=\"dataframe\">\n",
       "  <thead>\n",
       "    <tr style=\"text-align: right;\">\n",
       "      <th></th>\n",
       "      <th>기업명</th>\n",
       "      <th>기업영문명</th>\n",
       "      <th>대표자명</th>\n",
       "      <th>종업원수기준년월</th>\n",
       "      <th>산업분류코드</th>\n",
       "      <th>산업분류코드설명</th>\n",
       "      <th>기업규모</th>\n",
       "      <th>기업형태</th>\n",
       "      <th>업태명</th>\n",
       "      <th>이메일주소</th>\n",
       "      <th>전화번호</th>\n",
       "      <th>팩스전화번호</th>\n",
       "      <th>주소</th>\n",
       "      <th>상세주보</th>\n",
       "      <th>휴폐업구분</th>\n",
       "      <th>CRI등급</th>\n",
       "      <th>작업구분코드</th>\n",
       "    </tr>\n",
       "  </thead>\n",
       "  <tbody>\n",
       "    <tr>\n",
       "      <th>count</th>\n",
       "      <td>9881</td>\n",
       "      <td>8998</td>\n",
       "      <td>9881</td>\n",
       "      <td>9217</td>\n",
       "      <td>9851.0</td>\n",
       "      <td>9849</td>\n",
       "      <td>9881</td>\n",
       "      <td>9881</td>\n",
       "      <td>8658</td>\n",
       "      <td>4076</td>\n",
       "      <td>9330</td>\n",
       "      <td>7868</td>\n",
       "      <td>9797</td>\n",
       "      <td>9157</td>\n",
       "      <td>235</td>\n",
       "      <td>9881</td>\n",
       "      <td>9881</td>\n",
       "    </tr>\n",
       "    <tr>\n",
       "      <th>unique</th>\n",
       "      <td>6525</td>\n",
       "      <td>8678</td>\n",
       "      <td>756</td>\n",
       "      <td>134</td>\n",
       "      <td>716.0</td>\n",
       "      <td>715</td>\n",
       "      <td>6</td>\n",
       "      <td>11</td>\n",
       "      <td>2711</td>\n",
       "      <td>4054</td>\n",
       "      <td>9299</td>\n",
       "      <td>7751</td>\n",
       "      <td>7929</td>\n",
       "      <td>8387</td>\n",
       "      <td>4</td>\n",
       "      <td>11</td>\n",
       "      <td>1</td>\n",
       "    </tr>\n",
       "    <tr>\n",
       "      <th>top</th>\n",
       "      <td>(주)***</td>\n",
       "      <td>Woo***</td>\n",
       "      <td>김**</td>\n",
       "      <td>2019-03</td>\n",
       "      <td>42321.0</td>\n",
       "      <td>일반 통신 공사업</td>\n",
       "      <td>중소기업</td>\n",
       "      <td>일반</td>\n",
       "      <td>서비스</td>\n",
       "      <td>byunghyun2@hanmail.net</td>\n",
       "      <td>070-4618-0681</td>\n",
       "      <td>--</td>\n",
       "      <td>서울특별시 마포구 마포대로</td>\n",
       "      <td>(서교동)</td>\n",
       "      <td>폐업</td>\n",
       "      <td>B2</td>\n",
       "      <td>I</td>\n",
       "    </tr>\n",
       "    <tr>\n",
       "      <th>freq</th>\n",
       "      <td>613</td>\n",
       "      <td>10</td>\n",
       "      <td>1973</td>\n",
       "      <td>2825</td>\n",
       "      <td>705.0</td>\n",
       "      <td>705</td>\n",
       "      <td>9354</td>\n",
       "      <td>8400</td>\n",
       "      <td>747</td>\n",
       "      <td>4</td>\n",
       "      <td>2</td>\n",
       "      <td>43</td>\n",
       "      <td>23</td>\n",
       "      <td>42</td>\n",
       "      <td>129</td>\n",
       "      <td>1738</td>\n",
       "      <td>9881</td>\n",
       "    </tr>\n",
       "  </tbody>\n",
       "</table>\n",
       "</div>"
      ],
      "text/plain": [
       "           기업명   기업영문명  대표자명 종업원수기준년월   산업분류코드   산업분류코드설명  기업규모  기업형태   업태명  \\\n",
       "count     9881    8998  9881     9217   9851.0       9849  9881  9881  8658   \n",
       "unique    6525    8678   756      134    716.0        715     6    11  2711   \n",
       "top     (주)***  Woo***   김**  2019-03  42321.0  일반 통신 공사업  중소기업    일반   서비스   \n",
       "freq       613      10  1973     2825    705.0        705  9354  8400   747   \n",
       "\n",
       "                         이메일주소           전화번호 팩스전화번호              주소   상세주보  \\\n",
       "count                     4076           9330   7868            9797   9157   \n",
       "unique                    4054           9299   7751            7929   8387   \n",
       "top     byunghyun2@hanmail.net  070-4618-0681     --  서울특별시 마포구 마포대로  (서교동)   \n",
       "freq                         4              2     43              23     42   \n",
       "\n",
       "       휴폐업구분 CRI등급 작업구분코드  \n",
       "count    235  9881   9881  \n",
       "unique     4    11      1  \n",
       "top       폐업    B2      I  \n",
       "freq     129  1738   9881  "
      ]
     },
     "execution_count": 11,
     "metadata": {},
     "output_type": "execute_result"
    }
   ],
   "source": [
    "Company_Information_d.describe(include = 'object')"
   ]
  },
  {
   "cell_type": "markdown",
   "id": "daf337f5",
   "metadata": {},
   "source": [
    "#### ✅**산업분류코드에서 산업대분류 컬럼 생성**"
   ]
  },
  {
   "cell_type": "code",
   "execution_count": 12,
   "id": "71baad58",
   "metadata": {},
   "outputs": [
    {
     "data": {
      "text/plain": [
       "30"
      ]
     },
     "execution_count": 12,
     "metadata": {},
     "output_type": "execute_result"
    }
   ],
   "source": [
    "Company_Information_d.산업분류코드.isnull().sum()"
   ]
  },
  {
   "cell_type": "code",
   "execution_count": 13,
   "id": "88bf74b1",
   "metadata": {},
   "outputs": [
    {
     "data": {
      "text/html": [
       "<div>\n",
       "<style scoped>\n",
       "    .dataframe tbody tr th:only-of-type {\n",
       "        vertical-align: middle;\n",
       "    }\n",
       "\n",
       "    .dataframe tbody tr th {\n",
       "        vertical-align: top;\n",
       "    }\n",
       "\n",
       "    .dataframe thead th {\n",
       "        text-align: right;\n",
       "    }\n",
       "</style>\n",
       "<table border=\"1\" class=\"dataframe\">\n",
       "  <thead>\n",
       "    <tr style=\"text-align: right;\">\n",
       "      <th></th>\n",
       "      <th>사업자등록번호</th>\n",
       "      <th>사업자등록번호_마스킹</th>\n",
       "      <th>기업명</th>\n",
       "      <th>대표자명</th>\n",
       "    </tr>\n",
       "  </thead>\n",
       "  <tbody>\n",
       "    <tr>\n",
       "      <th>0</th>\n",
       "      <td>1240440311</td>\n",
       "      <td>1240400001</td>\n",
       "      <td>에스케이텔레콤</td>\n",
       "      <td>신현국</td>\n",
       "    </tr>\n",
       "    <tr>\n",
       "      <th>1</th>\n",
       "      <td>1242151566</td>\n",
       "      <td>1242100002</td>\n",
       "      <td>에스케이텔레콤</td>\n",
       "      <td>이재영</td>\n",
       "    </tr>\n",
       "    <tr>\n",
       "      <th>2</th>\n",
       "      <td>1171449462</td>\n",
       "      <td>1171400003</td>\n",
       "      <td>에스케이텔레콤</td>\n",
       "      <td>임채선</td>\n",
       "    </tr>\n",
       "    <tr>\n",
       "      <th>3</th>\n",
       "      <td>1212087845</td>\n",
       "      <td>1212000004</td>\n",
       "      <td>에스케이텔레콤</td>\n",
       "      <td>김현미</td>\n",
       "    </tr>\n",
       "    <tr>\n",
       "      <th>4</th>\n",
       "      <td>1274051488</td>\n",
       "      <td>1274000005</td>\n",
       "      <td>네이버</td>\n",
       "      <td>김태영</td>\n",
       "    </tr>\n",
       "    <tr>\n",
       "      <th>...</th>\n",
       "      <td>...</td>\n",
       "      <td>...</td>\n",
       "      <td>...</td>\n",
       "      <td>...</td>\n",
       "    </tr>\n",
       "    <tr>\n",
       "      <th>9995</th>\n",
       "      <td>4748101121</td>\n",
       "      <td>4748109996</td>\n",
       "      <td>대륙종합건설</td>\n",
       "      <td>심재곤</td>\n",
       "    </tr>\n",
       "    <tr>\n",
       "      <th>9996</th>\n",
       "      <td>5028153278</td>\n",
       "      <td>5028109997</td>\n",
       "      <td>세종엔지니어링</td>\n",
       "      <td>김봉석</td>\n",
       "    </tr>\n",
       "    <tr>\n",
       "      <th>9997</th>\n",
       "      <td>5088108126</td>\n",
       "      <td>5088109998</td>\n",
       "      <td>가온건설</td>\n",
       "      <td>김화영</td>\n",
       "    </tr>\n",
       "    <tr>\n",
       "      <th>9998</th>\n",
       "      <td>5088108903</td>\n",
       "      <td>5088109999</td>\n",
       "      <td>서부조경개발</td>\n",
       "      <td>김영식</td>\n",
       "    </tr>\n",
       "    <tr>\n",
       "      <th>9999</th>\n",
       "      <td>6168164943</td>\n",
       "      <td>6168110000</td>\n",
       "      <td>세현건설</td>\n",
       "      <td>양미영</td>\n",
       "    </tr>\n",
       "  </tbody>\n",
       "</table>\n",
       "<p>10000 rows × 4 columns</p>\n",
       "</div>"
      ],
      "text/plain": [
       "         사업자등록번호  사업자등록번호_마스킹      기업명 대표자명\n",
       "0     1240440311   1240400001  에스케이텔레콤  신현국\n",
       "1     1242151566   1242100002  에스케이텔레콤  이재영\n",
       "2     1171449462   1171400003  에스케이텔레콤  임채선\n",
       "3     1212087845   1212000004  에스케이텔레콤  김현미\n",
       "4     1274051488   1274000005      네이버  김태영\n",
       "...          ...          ...      ...  ...\n",
       "9995  4748101121   4748109996   대륙종합건설  심재곤\n",
       "9996  5028153278   5028109997  세종엔지니어링  김봉석\n",
       "9997  5088108126   5088109998     가온건설  김화영\n",
       "9998  5088108903   5088109999   서부조경개발  김영식\n",
       "9999  6168164943   6168110000     세현건설  양미영\n",
       "\n",
       "[10000 rows x 4 columns]"
      ]
     },
     "execution_count": 13,
     "metadata": {},
     "output_type": "execute_result"
    }
   ],
   "source": [
    "mapping = pd.read_csv(\"mapping_info.csv\")\n",
    "mapping"
   ]
  },
  {
   "cell_type": "code",
   "execution_count": 14,
   "id": "8dfcd005",
   "metadata": {},
   "outputs": [
    {
     "data": {
      "text/html": [
       "<div>\n",
       "<style scoped>\n",
       "    .dataframe tbody tr th:only-of-type {\n",
       "        vertical-align: middle;\n",
       "    }\n",
       "\n",
       "    .dataframe tbody tr th {\n",
       "        vertical-align: top;\n",
       "    }\n",
       "\n",
       "    .dataframe thead th {\n",
       "        text-align: right;\n",
       "    }\n",
       "</style>\n",
       "<table border=\"1\" class=\"dataframe\">\n",
       "  <thead>\n",
       "    <tr style=\"text-align: right;\">\n",
       "      <th></th>\n",
       "      <th>사업자등록번호_x</th>\n",
       "      <th>사업자등록번호_y</th>\n",
       "      <th>사업자등록번호_마스킹</th>\n",
       "      <th>기업명</th>\n",
       "      <th>대표자명</th>\n",
       "    </tr>\n",
       "  </thead>\n",
       "  <tbody>\n",
       "    <tr>\n",
       "      <th>0</th>\n",
       "      <td>1050905695</td>\n",
       "      <td>1050930379</td>\n",
       "      <td>1050905695</td>\n",
       "      <td>파이컴</td>\n",
       "      <td>이명아</td>\n",
       "    </tr>\n",
       "    <tr>\n",
       "      <th>1</th>\n",
       "      <td>1223201117</td>\n",
       "      <td>1223237206</td>\n",
       "      <td>1223201117</td>\n",
       "      <td>오르다코리아</td>\n",
       "      <td>이봉남</td>\n",
       "    </tr>\n",
       "    <tr>\n",
       "      <th>2</th>\n",
       "      <td>1051609129</td>\n",
       "      <td>1051670928</td>\n",
       "      <td>1051609129</td>\n",
       "      <td>현우</td>\n",
       "      <td>양동열</td>\n",
       "    </tr>\n",
       "    <tr>\n",
       "      <th>3</th>\n",
       "      <td>3671700068</td>\n",
       "      <td>3671700838</td>\n",
       "      <td>3671700068</td>\n",
       "      <td>일성</td>\n",
       "      <td>유성철</td>\n",
       "    </tr>\n",
       "    <tr>\n",
       "      <th>4</th>\n",
       "      <td>8261900715</td>\n",
       "      <td>8261900952</td>\n",
       "      <td>8261900715</td>\n",
       "      <td>에이원</td>\n",
       "      <td>윤영민</td>\n",
       "    </tr>\n",
       "    <tr>\n",
       "      <th>5</th>\n",
       "      <td>2142907946</td>\n",
       "      <td>2142961077</td>\n",
       "      <td>2142907946</td>\n",
       "      <td>엠브릿지</td>\n",
       "      <td>김종석</td>\n",
       "    </tr>\n",
       "    <tr>\n",
       "      <th>6</th>\n",
       "      <td>8396408157</td>\n",
       "      <td>8396400206</td>\n",
       "      <td>8396408157</td>\n",
       "      <td>혼자팩토리</td>\n",
       "      <td>이선미</td>\n",
       "    </tr>\n",
       "    <tr>\n",
       "      <th>7</th>\n",
       "      <td>1054207368</td>\n",
       "      <td>1054295078</td>\n",
       "      <td>1054207368</td>\n",
       "      <td>한진화학</td>\n",
       "      <td>이광남</td>\n",
       "    </tr>\n",
       "    <tr>\n",
       "      <th>8</th>\n",
       "      <td>5210805515</td>\n",
       "      <td>5210801365</td>\n",
       "      <td>5210805515</td>\n",
       "      <td>블루원</td>\n",
       "      <td>윤선희</td>\n",
       "    </tr>\n",
       "    <tr>\n",
       "      <th>9</th>\n",
       "      <td>6901008705</td>\n",
       "      <td>6901000840</td>\n",
       "      <td>6901008705</td>\n",
       "      <td>세영테크</td>\n",
       "      <td>오현식</td>\n",
       "    </tr>\n",
       "    <tr>\n",
       "      <th>10</th>\n",
       "      <td>1081908821</td>\n",
       "      <td>1081977353</td>\n",
       "      <td>1081908821</td>\n",
       "      <td>한성산업</td>\n",
       "      <td>박덕하</td>\n",
       "    </tr>\n",
       "    <tr>\n",
       "      <th>11</th>\n",
       "      <td>5877504805</td>\n",
       "      <td>5877500242</td>\n",
       "      <td>5877504805</td>\n",
       "      <td>해온</td>\n",
       "      <td>이준우</td>\n",
       "    </tr>\n",
       "    <tr>\n",
       "      <th>12</th>\n",
       "      <td>4141405133</td>\n",
       "      <td>4141401296</td>\n",
       "      <td>4141405133</td>\n",
       "      <td>대신정보통신</td>\n",
       "      <td>이용기</td>\n",
       "    </tr>\n",
       "    <tr>\n",
       "      <th>13</th>\n",
       "      <td>5731705145</td>\n",
       "      <td>5731700734</td>\n",
       "      <td>5731705145</td>\n",
       "      <td>대신정보통신</td>\n",
       "      <td>이준석</td>\n",
       "    </tr>\n",
       "    <tr>\n",
       "      <th>14</th>\n",
       "      <td>8071600032</td>\n",
       "      <td>8071600101</td>\n",
       "      <td>8071600032</td>\n",
       "      <td>엘에스</td>\n",
       "      <td>이슬</td>\n",
       "    </tr>\n",
       "    <tr>\n",
       "      <th>15</th>\n",
       "      <td>5940900141</td>\n",
       "      <td>5940900361</td>\n",
       "      <td>5940900141</td>\n",
       "      <td>모아</td>\n",
       "      <td>김수진</td>\n",
       "    </tr>\n",
       "    <tr>\n",
       "      <th>16</th>\n",
       "      <td>1050200076</td>\n",
       "      <td>1050275440</td>\n",
       "      <td>1050200076</td>\n",
       "      <td>나인</td>\n",
       "      <td>이순정</td>\n",
       "    </tr>\n",
       "    <tr>\n",
       "      <th>17</th>\n",
       "      <td>1050405808</td>\n",
       "      <td>1050468531</td>\n",
       "      <td>1050405808</td>\n",
       "      <td>대산</td>\n",
       "      <td>이병우</td>\n",
       "    </tr>\n",
       "    <tr>\n",
       "      <th>18</th>\n",
       "      <td>1059006101</td>\n",
       "      <td>1059084607</td>\n",
       "      <td>1059006101</td>\n",
       "      <td>대영</td>\n",
       "      <td>신철호</td>\n",
       "    </tr>\n",
       "    <tr>\n",
       "      <th>19</th>\n",
       "      <td>1051000288</td>\n",
       "      <td>1051067080</td>\n",
       "      <td>1051000288</td>\n",
       "      <td>미래산업</td>\n",
       "      <td>박영희</td>\n",
       "    </tr>\n",
       "    <tr>\n",
       "      <th>20</th>\n",
       "      <td>1070200792</td>\n",
       "      <td>1070243245</td>\n",
       "      <td>1070200792</td>\n",
       "      <td>태성산업</td>\n",
       "      <td>송수자</td>\n",
       "    </tr>\n",
       "    <tr>\n",
       "      <th>21</th>\n",
       "      <td>6673607131</td>\n",
       "      <td>6673600291</td>\n",
       "      <td>6673607131</td>\n",
       "      <td>우리테크</td>\n",
       "      <td>엄영식</td>\n",
       "    </tr>\n",
       "    <tr>\n",
       "      <th>22</th>\n",
       "      <td>1052007366</td>\n",
       "      <td>1052019312</td>\n",
       "      <td>1052007366</td>\n",
       "      <td>이기원(앤엘건축사사무소)</td>\n",
       "      <td>이기원</td>\n",
       "    </tr>\n",
       "    <tr>\n",
       "      <th>23</th>\n",
       "      <td>2122008844</td>\n",
       "      <td>2122048696</td>\n",
       "      <td>2122008844</td>\n",
       "      <td>한국전화번호부</td>\n",
       "      <td>권삼규</td>\n",
       "    </tr>\n",
       "    <tr>\n",
       "      <th>24</th>\n",
       "      <td>7838500074</td>\n",
       "      <td>7838500165</td>\n",
       "      <td>7838500074</td>\n",
       "      <td>에스케이</td>\n",
       "      <td>박정호,조대식</td>\n",
       "    </tr>\n",
       "    <tr>\n",
       "      <th>25</th>\n",
       "      <td>7838500061</td>\n",
       "      <td>7838500169</td>\n",
       "      <td>7838500061</td>\n",
       "      <td>에스케이</td>\n",
       "      <td>박성하외 2명</td>\n",
       "    </tr>\n",
       "    <tr>\n",
       "      <th>26</th>\n",
       "      <td>6028209552</td>\n",
       "      <td>6028206198</td>\n",
       "      <td>6028209552</td>\n",
       "      <td>부산정보산업진흥원</td>\n",
       "      <td>정세탁</td>\n",
       "    </tr>\n",
       "    <tr>\n",
       "      <th>27</th>\n",
       "      <td>1251809593</td>\n",
       "      <td>1251886165</td>\n",
       "      <td>1251809593</td>\n",
       "      <td>한국로지스풀</td>\n",
       "      <td>김창현</td>\n",
       "    </tr>\n",
       "    <tr>\n",
       "      <th>28</th>\n",
       "      <td>1232106353</td>\n",
       "      <td>1232169200</td>\n",
       "      <td>1232106353</td>\n",
       "      <td>비앤씨</td>\n",
       "      <td>유남수</td>\n",
       "    </tr>\n",
       "    <tr>\n",
       "      <th>29</th>\n",
       "      <td>1130200652</td>\n",
       "      <td>1130224001</td>\n",
       "      <td>1130200652</td>\n",
       "      <td>대성산업</td>\n",
       "      <td>윤여환</td>\n",
       "    </tr>\n",
       "  </tbody>\n",
       "</table>\n",
       "</div>"
      ],
      "text/plain": [
       "     사업자등록번호_x   사업자등록번호_y  사업자등록번호_마스킹            기업명     대표자명\n",
       "0   1050905695  1050930379   1050905695            파이컴      이명아\n",
       "1   1223201117  1223237206   1223201117         오르다코리아      이봉남\n",
       "2   1051609129  1051670928   1051609129             현우      양동열\n",
       "3   3671700068  3671700838   3671700068             일성      유성철\n",
       "4   8261900715  8261900952   8261900715            에이원      윤영민\n",
       "5   2142907946  2142961077   2142907946           엠브릿지      김종석\n",
       "6   8396408157  8396400206   8396408157          혼자팩토리      이선미\n",
       "7   1054207368  1054295078   1054207368           한진화학      이광남\n",
       "8   5210805515  5210801365   5210805515            블루원      윤선희\n",
       "9   6901008705  6901000840   6901008705           세영테크      오현식\n",
       "10  1081908821  1081977353   1081908821           한성산업      박덕하\n",
       "11  5877504805  5877500242   5877504805             해온      이준우\n",
       "12  4141405133  4141401296   4141405133         대신정보통신      이용기\n",
       "13  5731705145  5731700734   5731705145         대신정보통신      이준석\n",
       "14  8071600032  8071600101   8071600032            엘에스       이슬\n",
       "15  5940900141  5940900361   5940900141             모아      김수진\n",
       "16  1050200076  1050275440   1050200076             나인      이순정\n",
       "17  1050405808  1050468531   1050405808             대산      이병우\n",
       "18  1059006101  1059084607   1059006101             대영      신철호\n",
       "19  1051000288  1051067080   1051000288           미래산업      박영희\n",
       "20  1070200792  1070243245   1070200792           태성산업      송수자\n",
       "21  6673607131  6673600291   6673607131           우리테크      엄영식\n",
       "22  1052007366  1052019312   1052007366  이기원(앤엘건축사사무소)      이기원\n",
       "23  2122008844  2122048696   2122008844        한국전화번호부      권삼규\n",
       "24  7838500074  7838500165   7838500074           에스케이  박정호,조대식\n",
       "25  7838500061  7838500169   7838500061           에스케이  박성하외 2명\n",
       "26  6028209552  6028206198   6028209552      부산정보산업진흥원      정세탁\n",
       "27  1251809593  1251886165   1251809593         한국로지스풀      김창현\n",
       "28  1232106353  1232169200   1232106353            비앤씨      유남수\n",
       "29  1130200652  1130224001   1130200652           대성산업      윤여환"
      ]
     },
     "execution_count": 14,
     "metadata": {},
     "output_type": "execute_result"
    }
   ],
   "source": [
    "non_san = pd.DataFrame({'사업자등록번호': Company_Information_d[Company_Information_d.산업분류코드.isnull()].사업자등록번호.unique()})\n",
    "mapping = pd.read_csv(\"mapping_info.csv\")\n",
    "pd.merge(non_san, mapping, left_on='사업자등록번호',right_on ='사업자등록번호_마스킹',how='left')"
   ]
  },
  {
   "cell_type": "code",
   "execution_count": 15,
   "id": "2a9a6aea",
   "metadata": {},
   "outputs": [],
   "source": [
    "Company_Information_d.loc[Company_Information_d.사업자등록번호 == 1050905695,'산업분류코드'] = 15\n",
    "Company_Information_d.loc[Company_Information_d.사업자등록번호 == 1223201117,'산업분류코드'] = 47\n",
    "\n",
    "#Company_Information_d.loc[Company_Information_d.사업자등록번호 == 1051609129,'산업분류코드'] = 47 #현우\n",
    "\n",
    "Company_Information_d.loc[Company_Information_d.사업자등록번호 == 3671700068,'산업분류코드'] = 47\n",
    "Company_Information_d.loc[Company_Information_d.사업자등록번호 == 8261900715,'산업분류코드'] = 75 \n",
    "Company_Information_d.loc[Company_Information_d.사업자등록번호 == 2142907946,'산업분류코드'] = 22\n",
    "Company_Information_d.loc[Company_Information_d.사업자등록번호 == 8396408157,'산업분류코드'] = 47\n",
    "Company_Information_d.loc[Company_Information_d.사업자등록번호 == 1054207368,'산업분류코드'] = 22\n",
    "Company_Information_d.loc[Company_Information_d.사업자등록번호 == 5210805515,'산업분류코드'] = 47\n",
    "Company_Information_d.loc[Company_Information_d.사업자등록번호 == 6901008705,'산업분류코드'] = 26\n",
    "Company_Information_d.loc[Company_Information_d.사업자등록번호 == 1081908821,'산업분류코드'] = 23\n",
    "\n",
    "#Company_Information_d.loc[Company_Information_d.사업자등록번호 == 5877504805,'산업분류코드'] = 47 # 해온\n",
    "Company_Information_d.loc[Company_Information_d.사업자등록번호 == 4141405133,'산업분류코드'] = 62\n",
    "Company_Information_d.loc[Company_Information_d.사업자등록번호 == 5731705145,'산업분류코드'] = 62\n",
    "\n",
    "\n",
    "#Company_Information_d.loc[Company_Information_d.사업자등록번호 == 8071600032,'산업분류코드'] = 47\n",
    "\n",
    "Company_Information_d.loc[Company_Information_d.사업자등록번호 == 5940900141,'산업분류코드'] = 71\n",
    "#Company_Information_d.loc[Company_Information_d.사업자등록번호 == 1050200076,'산업분류코드'] = 47\n",
    "Company_Information_d.loc[Company_Information_d.사업자등록번호 == 1050405808,'산업분류코드'] = 42\n",
    "Company_Information_d.loc[Company_Information_d.사업자등록번호 == 1059006101,'산업분류코드'] = 90\n",
    "Company_Information_d.loc[Company_Information_d.사업자등록번호 == 1051000288,'산업분류코드'] = 42\n",
    "Company_Information_d.loc[Company_Information_d.사업자등록번호 == 1070200792,'산업분류코드'] = 23\n",
    "Company_Information_d.loc[Company_Information_d.사업자등록번호 == 6673607131,'산업분류코드'] = 47\n",
    "Company_Information_d.loc[Company_Information_d.사업자등록번호 == 1052007366,'산업분류코드'] = 23\n",
    "Company_Information_d.loc[Company_Information_d.사업자등록번호 == 2122008844,'산업분류코드'] = 71\n",
    "Company_Information_d.loc[Company_Information_d.사업자등록번호 == 7838500074,'산업분류코드'] = 61\n",
    "Company_Information_d.loc[Company_Information_d.사업자등록번호 == 7838500074,'산업분류코드'] = 61\n",
    "#Company_Information_d.loc[Company_Information_d.사업자등록번호 == 6028209552,'산업분류코드'] = 47\n",
    "Company_Information_d.loc[Company_Information_d.사업자등록번호 == 1251809593,'산업분류코드'] = 52\n",
    "Company_Information_d.loc[Company_Information_d.사업자등록번호 == 1232106353,'산업분류코드'] = 47\n",
    "#Company_Information_d.loc[Company_Information_d.사업자등록번호 == 1130200652,'산업분류코드'] = 47"
   ]
  },
  {
   "cell_type": "code",
   "execution_count": 16,
   "id": "353cf425",
   "metadata": {},
   "outputs": [
    {
     "data": {
      "text/plain": [
       "7"
      ]
     },
     "execution_count": 16,
     "metadata": {},
     "output_type": "execute_result"
    }
   ],
   "source": [
    "Company_Information_d.산업분류코드.isnull().sum()"
   ]
  },
  {
   "cell_type": "code",
   "execution_count": 17,
   "id": "0180bf42",
   "metadata": {},
   "outputs": [
    {
     "data": {
      "text/plain": [
       "(9874, 34)"
      ]
     },
     "execution_count": 17,
     "metadata": {},
     "output_type": "execute_result"
    }
   ],
   "source": [
    "Company_Information_d = Company_Information_d.dropna(subset='산업분류코드').reset_index(drop=True,col_level=0,col_fill='')\n",
    "Company_Information_d.shape"
   ]
  },
  {
   "cell_type": "code",
   "execution_count": 18,
   "id": "ff1fe6a3",
   "metadata": {},
   "outputs": [
    {
     "data": {
      "text/plain": [
       "0       96\n",
       "1       46\n",
       "2       50\n",
       "3       73\n",
       "4       68\n",
       "        ..\n",
       "9869    58\n",
       "9870    41\n",
       "9871    41\n",
       "9872    63\n",
       "9873    41\n",
       "Name: 산업대분류, Length: 9874, dtype: object"
      ]
     },
     "execution_count": 18,
     "metadata": {},
     "output_type": "execute_result"
    }
   ],
   "source": [
    "def san(row):\n",
    "    return str(row)[:2]\n",
    "Company_Information_d['산업대분류'] = Company_Information_d.산업분류코드.apply(san)\n",
    "Company_Information_d.산업대분류"
   ]
  },
  {
   "cell_type": "markdown",
   "id": "166af3e7",
   "metadata": {},
   "source": [
    "#### ✅**종업원수 결측치 처리**\n",
    "- 기업규모별, 산업대분류 평균으로 대치"
   ]
  },
  {
   "cell_type": "code",
   "execution_count": 19,
   "id": "3bea5f78",
   "metadata": {},
   "outputs": [
    {
     "data": {
      "text/plain": [
       "0.0"
      ]
     },
     "execution_count": 19,
     "metadata": {},
     "output_type": "execute_result"
    }
   ],
   "source": [
    "Company_Information_d[Company_Information_d.종업원수.isnull()]\n",
    "stats.chi2_contingency(pd.crosstab(Company_Information_d.dropna(subset ='종업원수').종업원수,Company_Information_d.dropna(subset ='종업원수').산업대분류))[1]\n",
    "stats.chi2_contingency(pd.crosstab(Company_Information_d.dropna(subset ='종업원수').종업원수,Company_Information_d.dropna(subset ='종업원수').기업규모))[1]"
   ]
  },
  {
   "cell_type": "code",
   "execution_count": 20,
   "id": "8eabeb1d",
   "metadata": {},
   "outputs": [
    {
     "data": {
      "text/plain": [
       "사업자등록번호        0\n",
       "데이터수집일자        0\n",
       "기업명            0\n",
       "기업영문명        882\n",
       "대표자명           0\n",
       "종업원수         601\n",
       "종업원수기준년월     658\n",
       "산업분류코드         0\n",
       "산업분류코드설명      25\n",
       "기업규모           0\n",
       "기업형태           0\n",
       "업태명         1222\n",
       "설립일          462\n",
       "이메일주소       5799\n",
       "전화번호         547\n",
       "팩스전화번호      2006\n",
       "우편번호         870\n",
       "주소            84\n",
       "상세주보         724\n",
       "휴폐업구분       9640\n",
       "상태발생일자      9744\n",
       "휴폐업수정일      9640\n",
       "CRI등급          0\n",
       "CRI기준일       633\n",
       "결산일자        1656\n",
       "매출액         1729\n",
       "영업이익        1665\n",
       "자본총계금액      1660\n",
       "부채총계금액      1663\n",
       "자산총계금액      1658\n",
       "작업구분코드         0\n",
       "데이터생성일자        0\n",
       "연계처리상태코드    9874\n",
       "연계처리일자      9874\n",
       "산업대분류          0\n",
       "dtype: int64"
      ]
     },
     "execution_count": 20,
     "metadata": {},
     "output_type": "execute_result"
    }
   ],
   "source": [
    "Company_Information_d.isnull().sum()"
   ]
  },
  {
   "cell_type": "code",
   "execution_count": 21,
   "id": "37c4abb8",
   "metadata": {},
   "outputs": [
    {
     "data": {
      "text/html": [
       "<div>\n",
       "<style scoped>\n",
       "    .dataframe tbody tr th:only-of-type {\n",
       "        vertical-align: middle;\n",
       "    }\n",
       "\n",
       "    .dataframe tbody tr th {\n",
       "        vertical-align: top;\n",
       "    }\n",
       "\n",
       "    .dataframe thead th {\n",
       "        text-align: right;\n",
       "    }\n",
       "</style>\n",
       "<table border=\"1\" class=\"dataframe\">\n",
       "  <thead>\n",
       "    <tr style=\"text-align: right;\">\n",
       "      <th></th>\n",
       "      <th>사업자등록번호</th>\n",
       "      <th>데이터수집일자</th>\n",
       "      <th>기업명</th>\n",
       "      <th>기업영문명</th>\n",
       "      <th>대표자명</th>\n",
       "      <th>종업원수</th>\n",
       "      <th>종업원수기준년월</th>\n",
       "      <th>산업분류코드</th>\n",
       "      <th>산업분류코드설명</th>\n",
       "      <th>기업규모</th>\n",
       "      <th>...</th>\n",
       "      <th>매출액</th>\n",
       "      <th>영업이익</th>\n",
       "      <th>자본총계금액</th>\n",
       "      <th>부채총계금액</th>\n",
       "      <th>자산총계금액</th>\n",
       "      <th>작업구분코드</th>\n",
       "      <th>데이터생성일자</th>\n",
       "      <th>연계처리상태코드</th>\n",
       "      <th>연계처리일자</th>\n",
       "      <th>산업대분류</th>\n",
       "    </tr>\n",
       "  </thead>\n",
       "  <tbody>\n",
       "  </tbody>\n",
       "</table>\n",
       "<p>0 rows × 35 columns</p>\n",
       "</div>"
      ],
      "text/plain": [
       "Empty DataFrame\n",
       "Columns: [사업자등록번호, 데이터수집일자, 기업명, 기업영문명, 대표자명, 종업원수, 종업원수기준년월, 산업분류코드, 산업분류코드설명, 기업규모, 기업형태, 업태명, 설립일, 이메일주소, 전화번호, 팩스전화번호, 우편번호, 주소, 상세주보, 휴폐업구분, 상태발생일자, 휴폐업수정일, CRI등급, CRI기준일, 결산일자, 매출액, 영업이익, 자본총계금액, 부채총계금액, 자산총계금액, 작업구분코드, 데이터생성일자, 연계처리상태코드, 연계처리일자, 산업대분류]\n",
       "Index: []\n",
       "\n",
       "[0 rows x 35 columns]"
      ]
     },
     "execution_count": 21,
     "metadata": {},
     "output_type": "execute_result"
    }
   ],
   "source": [
    "c = Company_Information_d.loc[Company_Information_d.종업원수.isnull()].사업자등록번호.tolist()\n",
    "for i in range(len(c)):\n",
    "    cri= Company_Information_d.loc[Company_Information_d.사업자등록번호==c[i]].CRI등급.unique().tolist()\n",
    "    Company_Information_d.loc[Company_Information_d.사업자등록번호==c[i],'종업원수'] = Company_Information_d.loc[(Company_Information_d.CRI등급.isin(cri))].종업원수.mean()\n",
    "\n",
    "Company_Information_d.loc[Company_Information_d.종업원수.isnull()]"
   ]
  },
  {
   "cell_type": "code",
   "execution_count": 22,
   "id": "c530cc27",
   "metadata": {},
   "outputs": [
    {
     "data": {
      "text/plain": [
       "count     9874.000000\n",
       "mean        53.809762\n",
       "std        488.858460\n",
       "min          0.000000\n",
       "25%          5.000000\n",
       "50%         10.000000\n",
       "75%         21.000000\n",
       "max      16878.000000\n",
       "Name: 종업원수, dtype: float64"
      ]
     },
     "execution_count": 22,
     "metadata": {},
     "output_type": "execute_result"
    }
   ],
   "source": [
    "Company_Information_d = Company_Information_d.dropna(subset='종업원수').reset_index(drop=True,col_level=0,col_fill='')\n",
    "Company_Information_d.종업원수.describe()"
   ]
  },
  {
   "cell_type": "code",
   "execution_count": 23,
   "id": "cb0c4f5c",
   "metadata": {},
   "outputs": [
    {
     "data": {
      "text/plain": [
       "7     1260\n",
       "9     1259\n",
       "5     1224\n",
       "3     1078\n",
       "1     1010\n",
       "2      990\n",
       "6      916\n",
       "4      879\n",
       "8      776\n",
       "10     482\n",
       "Name: 종업원그룹, dtype: int64"
      ]
     },
     "execution_count": 23,
     "metadata": {},
     "output_type": "execute_result"
    }
   ],
   "source": [
    "Company_Information_d['종업원그룹'] = 10\n",
    "Company_Information_d.loc[Company_Information_d.종업원수 >= Company_Information_d.종업원수.quantile(q=0.1),'종업원그룹'] = 9\n",
    "Company_Information_d.loc[Company_Information_d.종업원수 >= Company_Information_d.종업원수.quantile(q=0.2),'종업원그룹'] = 8\n",
    "Company_Information_d.loc[Company_Information_d.종업원수 >= Company_Information_d.종업원수.quantile(q=0.3),'종업원그룹'] = 7\n",
    "Company_Information_d.loc[Company_Information_d.종업원수 >= Company_Information_d.종업원수.quantile(q=0.4),'종업원그룹'] = 6\n",
    "Company_Information_d.loc[Company_Information_d.종업원수 >= Company_Information_d.종업원수.quantile(q=0.5),'종업원그룹'] = 5\n",
    "Company_Information_d.loc[Company_Information_d.종업원수 >= Company_Information_d.종업원수.quantile(q=0.6),'종업원그룹'] = 4\n",
    "Company_Information_d.loc[Company_Information_d.종업원수 >= Company_Information_d.종업원수.quantile(q=0.7),'종업원그룹'] = 3\n",
    "Company_Information_d.loc[Company_Information_d.종업원수 >= Company_Information_d.종업원수.quantile(q=0.8),'종업원그룹'] = 2\n",
    "Company_Information_d.loc[Company_Information_d.종업원수 >= Company_Information_d.종업원수.quantile(q=0.9),'종업원그룹'] = 1\n",
    "Company_Information_d['종업원그룹'].astype(object).value_counts()"
   ]
  },
  {
   "cell_type": "markdown",
   "id": "256d4e42-d115-4e0c-aaef-94269c62b63b",
   "metadata": {},
   "source": [
    "#### ✅**설립일 연도처리 - 설립연도, 업력, 성장단계 컬럼 생성**"
   ]
  },
  {
   "cell_type": "code",
   "execution_count": 24,
   "id": "af8f4c8a-d99e-4e42-afe3-74204b58057e",
   "metadata": {},
   "outputs": [
    {
     "data": {
      "text/plain": [
       "2016.0    726\n",
       "2015.0    679\n",
       "2017.0    644\n",
       "2018.0    558\n",
       "2014.0    499\n",
       "         ... \n",
       "1957.0      1\n",
       "1954.0      1\n",
       "1955.0      1\n",
       "1968.0      1\n",
       "1951.0      1\n",
       "Name: 설립년도, Length: 75, dtype: int64"
      ]
     },
     "execution_count": 24,
     "metadata": {},
     "output_type": "execute_result"
    }
   ],
   "source": [
    "Company_Information_d['설립년도'] = pd.to_datetime(Company_Information_d.설립일,format='%Y%m%d').dt.year\n",
    "Company_Information_d.설립년도.value_counts()"
   ]
  },
  {
   "cell_type": "code",
   "execution_count": 25,
   "id": "8359ccd5-362c-4ff1-8980-f68448f01fa3",
   "metadata": {},
   "outputs": [
    {
     "data": {
      "text/plain": [
       "0"
      ]
     },
     "execution_count": 25,
     "metadata": {},
     "output_type": "execute_result"
    }
   ],
   "source": [
    "for i in range(1,11):\n",
    "    Company_Information_d.loc[(Company_Information_d.설립년도.isnull()) & (Company_Information_d.종업원그룹 == i),'설립년도'] = Company_Information_d[Company_Information_d.종업원그룹 == i].설립년도.mean()\n",
    "Company_Information_d.설립년도.isnull().sum()"
   ]
  },
  {
   "cell_type": "code",
   "execution_count": 26,
   "id": "7a6cb61f-7230-4439-8d7f-b8be3c6f8dca",
   "metadata": {},
   "outputs": [],
   "source": [
    "Company_Information_d['업력'] = 2023 - Company_Information_d.설립년도"
   ]
  },
  {
   "cell_type": "code",
   "execution_count": 27,
   "id": "cb70e736-7ec8-41ff-bfa8-5a3192fcf467",
   "metadata": {},
   "outputs": [
    {
     "data": {
      "text/plain": [
       "count    8.145000e+03\n",
       "mean     3.599271e+07\n",
       "std      4.707300e+08\n",
       "min     -6.949763e+06\n",
       "25%      7.293370e+05\n",
       "50%      2.020255e+06\n",
       "75%      6.385674e+06\n",
       "max      2.347011e+10\n",
       "Name: 매출액, dtype: float64"
      ]
     },
     "execution_count": 27,
     "metadata": {},
     "output_type": "execute_result"
    }
   ],
   "source": [
    "Company_Information_d.매출액.describe()"
   ]
  },
  {
   "cell_type": "code",
   "execution_count": 28,
   "id": "838ec345-f80b-42f4-b328-2360a37c7fd0",
   "metadata": {},
   "outputs": [
    {
     "data": {
      "text/plain": [
       "자립성장형    4505\n",
       "창업형      2102\n",
       "정체형      2038\n",
       "성장보육형     794\n",
       "성숙형       435\n",
       "Name: 성장단계, dtype: int64"
      ]
     },
     "execution_count": 28,
     "metadata": {},
     "output_type": "execute_result"
    }
   ],
   "source": [
    "Company_Information_d['성장단계'] = '창업형'\n",
    "Company_Information_d.loc[(Company_Information_d.업력 >= 3) & (Company_Information_d.매출액 > 500000) ,'성장단계'] = '성장보육형'\n",
    "Company_Information_d.loc[(Company_Information_d.업력 >= 7) & (Company_Information_d.매출액 >= 1000000),'성장단계'] = '자립성장형'\n",
    "Company_Information_d.loc[(Company_Information_d.업력 >= 7) &  (Company_Information_d.매출액 <= 1000000),'성장단계'] = '정체형'\n",
    "Company_Information_d.loc[(Company_Information_d.업력 > 15) & (Company_Information_d.매출액 >= 30000000),'성장단계'] = '성숙형'\n",
    "Company_Information_d.성장단계.value_counts()"
   ]
  },
  {
   "cell_type": "markdown",
   "id": "a278d837-07e9-49c2-93b7-7c62dfb83ce2",
   "metadata": {},
   "source": [
    "#### ✅**결산일자 연도처리**"
   ]
  },
  {
   "cell_type": "code",
   "execution_count": 29,
   "id": "e22d5442-fb03-4ee2-8a6f-4d971c8ec382",
   "metadata": {},
   "outputs": [
    {
     "data": {
      "text/plain": [
       "2020.0    5191\n",
       "2019.0    1167\n",
       "2018.0     859\n",
       "2021.0     419\n",
       "2017.0     210\n",
       "2014.0     152\n",
       "2015.0      80\n",
       "2016.0      51\n",
       "2012.0      24\n",
       "2013.0      22\n",
       "2011.0      14\n",
       "2007.0      11\n",
       "2010.0       6\n",
       "2009.0       5\n",
       "2006.0       3\n",
       "2003.0       2\n",
       "2005.0       1\n",
       "1997.0       1\n",
       "Name: 재무제표기준년도, dtype: int64"
      ]
     },
     "execution_count": 29,
     "metadata": {},
     "output_type": "execute_result"
    }
   ],
   "source": [
    "Company_Information_d['재무제표기준년도'] = pd.to_datetime(Company_Information_d.결산일자,format='%Y%m%d').dt.year\n",
    "Company_Information_d.재무제표기준년도.value_counts()"
   ]
  },
  {
   "cell_type": "code",
   "execution_count": 30,
   "id": "c3463b53-85ed-435e-8e13-9225302fbf9a",
   "metadata": {},
   "outputs": [
    {
     "data": {
      "text/plain": [
       "사업자등록번호        0\n",
       "데이터수집일자        0\n",
       "기업명            0\n",
       "기업영문명        882\n",
       "대표자명           0\n",
       "종업원수           0\n",
       "종업원수기준년월     658\n",
       "산업분류코드         0\n",
       "산업분류코드설명      25\n",
       "기업규모           0\n",
       "기업형태           0\n",
       "업태명         1222\n",
       "설립일          462\n",
       "이메일주소       5799\n",
       "전화번호         547\n",
       "팩스전화번호      2006\n",
       "우편번호         870\n",
       "주소            84\n",
       "상세주보         724\n",
       "휴폐업구분       9640\n",
       "상태발생일자      9744\n",
       "휴폐업수정일      9640\n",
       "CRI등급          0\n",
       "CRI기준일       633\n",
       "결산일자        1656\n",
       "매출액         1729\n",
       "영업이익        1665\n",
       "자본총계금액      1660\n",
       "부채총계금액      1663\n",
       "자산총계금액      1658\n",
       "작업구분코드         0\n",
       "데이터생성일자        0\n",
       "연계처리상태코드    9874\n",
       "연계처리일자      9874\n",
       "산업대분류          0\n",
       "종업원그룹          0\n",
       "설립년도           0\n",
       "업력             0\n",
       "성장단계           0\n",
       "재무제표기준년도    1656\n",
       "dtype: int64"
      ]
     },
     "execution_count": 30,
     "metadata": {},
     "output_type": "execute_result"
    }
   ],
   "source": [
    "Company_Information_d.isnull().sum()"
   ]
  },
  {
   "cell_type": "markdown",
   "id": "a8fa423e-b301-4f5e-9c7a-22eeca43dd4c",
   "metadata": {},
   "source": [
    "#### ✅**CRI기준일 연도처리**"
   ]
  },
  {
   "cell_type": "code",
   "execution_count": 31,
   "id": "238bf349-6f18-44d2-89ec-e5ccc4374876",
   "metadata": {},
   "outputs": [
    {
     "data": {
      "text/plain": [
       "2021.0    4750\n",
       "2022.0    4476\n",
       "2020.0      15\n",
       "Name: CRI기준년도, dtype: int64"
      ]
     },
     "execution_count": 31,
     "metadata": {},
     "output_type": "execute_result"
    }
   ],
   "source": [
    "Company_Information_d['CRI기준년도'] = pd.to_datetime(Company_Information_d.CRI기준일,format='%Y%m%d').dt.year\n",
    "Company_Information_d.CRI기준년도.value_counts()"
   ]
  },
  {
   "cell_type": "markdown",
   "id": "b87e2ca8",
   "metadata": {},
   "source": [
    "--- \n",
    "> ### **EDA**\n",
    "---"
   ]
  },
  {
   "cell_type": "code",
   "execution_count": 32,
   "id": "a525ad7b",
   "metadata": {},
   "outputs": [
    {
     "data": {
      "text/plain": [
       "사업자등록번호        0\n",
       "데이터수집일자        0\n",
       "기업명            0\n",
       "기업영문명        882\n",
       "대표자명           0\n",
       "종업원수           0\n",
       "종업원수기준년월     658\n",
       "산업분류코드         0\n",
       "산업분류코드설명      25\n",
       "기업규모           0\n",
       "기업형태           0\n",
       "업태명         1222\n",
       "설립일          462\n",
       "이메일주소       5799\n",
       "전화번호         547\n",
       "팩스전화번호      2006\n",
       "우편번호         870\n",
       "주소            84\n",
       "상세주보         724\n",
       "휴폐업구분       9640\n",
       "상태발생일자      9744\n",
       "휴폐업수정일      9640\n",
       "CRI등급          0\n",
       "CRI기준일       633\n",
       "결산일자        1656\n",
       "매출액         1729\n",
       "영업이익        1665\n",
       "자본총계금액      1660\n",
       "부채총계금액      1663\n",
       "자산총계금액      1658\n",
       "작업구분코드         0\n",
       "데이터생성일자        0\n",
       "연계처리상태코드    9874\n",
       "연계처리일자      9874\n",
       "산업대분류          0\n",
       "종업원그룹          0\n",
       "설립년도           0\n",
       "업력             0\n",
       "성장단계           0\n",
       "재무제표기준년도    1656\n",
       "CRI기준년도      633\n",
       "dtype: int64"
      ]
     },
     "execution_count": 32,
     "metadata": {},
     "output_type": "execute_result"
    }
   ],
   "source": [
    "Company_Information_d.isnull().sum()"
   ]
  },
  {
   "cell_type": "markdown",
   "id": "d76bc804",
   "metadata": {},
   "source": [
    "#### ✅**기업정보상세의 연속형 변수 상관분석**\n",
    "- ##### **매출액, 영업이익, 자본총계금액, 자산총계금액 : 서로 상관성 높음 -> 실제 데이터에는 공식을 계산하여 비율 형식으로 들어가야 함**\n",
    "- ##### **종업원수 : 매출액, 영업이익, 자본총계금액, 자산총계금액과 관련 높음**\n",
    "- ##### **날짜 : CRI기준일과 데이터수집일자가 관련있음**"
   ]
  },
  {
   "cell_type": "code",
   "execution_count": 33,
   "id": "6a88c50e",
   "metadata": {},
   "outputs": [
    {
     "data": {
      "text/plain": [
       "<AxesSubplot:>"
      ]
     },
     "execution_count": 33,
     "metadata": {},
     "output_type": "execute_result"
    },
    {
     "data": {
      "image/png": "[encoded data removed]",
      "text/plain": [
       "<Figure size 640x480 with 2 Axes>"
      ]
     },
     "metadata": {},
     "output_type": "display_data"
    }
   ],
   "source": [
    "sns.heatmap(Company_Information_d.corr())"
   ]
  },
  {
   "cell_type": "markdown",
   "id": "92aede5e",
   "metadata": {},
   "source": [
    "#### ✅**종업원수와 매출액은 양의 상관성(0.66)이 있음**"
   ]
  },
  {
   "cell_type": "code",
   "execution_count": 34,
   "id": "25eb8b64",
   "metadata": {},
   "outputs": [
    {
     "data": {
      "text/plain": [
       "NormaltestResult(statistic=20450.32784439528, pvalue=0.0)"
      ]
     },
     "execution_count": 34,
     "metadata": {},
     "output_type": "execute_result"
    }
   ],
   "source": [
    "stats.normaltest(Company_Information_d.dropna(subset=['종업원수','매출액']).종업원수)"
   ]
  },
  {
   "cell_type": "code",
   "execution_count": 35,
   "id": "49d1222f",
   "metadata": {},
   "outputs": [
    {
     "data": {
      "text/plain": [
       "NormaltestResult(statistic=21150.79353811902, pvalue=0.0)"
      ]
     },
     "execution_count": 35,
     "metadata": {},
     "output_type": "execute_result"
    }
   ],
   "source": [
    "stats.normaltest(Company_Information_d.dropna(subset=['종업원수','매출액']).매출액)"
   ]
  },
  {
   "cell_type": "code",
   "execution_count": 36,
   "id": "9025b689",
   "metadata": {},
   "outputs": [
    {
     "data": {
      "text/plain": [
       "SpearmanrResult(correlation=0.6613362517788565, pvalue=0.0)"
      ]
     },
     "execution_count": 36,
     "metadata": {},
     "output_type": "execute_result"
    }
   ],
   "source": [
    "stats.spearmanr(Company_Information_d.dropna(subset=['종업원수','매출액']).종업원수,Company_Information_d.dropna(subset=['종업원수','매출액']).매출액)"
   ]
  },
  {
   "cell_type": "markdown",
   "id": "f46c38cb",
   "metadata": {},
   "source": [
    "#### ✅**종업원수와 자산총계금액과은 양의 상관성(0.62)이 있음**"
   ]
  },
  {
   "cell_type": "code",
   "execution_count": 37,
   "id": "728b48d3",
   "metadata": {},
   "outputs": [
    {
     "data": {
      "text/plain": [
       "NormaltestResult(statistic=20664.280328609027, pvalue=0.0)"
      ]
     },
     "execution_count": 37,
     "metadata": {},
     "output_type": "execute_result"
    }
   ],
   "source": [
    "stats.normaltest(Company_Information_d.dropna(subset=['자산총계금액','종업원수']).종업원수)"
   ]
  },
  {
   "cell_type": "code",
   "execution_count": 38,
   "id": "f9c6f5ea",
   "metadata": {},
   "outputs": [
    {
     "data": {
      "text/plain": [
       "NormaltestResult(statistic=30168.66331980833, pvalue=0.0)"
      ]
     },
     "execution_count": 38,
     "metadata": {},
     "output_type": "execute_result"
    }
   ],
   "source": [
    "stats.normaltest(Company_Information_d.dropna(subset=['자산총계금액','종업원수']).자산총계금액)"
   ]
  },
  {
   "cell_type": "code",
   "execution_count": 39,
   "id": "b2b23418",
   "metadata": {},
   "outputs": [
    {
     "data": {
      "text/plain": [
       "SpearmanrResult(correlation=0.6222797390326799, pvalue=0.0)"
      ]
     },
     "execution_count": 39,
     "metadata": {},
     "output_type": "execute_result"
    }
   ],
   "source": [
    "stats.spearmanr(Company_Information_d.dropna(subset=['자산총계금액','종업원수']).종업원수,Company_Information_d.dropna(subset=['자산총계금액','종업원수']).자산총계금액)"
   ]
  },
  {
   "cell_type": "markdown",
   "id": "8e7c81db",
   "metadata": {},
   "source": [
    "#### ✅**종업원수와 자본총계금액과은 양의 상관성(0.54)이 있음**"
   ]
  },
  {
   "cell_type": "code",
   "execution_count": 40,
   "id": "b8c08c37",
   "metadata": {},
   "outputs": [
    {
     "data": {
      "text/plain": [
       "NormaltestResult(statistic=20658.245766999717, pvalue=0.0)"
      ]
     },
     "execution_count": 40,
     "metadata": {},
     "output_type": "execute_result"
    }
   ],
   "source": [
    "stats.normaltest(Company_Information_d.dropna(subset=['자본총계금액','종업원수']).종업원수)"
   ]
  },
  {
   "cell_type": "code",
   "execution_count": 41,
   "id": "5df8d3d7",
   "metadata": {},
   "outputs": [
    {
     "data": {
      "text/plain": [
       "NormaltestResult(statistic=23543.36482502668, pvalue=0.0)"
      ]
     },
     "execution_count": 41,
     "metadata": {},
     "output_type": "execute_result"
    }
   ],
   "source": [
    "stats.normaltest(Company_Information_d.dropna(subset=['자본총계금액','종업원수']).자본총계금액)"
   ]
  },
  {
   "cell_type": "code",
   "execution_count": 42,
   "id": "b19ad43d",
   "metadata": {},
   "outputs": [
    {
     "data": {
      "text/plain": [
       "SpearmanrResult(correlation=0.5488724637574123, pvalue=0.0)"
      ]
     },
     "execution_count": 42,
     "metadata": {},
     "output_type": "execute_result"
    }
   ],
   "source": [
    "stats.spearmanr(Company_Information_d.dropna(subset=['자본총계금액','종업원수']).종업원수,Company_Information_d.dropna(subset=['자본총계금액','종업원수']).자본총계금액)"
   ]
  },
  {
   "cell_type": "markdown",
   "id": "ebda53f2-6249-49f0-8a42-7be834196fca",
   "metadata": {},
   "source": [
    "#### ✅**매출액과 자산총계금액과은 양의 상관성(0.82)이 있음**"
   ]
  },
  {
   "cell_type": "code",
   "execution_count": 43,
   "id": "6d88b05d-a478-40bf-9180-e9e8cdeebf5f",
   "metadata": {},
   "outputs": [
    {
     "data": {
      "text/plain": [
       "SpearmanrResult(correlation=0.829568170736648, pvalue=0.0)"
      ]
     },
     "execution_count": 43,
     "metadata": {},
     "output_type": "execute_result"
    }
   ],
   "source": [
    "stats.spearmanr(Company_Information_d.dropna(subset=['매출액','자산총계금액']).매출액,Company_Information_d.dropna(subset=['매출액','자산총계금액']).자산총계금액)"
   ]
  },
  {
   "cell_type": "markdown",
   "id": "24c30e84",
   "metadata": {},
   "source": [
    "#### ✅**부채총계금액과 자산총계금액과은 양의 상관성(0.86)이 있음**"
   ]
  },
  {
   "cell_type": "code",
   "execution_count": 44,
   "id": "10c993d7",
   "metadata": {},
   "outputs": [
    {
     "data": {
      "text/plain": [
       "SpearmanrResult(correlation=0.8614541515141597, pvalue=0.0)"
      ]
     },
     "execution_count": 44,
     "metadata": {},
     "output_type": "execute_result"
    }
   ],
   "source": [
    "stats.spearmanr(Company_Information_d.dropna(subset=['부채총계금액','자산총계금액']).부채총계금액,Company_Information_d.dropna(subset=['부채총계금액','자산총계금액']).자산총계금액)"
   ]
  },
  {
   "cell_type": "markdown",
   "id": "e3ada3c7-6679-45ec-9d9c-29ae04f592c8",
   "metadata": {},
   "source": [
    "#### ✅**매출액과 부채총계금액과은 양의 상관성(0.74)이 있음**"
   ]
  },
  {
   "cell_type": "code",
   "execution_count": 45,
   "id": "679bed30-28fc-49fc-b09c-3346f354e433",
   "metadata": {},
   "outputs": [
    {
     "data": {
      "text/plain": [
       "SpearmanrResult(correlation=0.7452252864268719, pvalue=0.0)"
      ]
     },
     "execution_count": 45,
     "metadata": {},
     "output_type": "execute_result"
    }
   ],
   "source": [
    "stats.spearmanr(Company_Information_d.dropna(subset=['매출액','부채총계금액']).매출액,Company_Information_d.dropna(subset=['매출액','부채총계금액']).부채총계금액)"
   ]
  },
  {
   "cell_type": "markdown",
   "id": "78065962-1fc2-4d3c-8983-38254b19476c",
   "metadata": {},
   "source": [
    "#### ✅**매출액과 자본총계금액과은 양의 상관성(0.72)이 있음**"
   ]
  },
  {
   "cell_type": "code",
   "execution_count": 46,
   "id": "41a69bf2-3469-40a1-9aac-53717ff49f74",
   "metadata": {},
   "outputs": [
    {
     "data": {
      "text/plain": [
       "SpearmanrResult(correlation=0.7328272534794524, pvalue=0.0)"
      ]
     },
     "execution_count": 46,
     "metadata": {},
     "output_type": "execute_result"
    }
   ],
   "source": [
    "stats.spearmanr(Company_Information_d.dropna(subset=['매출액','자본총계금액']).매출액,Company_Information_d.dropna(subset=['매출액','자본총계금액']).자본총계금액)"
   ]
  },
  {
   "cell_type": "markdown",
   "id": "a0059787",
   "metadata": {},
   "source": [
    "#### ✅**설립일과 자산총계금액은 상관성이 있음** : 결측치 대체 필요"
   ]
  },
  {
   "cell_type": "code",
   "execution_count": 47,
   "id": "a3024306",
   "metadata": {},
   "outputs": [
    {
     "data": {
      "text/plain": [
       "NormaltestResult(statistic=2756.07611950146, pvalue=0.0)"
      ]
     },
     "execution_count": 47,
     "metadata": {},
     "output_type": "execute_result"
    }
   ],
   "source": [
    "stats.normaltest(Company_Information_d.dropna(subset=['자산총계금액','설립일']).설립일)"
   ]
  },
  {
   "cell_type": "code",
   "execution_count": 48,
   "id": "c27c21f9",
   "metadata": {},
   "outputs": [
    {
     "data": {
      "text/plain": [
       "NormaltestResult(statistic=29912.68988819278, pvalue=0.0)"
      ]
     },
     "execution_count": 48,
     "metadata": {},
     "output_type": "execute_result"
    }
   ],
   "source": [
    "stats.normaltest(Company_Information_d.dropna(subset=['자산총계금액','설립일']).자산총계금액)"
   ]
  },
  {
   "cell_type": "code",
   "execution_count": 49,
   "id": "7381e151",
   "metadata": {},
   "outputs": [
    {
     "data": {
      "text/plain": [
       "SpearmanrResult(correlation=-0.45296461499574503, pvalue=0.0)"
      ]
     },
     "execution_count": 49,
     "metadata": {},
     "output_type": "execute_result"
    }
   ],
   "source": [
    "stats.spearmanr(Company_Information_d.dropna(subset=['자산총계금액','설립일']).자산총계금액,Company_Information_d.dropna(subset=['자산총계금액','설립일']).설립일)"
   ]
  },
  {
   "cell_type": "markdown",
   "id": "891887e9",
   "metadata": {},
   "source": [
    "#### ✅**CRI등급과 범주형 컬럼 상관분석**"
   ]
  },
  {
   "cell_type": "markdown",
   "id": "230a34e6",
   "metadata": {},
   "source": [
    "#### ✅ **CRI등급과 상관성이 있음** : 기업명, 기업규모, 기업형태, 산업분류코드, 산업대분류"
   ]
  },
  {
   "cell_type": "code",
   "execution_count": 50,
   "id": "b1fba385",
   "metadata": {},
   "outputs": [
    {
     "data": {
      "text/plain": [
       "4.136564466040213e-23"
      ]
     },
     "execution_count": 50,
     "metadata": {},
     "output_type": "execute_result"
    }
   ],
   "source": [
    "stats.chi2_contingency(pd.crosstab(Company_Information_d.CRI등급,Company_Information_d.기업명))[1]"
   ]
  },
  {
   "cell_type": "code",
   "execution_count": 51,
   "id": "69a0906a",
   "metadata": {},
   "outputs": [
    {
     "data": {
      "text/plain": [
       "1.0852583812643956e-294"
      ]
     },
     "execution_count": 51,
     "metadata": {},
     "output_type": "execute_result"
    }
   ],
   "source": [
    "stats.chi2_contingency(pd.crosstab(Company_Information_d.CRI등급,Company_Information_d.기업규모))[1]"
   ]
  },
  {
   "cell_type": "code",
   "execution_count": 52,
   "id": "0ea19a1b",
   "metadata": {},
   "outputs": [
    {
     "data": {
      "text/plain": [
       "0.0"
      ]
     },
     "execution_count": 52,
     "metadata": {},
     "output_type": "execute_result"
    }
   ],
   "source": [
    "stats.chi2_contingency(pd.crosstab(Company_Information_d.CRI등급,Company_Information_d.기업형태))[1]"
   ]
  },
  {
   "cell_type": "code",
   "execution_count": 53,
   "id": "0aefcdba",
   "metadata": {},
   "outputs": [
    {
     "data": {
      "text/plain": [
       "0.0"
      ]
     },
     "execution_count": 53,
     "metadata": {},
     "output_type": "execute_result"
    }
   ],
   "source": [
    "stats.chi2_contingency(pd.crosstab(Company_Information_d.dropna(subset='산업분류코드').CRI등급,Company_Information_d.dropna(subset='산업분류코드').산업분류코드))[1]"
   ]
  },
  {
   "cell_type": "code",
   "execution_count": 54,
   "id": "7f6d42a5",
   "metadata": {},
   "outputs": [
    {
     "data": {
      "text/html": [
       "<div>\n",
       "<style scoped>\n",
       "    .dataframe tbody tr th:only-of-type {\n",
       "        vertical-align: middle;\n",
       "    }\n",
       "\n",
       "    .dataframe tbody tr th {\n",
       "        vertical-align: top;\n",
       "    }\n",
       "\n",
       "    .dataframe thead th {\n",
       "        text-align: right;\n",
       "    }\n",
       "</style>\n",
       "<table border=\"1\" class=\"dataframe\">\n",
       "  <thead>\n",
       "    <tr style=\"text-align: right;\">\n",
       "      <th>산업대분류</th>\n",
       "      <th>10</th>\n",
       "      <th>11</th>\n",
       "      <th>13</th>\n",
       "      <th>14</th>\n",
       "      <th>15</th>\n",
       "      <th>16</th>\n",
       "      <th>17</th>\n",
       "      <th>18</th>\n",
       "      <th>20</th>\n",
       "      <th>21</th>\n",
       "      <th>...</th>\n",
       "      <th>76</th>\n",
       "      <th>84</th>\n",
       "      <th>85</th>\n",
       "      <th>86</th>\n",
       "      <th>87</th>\n",
       "      <th>90</th>\n",
       "      <th>91</th>\n",
       "      <th>94</th>\n",
       "      <th>95</th>\n",
       "      <th>96</th>\n",
       "    </tr>\n",
       "    <tr>\n",
       "      <th>CRI등급</th>\n",
       "      <th></th>\n",
       "      <th></th>\n",
       "      <th></th>\n",
       "      <th></th>\n",
       "      <th></th>\n",
       "      <th></th>\n",
       "      <th></th>\n",
       "      <th></th>\n",
       "      <th></th>\n",
       "      <th></th>\n",
       "      <th></th>\n",
       "      <th></th>\n",
       "      <th></th>\n",
       "      <th></th>\n",
       "      <th></th>\n",
       "      <th></th>\n",
       "      <th></th>\n",
       "      <th></th>\n",
       "      <th></th>\n",
       "      <th></th>\n",
       "      <th></th>\n",
       "    </tr>\n",
       "  </thead>\n",
       "  <tbody>\n",
       "    <tr>\n",
       "      <th>A1</th>\n",
       "      <td>2</td>\n",
       "      <td>0</td>\n",
       "      <td>1</td>\n",
       "      <td>1</td>\n",
       "      <td>0</td>\n",
       "      <td>0</td>\n",
       "      <td>0</td>\n",
       "      <td>1</td>\n",
       "      <td>1</td>\n",
       "      <td>3</td>\n",
       "      <td>...</td>\n",
       "      <td>0</td>\n",
       "      <td>1</td>\n",
       "      <td>1</td>\n",
       "      <td>0</td>\n",
       "      <td>0</td>\n",
       "      <td>0</td>\n",
       "      <td>1</td>\n",
       "      <td>7</td>\n",
       "      <td>0</td>\n",
       "      <td>0</td>\n",
       "    </tr>\n",
       "    <tr>\n",
       "      <th>A2</th>\n",
       "      <td>3</td>\n",
       "      <td>0</td>\n",
       "      <td>0</td>\n",
       "      <td>3</td>\n",
       "      <td>0</td>\n",
       "      <td>0</td>\n",
       "      <td>0</td>\n",
       "      <td>0</td>\n",
       "      <td>9</td>\n",
       "      <td>0</td>\n",
       "      <td>...</td>\n",
       "      <td>1</td>\n",
       "      <td>0</td>\n",
       "      <td>2</td>\n",
       "      <td>1</td>\n",
       "      <td>2</td>\n",
       "      <td>0</td>\n",
       "      <td>0</td>\n",
       "      <td>6</td>\n",
       "      <td>0</td>\n",
       "      <td>0</td>\n",
       "    </tr>\n",
       "    <tr>\n",
       "      <th>A3</th>\n",
       "      <td>4</td>\n",
       "      <td>0</td>\n",
       "      <td>2</td>\n",
       "      <td>3</td>\n",
       "      <td>0</td>\n",
       "      <td>0</td>\n",
       "      <td>0</td>\n",
       "      <td>1</td>\n",
       "      <td>3</td>\n",
       "      <td>2</td>\n",
       "      <td>...</td>\n",
       "      <td>1</td>\n",
       "      <td>1</td>\n",
       "      <td>3</td>\n",
       "      <td>2</td>\n",
       "      <td>0</td>\n",
       "      <td>0</td>\n",
       "      <td>1</td>\n",
       "      <td>4</td>\n",
       "      <td>2</td>\n",
       "      <td>0</td>\n",
       "    </tr>\n",
       "    <tr>\n",
       "      <th>B1</th>\n",
       "      <td>3</td>\n",
       "      <td>0</td>\n",
       "      <td>3</td>\n",
       "      <td>3</td>\n",
       "      <td>1</td>\n",
       "      <td>0</td>\n",
       "      <td>1</td>\n",
       "      <td>3</td>\n",
       "      <td>5</td>\n",
       "      <td>0</td>\n",
       "      <td>...</td>\n",
       "      <td>2</td>\n",
       "      <td>0</td>\n",
       "      <td>5</td>\n",
       "      <td>0</td>\n",
       "      <td>0</td>\n",
       "      <td>1</td>\n",
       "      <td>0</td>\n",
       "      <td>1</td>\n",
       "      <td>1</td>\n",
       "      <td>1</td>\n",
       "    </tr>\n",
       "    <tr>\n",
       "      <th>B2</th>\n",
       "      <td>5</td>\n",
       "      <td>0</td>\n",
       "      <td>3</td>\n",
       "      <td>5</td>\n",
       "      <td>0</td>\n",
       "      <td>1</td>\n",
       "      <td>2</td>\n",
       "      <td>6</td>\n",
       "      <td>2</td>\n",
       "      <td>0</td>\n",
       "      <td>...</td>\n",
       "      <td>2</td>\n",
       "      <td>0</td>\n",
       "      <td>5</td>\n",
       "      <td>4</td>\n",
       "      <td>0</td>\n",
       "      <td>0</td>\n",
       "      <td>2</td>\n",
       "      <td>4</td>\n",
       "      <td>4</td>\n",
       "      <td>1</td>\n",
       "    </tr>\n",
       "    <tr>\n",
       "      <th>B3</th>\n",
       "      <td>6</td>\n",
       "      <td>0</td>\n",
       "      <td>3</td>\n",
       "      <td>4</td>\n",
       "      <td>2</td>\n",
       "      <td>0</td>\n",
       "      <td>0</td>\n",
       "      <td>2</td>\n",
       "      <td>8</td>\n",
       "      <td>0</td>\n",
       "      <td>...</td>\n",
       "      <td>1</td>\n",
       "      <td>1</td>\n",
       "      <td>8</td>\n",
       "      <td>1</td>\n",
       "      <td>0</td>\n",
       "      <td>3</td>\n",
       "      <td>2</td>\n",
       "      <td>12</td>\n",
       "      <td>2</td>\n",
       "      <td>0</td>\n",
       "    </tr>\n",
       "    <tr>\n",
       "      <th>C1</th>\n",
       "      <td>3</td>\n",
       "      <td>1</td>\n",
       "      <td>1</td>\n",
       "      <td>4</td>\n",
       "      <td>3</td>\n",
       "      <td>0</td>\n",
       "      <td>1</td>\n",
       "      <td>4</td>\n",
       "      <td>3</td>\n",
       "      <td>0</td>\n",
       "      <td>...</td>\n",
       "      <td>3</td>\n",
       "      <td>0</td>\n",
       "      <td>6</td>\n",
       "      <td>0</td>\n",
       "      <td>0</td>\n",
       "      <td>1</td>\n",
       "      <td>0</td>\n",
       "      <td>7</td>\n",
       "      <td>2</td>\n",
       "      <td>3</td>\n",
       "    </tr>\n",
       "    <tr>\n",
       "      <th>C2</th>\n",
       "      <td>5</td>\n",
       "      <td>0</td>\n",
       "      <td>0</td>\n",
       "      <td>1</td>\n",
       "      <td>2</td>\n",
       "      <td>0</td>\n",
       "      <td>0</td>\n",
       "      <td>0</td>\n",
       "      <td>4</td>\n",
       "      <td>2</td>\n",
       "      <td>...</td>\n",
       "      <td>3</td>\n",
       "      <td>0</td>\n",
       "      <td>12</td>\n",
       "      <td>3</td>\n",
       "      <td>0</td>\n",
       "      <td>3</td>\n",
       "      <td>2</td>\n",
       "      <td>1</td>\n",
       "      <td>4</td>\n",
       "      <td>8</td>\n",
       "    </tr>\n",
       "    <tr>\n",
       "      <th>C3</th>\n",
       "      <td>6</td>\n",
       "      <td>0</td>\n",
       "      <td>2</td>\n",
       "      <td>9</td>\n",
       "      <td>4</td>\n",
       "      <td>2</td>\n",
       "      <td>1</td>\n",
       "      <td>3</td>\n",
       "      <td>6</td>\n",
       "      <td>5</td>\n",
       "      <td>...</td>\n",
       "      <td>2</td>\n",
       "      <td>0</td>\n",
       "      <td>6</td>\n",
       "      <td>2</td>\n",
       "      <td>0</td>\n",
       "      <td>3</td>\n",
       "      <td>0</td>\n",
       "      <td>0</td>\n",
       "      <td>2</td>\n",
       "      <td>7</td>\n",
       "    </tr>\n",
       "    <tr>\n",
       "      <th>D</th>\n",
       "      <td>1</td>\n",
       "      <td>0</td>\n",
       "      <td>0</td>\n",
       "      <td>3</td>\n",
       "      <td>1</td>\n",
       "      <td>0</td>\n",
       "      <td>0</td>\n",
       "      <td>0</td>\n",
       "      <td>3</td>\n",
       "      <td>0</td>\n",
       "      <td>...</td>\n",
       "      <td>0</td>\n",
       "      <td>0</td>\n",
       "      <td>0</td>\n",
       "      <td>0</td>\n",
       "      <td>0</td>\n",
       "      <td>0</td>\n",
       "      <td>0</td>\n",
       "      <td>0</td>\n",
       "      <td>1</td>\n",
       "      <td>2</td>\n",
       "    </tr>\n",
       "    <tr>\n",
       "      <th>NG</th>\n",
       "      <td>0</td>\n",
       "      <td>0</td>\n",
       "      <td>0</td>\n",
       "      <td>0</td>\n",
       "      <td>0</td>\n",
       "      <td>0</td>\n",
       "      <td>0</td>\n",
       "      <td>0</td>\n",
       "      <td>0</td>\n",
       "      <td>0</td>\n",
       "      <td>...</td>\n",
       "      <td>0</td>\n",
       "      <td>0</td>\n",
       "      <td>0</td>\n",
       "      <td>0</td>\n",
       "      <td>0</td>\n",
       "      <td>0</td>\n",
       "      <td>0</td>\n",
       "      <td>0</td>\n",
       "      <td>0</td>\n",
       "      <td>0</td>\n",
       "    </tr>\n",
       "  </tbody>\n",
       "</table>\n",
       "<p>11 rows × 62 columns</p>\n",
       "</div>"
      ],
      "text/plain": [
       "산업대분류  10  11  13  14  15  16  17  18  20  21  ...  76  84  85  86  87  90  \\\n",
       "CRI등급                                          ...                           \n",
       "A1      2   0   1   1   0   0   0   1   1   3  ...   0   1   1   0   0   0   \n",
       "A2      3   0   0   3   0   0   0   0   9   0  ...   1   0   2   1   2   0   \n",
       "A3      4   0   2   3   0   0   0   1   3   2  ...   1   1   3   2   0   0   \n",
       "B1      3   0   3   3   1   0   1   3   5   0  ...   2   0   5   0   0   1   \n",
       "B2      5   0   3   5   0   1   2   6   2   0  ...   2   0   5   4   0   0   \n",
       "B3      6   0   3   4   2   0   0   2   8   0  ...   1   1   8   1   0   3   \n",
       "C1      3   1   1   4   3   0   1   4   3   0  ...   3   0   6   0   0   1   \n",
       "C2      5   0   0   1   2   0   0   0   4   2  ...   3   0  12   3   0   3   \n",
       "C3      6   0   2   9   4   2   1   3   6   5  ...   2   0   6   2   0   3   \n",
       "D       1   0   0   3   1   0   0   0   3   0  ...   0   0   0   0   0   0   \n",
       "NG      0   0   0   0   0   0   0   0   0   0  ...   0   0   0   0   0   0   \n",
       "\n",
       "산업대분류  91  94  95  96  \n",
       "CRI등급                  \n",
       "A1      1   7   0   0  \n",
       "A2      0   6   0   0  \n",
       "A3      1   4   2   0  \n",
       "B1      0   1   1   1  \n",
       "B2      2   4   4   1  \n",
       "B3      2  12   2   0  \n",
       "C1      0   7   2   3  \n",
       "C2      2   1   4   8  \n",
       "C3      0   0   2   7  \n",
       "D       0   0   1   2  \n",
       "NG      0   0   0   0  \n",
       "\n",
       "[11 rows x 62 columns]"
      ]
     },
     "execution_count": 54,
     "metadata": {},
     "output_type": "execute_result"
    }
   ],
   "source": [
    "pd.crosstab(Company_Information_d.CRI등급,Company_Information_d.산업대분류).sort_values(by='CRI등급',ascending=True)"
   ]
  },
  {
   "cell_type": "code",
   "execution_count": 55,
   "id": "d0276f15",
   "metadata": {},
   "outputs": [
    {
     "data": {
      "text/html": [
       "<div>\n",
       "<style scoped>\n",
       "    .dataframe tbody tr th:only-of-type {\n",
       "        vertical-align: middle;\n",
       "    }\n",
       "\n",
       "    .dataframe tbody tr th {\n",
       "        vertical-align: top;\n",
       "    }\n",
       "\n",
       "    .dataframe thead th {\n",
       "        text-align: right;\n",
       "    }\n",
       "</style>\n",
       "<table border=\"1\" class=\"dataframe\">\n",
       "  <thead>\n",
       "    <tr style=\"text-align: right;\">\n",
       "      <th></th>\n",
       "      <th>사업자등록번호</th>\n",
       "      <th>데이터수집일자</th>\n",
       "      <th>기업명</th>\n",
       "      <th>기업영문명</th>\n",
       "      <th>대표자명</th>\n",
       "      <th>종업원수</th>\n",
       "      <th>종업원수기준년월</th>\n",
       "      <th>산업분류코드</th>\n",
       "      <th>산업분류코드설명</th>\n",
       "      <th>기업규모</th>\n",
       "      <th>...</th>\n",
       "      <th>데이터생성일자</th>\n",
       "      <th>연계처리상태코드</th>\n",
       "      <th>연계처리일자</th>\n",
       "      <th>산업대분류</th>\n",
       "      <th>종업원그룹</th>\n",
       "      <th>설립년도</th>\n",
       "      <th>업력</th>\n",
       "      <th>성장단계</th>\n",
       "      <th>재무제표기준년도</th>\n",
       "      <th>CRI기준년도</th>\n",
       "    </tr>\n",
       "  </thead>\n",
       "  <tbody>\n",
       "    <tr>\n",
       "      <th>15</th>\n",
       "      <td>1050905695</td>\n",
       "      <td>20220107</td>\n",
       "      <td>파**</td>\n",
       "      <td>PAICOM ***</td>\n",
       "      <td>이**</td>\n",
       "      <td>16.198142</td>\n",
       "      <td>NaN</td>\n",
       "      <td>15</td>\n",
       "      <td>NaN</td>\n",
       "      <td>중소기업</td>\n",
       "      <td>...</td>\n",
       "      <td>20221104</td>\n",
       "      <td>NaN</td>\n",
       "      <td>NaN</td>\n",
       "      <td>15</td>\n",
       "      <td>4</td>\n",
       "      <td>2009.000000</td>\n",
       "      <td>14.000000</td>\n",
       "      <td>창업형</td>\n",
       "      <td>NaN</td>\n",
       "      <td>2021.0</td>\n",
       "    </tr>\n",
       "    <tr>\n",
       "      <th>68</th>\n",
       "      <td>2398806715</td>\n",
       "      <td>20211228</td>\n",
       "      <td>(주)**</td>\n",
       "      <td>NaN</td>\n",
       "      <td>안*</td>\n",
       "      <td>3.000000</td>\n",
       "      <td>2020-04</td>\n",
       "      <td>15129.0</td>\n",
       "      <td>가방 및 기타 보호용 케이스 제조업</td>\n",
       "      <td>중소기업</td>\n",
       "      <td>...</td>\n",
       "      <td>20221104</td>\n",
       "      <td>NaN</td>\n",
       "      <td>NaN</td>\n",
       "      <td>15</td>\n",
       "      <td>9</td>\n",
       "      <td>2019.000000</td>\n",
       "      <td>4.000000</td>\n",
       "      <td>창업형</td>\n",
       "      <td>NaN</td>\n",
       "      <td>2021.0</td>\n",
       "    </tr>\n",
       "    <tr>\n",
       "      <th>165</th>\n",
       "      <td>2030204979</td>\n",
       "      <td>20211228</td>\n",
       "      <td>판코**</td>\n",
       "      <td>Pan Ko***</td>\n",
       "      <td>박**</td>\n",
       "      <td>20.171137</td>\n",
       "      <td>NaN</td>\n",
       "      <td>15110.0</td>\n",
       "      <td>모피 및 가죽 제조업</td>\n",
       "      <td>중소기업</td>\n",
       "      <td>...</td>\n",
       "      <td>20221104</td>\n",
       "      <td>NaN</td>\n",
       "      <td>NaN</td>\n",
       "      <td>15</td>\n",
       "      <td>3</td>\n",
       "      <td>2007.184136</td>\n",
       "      <td>15.815864</td>\n",
       "      <td>자립성장형</td>\n",
       "      <td>2020.0</td>\n",
       "      <td>2021.0</td>\n",
       "    </tr>\n",
       "    <tr>\n",
       "      <th>1202</th>\n",
       "      <td>1052204614</td>\n",
       "      <td>20220303</td>\n",
       "      <td>대*</td>\n",
       "      <td>Daes***</td>\n",
       "      <td>박**</td>\n",
       "      <td>13.968341</td>\n",
       "      <td>NaN</td>\n",
       "      <td>15121.0</td>\n",
       "      <td>핸드백 및 지갑 제조업</td>\n",
       "      <td>중소기업</td>\n",
       "      <td>...</td>\n",
       "      <td>20221104</td>\n",
       "      <td>NaN</td>\n",
       "      <td>NaN</td>\n",
       "      <td>15</td>\n",
       "      <td>5</td>\n",
       "      <td>2009.214840</td>\n",
       "      <td>13.785160</td>\n",
       "      <td>창업형</td>\n",
       "      <td>NaN</td>\n",
       "      <td>2022.0</td>\n",
       "    </tr>\n",
       "    <tr>\n",
       "      <th>1384</th>\n",
       "      <td>8468602325</td>\n",
       "      <td>20220225</td>\n",
       "      <td>(주)조이앤마리오***</td>\n",
       "      <td>Joy&amp;Mrio Korea Co., L***</td>\n",
       "      <td>신**</td>\n",
       "      <td>7.000000</td>\n",
       "      <td>2021-07</td>\n",
       "      <td>15219.0</td>\n",
       "      <td>기타 신발 제조업</td>\n",
       "      <td>중소기업</td>\n",
       "      <td>...</td>\n",
       "      <td>20221104</td>\n",
       "      <td>NaN</td>\n",
       "      <td>NaN</td>\n",
       "      <td>15</td>\n",
       "      <td>7</td>\n",
       "      <td>2015.000000</td>\n",
       "      <td>8.000000</td>\n",
       "      <td>자립성장형</td>\n",
       "      <td>2020.0</td>\n",
       "      <td>2022.0</td>\n",
       "    </tr>\n",
       "    <tr>\n",
       "      <th>1405</th>\n",
       "      <td>8651202214</td>\n",
       "      <td>20220225</td>\n",
       "      <td>스튜디오오브***</td>\n",
       "      <td>Studio Of Jek T ***</td>\n",
       "      <td>김**</td>\n",
       "      <td>1.000000</td>\n",
       "      <td>2016-05</td>\n",
       "      <td>15000.0</td>\n",
       "      <td>가죽, 가방 및 신발 제조업</td>\n",
       "      <td>중소기업</td>\n",
       "      <td>...</td>\n",
       "      <td>20221104</td>\n",
       "      <td>NaN</td>\n",
       "      <td>NaN</td>\n",
       "      <td>15</td>\n",
       "      <td>10</td>\n",
       "      <td>2015.000000</td>\n",
       "      <td>8.000000</td>\n",
       "      <td>정체형</td>\n",
       "      <td>2019.0</td>\n",
       "      <td>2022.0</td>\n",
       "    </tr>\n",
       "    <tr>\n",
       "      <th>1733</th>\n",
       "      <td>7328808707</td>\n",
       "      <td>20220215</td>\n",
       "      <td>(주)에스***</td>\n",
       "      <td>S**</td>\n",
       "      <td>이**</td>\n",
       "      <td>3.000000</td>\n",
       "      <td>2021-06</td>\n",
       "      <td>15129.0</td>\n",
       "      <td>가방 및 기타 보호용 케이스 제조업</td>\n",
       "      <td>중소기업</td>\n",
       "      <td>...</td>\n",
       "      <td>20221104</td>\n",
       "      <td>NaN</td>\n",
       "      <td>NaN</td>\n",
       "      <td>15</td>\n",
       "      <td>9</td>\n",
       "      <td>2015.000000</td>\n",
       "      <td>8.000000</td>\n",
       "      <td>자립성장형</td>\n",
       "      <td>2020.0</td>\n",
       "      <td>2022.0</td>\n",
       "    </tr>\n",
       "    <tr>\n",
       "      <th>2324</th>\n",
       "      <td>3768702930</td>\n",
       "      <td>20220124</td>\n",
       "      <td>(주)엠비***</td>\n",
       "      <td>AMBITIONEM I***</td>\n",
       "      <td>김**</td>\n",
       "      <td>4.000000</td>\n",
       "      <td>2020-04</td>\n",
       "      <td>15129.0</td>\n",
       "      <td>가방 및 기타 보호용 케이스 제조업</td>\n",
       "      <td>중소기업</td>\n",
       "      <td>...</td>\n",
       "      <td>20221104</td>\n",
       "      <td>NaN</td>\n",
       "      <td>NaN</td>\n",
       "      <td>15</td>\n",
       "      <td>9</td>\n",
       "      <td>2018.000000</td>\n",
       "      <td>5.000000</td>\n",
       "      <td>창업형</td>\n",
       "      <td>2020.0</td>\n",
       "      <td>2022.0</td>\n",
       "    </tr>\n",
       "    <tr>\n",
       "      <th>3555</th>\n",
       "      <td>2208808665</td>\n",
       "      <td>20210703</td>\n",
       "      <td>(주)신발***</td>\n",
       "      <td>Shoes Research Institute Co., L***</td>\n",
       "      <td>박**</td>\n",
       "      <td>10.000000</td>\n",
       "      <td>2020-04</td>\n",
       "      <td>15219.0</td>\n",
       "      <td>기타 신발 제조업</td>\n",
       "      <td>중소기업</td>\n",
       "      <td>...</td>\n",
       "      <td>20221104</td>\n",
       "      <td>NaN</td>\n",
       "      <td>NaN</td>\n",
       "      <td>15</td>\n",
       "      <td>5</td>\n",
       "      <td>2014.000000</td>\n",
       "      <td>9.000000</td>\n",
       "      <td>자립성장형</td>\n",
       "      <td>2019.0</td>\n",
       "      <td>2021.0</td>\n",
       "    </tr>\n",
       "    <tr>\n",
       "      <th>4003</th>\n",
       "      <td>1342008942</td>\n",
       "      <td>20211129</td>\n",
       "      <td>화성이**</td>\n",
       "      <td>HWASEONG ENG ***</td>\n",
       "      <td>박**</td>\n",
       "      <td>9.000000</td>\n",
       "      <td>2008-03</td>\n",
       "      <td>15129.0</td>\n",
       "      <td>가방 및 기타 보호용 케이스 제조업</td>\n",
       "      <td>중소기업</td>\n",
       "      <td>...</td>\n",
       "      <td>20221104</td>\n",
       "      <td>NaN</td>\n",
       "      <td>NaN</td>\n",
       "      <td>15</td>\n",
       "      <td>6</td>\n",
       "      <td>2003.000000</td>\n",
       "      <td>20.000000</td>\n",
       "      <td>자립성장형</td>\n",
       "      <td>2018.0</td>\n",
       "      <td>2021.0</td>\n",
       "    </tr>\n",
       "    <tr>\n",
       "      <th>5594</th>\n",
       "      <td>1268106617</td>\n",
       "      <td>20210908</td>\n",
       "      <td>(주)***</td>\n",
       "      <td>Elcanto Co., L***</td>\n",
       "      <td>정**</td>\n",
       "      <td>84.000000</td>\n",
       "      <td>2020-12</td>\n",
       "      <td>15211.0</td>\n",
       "      <td>구두류 제조업</td>\n",
       "      <td>중소기업</td>\n",
       "      <td>...</td>\n",
       "      <td>20221104</td>\n",
       "      <td>NaN</td>\n",
       "      <td>NaN</td>\n",
       "      <td>15</td>\n",
       "      <td>1</td>\n",
       "      <td>1977.000000</td>\n",
       "      <td>46.000000</td>\n",
       "      <td>성숙형</td>\n",
       "      <td>2020.0</td>\n",
       "      <td>2021.0</td>\n",
       "    </tr>\n",
       "    <tr>\n",
       "      <th>6111</th>\n",
       "      <td>1138603531</td>\n",
       "      <td>20220215</td>\n",
       "      <td>(주)지***</td>\n",
       "      <td>GNS Park Co.,L***</td>\n",
       "      <td>박상철외***</td>\n",
       "      <td>5.000000</td>\n",
       "      <td>2021-05</td>\n",
       "      <td>15211.0</td>\n",
       "      <td>구두류 제조업</td>\n",
       "      <td>중소기업</td>\n",
       "      <td>...</td>\n",
       "      <td>20221104</td>\n",
       "      <td>NaN</td>\n",
       "      <td>NaN</td>\n",
       "      <td>15</td>\n",
       "      <td>8</td>\n",
       "      <td>2006.000000</td>\n",
       "      <td>17.000000</td>\n",
       "      <td>자립성장형</td>\n",
       "      <td>2020.0</td>\n",
       "      <td>2022.0</td>\n",
       "    </tr>\n",
       "    <tr>\n",
       "      <th>6442</th>\n",
       "      <td>1058707957</td>\n",
       "      <td>20220216</td>\n",
       "      <td>(주)스튜디오헤***</td>\n",
       "      <td>Studio Heydey I***</td>\n",
       "      <td>노**</td>\n",
       "      <td>12.000000</td>\n",
       "      <td>2021-12</td>\n",
       "      <td>15120.0</td>\n",
       "      <td>핸드백, 가방 및 기타 보호용 케이스 제조업</td>\n",
       "      <td>중소기업</td>\n",
       "      <td>...</td>\n",
       "      <td>20221104</td>\n",
       "      <td>NaN</td>\n",
       "      <td>NaN</td>\n",
       "      <td>15</td>\n",
       "      <td>5</td>\n",
       "      <td>2008.000000</td>\n",
       "      <td>15.000000</td>\n",
       "      <td>자립성장형</td>\n",
       "      <td>2020.0</td>\n",
       "      <td>2022.0</td>\n",
       "    </tr>\n",
       "  </tbody>\n",
       "</table>\n",
       "<p>13 rows × 41 columns</p>\n",
       "</div>"
      ],
      "text/plain": [
       "         사업자등록번호   데이터수집일자           기업명                               기업영문명  \\\n",
       "15    1050905695  20220107           파**                          PAICOM ***   \n",
       "68    2398806715  20211228         (주)**                                 NaN   \n",
       "165   2030204979  20211228          판코**                           Pan Ko***   \n",
       "1202  1052204614  20220303            대*                             Daes***   \n",
       "1384  8468602325  20220225  (주)조이앤마리오***            Joy&Mrio Korea Co., L***   \n",
       "1405  8651202214  20220225     스튜디오오브***                 Studio Of Jek T ***   \n",
       "1733  7328808707  20220215      (주)에스***                                 S**   \n",
       "2324  3768702930  20220124      (주)엠비***                     AMBITIONEM I***   \n",
       "3555  2208808665  20210703      (주)신발***  Shoes Research Institute Co., L***   \n",
       "4003  1342008942  20211129         화성이**                    HWASEONG ENG ***   \n",
       "5594  1268106617  20210908        (주)***                   Elcanto Co., L***   \n",
       "6111  1138603531  20220215       (주)지***                   GNS Park Co.,L***   \n",
       "6442  1058707957  20220216   (주)스튜디오헤***                  Studio Heydey I***   \n",
       "\n",
       "         대표자명       종업원수 종업원수기준년월   산업분류코드                  산업분류코드설명  기업규모  \\\n",
       "15        이**  16.198142      NaN       15                       NaN  중소기업   \n",
       "68         안*   3.000000  2020-04  15129.0       가방 및 기타 보호용 케이스 제조업  중소기업   \n",
       "165       박**  20.171137      NaN  15110.0               모피 및 가죽 제조업  중소기업   \n",
       "1202      박**  13.968341      NaN  15121.0              핸드백 및 지갑 제조업  중소기업   \n",
       "1384      신**   7.000000  2021-07  15219.0                 기타 신발 제조업  중소기업   \n",
       "1405      김**   1.000000  2016-05  15000.0           가죽, 가방 및 신발 제조업  중소기업   \n",
       "1733      이**   3.000000  2021-06  15129.0       가방 및 기타 보호용 케이스 제조업  중소기업   \n",
       "2324      김**   4.000000  2020-04  15129.0       가방 및 기타 보호용 케이스 제조업  중소기업   \n",
       "3555      박**  10.000000  2020-04  15219.0                 기타 신발 제조업  중소기업   \n",
       "4003      박**   9.000000  2008-03  15129.0       가방 및 기타 보호용 케이스 제조업  중소기업   \n",
       "5594      정**  84.000000  2020-12  15211.0                   구두류 제조업  중소기업   \n",
       "6111  박상철외***   5.000000  2021-05  15211.0                   구두류 제조업  중소기업   \n",
       "6442      노**  12.000000  2021-12  15120.0  핸드백, 가방 및 기타 보호용 케이스 제조업  중소기업   \n",
       "\n",
       "      ...   데이터생성일자 연계처리상태코드  연계처리일자 산업대분류 종업원그룹         설립년도         업력  \\\n",
       "15    ...  20221104      NaN     NaN    15     4  2009.000000  14.000000   \n",
       "68    ...  20221104      NaN     NaN    15     9  2019.000000   4.000000   \n",
       "165   ...  20221104      NaN     NaN    15     3  2007.184136  15.815864   \n",
       "1202  ...  20221104      NaN     NaN    15     5  2009.214840  13.785160   \n",
       "1384  ...  20221104      NaN     NaN    15     7  2015.000000   8.000000   \n",
       "1405  ...  20221104      NaN     NaN    15    10  2015.000000   8.000000   \n",
       "1733  ...  20221104      NaN     NaN    15     9  2015.000000   8.000000   \n",
       "2324  ...  20221104      NaN     NaN    15     9  2018.000000   5.000000   \n",
       "3555  ...  20221104      NaN     NaN    15     5  2014.000000   9.000000   \n",
       "4003  ...  20221104      NaN     NaN    15     6  2003.000000  20.000000   \n",
       "5594  ...  20221104      NaN     NaN    15     1  1977.000000  46.000000   \n",
       "6111  ...  20221104      NaN     NaN    15     8  2006.000000  17.000000   \n",
       "6442  ...  20221104      NaN     NaN    15     5  2008.000000  15.000000   \n",
       "\n",
       "       성장단계 재무제표기준년도 CRI기준년도  \n",
       "15      창업형      NaN  2021.0  \n",
       "68      창업형      NaN  2021.0  \n",
       "165   자립성장형   2020.0  2021.0  \n",
       "1202    창업형      NaN  2022.0  \n",
       "1384  자립성장형   2020.0  2022.0  \n",
       "1405    정체형   2019.0  2022.0  \n",
       "1733  자립성장형   2020.0  2022.0  \n",
       "2324    창업형   2020.0  2022.0  \n",
       "3555  자립성장형   2019.0  2021.0  \n",
       "4003  자립성장형   2018.0  2021.0  \n",
       "5594    성숙형   2020.0  2021.0  \n",
       "6111  자립성장형   2020.0  2022.0  \n",
       "6442  자립성장형   2020.0  2022.0  \n",
       "\n",
       "[13 rows x 41 columns]"
      ]
     },
     "execution_count": 55,
     "metadata": {},
     "output_type": "execute_result"
    }
   ],
   "source": [
    "Company_Information_d[Company_Information_d.산업대분류 == '15']"
   ]
  },
  {
   "cell_type": "code",
   "execution_count": 56,
   "id": "20c44e05",
   "metadata": {},
   "outputs": [
    {
     "data": {
      "text/plain": [
       "0.0"
      ]
     },
     "execution_count": 56,
     "metadata": {},
     "output_type": "execute_result"
    }
   ],
   "source": [
    "stats.chi2_contingency(pd.crosstab(Company_Information_d.CRI등급,Company_Information_d.산업대분류))[1]"
   ]
  },
  {
   "cell_type": "code",
   "execution_count": 57,
   "id": "bd902011-7f89-4838-b91b-adcece9c9ba0",
   "metadata": {},
   "outputs": [
    {
     "data": {
      "text/plain": [
       "0.0"
      ]
     },
     "execution_count": 57,
     "metadata": {},
     "output_type": "execute_result"
    }
   ],
   "source": [
    "stats.chi2_contingency(pd.crosstab(Company_Information_d.dropna(subset='종업원그룹').CRI등급,Company_Information_d.dropna(subset='종업원그룹').종업원그룹))[1]"
   ]
  },
  {
   "cell_type": "code",
   "execution_count": 58,
   "id": "70169cce-ad2f-4930-ae7a-3c025425b9b4",
   "metadata": {},
   "outputs": [
    {
     "data": {
      "text/plain": [
       "0.0"
      ]
     },
     "execution_count": 58,
     "metadata": {},
     "output_type": "execute_result"
    }
   ],
   "source": [
    "stats.chi2_contingency(pd.crosstab(Company_Information_d.dropna(subset='성장단계').CRI등급,Company_Information_d.dropna(subset='성장단계').성장단계))[1]"
   ]
  },
  {
   "cell_type": "code",
   "execution_count": 59,
   "id": "db1f2d7a-f951-4456-86f3-914d708b5f0d",
   "metadata": {},
   "outputs": [
    {
     "data": {
      "text/html": [
       "<div>\n",
       "<style scoped>\n",
       "    .dataframe tbody tr th:only-of-type {\n",
       "        vertical-align: middle;\n",
       "    }\n",
       "\n",
       "    .dataframe tbody tr th {\n",
       "        vertical-align: top;\n",
       "    }\n",
       "\n",
       "    .dataframe thead th {\n",
       "        text-align: right;\n",
       "    }\n",
       "</style>\n",
       "<table border=\"1\" class=\"dataframe\">\n",
       "  <thead>\n",
       "    <tr style=\"text-align: right;\">\n",
       "      <th>성장단계</th>\n",
       "      <th>성숙형</th>\n",
       "      <th>성장보육형</th>\n",
       "      <th>자립성장형</th>\n",
       "      <th>정체형</th>\n",
       "      <th>창업형</th>\n",
       "    </tr>\n",
       "    <tr>\n",
       "      <th>CRI등급</th>\n",
       "      <th></th>\n",
       "      <th></th>\n",
       "      <th></th>\n",
       "      <th></th>\n",
       "      <th></th>\n",
       "    </tr>\n",
       "  </thead>\n",
       "  <tbody>\n",
       "    <tr>\n",
       "      <th>A1</th>\n",
       "      <td>23</td>\n",
       "      <td>18</td>\n",
       "      <td>93</td>\n",
       "      <td>57</td>\n",
       "      <td>12</td>\n",
       "    </tr>\n",
       "    <tr>\n",
       "      <th>A2</th>\n",
       "      <td>65</td>\n",
       "      <td>33</td>\n",
       "      <td>277</td>\n",
       "      <td>54</td>\n",
       "      <td>48</td>\n",
       "    </tr>\n",
       "    <tr>\n",
       "      <th>A3</th>\n",
       "      <td>129</td>\n",
       "      <td>63</td>\n",
       "      <td>544</td>\n",
       "      <td>119</td>\n",
       "      <td>131</td>\n",
       "    </tr>\n",
       "    <tr>\n",
       "      <th>B1</th>\n",
       "      <td>93</td>\n",
       "      <td>92</td>\n",
       "      <td>711</td>\n",
       "      <td>142</td>\n",
       "      <td>169</td>\n",
       "    </tr>\n",
       "    <tr>\n",
       "      <th>B2</th>\n",
       "      <td>59</td>\n",
       "      <td>156</td>\n",
       "      <td>1098</td>\n",
       "      <td>226</td>\n",
       "      <td>199</td>\n",
       "    </tr>\n",
       "    <tr>\n",
       "      <th>B3</th>\n",
       "      <td>23</td>\n",
       "      <td>189</td>\n",
       "      <td>715</td>\n",
       "      <td>493</td>\n",
       "      <td>173</td>\n",
       "    </tr>\n",
       "    <tr>\n",
       "      <th>C1</th>\n",
       "      <td>8</td>\n",
       "      <td>60</td>\n",
       "      <td>310</td>\n",
       "      <td>267</td>\n",
       "      <td>204</td>\n",
       "    </tr>\n",
       "    <tr>\n",
       "      <th>C2</th>\n",
       "      <td>4</td>\n",
       "      <td>94</td>\n",
       "      <td>404</td>\n",
       "      <td>368</td>\n",
       "      <td>705</td>\n",
       "    </tr>\n",
       "    <tr>\n",
       "      <th>C3</th>\n",
       "      <td>8</td>\n",
       "      <td>74</td>\n",
       "      <td>310</td>\n",
       "      <td>280</td>\n",
       "      <td>407</td>\n",
       "    </tr>\n",
       "    <tr>\n",
       "      <th>D</th>\n",
       "      <td>16</td>\n",
       "      <td>13</td>\n",
       "      <td>29</td>\n",
       "      <td>30</td>\n",
       "      <td>42</td>\n",
       "    </tr>\n",
       "    <tr>\n",
       "      <th>NG</th>\n",
       "      <td>7</td>\n",
       "      <td>2</td>\n",
       "      <td>14</td>\n",
       "      <td>2</td>\n",
       "      <td>12</td>\n",
       "    </tr>\n",
       "  </tbody>\n",
       "</table>\n",
       "</div>"
      ],
      "text/plain": [
       "성장단계   성숙형  성장보육형  자립성장형  정체형  창업형\n",
       "CRI등급                             \n",
       "A1      23     18     93   57   12\n",
       "A2      65     33    277   54   48\n",
       "A3     129     63    544  119  131\n",
       "B1      93     92    711  142  169\n",
       "B2      59    156   1098  226  199\n",
       "B3      23    189    715  493  173\n",
       "C1       8     60    310  267  204\n",
       "C2       4     94    404  368  705\n",
       "C3       8     74    310  280  407\n",
       "D       16     13     29   30   42\n",
       "NG       7      2     14    2   12"
      ]
     },
     "execution_count": 59,
     "metadata": {},
     "output_type": "execute_result"
    }
   ],
   "source": [
    "pd.crosstab(Company_Information_d.dropna(subset='성장단계').CRI등급,Company_Information_d.dropna(subset='성장단계').성장단계)"
   ]
  },
  {
   "cell_type": "markdown",
   "id": "3b917f9f-8db7-47ea-afdd-6d979a3642ad",
   "metadata": {},
   "source": [
    "#### ✅ **CRI등급간 평균의 차이가 있음** : 매출액, 부채총계금액, 자본총계금액, 자산총계금액"
   ]
  },
  {
   "cell_type": "code",
   "execution_count": 60,
   "id": "c5f0a984",
   "metadata": {},
   "outputs": [
    {
     "data": {
      "text/plain": [
       "NormaltestResult(statistic=30168.66331980833, pvalue=0.0)"
      ]
     },
     "execution_count": 60,
     "metadata": {},
     "output_type": "execute_result"
    }
   ],
   "source": [
    "stats.normaltest(Company_Information_d.dropna(subset='자산총계금액').자산총계금액)"
   ]
  },
  {
   "cell_type": "code",
   "execution_count": 61,
   "id": "395e3f4a",
   "metadata": {},
   "outputs": [
    {
     "data": {
      "text/plain": [
       "KruskalResult(statistic=641.6551877398156, pvalue=9.388852492055215e-139)"
      ]
     },
     "execution_count": 61,
     "metadata": {},
     "output_type": "execute_result"
    }
   ],
   "source": [
    "stats.kruskal(Company_Information_d.dropna(subset='자산총계금액').loc[Company_Information_d.CRI등급.isin(['A1','A2','A3'])].자산총계금액,\n",
    "Company_Information_d.dropna(subset='자산총계금액').loc[Company_Information_d.CRI등급.isin(['B1','B2','B3'])].자산총계금액,\n",
    "Company_Information_d.dropna(subset='자산총계금액').loc[Company_Information_d.CRI등급.isin(['C1','C2','C3'])].자산총계금액,\n",
    "Company_Information_d.dropna(subset='자산총계금액').loc[Company_Information_d.CRI등급.isin(['D'])].자산총계금액)"
   ]
  },
  {
   "cell_type": "code",
   "execution_count": 62,
   "id": "0bb2be9c-846e-4076-8658-a4648ef2def5",
   "metadata": {},
   "outputs": [
    {
     "name": "stdout",
     "output_type": "stream",
     "text": [
      "586959267.12\n",
      "9778218.831759864\n",
      "5822144.530032467\n",
      "422051939.6043956\n"
     ]
    }
   ],
   "source": [
    "print(Company_Information_d.dropna(subset='자산총계금액').loc[Company_Information_d.CRI등급.isin(['A1','A2','A3'])].자산총계금액.mean())\n",
    "print(Company_Information_d.dropna(subset='자산총계금액').loc[Company_Information_d.CRI등급.isin(['B1','B2','B3'])].자산총계금액.mean())\n",
    "print(Company_Information_d.dropna(subset='자산총계금액').loc[Company_Information_d.CRI등급.isin(['C1','C2','C3'])].자산총계금액.mean())\n",
    "print(Company_Information_d.dropna(subset='자산총계금액').loc[Company_Information_d.CRI등급.isin(['D'])].자산총계금액.mean())"
   ]
  },
  {
   "cell_type": "code",
   "execution_count": 63,
   "id": "ec7d9de5-55ae-4a24-a8b1-5165afddd8e6",
   "metadata": {},
   "outputs": [
    {
     "data": {
      "text/plain": [
       "KruskalResult(statistic=862.1544482946309, pvalue=1.4314485235750096e-186)"
      ]
     },
     "execution_count": 63,
     "metadata": {},
     "output_type": "execute_result"
    }
   ],
   "source": [
    "stats.kruskal(Company_Information_d.dropna(subset='매출액').loc[Company_Information_d.CRI등급.isin(['A1','A2','A3'])].매출액,\n",
    "Company_Information_d.dropna(subset='매출액').loc[Company_Information_d.CRI등급.isin(['B1','B2','B3'])].매출액,\n",
    "Company_Information_d.dropna(subset='매출액').loc[Company_Information_d.CRI등급.isin(['C1','C2','C3'])].매출액,\n",
    "Company_Information_d.dropna(subset='매출액').loc[Company_Information_d.CRI등급.isin(['D'])].매출액)"
   ]
  },
  {
   "cell_type": "code",
   "execution_count": 64,
   "id": "f90671a3-282a-47de-a48a-923715239aa8",
   "metadata": {},
   "outputs": [
    {
     "name": "stdout",
     "output_type": "stream",
     "text": [
      "151454542.3199733\n",
      "11103883.586307356\n",
      "4447606.207382829\n",
      "101782629.91208792\n"
     ]
    }
   ],
   "source": [
    "print(Company_Information_d.dropna(subset='매출액').loc[Company_Information_d.CRI등급.isin(['A1','A2','A3'])].매출액.mean())\n",
    "print(Company_Information_d.dropna(subset='매출액').loc[Company_Information_d.CRI등급.isin(['B1','B2','B3'])].매출액.mean())\n",
    "print(Company_Information_d.dropna(subset='매출액').loc[Company_Information_d.CRI등급.isin(['C1','C2','C3'])].매출액.mean())\n",
    "print(Company_Information_d.dropna(subset='매출액').loc[Company_Information_d.CRI등급.isin(['D'])].매출액.mean())"
   ]
  },
  {
   "cell_type": "code",
   "execution_count": 65,
   "id": "c69c5e92-9101-4918-9590-276b545f9c34",
   "metadata": {},
   "outputs": [
    {
     "data": {
      "text/plain": [
       "KruskalResult(statistic=1632.6039207753972, pvalue=0.0)"
      ]
     },
     "execution_count": 65,
     "metadata": {},
     "output_type": "execute_result"
    }
   ],
   "source": [
    "stats.kruskal(Company_Information_d.dropna(subset='자본총계금액').loc[Company_Information_d.CRI등급.isin(['A1','A2','A3'])].자본총계금액,\n",
    "Company_Information_d.dropna(subset='자본총계금액').loc[Company_Information_d.CRI등급.isin(['B1','B2','B3'])].자본총계금액,\n",
    "Company_Information_d.dropna(subset='자본총계금액').loc[Company_Information_d.CRI등급.isin(['C1','C2','C3'])].자본총계금액,\n",
    "Company_Information_d.dropna(subset='자본총계금액').loc[Company_Information_d.CRI등급.isin(['D'])].자본총계금액)"
   ]
  },
  {
   "cell_type": "code",
   "execution_count": 66,
   "id": "74b49678-c203-4d99-9b3b-e7bb9199bc09",
   "metadata": {},
   "outputs": [
    {
     "name": "stdout",
     "output_type": "stream",
     "text": [
      "128373556.08933334\n",
      "4700607.966836117\n",
      "-160459.6896831844\n",
      "50810547.20879121\n"
     ]
    }
   ],
   "source": [
    "print(Company_Information_d.dropna(subset='자본총계금액').loc[Company_Information_d.CRI등급.isin(['A1','A2','A3'])].자본총계금액.mean())\n",
    "print(Company_Information_d.dropna(subset='자본총계금액').loc[Company_Information_d.CRI등급.isin(['B1','B2','B3'])].자본총계금액.mean())\n",
    "print(Company_Information_d.dropna(subset='자본총계금액').loc[Company_Information_d.CRI등급.isin(['C1','C2','C3'])].자본총계금액.mean())\n",
    "print(Company_Information_d.dropna(subset='자본총계금액').loc[Company_Information_d.CRI등급.isin(['D'])].자본총계금액.mean())"
   ]
  },
  {
   "cell_type": "code",
   "execution_count": 67,
   "id": "b7d82310-42d7-4086-98db-75e6212d6e15",
   "metadata": {},
   "outputs": [
    {
     "data": {
      "text/plain": [
       "KruskalResult(statistic=60.93935512435657, pvalue=3.702841792246871e-13)"
      ]
     },
     "execution_count": 67,
     "metadata": {},
     "output_type": "execute_result"
    }
   ],
   "source": [
    "stats.kruskal(Company_Information_d.dropna(subset='부채총계금액').loc[Company_Information_d.CRI등급.isin(['A1','A2','A3'])].부채총계금액,\n",
    "Company_Information_d.dropna(subset='부채총계금액').loc[Company_Information_d.CRI등급.isin(['B1','B2','B3'])].부채총계금액,\n",
    "Company_Information_d.dropna(subset='부채총계금액').loc[Company_Information_d.CRI등급.isin(['C1','C2','C3'])].부채총계금액,\n",
    "Company_Information_d.dropna(subset='부채총계금액').loc[Company_Information_d.CRI등급.isin(['D'])].부채총계금액)"
   ]
  },
  {
   "cell_type": "code",
   "execution_count": 68,
   "id": "81156d2a-7ec8-497b-a1c0-f4f850a50b8c",
   "metadata": {},
   "outputs": [
    {
     "name": "stdout",
     "output_type": "stream",
     "text": [
      "458585711.0173333\n",
      "5077609.89808763\n",
      "5994637.598617324\n",
      "371241392.3296703\n"
     ]
    }
   ],
   "source": [
    "print(Company_Information_d.dropna(subset='부채총계금액').loc[Company_Information_d.CRI등급.isin(['A1','A2','A3'])].부채총계금액.mean())\n",
    "print(Company_Information_d.dropna(subset='부채총계금액').loc[Company_Information_d.CRI등급.isin(['B1','B2','B3'])].부채총계금액.mean())\n",
    "print(Company_Information_d.dropna(subset='부채총계금액').loc[Company_Information_d.CRI등급.isin(['C1','C2','C3'])].부채총계금액.mean())\n",
    "print(Company_Information_d.dropna(subset='부채총계금액').loc[Company_Information_d.CRI등급.isin(['D'])].부채총계금액.mean())"
   ]
  },
  {
   "cell_type": "markdown",
   "id": "b9efc8c3",
   "metadata": {},
   "source": [
    "- ##### **없음** : 전화번호, 주소, 이메일주소"
   ]
  },
  {
   "cell_type": "code",
   "execution_count": 69,
   "id": "4ea4ba7b",
   "metadata": {},
   "outputs": [
    {
     "data": {
      "text/plain": [
       "0.5601550572818149"
      ]
     },
     "execution_count": 69,
     "metadata": {},
     "output_type": "execute_result"
    }
   ],
   "source": [
    "stats.chi2_contingency(pd.crosstab(Company_Information_d.dropna(subset='전화번호').CRI등급,Company_Information_d.dropna(subset='전화번호').전화번호))[1]"
   ]
  },
  {
   "cell_type": "code",
   "execution_count": 70,
   "id": "28ba734b",
   "metadata": {},
   "outputs": [
    {
     "data": {
      "text/plain": [
       "0.9999997671875888"
      ]
     },
     "execution_count": 70,
     "metadata": {},
     "output_type": "execute_result"
    }
   ],
   "source": [
    "stats.chi2_contingency(pd.crosstab(Company_Information_d.dropna(subset='주소').CRI등급,Company_Information_d.dropna(subset='주소').주소))[1]"
   ]
  },
  {
   "cell_type": "code",
   "execution_count": 71,
   "id": "390ccb54",
   "metadata": {},
   "outputs": [
    {
     "data": {
      "text/plain": [
       "0.40727379523881774"
      ]
     },
     "execution_count": 71,
     "metadata": {},
     "output_type": "execute_result"
    }
   ],
   "source": [
    "stats.chi2_contingency(pd.crosstab(Company_Information_d.dropna(subset='이메일주소').CRI등급,Company_Information_d.dropna(subset='이메일주소').이메일주소))[1]"
   ]
  },
  {
   "cell_type": "markdown",
   "id": "d0785b2c",
   "metadata": {},
   "source": [
    "#### ✅**CRI를 제외한 범주형 변수끼리의 상관분석**"
   ]
  },
  {
   "cell_type": "markdown",
   "id": "842aa752",
   "metadata": {},
   "source": [
    "- ##### 기업명, 기업규모는 상관성이 ***있음***"
   ]
  },
  {
   "cell_type": "code",
   "execution_count": 72,
   "id": "b0cd18b4",
   "metadata": {},
   "outputs": [
    {
     "data": {
      "text/plain": [
       "0.0"
      ]
     },
     "execution_count": 72,
     "metadata": {},
     "output_type": "execute_result"
    }
   ],
   "source": [
    "stats.chi2_contingency(pd.crosstab(Company_Information_d.기업명,Company_Information_d.기업규모))[1]"
   ]
  },
  {
   "cell_type": "markdown",
   "id": "3070c9b7",
   "metadata": {},
   "source": [
    "- ##### 기업명, 전화번호는 상관성이 ***없음***"
   ]
  },
  {
   "cell_type": "code",
   "execution_count": 73,
   "id": "8587ef24",
   "metadata": {},
   "outputs": [
    {
     "data": {
      "text/plain": [
       "0.46415133747472687"
      ]
     },
     "execution_count": 73,
     "metadata": {},
     "output_type": "execute_result"
    }
   ],
   "source": [
    "stats.chi2_contingency(pd.crosstab(Company_Information_d.dropna(subset='전화번호').기업명,Company_Information_d.dropna(subset='전화번호').전화번호))[1]"
   ]
  },
  {
   "cell_type": "markdown",
   "id": "83b1ac3d",
   "metadata": {},
   "source": [
    "- ##### 기업규모, 기업형태는 상관성이 ***있음***"
   ]
  },
  {
   "cell_type": "code",
   "execution_count": 74,
   "id": "7340ba12",
   "metadata": {},
   "outputs": [
    {
     "data": {
      "text/plain": [
       "0.0"
      ]
     },
     "execution_count": 74,
     "metadata": {},
     "output_type": "execute_result"
    }
   ],
   "source": [
    "stats.chi2_contingency(pd.crosstab(Company_Information_d.기업규모,Company_Information_d.기업형태))[1]"
   ]
  },
  {
   "cell_type": "markdown",
   "id": "fc6c81b7",
   "metadata": {},
   "source": [
    "- ##### 기업규모, 주소 상관성이 ***없음***"
   ]
  },
  {
   "cell_type": "code",
   "execution_count": 75,
   "id": "b1cd7d51",
   "metadata": {},
   "outputs": [
    {
     "data": {
      "text/plain": [
       "1.0"
      ]
     },
     "execution_count": 75,
     "metadata": {},
     "output_type": "execute_result"
    }
   ],
   "source": [
    "stats.chi2_contingency(pd.crosstab(Company_Information_d.dropna(subset='주소').기업규모,Company_Information_d.dropna(subset='주소').주소))[1]"
   ]
  },
  {
   "cell_type": "markdown",
   "id": "19380061",
   "metadata": {},
   "source": [
    "- ##### 기업규모, 휴폐업구분 상관성이 ***없음***"
   ]
  },
  {
   "cell_type": "code",
   "execution_count": 76,
   "id": "7c54f893",
   "metadata": {},
   "outputs": [
    {
     "data": {
      "text/plain": [
       "0.27004558221152847"
      ]
     },
     "execution_count": 76,
     "metadata": {},
     "output_type": "execute_result"
    }
   ],
   "source": [
    "stats.chi2_contingency(pd.crosstab(Company_Information_d.dropna(subset='휴폐업구분').기업규모,Company_Information_d.dropna(subset='휴폐업구분').휴폐업구분))[1]"
   ]
  },
  {
   "cell_type": "markdown",
   "id": "66b9d8da",
   "metadata": {},
   "source": [
    "- ##### 기업규모, 설립일이 상관성이 ***있음***"
   ]
  },
  {
   "cell_type": "code",
   "execution_count": 77,
   "id": "4c8b85d2",
   "metadata": {},
   "outputs": [
    {
     "data": {
      "text/plain": [
       "6.5504384385023e-92"
      ]
     },
     "execution_count": 77,
     "metadata": {},
     "output_type": "execute_result"
    }
   ],
   "source": [
    "stats.chi2_contingency(pd.crosstab(Company_Information_d.dropna(subset='설립일').기업규모,Company_Information_d.dropna(subset='설립일').설립일))[1]"
   ]
  },
  {
   "cell_type": "markdown",
   "id": "e4efcbe4",
   "metadata": {},
   "source": [
    "- ##### 기업규모, 종업원수가 상관성이 ***있음***"
   ]
  },
  {
   "cell_type": "code",
   "execution_count": 78,
   "id": "ad5b0d13",
   "metadata": {},
   "outputs": [
    {
     "data": {
      "text/plain": [
       "0.0"
      ]
     },
     "execution_count": 78,
     "metadata": {},
     "output_type": "execute_result"
    }
   ],
   "source": [
    "stats.chi2_contingency(pd.crosstab(Company_Information_d.기업규모,Company_Information_d.종업원수))[1]"
   ]
  },
  {
   "cell_type": "code",
   "execution_count": 79,
   "id": "c5f992f9",
   "metadata": {},
   "outputs": [
    {
     "data": {
      "text/plain": [
       "0.0"
      ]
     },
     "execution_count": 79,
     "metadata": {},
     "output_type": "execute_result"
    }
   ],
   "source": [
    "stats.chi2_contingency(pd.crosstab(Company_Information_d.기업규모,Company_Information_d.산업대분류))[1]"
   ]
  },
  {
   "cell_type": "code",
   "execution_count": 80,
   "id": "0dcaab15-2cbf-4281-97fa-19d654899942",
   "metadata": {},
   "outputs": [
    {
     "data": {
      "text/plain": [
       "0.0"
      ]
     },
     "execution_count": 80,
     "metadata": {},
     "output_type": "execute_result"
    }
   ],
   "source": [
    "stats.chi2_contingency(pd.crosstab(Company_Information_d.기업규모,Company_Information_d.성장단계))[1]"
   ]
  },
  {
   "cell_type": "markdown",
   "id": "11f834bb",
   "metadata": {},
   "source": [
    "#### ✅**연속헝 -범주형 변수끼리의 상관분석**"
   ]
  },
  {
   "cell_type": "markdown",
   "id": "c95b52ee",
   "metadata": {},
   "source": [
    "- ##### 종업원그룹마다 자산총계금액의 차이가 ***있음***"
   ]
  },
  {
   "cell_type": "code",
   "execution_count": 81,
   "id": "e117d7e4-869f-4989-9301-b993757811a9",
   "metadata": {},
   "outputs": [
    {
     "data": {
      "text/plain": [
       "0       1\n",
       "1       8\n",
       "2       5\n",
       "3       3\n",
       "4       9\n",
       "       ..\n",
       "9869    1\n",
       "9870    7\n",
       "9871    9\n",
       "9872    3\n",
       "9873    8\n",
       "Name: 종업원그룹, Length: 9874, dtype: int64"
      ]
     },
     "execution_count": 81,
     "metadata": {},
     "output_type": "execute_result"
    }
   ],
   "source": [
    "Company_Information_d.종업원그룹"
   ]
  },
  {
   "cell_type": "code",
   "execution_count": 82,
   "id": "cd83398c",
   "metadata": {},
   "outputs": [
    {
     "data": {
      "text/plain": [
       "KruskalResult(statistic=3346.3041643327037, pvalue=0.0)"
      ]
     },
     "execution_count": 82,
     "metadata": {},
     "output_type": "execute_result"
    }
   ],
   "source": [
    "a = Company_Information_d.dropna(subset='자산총계금액')\n",
    "stats.kruskal(a.loc[Company_Information_d.종업원그룹 == 1].자산총계금액,\n",
    "a.loc[Company_Information_d.종업원그룹 == 2].자산총계금액,\n",
    "a.loc[Company_Information_d.종업원그룹 == 3].자산총계금액,\n",
    "a.loc[Company_Information_d.종업원그룹 == 4].자산총계금액,\n",
    "a.loc[Company_Information_d.종업원그룹 == 5].자산총계금액,\n",
    "a.loc[Company_Information_d.종업원그룹 == 6].자산총계금액,\n",
    "a.loc[Company_Information_d.종업원그룹 == 7].자산총계금액,\n",
    "a.loc[Company_Information_d.종업원그룹 == 8].자산총계금액,\n",
    "a.loc[Company_Information_d.종업원그룹 == 9].자산총계금액,\n",
    "a.loc[Company_Information_d.종업원그룹 == 10].자산총계금액)"
   ]
  },
  {
   "cell_type": "markdown",
   "id": "1cdb0ece",
   "metadata": {},
   "source": [
    "- ##### 종업원그룹마다 매출액의 차이가 ***있음***"
   ]
  },
  {
   "cell_type": "code",
   "execution_count": 83,
   "id": "c8bde888",
   "metadata": {},
   "outputs": [
    {
     "data": {
      "text/plain": [
       "KruskalResult(statistic=3688.063094107311, pvalue=0.0)"
      ]
     },
     "execution_count": 83,
     "metadata": {},
     "output_type": "execute_result"
    }
   ],
   "source": [
    "stats.kruskal(Company_Information_d.dropna(subset='매출액').loc[Company_Information_d.종업원그룹 == 1].매출액,\n",
    "Company_Information_d.dropna(subset='매출액').loc[Company_Information_d.종업원그룹 == 2].매출액,\n",
    "Company_Information_d.dropna(subset='매출액').loc[Company_Information_d.종업원그룹 == 3].매출액,\n",
    "Company_Information_d.dropna(subset='매출액').loc[Company_Information_d.종업원그룹 == 4].매출액,\n",
    "Company_Information_d.dropna(subset='매출액').loc[Company_Information_d.종업원그룹 == 5].매출액,\n",
    "Company_Information_d.dropna(subset='매출액').loc[Company_Information_d.종업원그룹 == 6].매출액,\n",
    "Company_Information_d.dropna(subset='매출액').loc[Company_Information_d.종업원그룹 == 7].매출액,\n",
    "Company_Information_d.dropna(subset='매출액').loc[Company_Information_d.종업원그룹 == 8].매출액,\n",
    "Company_Information_d.dropna(subset='매출액').loc[Company_Information_d.종업원그룹 == 9].매출액,\n",
    "Company_Information_d.dropna(subset='매출액').loc[Company_Information_d.종업원그룹 == 10].매출액)"
   ]
  },
  {
   "cell_type": "markdown",
   "id": "6862552b",
   "metadata": {},
   "source": [
    "- ##### 산업대분류마다 자산총계금액의 차이가 ***있음***"
   ]
  },
  {
   "cell_type": "code",
   "execution_count": 84,
   "id": "8bbb12cb",
   "metadata": {},
   "outputs": [
    {
     "data": {
      "text/plain": [
       "array(['96', '46', '50', '73', '68', '75', '59', '56', '41', '63', '71',\n",
       "       '15', '47', '26', '58', '94', '62', '13', '85', '42', '20', '10',\n",
       "       '28', '22', '70', '61', '95', '60', '29', '45', '14', '52', '21',\n",
       "       '33', '34', '86', '25', '31', '74', '23', '76', '27', '24', '91',\n",
       "       '66', '72', '18', '90', '11', '35', '39', '87', '30', '64', '55',\n",
       "       '17', '49', '38', '84', '65', '16', '32'], dtype=object)"
      ]
     },
     "execution_count": 84,
     "metadata": {},
     "output_type": "execute_result"
    }
   ],
   "source": [
    "Company_Information_d.산업대분류.unique()"
   ]
  },
  {
   "cell_type": "code",
   "execution_count": 85,
   "id": "a97a3459",
   "metadata": {},
   "outputs": [
    {
     "data": {
      "text/plain": [
       "KruskalResult(statistic=417.9711081518081, pvalue=1.9988908213296507e-84)"
      ]
     },
     "execution_count": 85,
     "metadata": {},
     "output_type": "execute_result"
    }
   ],
   "source": [
    "c = Company_Information_d.dropna(subset='자산총계금액').loc[Company_Information_d.산업대분류.isin(['42','62','58','41','46','26','47','63','59','71'])]\n",
    "stats.kruskal(c.loc[Company_Information_d.산업대분류 == '42'].자산총계금액,\n",
    "c.loc[Company_Information_d.산업대분류 == '62'].자산총계금액,\n",
    "c.loc[Company_Information_d.산업대분류 == '58'].자산총계금액,\n",
    "c.loc[Company_Information_d.산업대분류 == '41'].자산총계금액,\n",
    "c.loc[Company_Information_d.산업대분류 == '46'].자산총계금액,\n",
    "c.loc[Company_Information_d.산업대분류 == '26'].자산총계금액,\n",
    "c.loc[Company_Information_d.산업대분류 == '47'].자산총계금액,\n",
    "c.loc[Company_Information_d.산업대분류 == '63'].자산총계금액,\n",
    "c.loc[Company_Information_d.산업대분류 == '59'].자산총계금액,\n",
    "c.loc[Company_Information_d.산업대분류 == '71'].자산총계금액\n",
    ")"
   ]
  },
  {
   "cell_type": "markdown",
   "id": "7a1f6dcb-05ed-4fac-afba-c365fcaad1a8",
   "metadata": {},
   "source": [
    "- ##### 성장단계마다 자산총계금액의 차이가 ***있음***"
   ]
  },
  {
   "cell_type": "code",
   "execution_count": 86,
   "id": "337a4920-44ad-4441-9d7f-6ef7c9e2d9a3",
   "metadata": {},
   "outputs": [
    {
     "data": {
      "text/plain": [
       "자립성장형    4505\n",
       "창업형      2102\n",
       "정체형      2038\n",
       "성장보육형     794\n",
       "성숙형       435\n",
       "Name: 성장단계, dtype: int64"
      ]
     },
     "execution_count": 86,
     "metadata": {},
     "output_type": "execute_result"
    }
   ],
   "source": [
    "Company_Information_d.성장단계.value_counts()"
   ]
  },
  {
   "cell_type": "code",
   "execution_count": 87,
   "id": "89bf58b8-1320-4ba9-b6ca-f29ea4d46b48",
   "metadata": {},
   "outputs": [
    {
     "data": {
      "text/plain": [
       "KruskalResult(statistic=3883.6542919933954, pvalue=0.0)"
      ]
     },
     "execution_count": 87,
     "metadata": {},
     "output_type": "execute_result"
    }
   ],
   "source": [
    "a = Company_Information_d.dropna(subset='자산총계금액')\n",
    "stats.kruskal(a.loc[Company_Information_d.성장단계 == '자립성장형'].자산총계금액,\n",
    "a.loc[Company_Information_d.성장단계 == '창업형'].자산총계금액,\n",
    "a.loc[Company_Information_d.성장단계 == '정체형'].자산총계금액,\n",
    "a.loc[Company_Information_d.성장단계 == '성장보육형'].자산총계금액,\n",
    "a.loc[Company_Information_d.성장단계 == '성숙형'].자산총계금액)"
   ]
  },
  {
   "cell_type": "markdown",
   "id": "34bcfbdb-49fd-4be6-9d29-857a809b370d",
   "metadata": {},
   "source": [
    "- ##### 성장단계마다 매출액의 차이가 ***있음***"
   ]
  },
  {
   "cell_type": "code",
   "execution_count": 88,
   "id": "16dbb4a9-82c2-4fb6-890f-c29a255c782f",
   "metadata": {},
   "outputs": [
    {
     "data": {
      "text/plain": [
       "KruskalResult(statistic=5710.512341358424, pvalue=0.0)"
      ]
     },
     "execution_count": 88,
     "metadata": {},
     "output_type": "execute_result"
    }
   ],
   "source": [
    "a = Company_Information_d.dropna(subset='매출액')\n",
    "stats.kruskal(a.loc[Company_Information_d.성장단계 == '자립성장형'].매출액,\n",
    "a.loc[Company_Information_d.성장단계 == '창업형'].매출액,\n",
    "a.loc[Company_Information_d.성장단계 == '정체형'].매출액,\n",
    "a.loc[Company_Information_d.성장단계 == '성장보육형'].매출액,\n",
    "a.loc[Company_Information_d.성장단계 == '성숙형'].매출액)"
   ]
  },
  {
   "cell_type": "markdown",
   "id": "b117990b",
   "metadata": {},
   "source": [
    "#### ✅**머신러닝을 돌릴 때에 필요없는 컬럼 지우고 결측치 처리**\n",
    "- ##### 삭제 : 데이터수집일자, 데이터생성일자, 기업명, 기업영문명, 대표자명, 업태명, 이메일주소, 전화번호, 팩스전화번호, 우편번호, 주소, 상세주보, 휴폐업구분, 휴폐업수정일, 작업구분코드, 연계처리상태코드, 연계처리일자\n",
    "- ##### **생성**\n",
    "   - **결측치 처리 필요 없음 : 사업자등록번호, 기업규모, 기업형태, CRI등급, 성장단계**\n",
    "   - **결측치 처리 필요 : 종업원수, 산업분류코드, 매출액, 영업이익, 자본총계금액, 부채총계금액, 자산총계금액**\n",
    "\n",
    "<br>\n",
    "\n",
    "- ##### **날짜 : 종업원수기준년월, 설립일, 상태발생일자, 결산일자, CRI기준일**\n",
    "- ##### **남은 컬럼 : '사업자등록번호','종업원수','산업분류코드','기업규모','기업형태','주소','CRI등급','매출액', '영업이익', '자본총계금액', '부채총계금액', '자산총계금액'**"
   ]
  },
  {
   "cell_type": "code",
   "execution_count": 89,
   "id": "81e906d9",
   "metadata": {},
   "outputs": [
    {
     "data": {
      "text/plain": [
       "사업자등록번호        0\n",
       "데이터수집일자        0\n",
       "기업명            0\n",
       "기업영문명        882\n",
       "대표자명           0\n",
       "종업원수           0\n",
       "종업원수기준년월     658\n",
       "산업분류코드         0\n",
       "산업분류코드설명      25\n",
       "기업규모           0\n",
       "기업형태           0\n",
       "업태명         1222\n",
       "설립일          462\n",
       "이메일주소       5799\n",
       "전화번호         547\n",
       "팩스전화번호      2006\n",
       "우편번호         870\n",
       "주소            84\n",
       "상세주보         724\n",
       "휴폐업구분       9640\n",
       "상태발생일자      9744\n",
       "휴폐업수정일      9640\n",
       "CRI등급          0\n",
       "CRI기준일       633\n",
       "결산일자        1656\n",
       "매출액         1729\n",
       "영업이익        1665\n",
       "자본총계금액      1660\n",
       "부채총계금액      1663\n",
       "자산총계금액      1658\n",
       "작업구분코드         0\n",
       "데이터생성일자        0\n",
       "연계처리상태코드    9874\n",
       "연계처리일자      9874\n",
       "산업대분류          0\n",
       "종업원그룹          0\n",
       "설립년도           0\n",
       "업력             0\n",
       "성장단계           0\n",
       "재무제표기준년도    1656\n",
       "CRI기준년도      633\n",
       "dtype: int64"
      ]
     },
     "execution_count": 89,
     "metadata": {},
     "output_type": "execute_result"
    }
   ],
   "source": [
    "Company_Information_d.isnull().sum()"
   ]
  },
  {
   "cell_type": "code",
   "execution_count": 90,
   "id": "885175a6",
   "metadata": {},
   "outputs": [
    {
     "data": {
      "text/plain": [
       "Index(['사업자등록번호', '데이터수집일자', '기업명', '기업영문명', '대표자명', '종업원수', '종업원수기준년월',\n",
       "       '산업분류코드', '산업분류코드설명', '기업규모', '기업형태', '업태명', '설립일', '이메일주소', '전화번호',\n",
       "       '팩스전화번호', '우편번호', '주소', '상세주보', '휴폐업구분', '상태발생일자', '휴폐업수정일', 'CRI등급',\n",
       "       'CRI기준일', '결산일자', '매출액', '영업이익', '자본총계금액', '부채총계금액', '자산총계금액', '작업구분코드',\n",
       "       '데이터생성일자', '연계처리상태코드', '연계처리일자', '산업대분류', '종업원그룹', '설립년도', '업력', '성장단계',\n",
       "       '재무제표기준년도', 'CRI기준년도'],\n",
       "      dtype='object')"
      ]
     },
     "execution_count": 90,
     "metadata": {},
     "output_type": "execute_result"
    }
   ],
   "source": [
    "Company_Information_d.columns"
   ]
  },
  {
   "cell_type": "code",
   "execution_count": 91,
   "id": "0c3421af-a222-405e-9334-05288b2dd427",
   "metadata": {},
   "outputs": [
    {
     "data": {
      "text/plain": [
       "9874"
      ]
     },
     "execution_count": 91,
     "metadata": {},
     "output_type": "execute_result"
    }
   ],
   "source": [
    "len(Company_Information_d.사업자등록번호.unique())"
   ]
  },
  {
   "cell_type": "code",
   "execution_count": 92,
   "id": "4d0ee55c",
   "metadata": {},
   "outputs": [
    {
     "data": {
      "text/plain": [
       "사업자등록번호        0\n",
       "데이터수집일자        0\n",
       "기업명            0\n",
       "기업영문명        882\n",
       "대표자명           0\n",
       "종업원수           0\n",
       "종업원수기준년월     658\n",
       "산업분류코드         0\n",
       "산업분류코드설명      25\n",
       "기업규모           0\n",
       "기업형태           0\n",
       "업태명         1222\n",
       "설립일          462\n",
       "이메일주소       5799\n",
       "전화번호         547\n",
       "팩스전화번호      2006\n",
       "우편번호         870\n",
       "주소            84\n",
       "상세주보         724\n",
       "휴폐업구분       9640\n",
       "상태발생일자      9744\n",
       "휴폐업수정일      9640\n",
       "CRI등급          0\n",
       "CRI기준일       633\n",
       "결산일자        1656\n",
       "매출액         1729\n",
       "영업이익        1665\n",
       "자본총계금액      1660\n",
       "부채총계금액      1663\n",
       "자산총계금액      1658\n",
       "작업구분코드         0\n",
       "데이터생성일자        0\n",
       "연계처리상태코드    9874\n",
       "연계처리일자      9874\n",
       "산업대분류          0\n",
       "종업원그룹          0\n",
       "설립년도           0\n",
       "업력             0\n",
       "성장단계           0\n",
       "재무제표기준년도    1656\n",
       "CRI기준년도      633\n",
       "dtype: int64"
      ]
     },
     "execution_count": 92,
     "metadata": {},
     "output_type": "execute_result"
    }
   ],
   "source": [
    "Company_Information_d.isnull().sum()"
   ]
  },
  {
   "cell_type": "markdown",
   "id": "7c1673bf-f51e-4a8b-9656-0a9d632e8734",
   "metadata": {},
   "source": [
    "#### ✅**CRI 등급 'NG'(신용등급평가 불응) 삭제 : 9881 -> 9844**"
   ]
  },
  {
   "cell_type": "code",
   "execution_count": 93,
   "id": "82a64225-f0a1-4b5f-825b-e09ad8d29750",
   "metadata": {},
   "outputs": [
    {
     "data": {
      "text/plain": [
       "B2    1738\n",
       "B3    1593\n",
       "C2    1575\n",
       "B1    1207\n",
       "C3    1079\n",
       "A3     986\n",
       "C1     849\n",
       "A2     477\n",
       "A1     203\n",
       "D      130\n",
       "NG      37\n",
       "Name: CRI등급, dtype: int64"
      ]
     },
     "execution_count": 93,
     "metadata": {},
     "output_type": "execute_result"
    }
   ],
   "source": [
    "Company_Information_d.CRI등급.value_counts()"
   ]
  },
  {
   "cell_type": "code",
   "execution_count": 94,
   "id": "2a3c6f46-9ef4-41e5-8f50-a77c601aa461",
   "metadata": {},
   "outputs": [
    {
     "name": "stdout",
     "output_type": "stream",
     "text": [
      "9874\n",
      "9837\n"
     ]
    }
   ],
   "source": [
    "print(len(Company_Information_d.사업자등록번호.unique()))\n",
    "Company_Information_d = Company_Information_d[Company_Information_d.CRI등급!='NG']\n",
    "print(len(Company_Information_d.사업자등록번호.unique()))"
   ]
  },
  {
   "cell_type": "markdown",
   "id": "6ef12adb-4423-4324-8a7b-df9e53d2e4c6",
   "metadata": {},
   "source": [
    "#### **✅기업형태에서 폐업인 곳의 신용등급 알아보기 : 모두 D**"
   ]
  },
  {
   "cell_type": "code",
   "execution_count": 95,
   "id": "f206ac14-4547-4a68-bcfd-2f39c2e73e6c",
   "metadata": {},
   "outputs": [
    {
     "data": {
      "text/plain": [
       "D    128\n",
       "Name: CRI등급, dtype: int64"
      ]
     },
     "execution_count": 95,
     "metadata": {},
     "output_type": "execute_result"
    }
   ],
   "source": [
    "Company_Information_d[Company_Information_d.기업형태 == '폐업'].CRI등급.value_counts()"
   ]
  },
  {
   "cell_type": "code",
   "execution_count": 96,
   "id": "ca1cfc62-6706-4b15-8965-626686e9c9d3",
   "metadata": {},
   "outputs": [
    {
     "data": {
      "text/plain": [
       "128"
      ]
     },
     "execution_count": 96,
     "metadata": {},
     "output_type": "execute_result"
    }
   ],
   "source": [
    "len(Company_Information_d[Company_Information_d.기업형태 == '폐업'].사업자등록번호.unique().tolist())"
   ]
  },
  {
   "cell_type": "code",
   "execution_count": 97,
   "id": "5b712ffc-1c0a-4376-b365-a80f54845484",
   "metadata": {},
   "outputs": [
    {
     "data": {
      "text/plain": [
       "130"
      ]
     },
     "execution_count": 97,
     "metadata": {},
     "output_type": "execute_result"
    }
   ],
   "source": [
    "len(Company_Information_d[Company_Information_d.CRI등급 == 'D'].사업자등록번호.unique().tolist())"
   ]
  },
  {
   "cell_type": "code",
   "execution_count": 98,
   "id": "d2f0a1ae-2505-4ba4-b465-7246c62c08d1",
   "metadata": {},
   "outputs": [
    {
     "data": {
      "text/plain": [
       "중소기업         9322\n",
       "중견기업          306\n",
       "대기업           115\n",
       "기타(비영리법인)      90\n",
       "중견기업(하)         4\n",
       "Name: 기업규모, dtype: int64"
      ]
     },
     "execution_count": 98,
     "metadata": {},
     "output_type": "execute_result"
    }
   ],
   "source": [
    "Company_Information_d.기업규모.value_counts()"
   ]
  },
  {
   "cell_type": "code",
   "execution_count": 99,
   "id": "a4e422e6-34b2-48d3-b5b8-a9d0e27e41a1",
   "metadata": {},
   "outputs": [
    {
     "data": {
      "text/plain": [
       "사업자등록번호        0\n",
       "데이터수집일자        0\n",
       "기업명            0\n",
       "기업영문명        880\n",
       "대표자명           0\n",
       "종업원수           0\n",
       "종업원수기준년월     652\n",
       "산업분류코드         0\n",
       "산업분류코드설명      25\n",
       "기업규모           0\n",
       "기업형태           0\n",
       "업태명         1217\n",
       "설립일          457\n",
       "이메일주소       5768\n",
       "전화번호         543\n",
       "팩스전화번호      1997\n",
       "우편번호         868\n",
       "주소            84\n",
       "상세주보         723\n",
       "휴폐업구분       9604\n",
       "상태발생일자      9707\n",
       "휴폐업수정일      9604\n",
       "CRI등급          0\n",
       "CRI기준일       632\n",
       "결산일자        1650\n",
       "매출액         1719\n",
       "영업이익        1658\n",
       "자본총계금액      1653\n",
       "부채총계금액      1656\n",
       "자산총계금액      1651\n",
       "작업구분코드         0\n",
       "데이터생성일자        0\n",
       "연계처리상태코드    9837\n",
       "연계처리일자      9837\n",
       "산업대분류          0\n",
       "종업원그룹          0\n",
       "설립년도           0\n",
       "업력             0\n",
       "성장단계           0\n",
       "재무제표기준년도    1650\n",
       "CRI기준년도      632\n",
       "dtype: int64"
      ]
     },
     "execution_count": 99,
     "metadata": {},
     "output_type": "execute_result"
    }
   ],
   "source": [
    "Company_Information_d.isnull().sum()"
   ]
  },
  {
   "cell_type": "markdown",
   "id": "9f6b68c0-edce-47f9-8cc5-c52d8027f613",
   "metadata": {},
   "source": [
    "#### ✅**매출액, 영업이익, 자본총계금액, 부채총계금액, 자산총계금액의 결측치 처리**"
   ]
  },
  {
   "cell_type": "code",
   "execution_count": 100,
   "id": "dc4995b1-3b69-49b0-8af9-f2dac67d49f7",
   "metadata": {
    "tags": []
   },
   "outputs": [
    {
     "data": {
      "text/plain": [
       "1651"
      ]
     },
     "execution_count": 100,
     "metadata": {},
     "output_type": "execute_result"
    }
   ],
   "source": [
    "mc = Company_Information_d[Company_Information_d.매출액.isna()].사업자등록번호.unique().tolist()\n",
    "y = Company_Information_d[Company_Information_d.영업이익.isna()].사업자등록번호.unique().tolist()\n",
    "jb = Company_Information_d[Company_Information_d.자본총계금액.isna()].사업자등록번호.unique().tolist()\n",
    "bc = Company_Information_d[Company_Information_d.부채총계금액.isna()].사업자등록번호.unique().tolist()\n",
    "js = Company_Information_d[Company_Information_d.자산총계금액.isna()].사업자등록번호.unique().tolist()\n",
    "\n",
    "mc_y = []\n",
    "for i in range(len(js)):\n",
    "    if js[i] in jb:\n",
    "        mc_y.append(js[i])\n",
    "len(mc_y)"
   ]
  },
  {
   "cell_type": "code",
   "execution_count": 101,
   "id": "a496f58a-9bbe-4956-9123-5c7dfa231270",
   "metadata": {},
   "outputs": [
    {
     "data": {
      "text/plain": [
       "0.1684274685087363"
      ]
     },
     "execution_count": 101,
     "metadata": {},
     "output_type": "execute_result"
    }
   ],
   "source": [
    "1658/9844"
   ]
  },
  {
   "cell_type": "markdown",
   "id": "34d2e633-66b1-4823-9452-8b31039dd6e5",
   "metadata": {},
   "source": [
    "- **자산총계가 없는 기업들 중 중소기업 비율**"
   ]
  },
  {
   "cell_type": "code",
   "execution_count": 102,
   "id": "dea60ccf-e94e-4367-bf08-a9996b96a893",
   "metadata": {},
   "outputs": [
    {
     "data": {
      "text/plain": [
       "0.9487334137515079"
      ]
     },
     "execution_count": 102,
     "metadata": {},
     "output_type": "execute_result"
    }
   ],
   "source": [
    "1573/1658"
   ]
  },
  {
   "cell_type": "code",
   "execution_count": 103,
   "id": "51ce59bf-c9d8-4cf3-9edb-dd0321d6be85",
   "metadata": {},
   "outputs": [
    {
     "data": {
      "text/plain": [
       "중소기업         1568\n",
       "중견기업           59\n",
       "기타(비영리법인)      12\n",
       "대기업            12\n",
       "Name: 기업규모, dtype: int64"
      ]
     },
     "execution_count": 103,
     "metadata": {},
     "output_type": "execute_result"
    }
   ],
   "source": [
    "Company_Information_d[Company_Information_d.자산총계금액.isna()].기업규모.value_counts()"
   ]
  },
  {
   "cell_type": "code",
   "execution_count": 104,
   "id": "e246fd18-fa40-421c-a397-fbe8a337ab3d",
   "metadata": {},
   "outputs": [
    {
     "data": {
      "text/html": [
       "<div>\n",
       "<style scoped>\n",
       "    .dataframe tbody tr th:only-of-type {\n",
       "        vertical-align: middle;\n",
       "    }\n",
       "\n",
       "    .dataframe tbody tr th {\n",
       "        vertical-align: top;\n",
       "    }\n",
       "\n",
       "    .dataframe thead th {\n",
       "        text-align: right;\n",
       "    }\n",
       "</style>\n",
       "<table border=\"1\" class=\"dataframe\">\n",
       "  <thead>\n",
       "    <tr style=\"text-align: right;\">\n",
       "      <th></th>\n",
       "      <th>매출액</th>\n",
       "      <th>영업이익</th>\n",
       "      <th>자본총계금액</th>\n",
       "      <th>부채총계금액</th>\n",
       "      <th>자산총계금액</th>\n",
       "    </tr>\n",
       "  </thead>\n",
       "  <tbody>\n",
       "    <tr>\n",
       "      <th>count</th>\n",
       "      <td>8.118000e+03</td>\n",
       "      <td>8.179000e+03</td>\n",
       "      <td>8.184000e+03</td>\n",
       "      <td>8.181000e+03</td>\n",
       "      <td>8.186000e+03</td>\n",
       "    </tr>\n",
       "    <tr>\n",
       "      <th>mean</th>\n",
       "      <td>3.602485e+07</td>\n",
       "      <td>2.048086e+06</td>\n",
       "      <td>2.641829e+07</td>\n",
       "      <td>9.257767e+07</td>\n",
       "      <td>1.189330e+08</td>\n",
       "    </tr>\n",
       "    <tr>\n",
       "      <th>std</th>\n",
       "      <td>4.715084e+08</td>\n",
       "      <td>4.424243e+07</td>\n",
       "      <td>5.055788e+08</td>\n",
       "      <td>4.552481e+09</td>\n",
       "      <td>4.955234e+09</td>\n",
       "    </tr>\n",
       "    <tr>\n",
       "      <th>min</th>\n",
       "      <td>-6.949763e+06</td>\n",
       "      <td>-1.385436e+08</td>\n",
       "      <td>-1.522789e+09</td>\n",
       "      <td>0.000000e+00</td>\n",
       "      <td>-5.500000e+04</td>\n",
       "    </tr>\n",
       "    <tr>\n",
       "      <th>25%</th>\n",
       "      <td>7.276690e+05</td>\n",
       "      <td>1.210500e+03</td>\n",
       "      <td>2.862150e+05</td>\n",
       "      <td>1.914360e+05</td>\n",
       "      <td>6.327788e+05</td>\n",
       "    </tr>\n",
       "    <tr>\n",
       "      <th>50%</th>\n",
       "      <td>2.015524e+06</td>\n",
       "      <td>6.662700e+04</td>\n",
       "      <td>8.416095e+05</td>\n",
       "      <td>5.760490e+05</td>\n",
       "      <td>1.631192e+06</td>\n",
       "    </tr>\n",
       "    <tr>\n",
       "      <th>75%</th>\n",
       "      <td>6.336418e+06</td>\n",
       "      <td>2.626395e+05</td>\n",
       "      <td>2.572004e+06</td>\n",
       "      <td>2.121045e+06</td>\n",
       "      <td>5.127076e+06</td>\n",
       "    </tr>\n",
       "    <tr>\n",
       "      <th>max</th>\n",
       "      <td>2.347011e+10</td>\n",
       "      <td>3.169620e+09</td>\n",
       "      <td>3.045981e+10</td>\n",
       "      <td>3.916664e+11</td>\n",
       "      <td>4.221262e+11</td>\n",
       "    </tr>\n",
       "  </tbody>\n",
       "</table>\n",
       "</div>"
      ],
      "text/plain": [
       "                매출액          영업이익        자본총계금액        부채총계금액        자산총계금액\n",
       "count  8.118000e+03  8.179000e+03  8.184000e+03  8.181000e+03  8.186000e+03\n",
       "mean   3.602485e+07  2.048086e+06  2.641829e+07  9.257767e+07  1.189330e+08\n",
       "std    4.715084e+08  4.424243e+07  5.055788e+08  4.552481e+09  4.955234e+09\n",
       "min   -6.949763e+06 -1.385436e+08 -1.522789e+09  0.000000e+00 -5.500000e+04\n",
       "25%    7.276690e+05  1.210500e+03  2.862150e+05  1.914360e+05  6.327788e+05\n",
       "50%    2.015524e+06  6.662700e+04  8.416095e+05  5.760490e+05  1.631192e+06\n",
       "75%    6.336418e+06  2.626395e+05  2.572004e+06  2.121045e+06  5.127076e+06\n",
       "max    2.347011e+10  3.169620e+09  3.045981e+10  3.916664e+11  4.221262e+11"
      ]
     },
     "execution_count": 104,
     "metadata": {},
     "output_type": "execute_result"
    }
   ],
   "source": [
    "Company_Information_d[['매출액','영업이익','자본총계금액','부채총계금액','자산총계금액']].describe()"
   ]
  },
  {
   "cell_type": "code",
   "execution_count": 105,
   "id": "54a258b7-b80f-4f5b-bcda-19c248d6407d",
   "metadata": {},
   "outputs": [
    {
     "data": {
      "text/plain": [
       "매출액       1719\n",
       "영업이익      1658\n",
       "자본총계금액    1653\n",
       "부채총계금액    1656\n",
       "자산총계금액    1651\n",
       "dtype: int64"
      ]
     },
     "execution_count": 105,
     "metadata": {},
     "output_type": "execute_result"
    }
   ],
   "source": [
    "Company_Information_d[['매출액','영업이익','자본총계금액','부채총계금액','자산총계금액']].isnull().sum()"
   ]
  },
  {
   "cell_type": "markdown",
   "id": "3eccec73",
   "metadata": {},
   "source": [
    "#### ✅**아예 자산총계금액이 없는 데이터가 1650개는 1) 결측치 처리하기 2) 비재무요소만 고려하기**"
   ]
  },
  {
   "cell_type": "code",
   "execution_count": 106,
   "id": "fd7dbbe9-7459-4bae-9823-9972e068bdc3",
   "metadata": {},
   "outputs": [
    {
     "name": "stdout",
     "output_type": "stream",
     "text": [
      "<class 'pandas.core.frame.DataFrame'>\n",
      "Int64Index: 9837 entries, 0 to 9873\n",
      "Data columns (total 41 columns):\n",
      " #   Column    Non-Null Count  Dtype  \n",
      "---  ------    --------------  -----  \n",
      " 0   사업자등록번호   9837 non-null   int64  \n",
      " 1   데이터수집일자   9837 non-null   int64  \n",
      " 2   기업명       9837 non-null   object \n",
      " 3   기업영문명     8957 non-null   object \n",
      " 4   대표자명      9837 non-null   object \n",
      " 5   종업원수      9837 non-null   float64\n",
      " 6   종업원수기준년월  9185 non-null   object \n",
      " 7   산업분류코드    9837 non-null   object \n",
      " 8   산업분류코드설명  9812 non-null   object \n",
      " 9   기업규모      9837 non-null   object \n",
      " 10  기업형태      9837 non-null   object \n",
      " 11  업태명       8620 non-null   object \n",
      " 12  설립일       9380 non-null   float64\n",
      " 13  이메일주소     4069 non-null   object \n",
      " 14  전화번호      9294 non-null   object \n",
      " 15  팩스전화번호    7840 non-null   object \n",
      " 16  우편번호      8969 non-null   float64\n",
      " 17  주소        9753 non-null   object \n",
      " 18  상세주보      9114 non-null   object \n",
      " 19  휴폐업구분     233 non-null    object \n",
      " 20  상태발생일자    130 non-null    float64\n",
      " 21  휴폐업수정일    233 non-null    float64\n",
      " 22  CRI등급     9837 non-null   object \n",
      " 23  CRI기준일    9205 non-null   float64\n",
      " 24  결산일자      8187 non-null   float64\n",
      " 25  매출액       8118 non-null   float64\n",
      " 26  영업이익      8179 non-null   float64\n",
      " 27  자본총계금액    8184 non-null   float64\n",
      " 28  부채총계금액    8181 non-null   float64\n",
      " 29  자산총계금액    8186 non-null   float64\n",
      " 30  작업구분코드    9837 non-null   object \n",
      " 31  데이터생성일자   9837 non-null   int64  \n",
      " 32  연계처리상태코드  0 non-null      float64\n",
      " 33  연계처리일자    0 non-null      float64\n",
      " 34  산업대분류     9837 non-null   object \n",
      " 35  종업원그룹     9837 non-null   int64  \n",
      " 36  설립년도      9837 non-null   float64\n",
      " 37  업력        9837 non-null   float64\n",
      " 38  성장단계      9837 non-null   object \n",
      " 39  재무제표기준년도  8187 non-null   float64\n",
      " 40  CRI기준년도   9205 non-null   float64\n",
      "dtypes: float64(18), int64(4), object(19)\n",
      "memory usage: 3.2+ MB\n"
     ]
    }
   ],
   "source": [
    "Company_Information_d.info()"
   ]
  },
  {
   "cell_type": "code",
   "execution_count": 107,
   "id": "5f46a665-7636-4420-85ea-e8cb5f1f210c",
   "metadata": {},
   "outputs": [
    {
     "data": {
      "text/plain": [
       "<AxesSubplot:>"
      ]
     },
     "execution_count": 107,
     "metadata": {},
     "output_type": "execute_result"
    },
    {
     "data": {
      "image/png": "[encoded data removed]",
      "text/plain": [
       "<Figure size 640x480 with 2 Axes>"
      ]
     },
     "metadata": {},
     "output_type": "display_data"
    }
   ],
   "source": [
    "sns.heatmap(Company_Information_d.corr())"
   ]
  },
  {
   "cell_type": "markdown",
   "id": "09ed907a-daf9-41c1-ac65-d4970bdbcc52",
   "metadata": {},
   "source": [
    "#### ✅**자산총계의 결측치 처리**\n",
    "  - #### **대치**\n",
    "  1) ##### **종업원수에 따라 자산총계 결측치 처리**\n",
    "  2) ##### **자산총계에 따라 나머지 결측치 처리**\n",
    "  \n",
    "  - #### **제외 -> 비재무지표로만 CRI 예측하기** \n",
    "\n",
    "<br>\n",
    "\n",
    "#### ✅**재무적 요소 머신러닝 : 자산총계 대치한 경우, 자산총계 결측치 제외한 경우**\n",
    "#### ✅**비재무적 요소 머신러닝**\n",
    "#### ✅**재무적 + 비재무적 머신러닝**"
   ]
  },
  {
   "cell_type": "markdown",
   "id": "e913ae0d-e9d7-4f92-8d56-6cd2b835d7e4",
   "metadata": {},
   "source": [
    "#### ✅**종업원그룹으로 자산총계 결측치 채우기 : df**\n",
    "#### ✅**종업원그룹으로 자산총계 아예없앤거 : df_del_null**"
   ]
  },
  {
   "cell_type": "code",
   "execution_count": 108,
   "id": "4feffe9c",
   "metadata": {},
   "outputs": [],
   "source": [
    "df = Company_Information_d[['사업자등록번호','종업원수','종업원그룹','업력','성장단계','산업대분류','기업규모','기업형태','CRI등급',\n",
    "                                               '매출액', '영업이익', '자본총계금액', '부채총계금액', '자산총계금액']]\n",
    "for i in range(1,11):\n",
    "    df.loc[(df.자산총계금액.isnull()) & (df.종업원그룹 == i),'자산총계금액'] = df[df.종업원그룹 == i].자산총계금액.mean()"
   ]
  },
  {
   "cell_type": "code",
   "execution_count": 109,
   "id": "021f6cf6",
   "metadata": {},
   "outputs": [
    {
     "data": {
      "text/plain": [
       "0"
      ]
     },
     "execution_count": 109,
     "metadata": {},
     "output_type": "execute_result"
    }
   ],
   "source": [
    "df.자산총계금액.isnull().sum()"
   ]
  },
  {
   "cell_type": "markdown",
   "id": "ded06ec1",
   "metadata": {},
   "source": [
    "- #### **자산총계등급별로 매출액, 영업이익, 자본총계금액, 부채총계금액의 결측치 처리 - 같은 자산총계등급의 평균으로 대체**"
   ]
  },
  {
   "cell_type": "code",
   "execution_count": 110,
   "id": "a511cda9",
   "metadata": {},
   "outputs": [
    {
     "name": "stderr",
     "output_type": "stream",
     "text": [
      "C:\\Users\\zlata\\AppData\\Local\\Temp\\ipykernel_97012\\2270305652.py:1: SettingWithCopyWarning: \n",
      "A value is trying to be set on a copy of a slice from a DataFrame.\n",
      "Try using .loc[row_indexer,col_indexer] = value instead\n",
      "\n",
      "See the caveats in the documentation: https://pandas.pydata.org/pandas-docs/stable/user_guide/indexing.html#returning-a-view-versus-a-copy\n",
      "  df['자산총계그룹화'] = 10\n"
     ]
    },
    {
     "data": {
      "text/plain": [
       "2     1009\n",
       "1     1005\n",
       "4      984\n",
       "7      984\n",
       "10     984\n",
       "5      984\n",
       "9      984\n",
       "8      983\n",
       "6      983\n",
       "3      937\n",
       "Name: 자산총계그룹화, dtype: int64"
      ]
     },
     "execution_count": 110,
     "metadata": {},
     "output_type": "execute_result"
    }
   ],
   "source": [
    "df['자산총계그룹화'] = 10\n",
    "df.loc[df.자산총계금액 >= df.자산총계금액.quantile(q=0.1),'자산총계그룹화'] = 9\n",
    "df.loc[df.자산총계금액 >= df.자산총계금액.quantile(q=0.2),'자산총계그룹화'] = 8\n",
    "df.loc[df.자산총계금액 >= df.자산총계금액.quantile(q=0.3),'자산총계그룹화'] = 7\n",
    "df.loc[df.자산총계금액 >= df.자산총계금액.quantile(q=0.4),'자산총계그룹화'] = 6\n",
    "df.loc[df.자산총계금액 >= df.자산총계금액.quantile(q=0.5),'자산총계그룹화'] = 5\n",
    "df.loc[df.자산총계금액 >= df.자산총계금액.quantile(q=0.6),'자산총계그룹화'] = 4\n",
    "df.loc[df.자산총계금액 >= df.자산총계금액.quantile(q=0.7),'자산총계그룹화'] = 3\n",
    "df.loc[df.자산총계금액 >= df.자산총계금액.quantile(q=0.8),'자산총계그룹화'] = 2\n",
    "df.loc[df.자산총계금액 >= df.자산총계금액.quantile(q=0.9),'자산총계그룹화'] = 1\n",
    "df['자산총계그룹화'].astype(object).value_counts()"
   ]
  },
  {
   "cell_type": "code",
   "execution_count": 111,
   "id": "b7d1a622",
   "metadata": {},
   "outputs": [],
   "source": [
    "for i in range(1,11):\n",
    "    df.loc[(df.매출액.isnull()) & (df.자산총계그룹화 == i),'매출액'] = df[df.자산총계그룹화 == i].매출액.mean()\n",
    "    df.loc[(df.영업이익.isnull()) & (df.자산총계그룹화 == i),'영업이익'] = df[df.자산총계그룹화 == i].영업이익.mean()\n",
    "    df.loc[(df.자본총계금액.isnull()) & (df.자산총계그룹화 == i),'자본총계금액'] = df[df.자산총계그룹화 == i].자본총계금액.mean()\n",
    "    df.loc[(df.부채총계금액.isnull()) & (df.자산총계그룹화 == i),'부채총계금액'] = df[df.자산총계그룹화 == i].부채총계금액.mean()"
   ]
  },
  {
   "cell_type": "code",
   "execution_count": 112,
   "id": "343b2bc9",
   "metadata": {},
   "outputs": [
    {
     "data": {
      "text/plain": [
       "사업자등록번호    0\n",
       "종업원수       0\n",
       "종업원그룹      0\n",
       "업력         0\n",
       "성장단계       0\n",
       "산업대분류      0\n",
       "기업규모       0\n",
       "기업형태       0\n",
       "CRI등급      0\n",
       "매출액        0\n",
       "영업이익       0\n",
       "자본총계금액     0\n",
       "부채총계금액     0\n",
       "자산총계금액     0\n",
       "자산총계그룹화    0\n",
       "dtype: int64"
      ]
     },
     "execution_count": 112,
     "metadata": {},
     "output_type": "execute_result"
    }
   ],
   "source": [
    "df.isnull().sum()"
   ]
  },
  {
   "cell_type": "markdown",
   "id": "16b41487",
   "metadata": {},
   "source": [
    "- #### **df_del_null**"
   ]
  },
  {
   "cell_type": "code",
   "execution_count": 113,
   "id": "e3fca9e2",
   "metadata": {},
   "outputs": [
    {
     "data": {
      "text/plain": [
       "사업자등록번호     0\n",
       "종업원수        0\n",
       "종업원그룹       0\n",
       "업력          0\n",
       "성장단계        0\n",
       "산업대분류       0\n",
       "기업규모        0\n",
       "기업형태        0\n",
       "CRI등급       0\n",
       "매출액        68\n",
       "영업이익        7\n",
       "자본총계금액      2\n",
       "부채총계금액      5\n",
       "자산총계금액      0\n",
       "dtype: int64"
      ]
     },
     "execution_count": 113,
     "metadata": {},
     "output_type": "execute_result"
    }
   ],
   "source": [
    "df_del_null = Company_Information_d[['사업자등록번호','종업원수','종업원그룹','업력','성장단계','산업대분류','기업규모','기업형태','CRI등급',\n",
    "                                               '매출액', '영업이익', '자본총계금액', '부채총계금액', '자산총계금액']]\n",
    "df_del_null[df_del_null.자산총계금액.isna()][['사업자등록번호', '종업원수', '종업원그룹', '성장단계', '산업대분류','기업규모','기업형태','CRI등급']].to_csv(\"자산총계null.csv\",encoding='CP949')\n",
    "df_del_null = df_del_null[~df_del_null.자산총계금액.isna()]\n",
    "df_del_null.isnull().sum()"
   ]
  },
  {
   "cell_type": "code",
   "execution_count": 114,
   "id": "4583bd30",
   "metadata": {},
   "outputs": [
    {
     "data": {
      "text/plain": [
       "(8186, 14)"
      ]
     },
     "execution_count": 114,
     "metadata": {},
     "output_type": "execute_result"
    }
   ],
   "source": [
    "df_del_null.shape"
   ]
  },
  {
   "cell_type": "markdown",
   "id": "05e4f106-9475-4689-aab5-ebb0113e13b3",
   "metadata": {},
   "source": [
    "- #### **자산총계등급별로 매출액, 영업이익, 자본총계금액, 부채총계금액의 결측치 처리 - 같은 자산총계등급의 평균으로 대체**"
   ]
  },
  {
   "cell_type": "code",
   "execution_count": 115,
   "id": "7fe440f7",
   "metadata": {},
   "outputs": [
    {
     "data": {
      "text/plain": [
       "1     819\n",
       "6     819\n",
       "2     819\n",
       "10    819\n",
       "4     819\n",
       "8     819\n",
       "7     818\n",
       "3     818\n",
       "5     818\n",
       "9     818\n",
       "Name: 자산총계그룹화, dtype: int64"
      ]
     },
     "execution_count": 115,
     "metadata": {},
     "output_type": "execute_result"
    }
   ],
   "source": [
    "df_del_null['자산총계그룹화'] = 10\n",
    "df_del_null.loc[df_del_null.자산총계금액 >= df_del_null.자산총계금액.quantile(q=0.1),'자산총계그룹화'] = 9\n",
    "df_del_null.loc[df_del_null.자산총계금액 >= df_del_null.자산총계금액.quantile(q=0.2),'자산총계그룹화'] = 8\n",
    "df_del_null.loc[df_del_null.자산총계금액 >= df_del_null.자산총계금액.quantile(q=0.3),'자산총계그룹화'] = 7\n",
    "df_del_null.loc[df_del_null.자산총계금액 >= df_del_null.자산총계금액.quantile(q=0.4),'자산총계그룹화'] = 6\n",
    "df_del_null.loc[df_del_null.자산총계금액 >= df_del_null.자산총계금액.quantile(q=0.5),'자산총계그룹화'] = 5\n",
    "df_del_null.loc[df_del_null.자산총계금액 >= df_del_null.자산총계금액.quantile(q=0.6),'자산총계그룹화'] = 4\n",
    "df_del_null.loc[df_del_null.자산총계금액 >= df_del_null.자산총계금액.quantile(q=0.7),'자산총계그룹화'] = 3\n",
    "df_del_null.loc[df_del_null.자산총계금액 >= df_del_null.자산총계금액.quantile(q=0.8),'자산총계그룹화'] = 2\n",
    "df_del_null.loc[df_del_null.자산총계금액 >= df_del_null.자산총계금액.quantile(q=0.9),'자산총계그룹화'] = 1\n",
    "df_del_null['자산총계그룹화'].astype(object).value_counts()"
   ]
  },
  {
   "cell_type": "code",
   "execution_count": 116,
   "id": "49105a26-9856-45a5-81bd-ca3552f08b13",
   "metadata": {},
   "outputs": [],
   "source": [
    "for i in range(1,11):\n",
    "    df_del_null.loc[(df_del_null.매출액.isnull()) & (df_del_null.자산총계그룹화 == i),'매출액'] = df_del_null[df_del_null.자산총계그룹화 == i].매출액.mean()\n",
    "    df_del_null.loc[(df_del_null.영업이익.isnull()) & (df_del_null.자산총계그룹화 == i),'영업이익'] = df_del_null[df_del_null.자산총계그룹화 == i].영업이익.mean()\n",
    "    df_del_null.loc[(df_del_null.자본총계금액.isnull()) & (df_del_null.자산총계그룹화 == i),'자본총계금액'] = df_del_null[df_del_null.자산총계그룹화 == i].자본총계금액.mean()\n",
    "    df_del_null.loc[(df_del_null.부채총계금액.isnull()) & (df_del_null.자산총계그룹화 == i),'부채총계금액'] = df_del_null[df_del_null.자산총계그룹화 == i].부채총계금액.mean()"
   ]
  },
  {
   "cell_type": "code",
   "execution_count": 117,
   "id": "9b854d23-a98d-4721-912b-f308e9c53fc4",
   "metadata": {},
   "outputs": [
    {
     "data": {
      "text/plain": [
       "사업자등록번호    0\n",
       "종업원수       0\n",
       "종업원그룹      0\n",
       "업력         0\n",
       "성장단계       0\n",
       "산업대분류      0\n",
       "기업규모       0\n",
       "기업형태       0\n",
       "CRI등급      0\n",
       "매출액        0\n",
       "영업이익       0\n",
       "자본총계금액     0\n",
       "부채총계금액     0\n",
       "자산총계금액     0\n",
       "자산총계그룹화    0\n",
       "dtype: int64"
      ]
     },
     "execution_count": 117,
     "metadata": {},
     "output_type": "execute_result"
    }
   ],
   "source": [
    "df_del_null.isnull().sum()"
   ]
  },
  {
   "cell_type": "code",
   "execution_count": 118,
   "id": "2a2caae8",
   "metadata": {},
   "outputs": [],
   "source": [
    "df[['사업자등록번호', '종업원수', '종업원그룹', '성장단계', '산업대분류','기업규모','기업형태','CRI등급','자산총계그룹화']].reset_index(drop=True,col_level=0,col_fill='').to_csv(\"자산총계결측치.csv\",encoding='CP949')"
   ]
  },
  {
   "cell_type": "markdown",
   "id": "4cafec89",
   "metadata": {},
   "source": [
    "- #### **CRI등급 자산총계금액**"
   ]
  },
  {
   "cell_type": "code",
   "execution_count": 119,
   "id": "8a9f5435-cefe-44c9-9dd8-d9d232da1107",
   "metadata": {},
   "outputs": [
    {
     "data": {
      "text/plain": [
       "KruskalResult(statistic=367.4165761515014, pvalue=2.5246482441821666e-79)"
      ]
     },
     "execution_count": 119,
     "metadata": {},
     "output_type": "execute_result"
    }
   ],
   "source": [
    "stats.kruskal(df.loc[df.CRI등급.isin(['A1','A2','A3'])].자산총계금액,\n",
    "df.loc[df.CRI등급.isin(['B1','B2','B3'])].자산총계금액,\n",
    "df.loc[df.CRI등급.isin(['C1','C2','C3'])].자산총계금액,\n",
    "df.loc[df.CRI등급.isin(['D'])].자산총계금액)"
   ]
  },
  {
   "cell_type": "code",
   "execution_count": 120,
   "id": "ceea8c18-df1c-4d20-a8f4-84fb8ad7d592",
   "metadata": {},
   "outputs": [
    {
     "name": "stdout",
     "output_type": "stream",
     "text": [
      "574233054.5564666\n",
      "24762646.4469297\n",
      "11058312.270305406\n",
      "513020262.0091923\n"
     ]
    }
   ],
   "source": [
    "print(df.loc[df.CRI등급.isin(['A1','A2','A3'])].자산총계금액.mean())\n",
    "print(df.loc[df.CRI등급.isin(['B1','B2','B3'])].자산총계금액.mean())\n",
    "print(df.loc[df.CRI등급.isin(['C1','C2','C3'])].자산총계금액.mean())\n",
    "print(df.loc[df.CRI등급.isin(['D'])].자산총계금액.mean())"
   ]
  },
  {
   "cell_type": "code",
   "execution_count": 121,
   "id": "650e4f14",
   "metadata": {},
   "outputs": [
    {
     "name": "stdout",
     "output_type": "stream",
     "text": [
      "462423390.8549849\n",
      "26386930.2091396\n",
      "14301550.398003202\n",
      "456203948.1091992\n"
     ]
    }
   ],
   "source": [
    "print(df.loc[df.CRI등급.isin(['A1','A2','A3'])].부채총계금액.mean())\n",
    "print(df.loc[df.CRI등급.isin(['B1','B2','B3'])].부채총계금액.mean())\n",
    "print(df.loc[df.CRI등급.isin(['C1','C2','C3'])].부채총계금액.mean())\n",
    "print(df.loc[df.CRI등급.isin(['D'])].부채총계금액.mean())"
   ]
  },
  {
   "cell_type": "code",
   "execution_count": 122,
   "id": "c41272e0",
   "metadata": {},
   "outputs": [
    {
     "data": {
      "text/plain": [
       "Index(['사업자등록번호', '종업원수', '종업원그룹', '업력', '성장단계', '산업대분류', '기업규모', '기업형태',\n",
       "       'CRI등급', '매출액', '영업이익', '자본총계금액', '부채총계금액', '자산총계금액', '자산총계그룹화'],\n",
       "      dtype='object')"
      ]
     },
     "execution_count": 122,
     "metadata": {},
     "output_type": "execute_result"
    }
   ],
   "source": [
    "df.columns"
   ]
  },
  {
   "cell_type": "code",
   "execution_count": 123,
   "id": "a5595aed",
   "metadata": {},
   "outputs": [
    {
     "data": {
      "text/plain": [
       "<AxesSubplot:>"
      ]
     },
     "execution_count": 123,
     "metadata": {},
     "output_type": "execute_result"
    },
    {
     "data": {
      "image/png": "[encoded data removed]",
      "text/plain": [
       "<Figure size 640x480 with 2 Axes>"
      ]
     },
     "metadata": {},
     "output_type": "display_data"
    }
   ],
   "source": [
    "sns.heatmap(df.corr())"
   ]
  },
  {
   "cell_type": "markdown",
   "id": "6fa82164-9c87-4b05-b6e6-8cced1cdd47a",
   "metadata": {},
   "source": [
    "---\n",
    "> # **재무제표정보 데이터**\n",
    "---"
   ]
  },
  {
   "cell_type": "code",
   "execution_count": 124,
   "id": "36688c71-023c-40e4-bb00-5ee07c637963",
   "metadata": {},
   "outputs": [
    {
     "name": "stderr",
     "output_type": "stream",
     "text": [
      "C:\\Users\\zlata\\AppData\\Local\\Temp\\ipykernel_97012\\796744180.py:1: DtypeWarning: Columns (5) have mixed types. Specify dtype option on import or set low_memory=False.\n",
      "  Financial_Statements = pd.read_csv(\"재무제표정보.csv\",index_col=0)\n"
     ]
    },
    {
     "data": {
      "text/html": [
       "<div>\n",
       "<style scoped>\n",
       "    .dataframe tbody tr th:only-of-type {\n",
       "        vertical-align: middle;\n",
       "    }\n",
       "\n",
       "    .dataframe tbody tr th {\n",
       "        vertical-align: top;\n",
       "    }\n",
       "\n",
       "    .dataframe thead th {\n",
       "        text-align: right;\n",
       "    }\n",
       "</style>\n",
       "<table border=\"1\" class=\"dataframe\">\n",
       "  <thead>\n",
       "    <tr style=\"text-align: right;\">\n",
       "      <th></th>\n",
       "      <th>사업자등록번호</th>\n",
       "      <th>순번</th>\n",
       "      <th>데이터수집일자</th>\n",
       "      <th>조사년도</th>\n",
       "      <th>재무보고서구분코드</th>\n",
       "      <th>재무보고서명칭</th>\n",
       "      <th>상세구분코드</th>\n",
       "      <th>상세구분명칭</th>\n",
       "      <th>재무제표기준년월</th>\n",
       "      <th>재무제표계정과목코드</th>\n",
       "      <th>재무제표계정과목명</th>\n",
       "      <th>재무제표계정과목금액</th>\n",
       "      <th>구성비율</th>\n",
       "      <th>증감율</th>\n",
       "      <th>작업구분코드</th>\n",
       "      <th>데이터생성일자</th>\n",
       "      <th>연계처리상태코드</th>\n",
       "      <th>연계처리일자</th>\n",
       "    </tr>\n",
       "  </thead>\n",
       "  <tbody>\n",
       "    <tr>\n",
       "      <th>0</th>\n",
       "      <td>3148104968</td>\n",
       "      <td>1</td>\n",
       "      <td>20211019</td>\n",
       "      <td>2016</td>\n",
       "      <td>1</td>\n",
       "      <td>재무상태표</td>\n",
       "      <td>anly</td>\n",
       "      <td>분석형</td>\n",
       "      <td>201612.0</td>\n",
       "      <td>M11000</td>\n",
       "      <td>유동자산</td>\n",
       "      <td>2110794.0</td>\n",
       "      <td>63.12</td>\n",
       "      <td>-15.86</td>\n",
       "      <td>I</td>\n",
       "      <td>20221104</td>\n",
       "      <td>NaN</td>\n",
       "      <td>NaN</td>\n",
       "    </tr>\n",
       "    <tr>\n",
       "      <th>1</th>\n",
       "      <td>3148104968</td>\n",
       "      <td>2</td>\n",
       "      <td>20211019</td>\n",
       "      <td>2016</td>\n",
       "      <td>1</td>\n",
       "      <td>재무상태표</td>\n",
       "      <td>anly</td>\n",
       "      <td>분석형</td>\n",
       "      <td>201612.0</td>\n",
       "      <td>M11100</td>\n",
       "      <td>당좌자산</td>\n",
       "      <td>1967978.0</td>\n",
       "      <td>58.85</td>\n",
       "      <td>-20.91</td>\n",
       "      <td>I</td>\n",
       "      <td>20221104</td>\n",
       "      <td>NaN</td>\n",
       "      <td>NaN</td>\n",
       "    </tr>\n",
       "    <tr>\n",
       "      <th>2</th>\n",
       "      <td>3148104968</td>\n",
       "      <td>3</td>\n",
       "      <td>20211019</td>\n",
       "      <td>2016</td>\n",
       "      <td>1</td>\n",
       "      <td>재무상태표</td>\n",
       "      <td>anly</td>\n",
       "      <td>분석형</td>\n",
       "      <td>201612.0</td>\n",
       "      <td>M11500</td>\n",
       "      <td>재고자산</td>\n",
       "      <td>142816.0</td>\n",
       "      <td>4.27</td>\n",
       "      <td>592.84</td>\n",
       "      <td>I</td>\n",
       "      <td>20221104</td>\n",
       "      <td>NaN</td>\n",
       "      <td>NaN</td>\n",
       "    </tr>\n",
       "    <tr>\n",
       "      <th>3</th>\n",
       "      <td>3148104968</td>\n",
       "      <td>4</td>\n",
       "      <td>20211019</td>\n",
       "      <td>2016</td>\n",
       "      <td>1</td>\n",
       "      <td>재무상태표</td>\n",
       "      <td>anly</td>\n",
       "      <td>분석형</td>\n",
       "      <td>201612.0</td>\n",
       "      <td>M12000</td>\n",
       "      <td>비유동자산</td>\n",
       "      <td>1233239.0</td>\n",
       "      <td>36.88</td>\n",
       "      <td>-0.49</td>\n",
       "      <td>I</td>\n",
       "      <td>20221104</td>\n",
       "      <td>NaN</td>\n",
       "      <td>NaN</td>\n",
       "    </tr>\n",
       "    <tr>\n",
       "      <th>4</th>\n",
       "      <td>3148104968</td>\n",
       "      <td>5</td>\n",
       "      <td>20211019</td>\n",
       "      <td>2016</td>\n",
       "      <td>1</td>\n",
       "      <td>재무상태표</td>\n",
       "      <td>anly</td>\n",
       "      <td>분석형</td>\n",
       "      <td>201612.0</td>\n",
       "      <td>M12100</td>\n",
       "      <td>투자자산</td>\n",
       "      <td>560563.0</td>\n",
       "      <td>16.76</td>\n",
       "      <td>0.00</td>\n",
       "      <td>I</td>\n",
       "      <td>20221104</td>\n",
       "      <td>NaN</td>\n",
       "      <td>NaN</td>\n",
       "    </tr>\n",
       "    <tr>\n",
       "      <th>...</th>\n",
       "      <td>...</td>\n",
       "      <td>...</td>\n",
       "      <td>...</td>\n",
       "      <td>...</td>\n",
       "      <td>...</td>\n",
       "      <td>...</td>\n",
       "      <td>...</td>\n",
       "      <td>...</td>\n",
       "      <td>...</td>\n",
       "      <td>...</td>\n",
       "      <td>...</td>\n",
       "      <td>...</td>\n",
       "      <td>...</td>\n",
       "      <td>...</td>\n",
       "      <td>...</td>\n",
       "      <td>...</td>\n",
       "      <td>...</td>\n",
       "      <td>...</td>\n",
       "    </tr>\n",
       "    <tr>\n",
       "      <th>86347</th>\n",
       "      <td>2158109953</td>\n",
       "      <td>86348</td>\n",
       "      <td>20221022</td>\n",
       "      <td>2017</td>\n",
       "      <td>1</td>\n",
       "      <td>재무상태표</td>\n",
       "      <td>NaN</td>\n",
       "      <td>NaN</td>\n",
       "      <td>201709.0</td>\n",
       "      <td>M12100</td>\n",
       "      <td>투자자산</td>\n",
       "      <td>NaN</td>\n",
       "      <td>NaN</td>\n",
       "      <td>NaN</td>\n",
       "      <td>I</td>\n",
       "      <td>20221104</td>\n",
       "      <td>NaN</td>\n",
       "      <td>NaN</td>\n",
       "    </tr>\n",
       "    <tr>\n",
       "      <th>86348</th>\n",
       "      <td>2158109953</td>\n",
       "      <td>86349</td>\n",
       "      <td>20221022</td>\n",
       "      <td>2017</td>\n",
       "      <td>1</td>\n",
       "      <td>재무상태표</td>\n",
       "      <td>NaN</td>\n",
       "      <td>NaN</td>\n",
       "      <td>201709.0</td>\n",
       "      <td>M14900</td>\n",
       "      <td>자산총계</td>\n",
       "      <td>NaN</td>\n",
       "      <td>NaN</td>\n",
       "      <td>NaN</td>\n",
       "      <td>I</td>\n",
       "      <td>20221104</td>\n",
       "      <td>NaN</td>\n",
       "      <td>NaN</td>\n",
       "    </tr>\n",
       "    <tr>\n",
       "      <th>86349</th>\n",
       "      <td>2158109953</td>\n",
       "      <td>86350</td>\n",
       "      <td>20221022</td>\n",
       "      <td>2017</td>\n",
       "      <td>1</td>\n",
       "      <td>재무상태표</td>\n",
       "      <td>NaN</td>\n",
       "      <td>NaN</td>\n",
       "      <td>201709.0</td>\n",
       "      <td>M15000</td>\n",
       "      <td>유동부채</td>\n",
       "      <td>NaN</td>\n",
       "      <td>NaN</td>\n",
       "      <td>NaN</td>\n",
       "      <td>I</td>\n",
       "      <td>20221104</td>\n",
       "      <td>NaN</td>\n",
       "      <td>NaN</td>\n",
       "    </tr>\n",
       "    <tr>\n",
       "      <th>86350</th>\n",
       "      <td>2158109953</td>\n",
       "      <td>86351</td>\n",
       "      <td>20221022</td>\n",
       "      <td>2017</td>\n",
       "      <td>1</td>\n",
       "      <td>재무상태표</td>\n",
       "      <td>NaN</td>\n",
       "      <td>NaN</td>\n",
       "      <td>201709.0</td>\n",
       "      <td>M16000</td>\n",
       "      <td>비유동부채</td>\n",
       "      <td>NaN</td>\n",
       "      <td>NaN</td>\n",
       "      <td>NaN</td>\n",
       "      <td>I</td>\n",
       "      <td>20221104</td>\n",
       "      <td>NaN</td>\n",
       "      <td>NaN</td>\n",
       "    </tr>\n",
       "    <tr>\n",
       "      <th>86351</th>\n",
       "      <td>2158109953</td>\n",
       "      <td>86352</td>\n",
       "      <td>20221022</td>\n",
       "      <td>2017</td>\n",
       "      <td>1</td>\n",
       "      <td>재무상태표</td>\n",
       "      <td>NaN</td>\n",
       "      <td>NaN</td>\n",
       "      <td>201709.0</td>\n",
       "      <td>M16900</td>\n",
       "      <td>부채총계</td>\n",
       "      <td>NaN</td>\n",
       "      <td>NaN</td>\n",
       "      <td>NaN</td>\n",
       "      <td>I</td>\n",
       "      <td>20221104</td>\n",
       "      <td>NaN</td>\n",
       "      <td>NaN</td>\n",
       "    </tr>\n",
       "  </tbody>\n",
       "</table>\n",
       "<p>86352 rows × 18 columns</p>\n",
       "</div>"
      ],
      "text/plain": [
       "          사업자등록번호     순번   데이터수집일자  조사년도 재무보고서구분코드 재무보고서명칭 상세구분코드 상세구분명칭  \\\n",
       "0      3148104968      1  20211019  2016         1   재무상태표   anly    분석형   \n",
       "1      3148104968      2  20211019  2016         1   재무상태표   anly    분석형   \n",
       "2      3148104968      3  20211019  2016         1   재무상태표   anly    분석형   \n",
       "3      3148104968      4  20211019  2016         1   재무상태표   anly    분석형   \n",
       "4      3148104968      5  20211019  2016         1   재무상태표   anly    분석형   \n",
       "...           ...    ...       ...   ...       ...     ...    ...    ...   \n",
       "86347  2158109953  86348  20221022  2017         1   재무상태표    NaN    NaN   \n",
       "86348  2158109953  86349  20221022  2017         1   재무상태표    NaN    NaN   \n",
       "86349  2158109953  86350  20221022  2017         1   재무상태표    NaN    NaN   \n",
       "86350  2158109953  86351  20221022  2017         1   재무상태표    NaN    NaN   \n",
       "86351  2158109953  86352  20221022  2017         1   재무상태표    NaN    NaN   \n",
       "\n",
       "       재무제표기준년월 재무제표계정과목코드 재무제표계정과목명  재무제표계정과목금액   구성비율     증감율 작업구분코드  \\\n",
       "0      201612.0     M11000      유동자산   2110794.0  63.12  -15.86      I   \n",
       "1      201612.0     M11100      당좌자산   1967978.0  58.85  -20.91      I   \n",
       "2      201612.0     M11500      재고자산    142816.0   4.27  592.84      I   \n",
       "3      201612.0     M12000     비유동자산   1233239.0  36.88   -0.49      I   \n",
       "4      201612.0     M12100      투자자산    560563.0  16.76    0.00      I   \n",
       "...         ...        ...       ...         ...    ...     ...    ...   \n",
       "86347  201709.0     M12100      투자자산         NaN    NaN     NaN      I   \n",
       "86348  201709.0     M14900      자산총계         NaN    NaN     NaN      I   \n",
       "86349  201709.0     M15000      유동부채         NaN    NaN     NaN      I   \n",
       "86350  201709.0     M16000     비유동부채         NaN    NaN     NaN      I   \n",
       "86351  201709.0     M16900      부채총계         NaN    NaN     NaN      I   \n",
       "\n",
       "        데이터생성일자  연계처리상태코드  연계처리일자  \n",
       "0      20221104       NaN     NaN  \n",
       "1      20221104       NaN     NaN  \n",
       "2      20221104       NaN     NaN  \n",
       "3      20221104       NaN     NaN  \n",
       "4      20221104       NaN     NaN  \n",
       "...         ...       ...     ...  \n",
       "86347  20221104       NaN     NaN  \n",
       "86348  20221104       NaN     NaN  \n",
       "86349  20221104       NaN     NaN  \n",
       "86350  20221104       NaN     NaN  \n",
       "86351  20221104       NaN     NaN  \n",
       "\n",
       "[86352 rows x 18 columns]"
      ]
     },
     "execution_count": 124,
     "metadata": {},
     "output_type": "execute_result"
    }
   ],
   "source": [
    "Financial_Statements = pd.read_csv(\"재무제표정보.csv\",index_col=0)\n",
    "Financial_Statements = Financial_Statements.drop_duplicates()\n",
    "Financial_Statements"
   ]
  },
  {
   "cell_type": "code",
   "execution_count": 125,
   "id": "6ca67039-b81b-4d93-92bc-e8ef7228e899",
   "metadata": {},
   "outputs": [
    {
     "name": "stdout",
     "output_type": "stream",
     "text": [
      "<class 'pandas.core.frame.DataFrame'>\n",
      "Int64Index: 86352 entries, 0 to 86351\n",
      "Data columns (total 18 columns):\n",
      " #   Column      Non-Null Count  Dtype  \n",
      "---  ------      --------------  -----  \n",
      " 0   사업자등록번호     86352 non-null  int64  \n",
      " 1   순번          86352 non-null  int64  \n",
      " 2   데이터수집일자     86352 non-null  int64  \n",
      " 3   조사년도        86352 non-null  int64  \n",
      " 4   재무보고서구분코드   86352 non-null  object \n",
      " 5   재무보고서명칭     86352 non-null  object \n",
      " 6   상세구분코드      70529 non-null  object \n",
      " 7   상세구분명칭      70529 non-null  object \n",
      " 8   재무제표기준년월    74616 non-null  float64\n",
      " 9   재무제표계정과목코드  74616 non-null  object \n",
      " 10  재무제표계정과목명   74616 non-null  object \n",
      " 11  재무제표계정과목금액  58793 non-null  float64\n",
      " 12  구성비율        55045 non-null  float64\n",
      " 13  증감율         55105 non-null  float64\n",
      " 14  작업구분코드      86352 non-null  object \n",
      " 15  데이터생성일자     86352 non-null  int64  \n",
      " 16  연계처리상태코드    0 non-null      float64\n",
      " 17  연계처리일자      0 non-null      float64\n",
      "dtypes: float64(6), int64(5), object(7)\n",
      "memory usage: 12.5+ MB\n"
     ]
    }
   ],
   "source": [
    "Financial_Statements.info()"
   ]
  },
  {
   "cell_type": "code",
   "execution_count": 126,
   "id": "7afd1df3-979d-40ed-9d29-827df07784b0",
   "metadata": {},
   "outputs": [
    {
     "data": {
      "text/plain": [
       "Index(['사업자등록번호', '순번', '데이터수집일자', '조사년도', '재무보고서구분코드', '재무보고서명칭', '상세구분코드',\n",
       "       '상세구분명칭', '재무제표기준년월', '재무제표계정과목코드', '재무제표계정과목명', '재무제표계정과목금액', '구성비율',\n",
       "       '증감율', '작업구분코드', '데이터생성일자', '연계처리상태코드', '연계처리일자'],\n",
       "      dtype='object')"
      ]
     },
     "execution_count": 126,
     "metadata": {},
     "output_type": "execute_result"
    }
   ],
   "source": [
    "Financial_Statements.columns"
   ]
  },
  {
   "cell_type": "code",
   "execution_count": 127,
   "id": "a9c36761-9e0b-466b-bc4f-f43229ec3a94",
   "metadata": {},
   "outputs": [
    {
     "data": {
      "text/plain": [
       "사업자등록번호           0\n",
       "순번                0\n",
       "데이터수집일자           0\n",
       "조사년도              0\n",
       "재무보고서구분코드         0\n",
       "재무보고서명칭           0\n",
       "상세구분코드        15823\n",
       "상세구분명칭        15823\n",
       "재무제표기준년월      11736\n",
       "재무제표계정과목코드    11736\n",
       "재무제표계정과목명     11736\n",
       "재무제표계정과목금액    27559\n",
       "구성비율          31307\n",
       "증감율           31247\n",
       "작업구분코드            0\n",
       "데이터생성일자           0\n",
       "연계처리상태코드      86352\n",
       "연계처리일자        86352\n",
       "dtype: int64"
      ]
     },
     "execution_count": 127,
     "metadata": {},
     "output_type": "execute_result"
    }
   ],
   "source": [
    "Financial_Statements.isnull().sum()"
   ]
  },
  {
   "cell_type": "markdown",
   "id": "4c5e8737",
   "metadata": {},
   "source": [
    "#### ✅**재무제표기준년도 컬럼생성**"
   ]
  },
  {
   "cell_type": "code",
   "execution_count": 128,
   "id": "41032253",
   "metadata": {},
   "outputs": [
    {
     "data": {
      "text/html": [
       "<div>\n",
       "<style scoped>\n",
       "    .dataframe tbody tr th:only-of-type {\n",
       "        vertical-align: middle;\n",
       "    }\n",
       "\n",
       "    .dataframe tbody tr th {\n",
       "        vertical-align: top;\n",
       "    }\n",
       "\n",
       "    .dataframe thead th {\n",
       "        text-align: right;\n",
       "    }\n",
       "</style>\n",
       "<table border=\"1\" class=\"dataframe\">\n",
       "  <thead>\n",
       "    <tr style=\"text-align: right;\">\n",
       "      <th></th>\n",
       "      <th>사업자등록번호</th>\n",
       "      <th>순번</th>\n",
       "      <th>데이터수집일자</th>\n",
       "      <th>조사년도</th>\n",
       "      <th>재무보고서구분코드</th>\n",
       "      <th>재무보고서명칭</th>\n",
       "      <th>상세구분코드</th>\n",
       "      <th>상세구분명칭</th>\n",
       "      <th>재무제표기준년월</th>\n",
       "      <th>재무제표계정과목코드</th>\n",
       "      <th>재무제표계정과목명</th>\n",
       "      <th>재무제표계정과목금액</th>\n",
       "      <th>구성비율</th>\n",
       "      <th>증감율</th>\n",
       "      <th>작업구분코드</th>\n",
       "      <th>데이터생성일자</th>\n",
       "      <th>연계처리상태코드</th>\n",
       "      <th>연계처리일자</th>\n",
       "      <th>재무제표기준년도</th>\n",
       "    </tr>\n",
       "  </thead>\n",
       "  <tbody>\n",
       "    <tr>\n",
       "      <th>0</th>\n",
       "      <td>3148104968</td>\n",
       "      <td>1</td>\n",
       "      <td>20211019</td>\n",
       "      <td>2016</td>\n",
       "      <td>1</td>\n",
       "      <td>재무상태표</td>\n",
       "      <td>anly</td>\n",
       "      <td>분석형</td>\n",
       "      <td>201612.0</td>\n",
       "      <td>M11000</td>\n",
       "      <td>유동자산</td>\n",
       "      <td>2110794.0</td>\n",
       "      <td>63.12</td>\n",
       "      <td>-15.86</td>\n",
       "      <td>I</td>\n",
       "      <td>20221104</td>\n",
       "      <td>NaN</td>\n",
       "      <td>NaN</td>\n",
       "      <td>2016.0</td>\n",
       "    </tr>\n",
       "    <tr>\n",
       "      <th>1</th>\n",
       "      <td>3148104968</td>\n",
       "      <td>2</td>\n",
       "      <td>20211019</td>\n",
       "      <td>2016</td>\n",
       "      <td>1</td>\n",
       "      <td>재무상태표</td>\n",
       "      <td>anly</td>\n",
       "      <td>분석형</td>\n",
       "      <td>201612.0</td>\n",
       "      <td>M11100</td>\n",
       "      <td>당좌자산</td>\n",
       "      <td>1967978.0</td>\n",
       "      <td>58.85</td>\n",
       "      <td>-20.91</td>\n",
       "      <td>I</td>\n",
       "      <td>20221104</td>\n",
       "      <td>NaN</td>\n",
       "      <td>NaN</td>\n",
       "      <td>2016.0</td>\n",
       "    </tr>\n",
       "    <tr>\n",
       "      <th>2</th>\n",
       "      <td>3148104968</td>\n",
       "      <td>3</td>\n",
       "      <td>20211019</td>\n",
       "      <td>2016</td>\n",
       "      <td>1</td>\n",
       "      <td>재무상태표</td>\n",
       "      <td>anly</td>\n",
       "      <td>분석형</td>\n",
       "      <td>201612.0</td>\n",
       "      <td>M11500</td>\n",
       "      <td>재고자산</td>\n",
       "      <td>142816.0</td>\n",
       "      <td>4.27</td>\n",
       "      <td>592.84</td>\n",
       "      <td>I</td>\n",
       "      <td>20221104</td>\n",
       "      <td>NaN</td>\n",
       "      <td>NaN</td>\n",
       "      <td>2016.0</td>\n",
       "    </tr>\n",
       "    <tr>\n",
       "      <th>3</th>\n",
       "      <td>3148104968</td>\n",
       "      <td>4</td>\n",
       "      <td>20211019</td>\n",
       "      <td>2016</td>\n",
       "      <td>1</td>\n",
       "      <td>재무상태표</td>\n",
       "      <td>anly</td>\n",
       "      <td>분석형</td>\n",
       "      <td>201612.0</td>\n",
       "      <td>M12000</td>\n",
       "      <td>비유동자산</td>\n",
       "      <td>1233239.0</td>\n",
       "      <td>36.88</td>\n",
       "      <td>-0.49</td>\n",
       "      <td>I</td>\n",
       "      <td>20221104</td>\n",
       "      <td>NaN</td>\n",
       "      <td>NaN</td>\n",
       "      <td>2016.0</td>\n",
       "    </tr>\n",
       "    <tr>\n",
       "      <th>4</th>\n",
       "      <td>3148104968</td>\n",
       "      <td>5</td>\n",
       "      <td>20211019</td>\n",
       "      <td>2016</td>\n",
       "      <td>1</td>\n",
       "      <td>재무상태표</td>\n",
       "      <td>anly</td>\n",
       "      <td>분석형</td>\n",
       "      <td>201612.0</td>\n",
       "      <td>M12100</td>\n",
       "      <td>투자자산</td>\n",
       "      <td>560563.0</td>\n",
       "      <td>16.76</td>\n",
       "      <td>0.00</td>\n",
       "      <td>I</td>\n",
       "      <td>20221104</td>\n",
       "      <td>NaN</td>\n",
       "      <td>NaN</td>\n",
       "      <td>2016.0</td>\n",
       "    </tr>\n",
       "    <tr>\n",
       "      <th>...</th>\n",
       "      <td>...</td>\n",
       "      <td>...</td>\n",
       "      <td>...</td>\n",
       "      <td>...</td>\n",
       "      <td>...</td>\n",
       "      <td>...</td>\n",
       "      <td>...</td>\n",
       "      <td>...</td>\n",
       "      <td>...</td>\n",
       "      <td>...</td>\n",
       "      <td>...</td>\n",
       "      <td>...</td>\n",
       "      <td>...</td>\n",
       "      <td>...</td>\n",
       "      <td>...</td>\n",
       "      <td>...</td>\n",
       "      <td>...</td>\n",
       "      <td>...</td>\n",
       "      <td>...</td>\n",
       "    </tr>\n",
       "    <tr>\n",
       "      <th>86347</th>\n",
       "      <td>2158109953</td>\n",
       "      <td>86348</td>\n",
       "      <td>20221022</td>\n",
       "      <td>2017</td>\n",
       "      <td>1</td>\n",
       "      <td>재무상태표</td>\n",
       "      <td>NaN</td>\n",
       "      <td>NaN</td>\n",
       "      <td>201709.0</td>\n",
       "      <td>M12100</td>\n",
       "      <td>투자자산</td>\n",
       "      <td>NaN</td>\n",
       "      <td>NaN</td>\n",
       "      <td>NaN</td>\n",
       "      <td>I</td>\n",
       "      <td>20221104</td>\n",
       "      <td>NaN</td>\n",
       "      <td>NaN</td>\n",
       "      <td>2017.0</td>\n",
       "    </tr>\n",
       "    <tr>\n",
       "      <th>86348</th>\n",
       "      <td>2158109953</td>\n",
       "      <td>86349</td>\n",
       "      <td>20221022</td>\n",
       "      <td>2017</td>\n",
       "      <td>1</td>\n",
       "      <td>재무상태표</td>\n",
       "      <td>NaN</td>\n",
       "      <td>NaN</td>\n",
       "      <td>201709.0</td>\n",
       "      <td>M14900</td>\n",
       "      <td>자산총계</td>\n",
       "      <td>NaN</td>\n",
       "      <td>NaN</td>\n",
       "      <td>NaN</td>\n",
       "      <td>I</td>\n",
       "      <td>20221104</td>\n",
       "      <td>NaN</td>\n",
       "      <td>NaN</td>\n",
       "      <td>2017.0</td>\n",
       "    </tr>\n",
       "    <tr>\n",
       "      <th>86349</th>\n",
       "      <td>2158109953</td>\n",
       "      <td>86350</td>\n",
       "      <td>20221022</td>\n",
       "      <td>2017</td>\n",
       "      <td>1</td>\n",
       "      <td>재무상태표</td>\n",
       "      <td>NaN</td>\n",
       "      <td>NaN</td>\n",
       "      <td>201709.0</td>\n",
       "      <td>M15000</td>\n",
       "      <td>유동부채</td>\n",
       "      <td>NaN</td>\n",
       "      <td>NaN</td>\n",
       "      <td>NaN</td>\n",
       "      <td>I</td>\n",
       "      <td>20221104</td>\n",
       "      <td>NaN</td>\n",
       "      <td>NaN</td>\n",
       "      <td>2017.0</td>\n",
       "    </tr>\n",
       "    <tr>\n",
       "      <th>86350</th>\n",
       "      <td>2158109953</td>\n",
       "      <td>86351</td>\n",
       "      <td>20221022</td>\n",
       "      <td>2017</td>\n",
       "      <td>1</td>\n",
       "      <td>재무상태표</td>\n",
       "      <td>NaN</td>\n",
       "      <td>NaN</td>\n",
       "      <td>201709.0</td>\n",
       "      <td>M16000</td>\n",
       "      <td>비유동부채</td>\n",
       "      <td>NaN</td>\n",
       "      <td>NaN</td>\n",
       "      <td>NaN</td>\n",
       "      <td>I</td>\n",
       "      <td>20221104</td>\n",
       "      <td>NaN</td>\n",
       "      <td>NaN</td>\n",
       "      <td>2017.0</td>\n",
       "    </tr>\n",
       "    <tr>\n",
       "      <th>86351</th>\n",
       "      <td>2158109953</td>\n",
       "      <td>86352</td>\n",
       "      <td>20221022</td>\n",
       "      <td>2017</td>\n",
       "      <td>1</td>\n",
       "      <td>재무상태표</td>\n",
       "      <td>NaN</td>\n",
       "      <td>NaN</td>\n",
       "      <td>201709.0</td>\n",
       "      <td>M16900</td>\n",
       "      <td>부채총계</td>\n",
       "      <td>NaN</td>\n",
       "      <td>NaN</td>\n",
       "      <td>NaN</td>\n",
       "      <td>I</td>\n",
       "      <td>20221104</td>\n",
       "      <td>NaN</td>\n",
       "      <td>NaN</td>\n",
       "      <td>2017.0</td>\n",
       "    </tr>\n",
       "  </tbody>\n",
       "</table>\n",
       "<p>86352 rows × 19 columns</p>\n",
       "</div>"
      ],
      "text/plain": [
       "          사업자등록번호     순번   데이터수집일자  조사년도 재무보고서구분코드 재무보고서명칭 상세구분코드 상세구분명칭  \\\n",
       "0      3148104968      1  20211019  2016         1   재무상태표   anly    분석형   \n",
       "1      3148104968      2  20211019  2016         1   재무상태표   anly    분석형   \n",
       "2      3148104968      3  20211019  2016         1   재무상태표   anly    분석형   \n",
       "3      3148104968      4  20211019  2016         1   재무상태표   anly    분석형   \n",
       "4      3148104968      5  20211019  2016         1   재무상태표   anly    분석형   \n",
       "...           ...    ...       ...   ...       ...     ...    ...    ...   \n",
       "86347  2158109953  86348  20221022  2017         1   재무상태표    NaN    NaN   \n",
       "86348  2158109953  86349  20221022  2017         1   재무상태표    NaN    NaN   \n",
       "86349  2158109953  86350  20221022  2017         1   재무상태표    NaN    NaN   \n",
       "86350  2158109953  86351  20221022  2017         1   재무상태표    NaN    NaN   \n",
       "86351  2158109953  86352  20221022  2017         1   재무상태표    NaN    NaN   \n",
       "\n",
       "       재무제표기준년월 재무제표계정과목코드 재무제표계정과목명  재무제표계정과목금액   구성비율     증감율 작업구분코드  \\\n",
       "0      201612.0     M11000      유동자산   2110794.0  63.12  -15.86      I   \n",
       "1      201612.0     M11100      당좌자산   1967978.0  58.85  -20.91      I   \n",
       "2      201612.0     M11500      재고자산    142816.0   4.27  592.84      I   \n",
       "3      201612.0     M12000     비유동자산   1233239.0  36.88   -0.49      I   \n",
       "4      201612.0     M12100      투자자산    560563.0  16.76    0.00      I   \n",
       "...         ...        ...       ...         ...    ...     ...    ...   \n",
       "86347  201709.0     M12100      투자자산         NaN    NaN     NaN      I   \n",
       "86348  201709.0     M14900      자산총계         NaN    NaN     NaN      I   \n",
       "86349  201709.0     M15000      유동부채         NaN    NaN     NaN      I   \n",
       "86350  201709.0     M16000     비유동부채         NaN    NaN     NaN      I   \n",
       "86351  201709.0     M16900      부채총계         NaN    NaN     NaN      I   \n",
       "\n",
       "        데이터생성일자  연계처리상태코드  연계처리일자  재무제표기준년도  \n",
       "0      20221104       NaN     NaN    2016.0  \n",
       "1      20221104       NaN     NaN    2016.0  \n",
       "2      20221104       NaN     NaN    2016.0  \n",
       "3      20221104       NaN     NaN    2016.0  \n",
       "4      20221104       NaN     NaN    2016.0  \n",
       "...         ...       ...     ...       ...  \n",
       "86347  20221104       NaN     NaN    2017.0  \n",
       "86348  20221104       NaN     NaN    2017.0  \n",
       "86349  20221104       NaN     NaN    2017.0  \n",
       "86350  20221104       NaN     NaN    2017.0  \n",
       "86351  20221104       NaN     NaN    2017.0  \n",
       "\n",
       "[86352 rows x 19 columns]"
      ]
     },
     "execution_count": 128,
     "metadata": {},
     "output_type": "execute_result"
    }
   ],
   "source": [
    "Financial_Statements['재무제표기준년도'] =pd.to_datetime(Financial_Statements.재무제표기준년월,format='%Y%m').dt.year\n",
    "Financial_Statements"
   ]
  },
  {
   "cell_type": "markdown",
   "id": "14258f61-a768-4e3b-9dbe-2d9eb39a553e",
   "metadata": {},
   "source": [
    "#### ✅**재무제표계정과목명 개수 및 사업자등록번호 당 존재하는 개수**"
   ]
  },
  {
   "cell_type": "code",
   "execution_count": 129,
   "id": "f1efa39d-9006-4016-a3e7-e9e415a4c3a1",
   "metadata": {},
   "outputs": [
    {
     "data": {
      "text/plain": [
       "array(['유동자산', '당좌자산', '재고자산', '비유동자산', '투자자산', '유형자산', '기타비유동자산', '자산총계',\n",
       "       '유동부채', '무형자산', '비유동부채', '자본금', '현금과예치금', '유가증권', '투자유가증권(매도가능증권)',\n",
       "       '지분법적용투자주식', '기타유가증권', '대출채권', '고정자산', '자본총계', '자본잉여금', '매출액',\n",
       "       '영업외수익', '부채총계', '부채와자본총계', '기타포괄손익누계액', nan, '매출원가', '판매비와관리비',\n",
       "       '영업외비용', '법인세비용차감전순손익', '투자활동으로인한현금흐름', '투자활동으로인한현금유입액',\n",
       "       '투자활동으로인한현금유출액', '재무활동으로인한현금흐름', '재무활동으로인한현금유입액', '재무활동으로인한현금유출액',\n",
       "       '기초의현금', '기말의현금', '영업활동으로인한현금흐름', '법인세비용', '자본조정',\n",
       "       '현금의유출이없는비용등의가산', '현금의유입이없는수익등의차감', '합계', '고정부채', '영업수익', '영업비용',\n",
       "       '임대주택자산', '특별손실', '이익잉여금', '매출총이익', '영업이익', '계속사업이익', '당기순이익',\n",
       "       '현금의증가', '이연부채', '이연자산', '투자유가증권', '기타자산', '현금및예치금', '단기매매증권',\n",
       "       '매도가능증권', '예수부채', '예수금', '기타부채', '매출채권', '원재료', '인건비', '이자비용',\n",
       "       '당기순이익(손실)', '노무비', '대손상각비', '당좌부채(당좌차월)', '제조경비', '제조원가',\n",
       "       '총자산 증가율', '유형자산 증가율', '매출 증가율', '총자산', '자기자본', '차입금', '유동비율'],\n",
       "      dtype=object)"
      ]
     },
     "execution_count": 129,
     "metadata": {},
     "output_type": "execute_result"
    }
   ],
   "source": [
    "Financial_Statements.재무제표계정과목명.unique()"
   ]
  },
  {
   "cell_type": "code",
   "execution_count": 130,
   "id": "4c9ba05f-448a-4b84-90d5-d5b40ea21a4e",
   "metadata": {},
   "outputs": [
    {
     "name": "stdout",
     "output_type": "stream",
     "text": [
      "[['유동자산', 7720], ['당좌자산', 7602], ['재고자산', 3869], ['비유동자산', 5728], ['투자자산', 4699], ['유형자산', 5198], ['기타비유동자산', 5075], ['자산총계', 7226], ['유동부채', 6044], ['무형자산', 2655], ['비유동부채', 2285], ['자본금', 1277], ['자본총계', 1042], ['매출액', 1143], ['부채총계', 2381], ['이익잉여금', 1133], ['매출채권', 1396]] \n",
      "\n",
      "['유동자산', '당좌자산', '재고자산', '비유동자산', '투자자산', '유형자산', '기타비유동자산', '자산총계', '유동부채', '무형자산', '비유동부채', '자본금', '자본총계', '매출액', '부채총계', '이익잉여금', '매출채권']\n",
      "[['유동자산', 7720], ['당좌자산', 7602], ['재고자산', 3869], ['비유동자산', 5728], ['투자자산', 4699], ['유형자산', 5198], ['기타비유동자산', 5075], ['자산총계', 7226], ['유동부채', 6044], ['무형자산', 2655], ['비유동부채', 2285], ['자본금', 1277], ['현금과예치금', 2], ['유가증권', 4], ['투자유가증권(매도가능증권)', 1], ['지분법적용투자주식', 1], ['기타유가증권', 2], ['대출채권', 4], ['고정자산', 7], ['자본총계', 1042], ['자본잉여금', 155], ['매출액', 1143], ['영업외수익', 800], ['부채총계', 2381], ['부채와자본총계', 40], ['기타포괄손익누계액', 16], ['매출원가', 723], ['판매비와관리비', 880], ['영업외비용', 783], ['법인세비용차감전순손익', 767], ['투자활동으로인한현금흐름', 82], ['투자활동으로인한현금유입액', 77], ['투자활동으로인한현금유출액', 77], ['재무활동으로인한현금흐름', 74], ['재무활동으로인한현금유입액', 56], ['재무활동으로인한현금유출액', 41], ['기초의현금', 24], ['기말의현금', 8], ['영업활동으로인한현금흐름', 93], ['법인세비용', 443], ['자본조정', 42], ['현금의유출이없는비용등의가산', 88], ['현금의유입이없는수익등의차감', 67], ['합계', 43], ['고정부채', 3], ['영업수익', 1], ['영업비용', 1], ['임대주택자산', 5], ['특별손실', 2], ['이익잉여금', 1133], ['매출총이익', 367], ['영업이익', 339], ['계속사업이익', 158], ['당기순이익', 71], ['현금의증가', 4], ['이연부채', 1], ['이연자산', 1], ['투자유가증권', 2], ['기타자산', 3], ['현금및예치금', 2], ['단기매매증권', 1], ['매도가능증권', 1], ['예수부채', 1], ['예수금', 1], ['기타부채', 1], ['매출채권', 1396], ['원재료', 401], ['인건비', 29], ['이자비용', 22], ['당기순이익(손실)', 29], ['노무비', 20], ['대손상각비', 6], ['당좌부채(당좌차월)', 5], ['제조경비', 20], ['제조원가', 18], ['총자산 증가율', 45], ['유형자산 증가율', 40], ['매출 증가율', 40], ['총자산', 37], ['자기자본', 35], ['차입금', 30], ['유동비율', 28]]\n"
     ]
    }
   ],
   "source": [
    "jeje = ['유동자산', '당좌자산', '재고자산', '비유동자산', '투자자산', '유형자산', '기타비유동자산', '자산총계',\n",
    "       '유동부채', '무형자산', '비유동부채', '자본금', '현금과예치금', '유가증권', '투자유가증권(매도가능증권)',\n",
    "       '지분법적용투자주식', '기타유가증권', '대출채권', '고정자산', '자본총계', '자본잉여금', '매출액',\n",
    "       '영업외수익', '부채총계', '부채와자본총계', '기타포괄손익누계액', '매출원가', '판매비와관리비',\n",
    "       '영업외비용', '법인세비용차감전순손익', '투자활동으로인한현금흐름', '투자활동으로인한현금유입액',\n",
    "       '투자활동으로인한현금유출액', '재무활동으로인한현금흐름', '재무활동으로인한현금유입액', '재무활동으로인한현금유출액',\n",
    "       '기초의현금', '기말의현금', '영업활동으로인한현금흐름', '법인세비용', '자본조정',\n",
    "       '현금의유출이없는비용등의가산', '현금의유입이없는수익등의차감', '합계', '고정부채', '영업수익', '영업비용',\n",
    "       '임대주택자산', '특별손실', '이익잉여금', '매출총이익', '영업이익', '계속사업이익', '당기순이익',\n",
    "       '현금의증가', '이연부채', '이연자산', '투자유가증권', '기타자산', '현금및예치금', '단기매매증권',\n",
    "       '매도가능증권', '예수부채', '예수금', '기타부채', '매출채권', '원재료', '인건비', '이자비용',\n",
    "       '당기순이익(손실)', '노무비', '대손상각비', '당좌부채(당좌차월)', '제조경비', '제조원가',\n",
    "       '총자산 증가율', '유형자산 증가율', '매출 증가율', '총자산', '자기자본', '차입금', '유동비율']\n",
    "\n",
    "jeje_c = []\n",
    "all_jeje = []\n",
    "s = []\n",
    "l = []\n",
    "for i in range(len(jeje)):\n",
    "    s.append(len(Financial_Statements[Financial_Statements.재무제표계정과목명 == jeje[i]].사업자등록번호.unique()))\n",
    "    all_jeje.append([jeje[i],len(Financial_Statements[Financial_Statements.재무제표계정과목명 == jeje[i]].사업자등록번호.unique())])\n",
    "    if len(Financial_Statements[Financial_Statements.재무제표계정과목명 == jeje[i]].사업자등록번호.unique()) > 1000:\n",
    "        l.append(jeje[i])\n",
    "        jeje_c.append([jeje[i],len(Financial_Statements[Financial_Statements.재무제표계정과목명 == jeje[i]].사업자등록번호.unique())])\n",
    "print(jeje_c,\"\\n\")\n",
    "\n",
    "print(l)\n",
    "print(all_jeje)"
   ]
  },
  {
   "cell_type": "markdown",
   "id": "2e4bee73-1040-4604-bd3b-36f1a25d0132",
   "metadata": {},
   "source": [
    "#### ✅**재무재표에서 필요한 데이터 추출하여 컬럼만들기**\n",
    "- 자기자본비율 : 자기자본(=총자본) / 총자산 * 100\n",
    "- 부채비율 : 부채총계 / 자본총계 * 100\n",
    "- 유동비율 : 유동자산 / 유동부채 * 100\n",
    "- 당좌비율 : 당좌자산 / 유동자산 * 100\n",
    "- 매출영업이익률 : 영업이익 / 매출액 * 100\n",
    "- 재고자산회전율 : 매출액 /  재고자산 * 100\n",
    "- 순운전자본대총자본비율 : (유동자산 - 유동부채) / 총자본 * 100\n",
    "- 총자산회전율 : 매출액 / 총자산 * 100"
   ]
  },
  {
   "cell_type": "code",
   "execution_count": 131,
   "id": "115d6de1",
   "metadata": {},
   "outputs": [
    {
     "data": {
      "text/plain": [
       "Index(['사업자등록번호', '순번', '데이터수집일자', '조사년도', '재무보고서구분코드', '재무보고서명칭', '상세구분코드',\n",
       "       '상세구분명칭', '재무제표기준년월', '재무제표계정과목코드', '재무제표계정과목명', '재무제표계정과목금액', '구성비율',\n",
       "       '증감율', '작업구분코드', '데이터생성일자', '연계처리상태코드', '연계처리일자', '재무제표기준년도'],\n",
       "      dtype='object')"
      ]
     },
     "execution_count": 131,
     "metadata": {},
     "output_type": "execute_result"
    }
   ],
   "source": [
    "Financial_Statements.columns"
   ]
  },
  {
   "cell_type": "code",
   "execution_count": 132,
   "id": "0629213e-abfa-4ed4-9cbc-ef0cefbe2fa0",
   "metadata": {},
   "outputs": [
    {
     "data": {
      "text/html": [
       "<div>\n",
       "<style scoped>\n",
       "    .dataframe tbody tr th:only-of-type {\n",
       "        vertical-align: middle;\n",
       "    }\n",
       "\n",
       "    .dataframe tbody tr th {\n",
       "        vertical-align: top;\n",
       "    }\n",
       "\n",
       "    .dataframe thead th {\n",
       "        text-align: right;\n",
       "    }\n",
       "</style>\n",
       "<table border=\"1\" class=\"dataframe\">\n",
       "  <thead>\n",
       "    <tr style=\"text-align: right;\">\n",
       "      <th></th>\n",
       "      <th>사업자등록번호</th>\n",
       "      <th>재무제표기준년도</th>\n",
       "      <th>재무제표계정과목명</th>\n",
       "      <th>재무제표계정과목금액</th>\n",
       "    </tr>\n",
       "  </thead>\n",
       "  <tbody>\n",
       "    <tr>\n",
       "      <th>0</th>\n",
       "      <td>3148104968</td>\n",
       "      <td>2016.0</td>\n",
       "      <td>유동자산</td>\n",
       "      <td>2110794.0</td>\n",
       "    </tr>\n",
       "    <tr>\n",
       "      <th>1</th>\n",
       "      <td>3148104968</td>\n",
       "      <td>2016.0</td>\n",
       "      <td>당좌자산</td>\n",
       "      <td>1967978.0</td>\n",
       "    </tr>\n",
       "    <tr>\n",
       "      <th>2</th>\n",
       "      <td>3148104968</td>\n",
       "      <td>2016.0</td>\n",
       "      <td>재고자산</td>\n",
       "      <td>142816.0</td>\n",
       "    </tr>\n",
       "    <tr>\n",
       "      <th>3</th>\n",
       "      <td>3148104968</td>\n",
       "      <td>2016.0</td>\n",
       "      <td>비유동자산</td>\n",
       "      <td>1233239.0</td>\n",
       "    </tr>\n",
       "    <tr>\n",
       "      <th>4</th>\n",
       "      <td>3148104968</td>\n",
       "      <td>2016.0</td>\n",
       "      <td>투자자산</td>\n",
       "      <td>560563.0</td>\n",
       "    </tr>\n",
       "    <tr>\n",
       "      <th>...</th>\n",
       "      <td>...</td>\n",
       "      <td>...</td>\n",
       "      <td>...</td>\n",
       "      <td>...</td>\n",
       "    </tr>\n",
       "    <tr>\n",
       "      <th>86347</th>\n",
       "      <td>2158109953</td>\n",
       "      <td>2017.0</td>\n",
       "      <td>투자자산</td>\n",
       "      <td>NaN</td>\n",
       "    </tr>\n",
       "    <tr>\n",
       "      <th>86348</th>\n",
       "      <td>2158109953</td>\n",
       "      <td>2017.0</td>\n",
       "      <td>자산총계</td>\n",
       "      <td>NaN</td>\n",
       "    </tr>\n",
       "    <tr>\n",
       "      <th>86349</th>\n",
       "      <td>2158109953</td>\n",
       "      <td>2017.0</td>\n",
       "      <td>유동부채</td>\n",
       "      <td>NaN</td>\n",
       "    </tr>\n",
       "    <tr>\n",
       "      <th>86350</th>\n",
       "      <td>2158109953</td>\n",
       "      <td>2017.0</td>\n",
       "      <td>비유동부채</td>\n",
       "      <td>NaN</td>\n",
       "    </tr>\n",
       "    <tr>\n",
       "      <th>86351</th>\n",
       "      <td>2158109953</td>\n",
       "      <td>2017.0</td>\n",
       "      <td>부채총계</td>\n",
       "      <td>NaN</td>\n",
       "    </tr>\n",
       "  </tbody>\n",
       "</table>\n",
       "<p>85767 rows × 4 columns</p>\n",
       "</div>"
      ],
      "text/plain": [
       "          사업자등록번호  재무제표기준년도 재무제표계정과목명  재무제표계정과목금액\n",
       "0      3148104968    2016.0      유동자산   2110794.0\n",
       "1      3148104968    2016.0      당좌자산   1967978.0\n",
       "2      3148104968    2016.0      재고자산    142816.0\n",
       "3      3148104968    2016.0     비유동자산   1233239.0\n",
       "4      3148104968    2016.0      투자자산    560563.0\n",
       "...           ...       ...       ...         ...\n",
       "86347  2158109953    2017.0      투자자산         NaN\n",
       "86348  2158109953    2017.0      자산총계         NaN\n",
       "86349  2158109953    2017.0      유동부채         NaN\n",
       "86350  2158109953    2017.0     비유동부채         NaN\n",
       "86351  2158109953    2017.0      부채총계         NaN\n",
       "\n",
       "[85767 rows x 4 columns]"
      ]
     },
     "execution_count": 132,
     "metadata": {},
     "output_type": "execute_result"
    }
   ],
   "source": [
    "F_S = Financial_Statements[Financial_Statements.사업자등록번호.isin(df.사업자등록번호)][['사업자등록번호','재무제표기준년도','재무제표계정과목명','재무제표계정과목금액']]\n",
    "F_S"
   ]
  },
  {
   "cell_type": "code",
   "execution_count": 133,
   "id": "1ed6d1ff",
   "metadata": {},
   "outputs": [
    {
     "name": "stdout",
     "output_type": "stream",
     "text": [
      "9837\n",
      "9555\n"
     ]
    }
   ],
   "source": [
    "print(len(df.사업자등록번호.unique().tolist()))\n",
    "print(len(F_S.사업자등록번호.unique().tolist()))"
   ]
  },
  {
   "cell_type": "code",
   "execution_count": 134,
   "id": "cdc8e872",
   "metadata": {
    "tags": []
   },
   "outputs": [
    {
     "name": "stdout",
     "output_type": "stream",
     "text": [
      "9837 (9837, 16)\n"
     ]
    },
    {
     "data": {
      "text/html": [
       "<div>\n",
       "<style scoped>\n",
       "    .dataframe tbody tr th:only-of-type {\n",
       "        vertical-align: middle;\n",
       "    }\n",
       "\n",
       "    .dataframe tbody tr th {\n",
       "        vertical-align: top;\n",
       "    }\n",
       "\n",
       "    .dataframe thead th {\n",
       "        text-align: right;\n",
       "    }\n",
       "</style>\n",
       "<table border=\"1\" class=\"dataframe\">\n",
       "  <thead>\n",
       "    <tr style=\"text-align: right;\">\n",
       "      <th></th>\n",
       "      <th>사업자등록번호</th>\n",
       "      <th>종업원수</th>\n",
       "      <th>종업원그룹</th>\n",
       "      <th>업력</th>\n",
       "      <th>성장단계</th>\n",
       "      <th>산업대분류</th>\n",
       "      <th>기업규모</th>\n",
       "      <th>기업형태</th>\n",
       "      <th>CRI등급</th>\n",
       "      <th>매출액</th>\n",
       "      <th>영업이익</th>\n",
       "      <th>자본총계금액</th>\n",
       "      <th>부채총계금액</th>\n",
       "      <th>자산총계금액</th>\n",
       "      <th>자산총계그룹화</th>\n",
       "      <th>유동자산</th>\n",
       "    </tr>\n",
       "  </thead>\n",
       "  <tbody>\n",
       "    <tr>\n",
       "      <th>867</th>\n",
       "      <td>8998803795</td>\n",
       "      <td>28.0</td>\n",
       "      <td>2</td>\n",
       "      <td>6.000000</td>\n",
       "      <td>성장보육형</td>\n",
       "      <td>58</td>\n",
       "      <td>중소기업</td>\n",
       "      <td>일반</td>\n",
       "      <td>A3</td>\n",
       "      <td>1.011463e+06</td>\n",
       "      <td>-814679.000000</td>\n",
       "      <td>4.013322e+06</td>\n",
       "      <td>1.371980e+05</td>\n",
       "      <td>4.150520e+06</td>\n",
       "      <td>4</td>\n",
       "      <td>2535306.0</td>\n",
       "    </tr>\n",
       "    <tr>\n",
       "      <th>9132</th>\n",
       "      <td>8998708313</td>\n",
       "      <td>10.0</td>\n",
       "      <td>5</td>\n",
       "      <td>8.000000</td>\n",
       "      <td>자립성장형</td>\n",
       "      <td>41</td>\n",
       "      <td>중소기업</td>\n",
       "      <td>일반</td>\n",
       "      <td>B1</td>\n",
       "      <td>6.813497e+06</td>\n",
       "      <td>133499.000000</td>\n",
       "      <td>8.795830e+05</td>\n",
       "      <td>2.642710e+05</td>\n",
       "      <td>1.143854e+06</td>\n",
       "      <td>7</td>\n",
       "      <td>NaN</td>\n",
       "    </tr>\n",
       "    <tr>\n",
       "      <th>865</th>\n",
       "      <td>8998707411</td>\n",
       "      <td>9.0</td>\n",
       "      <td>6</td>\n",
       "      <td>8.000000</td>\n",
       "      <td>정체형</td>\n",
       "      <td>70</td>\n",
       "      <td>중소기업</td>\n",
       "      <td>일반</td>\n",
       "      <td>C3</td>\n",
       "      <td>1.569800e+04</td>\n",
       "      <td>-369271.000000</td>\n",
       "      <td>-8.649840e+05</td>\n",
       "      <td>1.571180e+06</td>\n",
       "      <td>7.061960e+05</td>\n",
       "      <td>8</td>\n",
       "      <td>56478.0</td>\n",
       "    </tr>\n",
       "    <tr>\n",
       "      <th>2861</th>\n",
       "      <td>8998705196</td>\n",
       "      <td>4.0</td>\n",
       "      <td>9</td>\n",
       "      <td>5.000000</td>\n",
       "      <td>성장보육형</td>\n",
       "      <td>62</td>\n",
       "      <td>중소기업</td>\n",
       "      <td>일반</td>\n",
       "      <td>B1</td>\n",
       "      <td>1.520118e+06</td>\n",
       "      <td>56722.000000</td>\n",
       "      <td>8.253800e+04</td>\n",
       "      <td>8.536500e+04</td>\n",
       "      <td>1.679030e+05</td>\n",
       "      <td>10</td>\n",
       "      <td>97198.0</td>\n",
       "    </tr>\n",
       "    <tr>\n",
       "      <th>1284</th>\n",
       "      <td>8998607522</td>\n",
       "      <td>6.0</td>\n",
       "      <td>7</td>\n",
       "      <td>8.000000</td>\n",
       "      <td>정체형</td>\n",
       "      <td>73</td>\n",
       "      <td>중소기업</td>\n",
       "      <td>일반</td>\n",
       "      <td>B2</td>\n",
       "      <td>7.057370e+05</td>\n",
       "      <td>11915.000000</td>\n",
       "      <td>-9.886600e+04</td>\n",
       "      <td>3.192490e+05</td>\n",
       "      <td>2.203830e+05</td>\n",
       "      <td>10</td>\n",
       "      <td>59780.0</td>\n",
       "    </tr>\n",
       "    <tr>\n",
       "      <th>...</th>\n",
       "      <td>...</td>\n",
       "      <td>...</td>\n",
       "      <td>...</td>\n",
       "      <td>...</td>\n",
       "      <td>...</td>\n",
       "      <td>...</td>\n",
       "      <td>...</td>\n",
       "      <td>...</td>\n",
       "      <td>...</td>\n",
       "      <td>...</td>\n",
       "      <td>...</td>\n",
       "      <td>...</td>\n",
       "      <td>...</td>\n",
       "      <td>...</td>\n",
       "      <td>...</td>\n",
       "      <td>...</td>\n",
       "    </tr>\n",
       "    <tr>\n",
       "      <th>2255</th>\n",
       "      <td>1010709848</td>\n",
       "      <td>11.0</td>\n",
       "      <td>5</td>\n",
       "      <td>17.000000</td>\n",
       "      <td>정체형</td>\n",
       "      <td>59</td>\n",
       "      <td>중소기업</td>\n",
       "      <td>일반</td>\n",
       "      <td>B3</td>\n",
       "      <td>8.149200e+04</td>\n",
       "      <td>13368.000000</td>\n",
       "      <td>-4.457600e+04</td>\n",
       "      <td>5.030200e+04</td>\n",
       "      <td>5.726000e+03</td>\n",
       "      <td>10</td>\n",
       "      <td>5726.0</td>\n",
       "    </tr>\n",
       "    <tr>\n",
       "      <th>10</th>\n",
       "      <td>1010607727</td>\n",
       "      <td>1.0</td>\n",
       "      <td>10</td>\n",
       "      <td>11.922535</td>\n",
       "      <td>정체형</td>\n",
       "      <td>75</td>\n",
       "      <td>중소기업</td>\n",
       "      <td>일반</td>\n",
       "      <td>C3</td>\n",
       "      <td>3.704180e+05</td>\n",
       "      <td>40593.000000</td>\n",
       "      <td>1.828400e+04</td>\n",
       "      <td>1.842750e+05</td>\n",
       "      <td>2.025590e+05</td>\n",
       "      <td>10</td>\n",
       "      <td>248823.0</td>\n",
       "    </tr>\n",
       "    <tr>\n",
       "      <th>3270</th>\n",
       "      <td>1010600385</td>\n",
       "      <td>2.0</td>\n",
       "      <td>10</td>\n",
       "      <td>19.000000</td>\n",
       "      <td>창업형</td>\n",
       "      <td>26</td>\n",
       "      <td>중소기업</td>\n",
       "      <td>일반</td>\n",
       "      <td>C2</td>\n",
       "      <td>1.677537e+07</td>\n",
       "      <td>434392.138743</td>\n",
       "      <td>5.535042e+06</td>\n",
       "      <td>6.419593e+06</td>\n",
       "      <td>9.357857e+06</td>\n",
       "      <td>2</td>\n",
       "      <td>NaN</td>\n",
       "    </tr>\n",
       "    <tr>\n",
       "      <th>1</th>\n",
       "      <td>1010204456</td>\n",
       "      <td>5.0</td>\n",
       "      <td>8</td>\n",
       "      <td>23.000000</td>\n",
       "      <td>정체형</td>\n",
       "      <td>46</td>\n",
       "      <td>중소기업</td>\n",
       "      <td>일반</td>\n",
       "      <td>B3</td>\n",
       "      <td>9.847500e+05</td>\n",
       "      <td>76381.000000</td>\n",
       "      <td>8.497200e+04</td>\n",
       "      <td>8.661050e+05</td>\n",
       "      <td>9.510770e+05</td>\n",
       "      <td>8</td>\n",
       "      <td>864902.0</td>\n",
       "    </tr>\n",
       "    <tr>\n",
       "      <th>9</th>\n",
       "      <td>1010109319</td>\n",
       "      <td>1.0</td>\n",
       "      <td>10</td>\n",
       "      <td>21.000000</td>\n",
       "      <td>정체형</td>\n",
       "      <td>46</td>\n",
       "      <td>중소기업</td>\n",
       "      <td>일반</td>\n",
       "      <td>B2</td>\n",
       "      <td>1.785470e+05</td>\n",
       "      <td>12955.000000</td>\n",
       "      <td>-2.890000e+02</td>\n",
       "      <td>2.182000e+03</td>\n",
       "      <td>1.893000e+03</td>\n",
       "      <td>10</td>\n",
       "      <td>8141.0</td>\n",
       "    </tr>\n",
       "  </tbody>\n",
       "</table>\n",
       "<p>9837 rows × 16 columns</p>\n",
       "</div>"
      ],
      "text/plain": [
       "         사업자등록번호  종업원수  종업원그룹         업력   성장단계 산업대분류  기업규모 기업형태 CRI등급  \\\n",
       "867   8998803795  28.0      2   6.000000  성장보육형    58  중소기업   일반    A3   \n",
       "9132  8998708313  10.0      5   8.000000  자립성장형    41  중소기업   일반    B1   \n",
       "865   8998707411   9.0      6   8.000000    정체형    70  중소기업   일반    C3   \n",
       "2861  8998705196   4.0      9   5.000000  성장보육형    62  중소기업   일반    B1   \n",
       "1284  8998607522   6.0      7   8.000000    정체형    73  중소기업   일반    B2   \n",
       "...          ...   ...    ...        ...    ...   ...   ...  ...   ...   \n",
       "2255  1010709848  11.0      5  17.000000    정체형    59  중소기업   일반    B3   \n",
       "10    1010607727   1.0     10  11.922535    정체형    75  중소기업   일반    C3   \n",
       "3270  1010600385   2.0     10  19.000000    창업형    26  중소기업   일반    C2   \n",
       "1     1010204456   5.0      8  23.000000    정체형    46  중소기업   일반    B3   \n",
       "9     1010109319   1.0     10  21.000000    정체형    46  중소기업   일반    B2   \n",
       "\n",
       "               매출액           영업이익        자본총계금액        부채총계금액        자산총계금액  \\\n",
       "867   1.011463e+06 -814679.000000  4.013322e+06  1.371980e+05  4.150520e+06   \n",
       "9132  6.813497e+06  133499.000000  8.795830e+05  2.642710e+05  1.143854e+06   \n",
       "865   1.569800e+04 -369271.000000 -8.649840e+05  1.571180e+06  7.061960e+05   \n",
       "2861  1.520118e+06   56722.000000  8.253800e+04  8.536500e+04  1.679030e+05   \n",
       "1284  7.057370e+05   11915.000000 -9.886600e+04  3.192490e+05  2.203830e+05   \n",
       "...            ...            ...           ...           ...           ...   \n",
       "2255  8.149200e+04   13368.000000 -4.457600e+04  5.030200e+04  5.726000e+03   \n",
       "10    3.704180e+05   40593.000000  1.828400e+04  1.842750e+05  2.025590e+05   \n",
       "3270  1.677537e+07  434392.138743  5.535042e+06  6.419593e+06  9.357857e+06   \n",
       "1     9.847500e+05   76381.000000  8.497200e+04  8.661050e+05  9.510770e+05   \n",
       "9     1.785470e+05   12955.000000 -2.890000e+02  2.182000e+03  1.893000e+03   \n",
       "\n",
       "      자산총계그룹화       유동자산  \n",
       "867         4  2535306.0  \n",
       "9132        7        NaN  \n",
       "865         8    56478.0  \n",
       "2861       10    97198.0  \n",
       "1284       10    59780.0  \n",
       "...       ...        ...  \n",
       "2255       10     5726.0  \n",
       "10         10   248823.0  \n",
       "3270        2        NaN  \n",
       "1           8   864902.0  \n",
       "9          10     8141.0  \n",
       "\n",
       "[9837 rows x 16 columns]"
      ]
     },
     "execution_count": 134,
     "metadata": {},
     "output_type": "execute_result"
    }
   ],
   "source": [
    "F_yj = pd.merge(df,F_S[F_S.재무제표계정과목명 == '유동자산'],on =['사업자등록번호'],how='left').drop_duplicates(keep='first')\n",
    "F_yj.rename(columns = {'재무제표계정과목금액':'유동자산'},inplace=True)\n",
    "F_yj = F_yj.sort_values(by =['사업자등록번호','재무제표기준년도'],ascending=False).drop_duplicates(subset = [\"사업자등록번호\",\"재무제표계정과목명\"],keep='first').drop(labels=['재무제표계정과목명','재무제표기준년도'],axis = 1)\n",
    "print(len(F_yj.사업자등록번호.unique()),F_yj.shape)\n",
    "F_yj"
   ]
  },
  {
   "cell_type": "code",
   "execution_count": 135,
   "id": "0e31e8ad",
   "metadata": {},
   "outputs": [
    {
     "name": "stdout",
     "output_type": "stream",
     "text": [
      "9837 (9837, 16)\n"
     ]
    },
    {
     "data": {
      "text/html": [
       "<div>\n",
       "<style scoped>\n",
       "    .dataframe tbody tr th:only-of-type {\n",
       "        vertical-align: middle;\n",
       "    }\n",
       "\n",
       "    .dataframe tbody tr th {\n",
       "        vertical-align: top;\n",
       "    }\n",
       "\n",
       "    .dataframe thead th {\n",
       "        text-align: right;\n",
       "    }\n",
       "</style>\n",
       "<table border=\"1\" class=\"dataframe\">\n",
       "  <thead>\n",
       "    <tr style=\"text-align: right;\">\n",
       "      <th></th>\n",
       "      <th>사업자등록번호</th>\n",
       "      <th>종업원수</th>\n",
       "      <th>종업원그룹</th>\n",
       "      <th>업력</th>\n",
       "      <th>성장단계</th>\n",
       "      <th>산업대분류</th>\n",
       "      <th>기업규모</th>\n",
       "      <th>기업형태</th>\n",
       "      <th>CRI등급</th>\n",
       "      <th>매출액</th>\n",
       "      <th>영업이익</th>\n",
       "      <th>자본총계금액</th>\n",
       "      <th>부채총계금액</th>\n",
       "      <th>자산총계금액</th>\n",
       "      <th>자산총계그룹화</th>\n",
       "      <th>유동자산</th>\n",
       "    </tr>\n",
       "  </thead>\n",
       "  <tbody>\n",
       "    <tr>\n",
       "      <th>867</th>\n",
       "      <td>8998803795</td>\n",
       "      <td>28.0</td>\n",
       "      <td>2</td>\n",
       "      <td>6.000000</td>\n",
       "      <td>성장보육형</td>\n",
       "      <td>58</td>\n",
       "      <td>중소기업</td>\n",
       "      <td>일반</td>\n",
       "      <td>A3</td>\n",
       "      <td>1.011463e+06</td>\n",
       "      <td>-814679.000000</td>\n",
       "      <td>4.013322e+06</td>\n",
       "      <td>1.371980e+05</td>\n",
       "      <td>4.150520e+06</td>\n",
       "      <td>4</td>\n",
       "      <td>2535306.0</td>\n",
       "    </tr>\n",
       "    <tr>\n",
       "      <th>9132</th>\n",
       "      <td>8998708313</td>\n",
       "      <td>10.0</td>\n",
       "      <td>5</td>\n",
       "      <td>8.000000</td>\n",
       "      <td>자립성장형</td>\n",
       "      <td>41</td>\n",
       "      <td>중소기업</td>\n",
       "      <td>일반</td>\n",
       "      <td>B1</td>\n",
       "      <td>6.813497e+06</td>\n",
       "      <td>133499.000000</td>\n",
       "      <td>8.795830e+05</td>\n",
       "      <td>2.642710e+05</td>\n",
       "      <td>1.143854e+06</td>\n",
       "      <td>7</td>\n",
       "      <td>NaN</td>\n",
       "    </tr>\n",
       "    <tr>\n",
       "      <th>865</th>\n",
       "      <td>8998707411</td>\n",
       "      <td>9.0</td>\n",
       "      <td>6</td>\n",
       "      <td>8.000000</td>\n",
       "      <td>정체형</td>\n",
       "      <td>70</td>\n",
       "      <td>중소기업</td>\n",
       "      <td>일반</td>\n",
       "      <td>C3</td>\n",
       "      <td>1.569800e+04</td>\n",
       "      <td>-369271.000000</td>\n",
       "      <td>-8.649840e+05</td>\n",
       "      <td>1.571180e+06</td>\n",
       "      <td>7.061960e+05</td>\n",
       "      <td>8</td>\n",
       "      <td>56478.0</td>\n",
       "    </tr>\n",
       "    <tr>\n",
       "      <th>2861</th>\n",
       "      <td>8998705196</td>\n",
       "      <td>4.0</td>\n",
       "      <td>9</td>\n",
       "      <td>5.000000</td>\n",
       "      <td>성장보육형</td>\n",
       "      <td>62</td>\n",
       "      <td>중소기업</td>\n",
       "      <td>일반</td>\n",
       "      <td>B1</td>\n",
       "      <td>1.520118e+06</td>\n",
       "      <td>56722.000000</td>\n",
       "      <td>8.253800e+04</td>\n",
       "      <td>8.536500e+04</td>\n",
       "      <td>1.679030e+05</td>\n",
       "      <td>10</td>\n",
       "      <td>97198.0</td>\n",
       "    </tr>\n",
       "    <tr>\n",
       "      <th>1284</th>\n",
       "      <td>8998607522</td>\n",
       "      <td>6.0</td>\n",
       "      <td>7</td>\n",
       "      <td>8.000000</td>\n",
       "      <td>정체형</td>\n",
       "      <td>73</td>\n",
       "      <td>중소기업</td>\n",
       "      <td>일반</td>\n",
       "      <td>B2</td>\n",
       "      <td>7.057370e+05</td>\n",
       "      <td>11915.000000</td>\n",
       "      <td>-9.886600e+04</td>\n",
       "      <td>3.192490e+05</td>\n",
       "      <td>2.203830e+05</td>\n",
       "      <td>10</td>\n",
       "      <td>59780.0</td>\n",
       "    </tr>\n",
       "    <tr>\n",
       "      <th>...</th>\n",
       "      <td>...</td>\n",
       "      <td>...</td>\n",
       "      <td>...</td>\n",
       "      <td>...</td>\n",
       "      <td>...</td>\n",
       "      <td>...</td>\n",
       "      <td>...</td>\n",
       "      <td>...</td>\n",
       "      <td>...</td>\n",
       "      <td>...</td>\n",
       "      <td>...</td>\n",
       "      <td>...</td>\n",
       "      <td>...</td>\n",
       "      <td>...</td>\n",
       "      <td>...</td>\n",
       "      <td>...</td>\n",
       "    </tr>\n",
       "    <tr>\n",
       "      <th>2255</th>\n",
       "      <td>1010709848</td>\n",
       "      <td>11.0</td>\n",
       "      <td>5</td>\n",
       "      <td>17.000000</td>\n",
       "      <td>정체형</td>\n",
       "      <td>59</td>\n",
       "      <td>중소기업</td>\n",
       "      <td>일반</td>\n",
       "      <td>B3</td>\n",
       "      <td>8.149200e+04</td>\n",
       "      <td>13368.000000</td>\n",
       "      <td>-4.457600e+04</td>\n",
       "      <td>5.030200e+04</td>\n",
       "      <td>5.726000e+03</td>\n",
       "      <td>10</td>\n",
       "      <td>5726.0</td>\n",
       "    </tr>\n",
       "    <tr>\n",
       "      <th>10</th>\n",
       "      <td>1010607727</td>\n",
       "      <td>1.0</td>\n",
       "      <td>10</td>\n",
       "      <td>11.922535</td>\n",
       "      <td>정체형</td>\n",
       "      <td>75</td>\n",
       "      <td>중소기업</td>\n",
       "      <td>일반</td>\n",
       "      <td>C3</td>\n",
       "      <td>3.704180e+05</td>\n",
       "      <td>40593.000000</td>\n",
       "      <td>1.828400e+04</td>\n",
       "      <td>1.842750e+05</td>\n",
       "      <td>2.025590e+05</td>\n",
       "      <td>10</td>\n",
       "      <td>248823.0</td>\n",
       "    </tr>\n",
       "    <tr>\n",
       "      <th>3270</th>\n",
       "      <td>1010600385</td>\n",
       "      <td>2.0</td>\n",
       "      <td>10</td>\n",
       "      <td>19.000000</td>\n",
       "      <td>창업형</td>\n",
       "      <td>26</td>\n",
       "      <td>중소기업</td>\n",
       "      <td>일반</td>\n",
       "      <td>C2</td>\n",
       "      <td>1.677537e+07</td>\n",
       "      <td>434392.138743</td>\n",
       "      <td>5.535042e+06</td>\n",
       "      <td>6.419593e+06</td>\n",
       "      <td>9.357857e+06</td>\n",
       "      <td>2</td>\n",
       "      <td>NaN</td>\n",
       "    </tr>\n",
       "    <tr>\n",
       "      <th>1</th>\n",
       "      <td>1010204456</td>\n",
       "      <td>5.0</td>\n",
       "      <td>8</td>\n",
       "      <td>23.000000</td>\n",
       "      <td>정체형</td>\n",
       "      <td>46</td>\n",
       "      <td>중소기업</td>\n",
       "      <td>일반</td>\n",
       "      <td>B3</td>\n",
       "      <td>9.847500e+05</td>\n",
       "      <td>76381.000000</td>\n",
       "      <td>8.497200e+04</td>\n",
       "      <td>8.661050e+05</td>\n",
       "      <td>9.510770e+05</td>\n",
       "      <td>8</td>\n",
       "      <td>864902.0</td>\n",
       "    </tr>\n",
       "    <tr>\n",
       "      <th>9</th>\n",
       "      <td>1010109319</td>\n",
       "      <td>1.0</td>\n",
       "      <td>10</td>\n",
       "      <td>21.000000</td>\n",
       "      <td>정체형</td>\n",
       "      <td>46</td>\n",
       "      <td>중소기업</td>\n",
       "      <td>일반</td>\n",
       "      <td>B2</td>\n",
       "      <td>1.785470e+05</td>\n",
       "      <td>12955.000000</td>\n",
       "      <td>-2.890000e+02</td>\n",
       "      <td>2.182000e+03</td>\n",
       "      <td>1.893000e+03</td>\n",
       "      <td>10</td>\n",
       "      <td>8141.0</td>\n",
       "    </tr>\n",
       "  </tbody>\n",
       "</table>\n",
       "<p>9837 rows × 16 columns</p>\n",
       "</div>"
      ],
      "text/plain": [
       "         사업자등록번호  종업원수  종업원그룹         업력   성장단계 산업대분류  기업규모 기업형태 CRI등급  \\\n",
       "867   8998803795  28.0      2   6.000000  성장보육형    58  중소기업   일반    A3   \n",
       "9132  8998708313  10.0      5   8.000000  자립성장형    41  중소기업   일반    B1   \n",
       "865   8998707411   9.0      6   8.000000    정체형    70  중소기업   일반    C3   \n",
       "2861  8998705196   4.0      9   5.000000  성장보육형    62  중소기업   일반    B1   \n",
       "1284  8998607522   6.0      7   8.000000    정체형    73  중소기업   일반    B2   \n",
       "...          ...   ...    ...        ...    ...   ...   ...  ...   ...   \n",
       "2255  1010709848  11.0      5  17.000000    정체형    59  중소기업   일반    B3   \n",
       "10    1010607727   1.0     10  11.922535    정체형    75  중소기업   일반    C3   \n",
       "3270  1010600385   2.0     10  19.000000    창업형    26  중소기업   일반    C2   \n",
       "1     1010204456   5.0      8  23.000000    정체형    46  중소기업   일반    B3   \n",
       "9     1010109319   1.0     10  21.000000    정체형    46  중소기업   일반    B2   \n",
       "\n",
       "               매출액           영업이익        자본총계금액        부채총계금액        자산총계금액  \\\n",
       "867   1.011463e+06 -814679.000000  4.013322e+06  1.371980e+05  4.150520e+06   \n",
       "9132  6.813497e+06  133499.000000  8.795830e+05  2.642710e+05  1.143854e+06   \n",
       "865   1.569800e+04 -369271.000000 -8.649840e+05  1.571180e+06  7.061960e+05   \n",
       "2861  1.520118e+06   56722.000000  8.253800e+04  8.536500e+04  1.679030e+05   \n",
       "1284  7.057370e+05   11915.000000 -9.886600e+04  3.192490e+05  2.203830e+05   \n",
       "...            ...            ...           ...           ...           ...   \n",
       "2255  8.149200e+04   13368.000000 -4.457600e+04  5.030200e+04  5.726000e+03   \n",
       "10    3.704180e+05   40593.000000  1.828400e+04  1.842750e+05  2.025590e+05   \n",
       "3270  1.677537e+07  434392.138743  5.535042e+06  6.419593e+06  9.357857e+06   \n",
       "1     9.847500e+05   76381.000000  8.497200e+04  8.661050e+05  9.510770e+05   \n",
       "9     1.785470e+05   12955.000000 -2.890000e+02  2.182000e+03  1.893000e+03   \n",
       "\n",
       "      자산총계그룹화       유동자산  \n",
       "867         4  2535306.0  \n",
       "9132        7        NaN  \n",
       "865         8    56478.0  \n",
       "2861       10    97198.0  \n",
       "1284       10    59780.0  \n",
       "...       ...        ...  \n",
       "2255       10     5726.0  \n",
       "10         10   248823.0  \n",
       "3270        2        NaN  \n",
       "1           8   864902.0  \n",
       "9          10     8141.0  \n",
       "\n",
       "[9837 rows x 16 columns]"
      ]
     },
     "execution_count": 135,
     "metadata": {},
     "output_type": "execute_result"
    }
   ],
   "source": [
    "F_yj = pd.merge(df,F_S[F_S.재무제표계정과목명 == '유동자산'],on =['사업자등록번호'],how='left').drop_duplicates(keep='first')\n",
    "F_yj.rename(columns = {'재무제표계정과목금액':'유동자산'},inplace=True)\n",
    "F_yj = F_yj.sort_values(by =['사업자등록번호','재무제표기준년도'],ascending=False).drop_duplicates(subset = [\"사업자등록번호\",\"재무제표계정과목명\"],keep='first').drop(labels=['재무제표계정과목명','재무제표기준년도'],axis = 1)\n",
    "print(len(F_yj.사업자등록번호.unique()),F_yj.shape)\n",
    "F_yj"
   ]
  },
  {
   "cell_type": "code",
   "execution_count": 136,
   "id": "ddc492c4",
   "metadata": {
    "tags": []
   },
   "outputs": [
    {
     "name": "stdout",
     "output_type": "stream",
     "text": [
      "9837 (9837, 17)\n"
     ]
    },
    {
     "data": {
      "text/html": [
       "<div>\n",
       "<style scoped>\n",
       "    .dataframe tbody tr th:only-of-type {\n",
       "        vertical-align: middle;\n",
       "    }\n",
       "\n",
       "    .dataframe tbody tr th {\n",
       "        vertical-align: top;\n",
       "    }\n",
       "\n",
       "    .dataframe thead th {\n",
       "        text-align: right;\n",
       "    }\n",
       "</style>\n",
       "<table border=\"1\" class=\"dataframe\">\n",
       "  <thead>\n",
       "    <tr style=\"text-align: right;\">\n",
       "      <th></th>\n",
       "      <th>사업자등록번호</th>\n",
       "      <th>종업원수</th>\n",
       "      <th>종업원그룹</th>\n",
       "      <th>업력</th>\n",
       "      <th>성장단계</th>\n",
       "      <th>산업대분류</th>\n",
       "      <th>기업규모</th>\n",
       "      <th>기업형태</th>\n",
       "      <th>CRI등급</th>\n",
       "      <th>매출액</th>\n",
       "      <th>영업이익</th>\n",
       "      <th>자본총계금액</th>\n",
       "      <th>부채총계금액</th>\n",
       "      <th>자산총계금액</th>\n",
       "      <th>자산총계그룹화</th>\n",
       "      <th>유동자산</th>\n",
       "      <th>유동부채</th>\n",
       "    </tr>\n",
       "  </thead>\n",
       "  <tbody>\n",
       "    <tr>\n",
       "      <th>0</th>\n",
       "      <td>8998803795</td>\n",
       "      <td>28.0</td>\n",
       "      <td>2</td>\n",
       "      <td>6.000000</td>\n",
       "      <td>성장보육형</td>\n",
       "      <td>58</td>\n",
       "      <td>중소기업</td>\n",
       "      <td>일반</td>\n",
       "      <td>A3</td>\n",
       "      <td>1.011463e+06</td>\n",
       "      <td>-814679.000000</td>\n",
       "      <td>4.013322e+06</td>\n",
       "      <td>1.371980e+05</td>\n",
       "      <td>4.150520e+06</td>\n",
       "      <td>4</td>\n",
       "      <td>2535306.0</td>\n",
       "      <td>6931.0</td>\n",
       "    </tr>\n",
       "    <tr>\n",
       "      <th>1</th>\n",
       "      <td>8998708313</td>\n",
       "      <td>10.0</td>\n",
       "      <td>5</td>\n",
       "      <td>8.000000</td>\n",
       "      <td>자립성장형</td>\n",
       "      <td>41</td>\n",
       "      <td>중소기업</td>\n",
       "      <td>일반</td>\n",
       "      <td>B1</td>\n",
       "      <td>6.813497e+06</td>\n",
       "      <td>133499.000000</td>\n",
       "      <td>8.795830e+05</td>\n",
       "      <td>2.642710e+05</td>\n",
       "      <td>1.143854e+06</td>\n",
       "      <td>7</td>\n",
       "      <td>NaN</td>\n",
       "      <td>NaN</td>\n",
       "    </tr>\n",
       "    <tr>\n",
       "      <th>2</th>\n",
       "      <td>8998707411</td>\n",
       "      <td>9.0</td>\n",
       "      <td>6</td>\n",
       "      <td>8.000000</td>\n",
       "      <td>정체형</td>\n",
       "      <td>70</td>\n",
       "      <td>중소기업</td>\n",
       "      <td>일반</td>\n",
       "      <td>C3</td>\n",
       "      <td>1.569800e+04</td>\n",
       "      <td>-369271.000000</td>\n",
       "      <td>-8.649840e+05</td>\n",
       "      <td>1.571180e+06</td>\n",
       "      <td>7.061960e+05</td>\n",
       "      <td>8</td>\n",
       "      <td>56478.0</td>\n",
       "      <td>18985.0</td>\n",
       "    </tr>\n",
       "    <tr>\n",
       "      <th>3</th>\n",
       "      <td>8998705196</td>\n",
       "      <td>4.0</td>\n",
       "      <td>9</td>\n",
       "      <td>5.000000</td>\n",
       "      <td>성장보육형</td>\n",
       "      <td>62</td>\n",
       "      <td>중소기업</td>\n",
       "      <td>일반</td>\n",
       "      <td>B1</td>\n",
       "      <td>1.520118e+06</td>\n",
       "      <td>56722.000000</td>\n",
       "      <td>8.253800e+04</td>\n",
       "      <td>8.536500e+04</td>\n",
       "      <td>1.679030e+05</td>\n",
       "      <td>10</td>\n",
       "      <td>97198.0</td>\n",
       "      <td>104678.0</td>\n",
       "    </tr>\n",
       "    <tr>\n",
       "      <th>4</th>\n",
       "      <td>8998607522</td>\n",
       "      <td>6.0</td>\n",
       "      <td>7</td>\n",
       "      <td>8.000000</td>\n",
       "      <td>정체형</td>\n",
       "      <td>73</td>\n",
       "      <td>중소기업</td>\n",
       "      <td>일반</td>\n",
       "      <td>B2</td>\n",
       "      <td>7.057370e+05</td>\n",
       "      <td>11915.000000</td>\n",
       "      <td>-9.886600e+04</td>\n",
       "      <td>3.192490e+05</td>\n",
       "      <td>2.203830e+05</td>\n",
       "      <td>10</td>\n",
       "      <td>59780.0</td>\n",
       "      <td>213440.0</td>\n",
       "    </tr>\n",
       "    <tr>\n",
       "      <th>...</th>\n",
       "      <td>...</td>\n",
       "      <td>...</td>\n",
       "      <td>...</td>\n",
       "      <td>...</td>\n",
       "      <td>...</td>\n",
       "      <td>...</td>\n",
       "      <td>...</td>\n",
       "      <td>...</td>\n",
       "      <td>...</td>\n",
       "      <td>...</td>\n",
       "      <td>...</td>\n",
       "      <td>...</td>\n",
       "      <td>...</td>\n",
       "      <td>...</td>\n",
       "      <td>...</td>\n",
       "      <td>...</td>\n",
       "      <td>...</td>\n",
       "    </tr>\n",
       "    <tr>\n",
       "      <th>9833</th>\n",
       "      <td>1010709848</td>\n",
       "      <td>11.0</td>\n",
       "      <td>5</td>\n",
       "      <td>17.000000</td>\n",
       "      <td>정체형</td>\n",
       "      <td>59</td>\n",
       "      <td>중소기업</td>\n",
       "      <td>일반</td>\n",
       "      <td>B3</td>\n",
       "      <td>8.149200e+04</td>\n",
       "      <td>13368.000000</td>\n",
       "      <td>-4.457600e+04</td>\n",
       "      <td>5.030200e+04</td>\n",
       "      <td>5.726000e+03</td>\n",
       "      <td>10</td>\n",
       "      <td>5726.0</td>\n",
       "      <td>NaN</td>\n",
       "    </tr>\n",
       "    <tr>\n",
       "      <th>9834</th>\n",
       "      <td>1010607727</td>\n",
       "      <td>1.0</td>\n",
       "      <td>10</td>\n",
       "      <td>11.922535</td>\n",
       "      <td>정체형</td>\n",
       "      <td>75</td>\n",
       "      <td>중소기업</td>\n",
       "      <td>일반</td>\n",
       "      <td>C3</td>\n",
       "      <td>3.704180e+05</td>\n",
       "      <td>40593.000000</td>\n",
       "      <td>1.828400e+04</td>\n",
       "      <td>1.842750e+05</td>\n",
       "      <td>2.025590e+05</td>\n",
       "      <td>10</td>\n",
       "      <td>248823.0</td>\n",
       "      <td>58126.0</td>\n",
       "    </tr>\n",
       "    <tr>\n",
       "      <th>9835</th>\n",
       "      <td>1010600385</td>\n",
       "      <td>2.0</td>\n",
       "      <td>10</td>\n",
       "      <td>19.000000</td>\n",
       "      <td>창업형</td>\n",
       "      <td>26</td>\n",
       "      <td>중소기업</td>\n",
       "      <td>일반</td>\n",
       "      <td>C2</td>\n",
       "      <td>1.677537e+07</td>\n",
       "      <td>434392.138743</td>\n",
       "      <td>5.535042e+06</td>\n",
       "      <td>6.419593e+06</td>\n",
       "      <td>9.357857e+06</td>\n",
       "      <td>2</td>\n",
       "      <td>NaN</td>\n",
       "      <td>NaN</td>\n",
       "    </tr>\n",
       "    <tr>\n",
       "      <th>9836</th>\n",
       "      <td>1010204456</td>\n",
       "      <td>5.0</td>\n",
       "      <td>8</td>\n",
       "      <td>23.000000</td>\n",
       "      <td>정체형</td>\n",
       "      <td>46</td>\n",
       "      <td>중소기업</td>\n",
       "      <td>일반</td>\n",
       "      <td>B3</td>\n",
       "      <td>9.847500e+05</td>\n",
       "      <td>76381.000000</td>\n",
       "      <td>8.497200e+04</td>\n",
       "      <td>8.661050e+05</td>\n",
       "      <td>9.510770e+05</td>\n",
       "      <td>8</td>\n",
       "      <td>864902.0</td>\n",
       "      <td>16278.0</td>\n",
       "    </tr>\n",
       "    <tr>\n",
       "      <th>9837</th>\n",
       "      <td>1010109319</td>\n",
       "      <td>1.0</td>\n",
       "      <td>10</td>\n",
       "      <td>21.000000</td>\n",
       "      <td>정체형</td>\n",
       "      <td>46</td>\n",
       "      <td>중소기업</td>\n",
       "      <td>일반</td>\n",
       "      <td>B2</td>\n",
       "      <td>1.785470e+05</td>\n",
       "      <td>12955.000000</td>\n",
       "      <td>-2.890000e+02</td>\n",
       "      <td>2.182000e+03</td>\n",
       "      <td>1.893000e+03</td>\n",
       "      <td>10</td>\n",
       "      <td>8141.0</td>\n",
       "      <td>707.0</td>\n",
       "    </tr>\n",
       "  </tbody>\n",
       "</table>\n",
       "<p>9837 rows × 17 columns</p>\n",
       "</div>"
      ],
      "text/plain": [
       "         사업자등록번호  종업원수  종업원그룹         업력   성장단계 산업대분류  기업규모 기업형태 CRI등급  \\\n",
       "0     8998803795  28.0      2   6.000000  성장보육형    58  중소기업   일반    A3   \n",
       "1     8998708313  10.0      5   8.000000  자립성장형    41  중소기업   일반    B1   \n",
       "2     8998707411   9.0      6   8.000000    정체형    70  중소기업   일반    C3   \n",
       "3     8998705196   4.0      9   5.000000  성장보육형    62  중소기업   일반    B1   \n",
       "4     8998607522   6.0      7   8.000000    정체형    73  중소기업   일반    B2   \n",
       "...          ...   ...    ...        ...    ...   ...   ...  ...   ...   \n",
       "9833  1010709848  11.0      5  17.000000    정체형    59  중소기업   일반    B3   \n",
       "9834  1010607727   1.0     10  11.922535    정체형    75  중소기업   일반    C3   \n",
       "9835  1010600385   2.0     10  19.000000    창업형    26  중소기업   일반    C2   \n",
       "9836  1010204456   5.0      8  23.000000    정체형    46  중소기업   일반    B3   \n",
       "9837  1010109319   1.0     10  21.000000    정체형    46  중소기업   일반    B2   \n",
       "\n",
       "               매출액           영업이익        자본총계금액        부채총계금액        자산총계금액  \\\n",
       "0     1.011463e+06 -814679.000000  4.013322e+06  1.371980e+05  4.150520e+06   \n",
       "1     6.813497e+06  133499.000000  8.795830e+05  2.642710e+05  1.143854e+06   \n",
       "2     1.569800e+04 -369271.000000 -8.649840e+05  1.571180e+06  7.061960e+05   \n",
       "3     1.520118e+06   56722.000000  8.253800e+04  8.536500e+04  1.679030e+05   \n",
       "4     7.057370e+05   11915.000000 -9.886600e+04  3.192490e+05  2.203830e+05   \n",
       "...            ...            ...           ...           ...           ...   \n",
       "9833  8.149200e+04   13368.000000 -4.457600e+04  5.030200e+04  5.726000e+03   \n",
       "9834  3.704180e+05   40593.000000  1.828400e+04  1.842750e+05  2.025590e+05   \n",
       "9835  1.677537e+07  434392.138743  5.535042e+06  6.419593e+06  9.357857e+06   \n",
       "9836  9.847500e+05   76381.000000  8.497200e+04  8.661050e+05  9.510770e+05   \n",
       "9837  1.785470e+05   12955.000000 -2.890000e+02  2.182000e+03  1.893000e+03   \n",
       "\n",
       "      자산총계그룹화       유동자산      유동부채  \n",
       "0           4  2535306.0    6931.0  \n",
       "1           7        NaN       NaN  \n",
       "2           8    56478.0   18985.0  \n",
       "3          10    97198.0  104678.0  \n",
       "4          10    59780.0  213440.0  \n",
       "...       ...        ...       ...  \n",
       "9833       10     5726.0       NaN  \n",
       "9834       10   248823.0   58126.0  \n",
       "9835        2        NaN       NaN  \n",
       "9836        8   864902.0   16278.0  \n",
       "9837       10     8141.0     707.0  \n",
       "\n",
       "[9837 rows x 17 columns]"
      ]
     },
     "execution_count": 136,
     "metadata": {},
     "output_type": "execute_result"
    }
   ],
   "source": [
    "F_yb = pd.merge(F_yj,F_S[F_S.재무제표계정과목명 == '유동부채'],on =['사업자등록번호'],how='left').drop_duplicates()\n",
    "F_yb.rename(columns = {'재무제표계정과목금액':'유동부채'},inplace=True)\n",
    "F_yb = F_yb.sort_values(by =['사업자등록번호','재무제표기준년도'],ascending=False).drop_duplicates(subset = [\"사업자등록번호\",\"재무제표계정과목명\"],keep='first').drop(labels=['재무제표계정과목명','재무제표기준년도'],axis = 1)\n",
    "print(len(F_yb.사업자등록번호.unique()),F_yb.shape)\n",
    "F_yb"
   ]
  },
  {
   "cell_type": "code",
   "execution_count": 137,
   "id": "f1dfa744",
   "metadata": {
    "tags": []
   },
   "outputs": [
    {
     "name": "stdout",
     "output_type": "stream",
     "text": [
      "9837 (9837, 18)\n"
     ]
    },
    {
     "data": {
      "text/html": [
       "<div>\n",
       "<style scoped>\n",
       "    .dataframe tbody tr th:only-of-type {\n",
       "        vertical-align: middle;\n",
       "    }\n",
       "\n",
       "    .dataframe tbody tr th {\n",
       "        vertical-align: top;\n",
       "    }\n",
       "\n",
       "    .dataframe thead th {\n",
       "        text-align: right;\n",
       "    }\n",
       "</style>\n",
       "<table border=\"1\" class=\"dataframe\">\n",
       "  <thead>\n",
       "    <tr style=\"text-align: right;\">\n",
       "      <th></th>\n",
       "      <th>사업자등록번호</th>\n",
       "      <th>종업원수</th>\n",
       "      <th>종업원그룹</th>\n",
       "      <th>업력</th>\n",
       "      <th>성장단계</th>\n",
       "      <th>산업대분류</th>\n",
       "      <th>기업규모</th>\n",
       "      <th>기업형태</th>\n",
       "      <th>CRI등급</th>\n",
       "      <th>매출액</th>\n",
       "      <th>영업이익</th>\n",
       "      <th>자본총계금액</th>\n",
       "      <th>부채총계금액</th>\n",
       "      <th>자산총계금액</th>\n",
       "      <th>자산총계그룹화</th>\n",
       "      <th>유동자산</th>\n",
       "      <th>유동부채</th>\n",
       "      <th>당좌자산</th>\n",
       "    </tr>\n",
       "  </thead>\n",
       "  <tbody>\n",
       "    <tr>\n",
       "      <th>1</th>\n",
       "      <td>8998803795</td>\n",
       "      <td>28.0</td>\n",
       "      <td>2</td>\n",
       "      <td>6.000000</td>\n",
       "      <td>성장보육형</td>\n",
       "      <td>58</td>\n",
       "      <td>중소기업</td>\n",
       "      <td>일반</td>\n",
       "      <td>A3</td>\n",
       "      <td>1.011463e+06</td>\n",
       "      <td>-814679.000000</td>\n",
       "      <td>4.013322e+06</td>\n",
       "      <td>1.371980e+05</td>\n",
       "      <td>4.150520e+06</td>\n",
       "      <td>4</td>\n",
       "      <td>2535306.0</td>\n",
       "      <td>6931.0</td>\n",
       "      <td>2535306.0</td>\n",
       "    </tr>\n",
       "    <tr>\n",
       "      <th>2</th>\n",
       "      <td>8998708313</td>\n",
       "      <td>10.0</td>\n",
       "      <td>5</td>\n",
       "      <td>8.000000</td>\n",
       "      <td>자립성장형</td>\n",
       "      <td>41</td>\n",
       "      <td>중소기업</td>\n",
       "      <td>일반</td>\n",
       "      <td>B1</td>\n",
       "      <td>6.813497e+06</td>\n",
       "      <td>133499.000000</td>\n",
       "      <td>8.795830e+05</td>\n",
       "      <td>2.642710e+05</td>\n",
       "      <td>1.143854e+06</td>\n",
       "      <td>7</td>\n",
       "      <td>NaN</td>\n",
       "      <td>NaN</td>\n",
       "      <td>NaN</td>\n",
       "    </tr>\n",
       "    <tr>\n",
       "      <th>3</th>\n",
       "      <td>8998707411</td>\n",
       "      <td>9.0</td>\n",
       "      <td>6</td>\n",
       "      <td>8.000000</td>\n",
       "      <td>정체형</td>\n",
       "      <td>70</td>\n",
       "      <td>중소기업</td>\n",
       "      <td>일반</td>\n",
       "      <td>C3</td>\n",
       "      <td>1.569800e+04</td>\n",
       "      <td>-369271.000000</td>\n",
       "      <td>-8.649840e+05</td>\n",
       "      <td>1.571180e+06</td>\n",
       "      <td>7.061960e+05</td>\n",
       "      <td>8</td>\n",
       "      <td>56478.0</td>\n",
       "      <td>18985.0</td>\n",
       "      <td>56478.0</td>\n",
       "    </tr>\n",
       "    <tr>\n",
       "      <th>4</th>\n",
       "      <td>8998705196</td>\n",
       "      <td>4.0</td>\n",
       "      <td>9</td>\n",
       "      <td>5.000000</td>\n",
       "      <td>성장보육형</td>\n",
       "      <td>62</td>\n",
       "      <td>중소기업</td>\n",
       "      <td>일반</td>\n",
       "      <td>B1</td>\n",
       "      <td>1.520118e+06</td>\n",
       "      <td>56722.000000</td>\n",
       "      <td>8.253800e+04</td>\n",
       "      <td>8.536500e+04</td>\n",
       "      <td>1.679030e+05</td>\n",
       "      <td>10</td>\n",
       "      <td>97198.0</td>\n",
       "      <td>104678.0</td>\n",
       "      <td>97198.0</td>\n",
       "    </tr>\n",
       "    <tr>\n",
       "      <th>5</th>\n",
       "      <td>8998607522</td>\n",
       "      <td>6.0</td>\n",
       "      <td>7</td>\n",
       "      <td>8.000000</td>\n",
       "      <td>정체형</td>\n",
       "      <td>73</td>\n",
       "      <td>중소기업</td>\n",
       "      <td>일반</td>\n",
       "      <td>B2</td>\n",
       "      <td>7.057370e+05</td>\n",
       "      <td>11915.000000</td>\n",
       "      <td>-9.886600e+04</td>\n",
       "      <td>3.192490e+05</td>\n",
       "      <td>2.203830e+05</td>\n",
       "      <td>10</td>\n",
       "      <td>59780.0</td>\n",
       "      <td>213440.0</td>\n",
       "      <td>59780.0</td>\n",
       "    </tr>\n",
       "    <tr>\n",
       "      <th>...</th>\n",
       "      <td>...</td>\n",
       "      <td>...</td>\n",
       "      <td>...</td>\n",
       "      <td>...</td>\n",
       "      <td>...</td>\n",
       "      <td>...</td>\n",
       "      <td>...</td>\n",
       "      <td>...</td>\n",
       "      <td>...</td>\n",
       "      <td>...</td>\n",
       "      <td>...</td>\n",
       "      <td>...</td>\n",
       "      <td>...</td>\n",
       "      <td>...</td>\n",
       "      <td>...</td>\n",
       "      <td>...</td>\n",
       "      <td>...</td>\n",
       "      <td>...</td>\n",
       "    </tr>\n",
       "    <tr>\n",
       "      <th>9863</th>\n",
       "      <td>1010709848</td>\n",
       "      <td>11.0</td>\n",
       "      <td>5</td>\n",
       "      <td>17.000000</td>\n",
       "      <td>정체형</td>\n",
       "      <td>59</td>\n",
       "      <td>중소기업</td>\n",
       "      <td>일반</td>\n",
       "      <td>B3</td>\n",
       "      <td>8.149200e+04</td>\n",
       "      <td>13368.000000</td>\n",
       "      <td>-4.457600e+04</td>\n",
       "      <td>5.030200e+04</td>\n",
       "      <td>5.726000e+03</td>\n",
       "      <td>10</td>\n",
       "      <td>5726.0</td>\n",
       "      <td>NaN</td>\n",
       "      <td>5726.0</td>\n",
       "    </tr>\n",
       "    <tr>\n",
       "      <th>9864</th>\n",
       "      <td>1010607727</td>\n",
       "      <td>1.0</td>\n",
       "      <td>10</td>\n",
       "      <td>11.922535</td>\n",
       "      <td>정체형</td>\n",
       "      <td>75</td>\n",
       "      <td>중소기업</td>\n",
       "      <td>일반</td>\n",
       "      <td>C3</td>\n",
       "      <td>3.704180e+05</td>\n",
       "      <td>40593.000000</td>\n",
       "      <td>1.828400e+04</td>\n",
       "      <td>1.842750e+05</td>\n",
       "      <td>2.025590e+05</td>\n",
       "      <td>10</td>\n",
       "      <td>248823.0</td>\n",
       "      <td>58126.0</td>\n",
       "      <td>248823.0</td>\n",
       "    </tr>\n",
       "    <tr>\n",
       "      <th>9865</th>\n",
       "      <td>1010600385</td>\n",
       "      <td>2.0</td>\n",
       "      <td>10</td>\n",
       "      <td>19.000000</td>\n",
       "      <td>창업형</td>\n",
       "      <td>26</td>\n",
       "      <td>중소기업</td>\n",
       "      <td>일반</td>\n",
       "      <td>C2</td>\n",
       "      <td>1.677537e+07</td>\n",
       "      <td>434392.138743</td>\n",
       "      <td>5.535042e+06</td>\n",
       "      <td>6.419593e+06</td>\n",
       "      <td>9.357857e+06</td>\n",
       "      <td>2</td>\n",
       "      <td>NaN</td>\n",
       "      <td>NaN</td>\n",
       "      <td>NaN</td>\n",
       "    </tr>\n",
       "    <tr>\n",
       "      <th>9866</th>\n",
       "      <td>1010204456</td>\n",
       "      <td>5.0</td>\n",
       "      <td>8</td>\n",
       "      <td>23.000000</td>\n",
       "      <td>정체형</td>\n",
       "      <td>46</td>\n",
       "      <td>중소기업</td>\n",
       "      <td>일반</td>\n",
       "      <td>B3</td>\n",
       "      <td>9.847500e+05</td>\n",
       "      <td>76381.000000</td>\n",
       "      <td>8.497200e+04</td>\n",
       "      <td>8.661050e+05</td>\n",
       "      <td>9.510770e+05</td>\n",
       "      <td>8</td>\n",
       "      <td>864902.0</td>\n",
       "      <td>16278.0</td>\n",
       "      <td>824657.0</td>\n",
       "    </tr>\n",
       "    <tr>\n",
       "      <th>9867</th>\n",
       "      <td>1010109319</td>\n",
       "      <td>1.0</td>\n",
       "      <td>10</td>\n",
       "      <td>21.000000</td>\n",
       "      <td>정체형</td>\n",
       "      <td>46</td>\n",
       "      <td>중소기업</td>\n",
       "      <td>일반</td>\n",
       "      <td>B2</td>\n",
       "      <td>1.785470e+05</td>\n",
       "      <td>12955.000000</td>\n",
       "      <td>-2.890000e+02</td>\n",
       "      <td>2.182000e+03</td>\n",
       "      <td>1.893000e+03</td>\n",
       "      <td>10</td>\n",
       "      <td>8141.0</td>\n",
       "      <td>707.0</td>\n",
       "      <td>2695.0</td>\n",
       "    </tr>\n",
       "  </tbody>\n",
       "</table>\n",
       "<p>9837 rows × 18 columns</p>\n",
       "</div>"
      ],
      "text/plain": [
       "         사업자등록번호  종업원수  종업원그룹         업력   성장단계 산업대분류  기업규모 기업형태 CRI등급  \\\n",
       "1     8998803795  28.0      2   6.000000  성장보육형    58  중소기업   일반    A3   \n",
       "2     8998708313  10.0      5   8.000000  자립성장형    41  중소기업   일반    B1   \n",
       "3     8998707411   9.0      6   8.000000    정체형    70  중소기업   일반    C3   \n",
       "4     8998705196   4.0      9   5.000000  성장보육형    62  중소기업   일반    B1   \n",
       "5     8998607522   6.0      7   8.000000    정체형    73  중소기업   일반    B2   \n",
       "...          ...   ...    ...        ...    ...   ...   ...  ...   ...   \n",
       "9863  1010709848  11.0      5  17.000000    정체형    59  중소기업   일반    B3   \n",
       "9864  1010607727   1.0     10  11.922535    정체형    75  중소기업   일반    C3   \n",
       "9865  1010600385   2.0     10  19.000000    창업형    26  중소기업   일반    C2   \n",
       "9866  1010204456   5.0      8  23.000000    정체형    46  중소기업   일반    B3   \n",
       "9867  1010109319   1.0     10  21.000000    정체형    46  중소기업   일반    B2   \n",
       "\n",
       "               매출액           영업이익        자본총계금액        부채총계금액        자산총계금액  \\\n",
       "1     1.011463e+06 -814679.000000  4.013322e+06  1.371980e+05  4.150520e+06   \n",
       "2     6.813497e+06  133499.000000  8.795830e+05  2.642710e+05  1.143854e+06   \n",
       "3     1.569800e+04 -369271.000000 -8.649840e+05  1.571180e+06  7.061960e+05   \n",
       "4     1.520118e+06   56722.000000  8.253800e+04  8.536500e+04  1.679030e+05   \n",
       "5     7.057370e+05   11915.000000 -9.886600e+04  3.192490e+05  2.203830e+05   \n",
       "...            ...            ...           ...           ...           ...   \n",
       "9863  8.149200e+04   13368.000000 -4.457600e+04  5.030200e+04  5.726000e+03   \n",
       "9864  3.704180e+05   40593.000000  1.828400e+04  1.842750e+05  2.025590e+05   \n",
       "9865  1.677537e+07  434392.138743  5.535042e+06  6.419593e+06  9.357857e+06   \n",
       "9866  9.847500e+05   76381.000000  8.497200e+04  8.661050e+05  9.510770e+05   \n",
       "9867  1.785470e+05   12955.000000 -2.890000e+02  2.182000e+03  1.893000e+03   \n",
       "\n",
       "      자산총계그룹화       유동자산      유동부채       당좌자산  \n",
       "1           4  2535306.0    6931.0  2535306.0  \n",
       "2           7        NaN       NaN        NaN  \n",
       "3           8    56478.0   18985.0    56478.0  \n",
       "4          10    97198.0  104678.0    97198.0  \n",
       "5          10    59780.0  213440.0    59780.0  \n",
       "...       ...        ...       ...        ...  \n",
       "9863       10     5726.0       NaN     5726.0  \n",
       "9864       10   248823.0   58126.0   248823.0  \n",
       "9865        2        NaN       NaN        NaN  \n",
       "9866        8   864902.0   16278.0   824657.0  \n",
       "9867       10     8141.0     707.0     2695.0  \n",
       "\n",
       "[9837 rows x 18 columns]"
      ]
     },
     "execution_count": 137,
     "metadata": {},
     "output_type": "execute_result"
    }
   ],
   "source": [
    "F_d = pd.merge(F_yb,F_S[F_S.재무제표계정과목명 == '당좌자산'],on =['사업자등록번호'],how='left').drop_duplicates()\n",
    "F_d.rename(columns = {'재무제표계정과목금액':'당좌자산'},inplace=True)\n",
    "F_d = F_d.sort_values(by =['사업자등록번호','재무제표기준년도'],ascending=False).drop_duplicates(subset = [\"사업자등록번호\",\"재무제표계정과목명\"],keep='first').drop(labels=['재무제표계정과목명','재무제표기준년도'],axis = 1)\n",
    "print(len(F_d.사업자등록번호.unique()),F_d.shape)\n",
    "F_d"
   ]
  },
  {
   "cell_type": "code",
   "execution_count": 138,
   "id": "cd40fbc2",
   "metadata": {
    "tags": []
   },
   "outputs": [
    {
     "name": "stdout",
     "output_type": "stream",
     "text": [
      "9837 (9837, 19)\n"
     ]
    },
    {
     "data": {
      "text/html": [
       "<div>\n",
       "<style scoped>\n",
       "    .dataframe tbody tr th:only-of-type {\n",
       "        vertical-align: middle;\n",
       "    }\n",
       "\n",
       "    .dataframe tbody tr th {\n",
       "        vertical-align: top;\n",
       "    }\n",
       "\n",
       "    .dataframe thead th {\n",
       "        text-align: right;\n",
       "    }\n",
       "</style>\n",
       "<table border=\"1\" class=\"dataframe\">\n",
       "  <thead>\n",
       "    <tr style=\"text-align: right;\">\n",
       "      <th></th>\n",
       "      <th>사업자등록번호</th>\n",
       "      <th>종업원수</th>\n",
       "      <th>종업원그룹</th>\n",
       "      <th>업력</th>\n",
       "      <th>성장단계</th>\n",
       "      <th>산업대분류</th>\n",
       "      <th>기업규모</th>\n",
       "      <th>기업형태</th>\n",
       "      <th>CRI등급</th>\n",
       "      <th>매출액</th>\n",
       "      <th>영업이익</th>\n",
       "      <th>자본총계금액</th>\n",
       "      <th>부채총계금액</th>\n",
       "      <th>자산총계금액</th>\n",
       "      <th>자산총계그룹화</th>\n",
       "      <th>유동자산</th>\n",
       "      <th>유동부채</th>\n",
       "      <th>당좌자산</th>\n",
       "      <th>재고자산</th>\n",
       "    </tr>\n",
       "  </thead>\n",
       "  <tbody>\n",
       "    <tr>\n",
       "      <th>0</th>\n",
       "      <td>8998803795</td>\n",
       "      <td>28.0</td>\n",
       "      <td>2</td>\n",
       "      <td>6.000000</td>\n",
       "      <td>성장보육형</td>\n",
       "      <td>58</td>\n",
       "      <td>중소기업</td>\n",
       "      <td>일반</td>\n",
       "      <td>A3</td>\n",
       "      <td>1.011463e+06</td>\n",
       "      <td>-814679.000000</td>\n",
       "      <td>4.013322e+06</td>\n",
       "      <td>1.371980e+05</td>\n",
       "      <td>4.150520e+06</td>\n",
       "      <td>4</td>\n",
       "      <td>2535306.0</td>\n",
       "      <td>6931.0</td>\n",
       "      <td>2535306.0</td>\n",
       "      <td>NaN</td>\n",
       "    </tr>\n",
       "    <tr>\n",
       "      <th>1</th>\n",
       "      <td>8998708313</td>\n",
       "      <td>10.0</td>\n",
       "      <td>5</td>\n",
       "      <td>8.000000</td>\n",
       "      <td>자립성장형</td>\n",
       "      <td>41</td>\n",
       "      <td>중소기업</td>\n",
       "      <td>일반</td>\n",
       "      <td>B1</td>\n",
       "      <td>6.813497e+06</td>\n",
       "      <td>133499.000000</td>\n",
       "      <td>8.795830e+05</td>\n",
       "      <td>2.642710e+05</td>\n",
       "      <td>1.143854e+06</td>\n",
       "      <td>7</td>\n",
       "      <td>NaN</td>\n",
       "      <td>NaN</td>\n",
       "      <td>NaN</td>\n",
       "      <td>NaN</td>\n",
       "    </tr>\n",
       "    <tr>\n",
       "      <th>2</th>\n",
       "      <td>8998707411</td>\n",
       "      <td>9.0</td>\n",
       "      <td>6</td>\n",
       "      <td>8.000000</td>\n",
       "      <td>정체형</td>\n",
       "      <td>70</td>\n",
       "      <td>중소기업</td>\n",
       "      <td>일반</td>\n",
       "      <td>C3</td>\n",
       "      <td>1.569800e+04</td>\n",
       "      <td>-369271.000000</td>\n",
       "      <td>-8.649840e+05</td>\n",
       "      <td>1.571180e+06</td>\n",
       "      <td>7.061960e+05</td>\n",
       "      <td>8</td>\n",
       "      <td>56478.0</td>\n",
       "      <td>18985.0</td>\n",
       "      <td>56478.0</td>\n",
       "      <td>NaN</td>\n",
       "    </tr>\n",
       "    <tr>\n",
       "      <th>3</th>\n",
       "      <td>8998705196</td>\n",
       "      <td>4.0</td>\n",
       "      <td>9</td>\n",
       "      <td>5.000000</td>\n",
       "      <td>성장보육형</td>\n",
       "      <td>62</td>\n",
       "      <td>중소기업</td>\n",
       "      <td>일반</td>\n",
       "      <td>B1</td>\n",
       "      <td>1.520118e+06</td>\n",
       "      <td>56722.000000</td>\n",
       "      <td>8.253800e+04</td>\n",
       "      <td>8.536500e+04</td>\n",
       "      <td>1.679030e+05</td>\n",
       "      <td>10</td>\n",
       "      <td>97198.0</td>\n",
       "      <td>104678.0</td>\n",
       "      <td>97198.0</td>\n",
       "      <td>NaN</td>\n",
       "    </tr>\n",
       "    <tr>\n",
       "      <th>4</th>\n",
       "      <td>8998607522</td>\n",
       "      <td>6.0</td>\n",
       "      <td>7</td>\n",
       "      <td>8.000000</td>\n",
       "      <td>정체형</td>\n",
       "      <td>73</td>\n",
       "      <td>중소기업</td>\n",
       "      <td>일반</td>\n",
       "      <td>B2</td>\n",
       "      <td>7.057370e+05</td>\n",
       "      <td>11915.000000</td>\n",
       "      <td>-9.886600e+04</td>\n",
       "      <td>3.192490e+05</td>\n",
       "      <td>2.203830e+05</td>\n",
       "      <td>10</td>\n",
       "      <td>59780.0</td>\n",
       "      <td>213440.0</td>\n",
       "      <td>59780.0</td>\n",
       "      <td>NaN</td>\n",
       "    </tr>\n",
       "    <tr>\n",
       "      <th>...</th>\n",
       "      <td>...</td>\n",
       "      <td>...</td>\n",
       "      <td>...</td>\n",
       "      <td>...</td>\n",
       "      <td>...</td>\n",
       "      <td>...</td>\n",
       "      <td>...</td>\n",
       "      <td>...</td>\n",
       "      <td>...</td>\n",
       "      <td>...</td>\n",
       "      <td>...</td>\n",
       "      <td>...</td>\n",
       "      <td>...</td>\n",
       "      <td>...</td>\n",
       "      <td>...</td>\n",
       "      <td>...</td>\n",
       "      <td>...</td>\n",
       "      <td>...</td>\n",
       "      <td>...</td>\n",
       "    </tr>\n",
       "    <tr>\n",
       "      <th>9832</th>\n",
       "      <td>1010709848</td>\n",
       "      <td>11.0</td>\n",
       "      <td>5</td>\n",
       "      <td>17.000000</td>\n",
       "      <td>정체형</td>\n",
       "      <td>59</td>\n",
       "      <td>중소기업</td>\n",
       "      <td>일반</td>\n",
       "      <td>B3</td>\n",
       "      <td>8.149200e+04</td>\n",
       "      <td>13368.000000</td>\n",
       "      <td>-4.457600e+04</td>\n",
       "      <td>5.030200e+04</td>\n",
       "      <td>5.726000e+03</td>\n",
       "      <td>10</td>\n",
       "      <td>5726.0</td>\n",
       "      <td>NaN</td>\n",
       "      <td>5726.0</td>\n",
       "      <td>0.0</td>\n",
       "    </tr>\n",
       "    <tr>\n",
       "      <th>9833</th>\n",
       "      <td>1010607727</td>\n",
       "      <td>1.0</td>\n",
       "      <td>10</td>\n",
       "      <td>11.922535</td>\n",
       "      <td>정체형</td>\n",
       "      <td>75</td>\n",
       "      <td>중소기업</td>\n",
       "      <td>일반</td>\n",
       "      <td>C3</td>\n",
       "      <td>3.704180e+05</td>\n",
       "      <td>40593.000000</td>\n",
       "      <td>1.828400e+04</td>\n",
       "      <td>1.842750e+05</td>\n",
       "      <td>2.025590e+05</td>\n",
       "      <td>10</td>\n",
       "      <td>248823.0</td>\n",
       "      <td>58126.0</td>\n",
       "      <td>248823.0</td>\n",
       "      <td>NaN</td>\n",
       "    </tr>\n",
       "    <tr>\n",
       "      <th>9834</th>\n",
       "      <td>1010600385</td>\n",
       "      <td>2.0</td>\n",
       "      <td>10</td>\n",
       "      <td>19.000000</td>\n",
       "      <td>창업형</td>\n",
       "      <td>26</td>\n",
       "      <td>중소기업</td>\n",
       "      <td>일반</td>\n",
       "      <td>C2</td>\n",
       "      <td>1.677537e+07</td>\n",
       "      <td>434392.138743</td>\n",
       "      <td>5.535042e+06</td>\n",
       "      <td>6.419593e+06</td>\n",
       "      <td>9.357857e+06</td>\n",
       "      <td>2</td>\n",
       "      <td>NaN</td>\n",
       "      <td>NaN</td>\n",
       "      <td>NaN</td>\n",
       "      <td>NaN</td>\n",
       "    </tr>\n",
       "    <tr>\n",
       "      <th>9835</th>\n",
       "      <td>1010204456</td>\n",
       "      <td>5.0</td>\n",
       "      <td>8</td>\n",
       "      <td>23.000000</td>\n",
       "      <td>정체형</td>\n",
       "      <td>46</td>\n",
       "      <td>중소기업</td>\n",
       "      <td>일반</td>\n",
       "      <td>B3</td>\n",
       "      <td>9.847500e+05</td>\n",
       "      <td>76381.000000</td>\n",
       "      <td>8.497200e+04</td>\n",
       "      <td>8.661050e+05</td>\n",
       "      <td>9.510770e+05</td>\n",
       "      <td>8</td>\n",
       "      <td>864902.0</td>\n",
       "      <td>16278.0</td>\n",
       "      <td>824657.0</td>\n",
       "      <td>40245.0</td>\n",
       "    </tr>\n",
       "    <tr>\n",
       "      <th>9836</th>\n",
       "      <td>1010109319</td>\n",
       "      <td>1.0</td>\n",
       "      <td>10</td>\n",
       "      <td>21.000000</td>\n",
       "      <td>정체형</td>\n",
       "      <td>46</td>\n",
       "      <td>중소기업</td>\n",
       "      <td>일반</td>\n",
       "      <td>B2</td>\n",
       "      <td>1.785470e+05</td>\n",
       "      <td>12955.000000</td>\n",
       "      <td>-2.890000e+02</td>\n",
       "      <td>2.182000e+03</td>\n",
       "      <td>1.893000e+03</td>\n",
       "      <td>10</td>\n",
       "      <td>8141.0</td>\n",
       "      <td>707.0</td>\n",
       "      <td>2695.0</td>\n",
       "      <td>5446.0</td>\n",
       "    </tr>\n",
       "  </tbody>\n",
       "</table>\n",
       "<p>9837 rows × 19 columns</p>\n",
       "</div>"
      ],
      "text/plain": [
       "         사업자등록번호  종업원수  종업원그룹         업력   성장단계 산업대분류  기업규모 기업형태 CRI등급  \\\n",
       "0     8998803795  28.0      2   6.000000  성장보육형    58  중소기업   일반    A3   \n",
       "1     8998708313  10.0      5   8.000000  자립성장형    41  중소기업   일반    B1   \n",
       "2     8998707411   9.0      6   8.000000    정체형    70  중소기업   일반    C3   \n",
       "3     8998705196   4.0      9   5.000000  성장보육형    62  중소기업   일반    B1   \n",
       "4     8998607522   6.0      7   8.000000    정체형    73  중소기업   일반    B2   \n",
       "...          ...   ...    ...        ...    ...   ...   ...  ...   ...   \n",
       "9832  1010709848  11.0      5  17.000000    정체형    59  중소기업   일반    B3   \n",
       "9833  1010607727   1.0     10  11.922535    정체형    75  중소기업   일반    C3   \n",
       "9834  1010600385   2.0     10  19.000000    창업형    26  중소기업   일반    C2   \n",
       "9835  1010204456   5.0      8  23.000000    정체형    46  중소기업   일반    B3   \n",
       "9836  1010109319   1.0     10  21.000000    정체형    46  중소기업   일반    B2   \n",
       "\n",
       "               매출액           영업이익        자본총계금액        부채총계금액        자산총계금액  \\\n",
       "0     1.011463e+06 -814679.000000  4.013322e+06  1.371980e+05  4.150520e+06   \n",
       "1     6.813497e+06  133499.000000  8.795830e+05  2.642710e+05  1.143854e+06   \n",
       "2     1.569800e+04 -369271.000000 -8.649840e+05  1.571180e+06  7.061960e+05   \n",
       "3     1.520118e+06   56722.000000  8.253800e+04  8.536500e+04  1.679030e+05   \n",
       "4     7.057370e+05   11915.000000 -9.886600e+04  3.192490e+05  2.203830e+05   \n",
       "...            ...            ...           ...           ...           ...   \n",
       "9832  8.149200e+04   13368.000000 -4.457600e+04  5.030200e+04  5.726000e+03   \n",
       "9833  3.704180e+05   40593.000000  1.828400e+04  1.842750e+05  2.025590e+05   \n",
       "9834  1.677537e+07  434392.138743  5.535042e+06  6.419593e+06  9.357857e+06   \n",
       "9835  9.847500e+05   76381.000000  8.497200e+04  8.661050e+05  9.510770e+05   \n",
       "9836  1.785470e+05   12955.000000 -2.890000e+02  2.182000e+03  1.893000e+03   \n",
       "\n",
       "      자산총계그룹화       유동자산      유동부채       당좌자산     재고자산  \n",
       "0           4  2535306.0    6931.0  2535306.0      NaN  \n",
       "1           7        NaN       NaN        NaN      NaN  \n",
       "2           8    56478.0   18985.0    56478.0      NaN  \n",
       "3          10    97198.0  104678.0    97198.0      NaN  \n",
       "4          10    59780.0  213440.0    59780.0      NaN  \n",
       "...       ...        ...       ...        ...      ...  \n",
       "9832       10     5726.0       NaN     5726.0      0.0  \n",
       "9833       10   248823.0   58126.0   248823.0      NaN  \n",
       "9834        2        NaN       NaN        NaN      NaN  \n",
       "9835        8   864902.0   16278.0   824657.0  40245.0  \n",
       "9836       10     8141.0     707.0     2695.0   5446.0  \n",
       "\n",
       "[9837 rows x 19 columns]"
      ]
     },
     "execution_count": 138,
     "metadata": {},
     "output_type": "execute_result"
    }
   ],
   "source": [
    "F_j = pd.merge(F_d,F_S[F_S.재무제표계정과목명 == '재고자산'],on =['사업자등록번호'],how='left').drop_duplicates()\n",
    "F_j.rename(columns = {'재무제표계정과목금액':'재고자산'},inplace=True)\n",
    "F_j = F_j.sort_values(by =['사업자등록번호','재무제표기준년도'],ascending=False).drop_duplicates(subset = [\"사업자등록번호\",\"재무제표계정과목명\"],keep='first').drop(labels=['재무제표계정과목명','재무제표기준년도'],axis = 1)\n",
    "print(len(F_j.사업자등록번호.unique()),F_j.shape)\n",
    "F_j"
   ]
  },
  {
   "cell_type": "code",
   "execution_count": 139,
   "id": "85cd22c4",
   "metadata": {},
   "outputs": [
    {
     "data": {
      "text/plain": [
       "사업자등록번호       0\n",
       "종업원수          0\n",
       "종업원그룹         0\n",
       "업력            0\n",
       "성장단계          0\n",
       "산업대분류         0\n",
       "기업규모          0\n",
       "기업형태          0\n",
       "CRI등급         0\n",
       "매출액           0\n",
       "영업이익          0\n",
       "자본총계금액        0\n",
       "부채총계금액        0\n",
       "자산총계금액        0\n",
       "자산총계그룹화       0\n",
       "유동자산       3837\n",
       "유동부채       5503\n",
       "당좌자산       3942\n",
       "재고자산       6803\n",
       "dtype: int64"
      ]
     },
     "execution_count": 139,
     "metadata": {},
     "output_type": "execute_result"
    }
   ],
   "source": [
    "F_j.isnull().sum()"
   ]
  },
  {
   "cell_type": "code",
   "execution_count": 140,
   "id": "7bc7c136",
   "metadata": {},
   "outputs": [
    {
     "name": "stdout",
     "output_type": "stream",
     "text": [
      "<class 'pandas.core.frame.DataFrame'>\n",
      "Int64Index: 9837 entries, 0 to 9836\n",
      "Data columns (total 19 columns):\n",
      " #   Column   Non-Null Count  Dtype  \n",
      "---  ------   --------------  -----  \n",
      " 0   사업자등록번호  9837 non-null   int64  \n",
      " 1   종업원수     9837 non-null   float64\n",
      " 2   종업원그룹    9837 non-null   int64  \n",
      " 3   업력       9837 non-null   float64\n",
      " 4   성장단계     9837 non-null   object \n",
      " 5   산업대분류    9837 non-null   object \n",
      " 6   기업규모     9837 non-null   object \n",
      " 7   기업형태     9837 non-null   object \n",
      " 8   CRI등급    9837 non-null   object \n",
      " 9   매출액      9837 non-null   float64\n",
      " 10  영업이익     9837 non-null   float64\n",
      " 11  자본총계금액   9837 non-null   float64\n",
      " 12  부채총계금액   9837 non-null   float64\n",
      " 13  자산총계금액   9837 non-null   float64\n",
      " 14  자산총계그룹화  9837 non-null   int64  \n",
      " 15  유동자산     6000 non-null   float64\n",
      " 16  유동부채     4334 non-null   float64\n",
      " 17  당좌자산     5895 non-null   float64\n",
      " 18  재고자산     3034 non-null   float64\n",
      "dtypes: float64(11), int64(3), object(5)\n",
      "memory usage: 1.5+ MB\n"
     ]
    }
   ],
   "source": [
    "F_j.info()"
   ]
  },
  {
   "cell_type": "code",
   "execution_count": 141,
   "id": "131417fe",
   "metadata": {},
   "outputs": [
    {
     "data": {
      "text/plain": [
       "사업자등록번호       0\n",
       "종업원수          0\n",
       "종업원그룹         0\n",
       "업력            0\n",
       "성장단계          0\n",
       "산업대분류         0\n",
       "기업규모          0\n",
       "기업형태          0\n",
       "CRI등급         0\n",
       "매출액           0\n",
       "영업이익          0\n",
       "자본총계금액        0\n",
       "부채총계금액        0\n",
       "자산총계금액        0\n",
       "자산총계그룹화       0\n",
       "유동자산       3837\n",
       "유동부채       5503\n",
       "당좌자산       3942\n",
       "재고자산       6803\n",
       "dtype: int64"
      ]
     },
     "execution_count": 141,
     "metadata": {},
     "output_type": "execute_result"
    }
   ],
   "source": [
    "F_j.isnull().sum()"
   ]
  },
  {
   "cell_type": "markdown",
   "id": "325868e2",
   "metadata": {},
   "source": [
    "- #### **df_del_null으로 재무제표 지표 추출**"
   ]
  },
  {
   "cell_type": "code",
   "execution_count": 142,
   "id": "43e855d3",
   "metadata": {},
   "outputs": [
    {
     "name": "stdout",
     "output_type": "stream",
     "text": [
      "8186\n",
      "8130\n",
      "8186 (8186, 16)\n",
      "8186 (8186, 17)\n",
      "8186 (8186, 18)\n",
      "8186 (8186, 19)\n"
     ]
    },
    {
     "data": {
      "text/html": [
       "<div>\n",
       "<style scoped>\n",
       "    .dataframe tbody tr th:only-of-type {\n",
       "        vertical-align: middle;\n",
       "    }\n",
       "\n",
       "    .dataframe tbody tr th {\n",
       "        vertical-align: top;\n",
       "    }\n",
       "\n",
       "    .dataframe thead th {\n",
       "        text-align: right;\n",
       "    }\n",
       "</style>\n",
       "<table border=\"1\" class=\"dataframe\">\n",
       "  <thead>\n",
       "    <tr style=\"text-align: right;\">\n",
       "      <th></th>\n",
       "      <th>사업자등록번호</th>\n",
       "      <th>종업원수</th>\n",
       "      <th>종업원그룹</th>\n",
       "      <th>업력</th>\n",
       "      <th>성장단계</th>\n",
       "      <th>산업대분류</th>\n",
       "      <th>기업규모</th>\n",
       "      <th>기업형태</th>\n",
       "      <th>CRI등급</th>\n",
       "      <th>매출액</th>\n",
       "      <th>영업이익</th>\n",
       "      <th>자본총계금액</th>\n",
       "      <th>부채총계금액</th>\n",
       "      <th>자산총계금액</th>\n",
       "      <th>자산총계그룹화</th>\n",
       "      <th>유동자산</th>\n",
       "      <th>유동부채</th>\n",
       "      <th>당좌자산</th>\n",
       "      <th>재고자산</th>\n",
       "    </tr>\n",
       "  </thead>\n",
       "  <tbody>\n",
       "    <tr>\n",
       "      <th>0</th>\n",
       "      <td>8998803795</td>\n",
       "      <td>28.0</td>\n",
       "      <td>2</td>\n",
       "      <td>6.000000</td>\n",
       "      <td>성장보육형</td>\n",
       "      <td>58</td>\n",
       "      <td>중소기업</td>\n",
       "      <td>일반</td>\n",
       "      <td>A3</td>\n",
       "      <td>1011463.0</td>\n",
       "      <td>-814679.0</td>\n",
       "      <td>4013322.0</td>\n",
       "      <td>137198.0</td>\n",
       "      <td>4150520.0</td>\n",
       "      <td>3</td>\n",
       "      <td>2535306.0</td>\n",
       "      <td>6931.0</td>\n",
       "      <td>2535306.0</td>\n",
       "      <td>NaN</td>\n",
       "    </tr>\n",
       "    <tr>\n",
       "      <th>1</th>\n",
       "      <td>8998708313</td>\n",
       "      <td>10.0</td>\n",
       "      <td>5</td>\n",
       "      <td>8.000000</td>\n",
       "      <td>자립성장형</td>\n",
       "      <td>41</td>\n",
       "      <td>중소기업</td>\n",
       "      <td>일반</td>\n",
       "      <td>B1</td>\n",
       "      <td>6813497.0</td>\n",
       "      <td>133499.0</td>\n",
       "      <td>879583.0</td>\n",
       "      <td>264271.0</td>\n",
       "      <td>1143854.0</td>\n",
       "      <td>6</td>\n",
       "      <td>NaN</td>\n",
       "      <td>NaN</td>\n",
       "      <td>NaN</td>\n",
       "      <td>NaN</td>\n",
       "    </tr>\n",
       "    <tr>\n",
       "      <th>2</th>\n",
       "      <td>8998707411</td>\n",
       "      <td>9.0</td>\n",
       "      <td>6</td>\n",
       "      <td>8.000000</td>\n",
       "      <td>정체형</td>\n",
       "      <td>70</td>\n",
       "      <td>중소기업</td>\n",
       "      <td>일반</td>\n",
       "      <td>C3</td>\n",
       "      <td>15698.0</td>\n",
       "      <td>-369271.0</td>\n",
       "      <td>-864984.0</td>\n",
       "      <td>1571180.0</td>\n",
       "      <td>706196.0</td>\n",
       "      <td>8</td>\n",
       "      <td>56478.0</td>\n",
       "      <td>18985.0</td>\n",
       "      <td>56478.0</td>\n",
       "      <td>NaN</td>\n",
       "    </tr>\n",
       "    <tr>\n",
       "      <th>3</th>\n",
       "      <td>8998705196</td>\n",
       "      <td>4.0</td>\n",
       "      <td>9</td>\n",
       "      <td>5.000000</td>\n",
       "      <td>성장보육형</td>\n",
       "      <td>62</td>\n",
       "      <td>중소기업</td>\n",
       "      <td>일반</td>\n",
       "      <td>B1</td>\n",
       "      <td>1520118.0</td>\n",
       "      <td>56722.0</td>\n",
       "      <td>82538.0</td>\n",
       "      <td>85365.0</td>\n",
       "      <td>167903.0</td>\n",
       "      <td>10</td>\n",
       "      <td>97198.0</td>\n",
       "      <td>104678.0</td>\n",
       "      <td>97198.0</td>\n",
       "      <td>NaN</td>\n",
       "    </tr>\n",
       "    <tr>\n",
       "      <th>4</th>\n",
       "      <td>8998607522</td>\n",
       "      <td>6.0</td>\n",
       "      <td>7</td>\n",
       "      <td>8.000000</td>\n",
       "      <td>정체형</td>\n",
       "      <td>73</td>\n",
       "      <td>중소기업</td>\n",
       "      <td>일반</td>\n",
       "      <td>B2</td>\n",
       "      <td>705737.0</td>\n",
       "      <td>11915.0</td>\n",
       "      <td>-98866.0</td>\n",
       "      <td>319249.0</td>\n",
       "      <td>220383.0</td>\n",
       "      <td>10</td>\n",
       "      <td>59780.0</td>\n",
       "      <td>213440.0</td>\n",
       "      <td>59780.0</td>\n",
       "      <td>NaN</td>\n",
       "    </tr>\n",
       "    <tr>\n",
       "      <th>...</th>\n",
       "      <td>...</td>\n",
       "      <td>...</td>\n",
       "      <td>...</td>\n",
       "      <td>...</td>\n",
       "      <td>...</td>\n",
       "      <td>...</td>\n",
       "      <td>...</td>\n",
       "      <td>...</td>\n",
       "      <td>...</td>\n",
       "      <td>...</td>\n",
       "      <td>...</td>\n",
       "      <td>...</td>\n",
       "      <td>...</td>\n",
       "      <td>...</td>\n",
       "      <td>...</td>\n",
       "      <td>...</td>\n",
       "      <td>...</td>\n",
       "      <td>...</td>\n",
       "      <td>...</td>\n",
       "    </tr>\n",
       "    <tr>\n",
       "      <th>8181</th>\n",
       "      <td>1011106242</td>\n",
       "      <td>10.0</td>\n",
       "      <td>5</td>\n",
       "      <td>11.000000</td>\n",
       "      <td>정체형</td>\n",
       "      <td>73</td>\n",
       "      <td>중소기업</td>\n",
       "      <td>폐업</td>\n",
       "      <td>D</td>\n",
       "      <td>542209.0</td>\n",
       "      <td>72011.0</td>\n",
       "      <td>184652.0</td>\n",
       "      <td>77909.0</td>\n",
       "      <td>262561.0</td>\n",
       "      <td>10</td>\n",
       "      <td>63463.0</td>\n",
       "      <td>9083.0</td>\n",
       "      <td>63463.0</td>\n",
       "      <td>NaN</td>\n",
       "    </tr>\n",
       "    <tr>\n",
       "      <th>8182</th>\n",
       "      <td>1010709848</td>\n",
       "      <td>11.0</td>\n",
       "      <td>5</td>\n",
       "      <td>17.000000</td>\n",
       "      <td>정체형</td>\n",
       "      <td>59</td>\n",
       "      <td>중소기업</td>\n",
       "      <td>일반</td>\n",
       "      <td>B3</td>\n",
       "      <td>81492.0</td>\n",
       "      <td>13368.0</td>\n",
       "      <td>-44576.0</td>\n",
       "      <td>50302.0</td>\n",
       "      <td>5726.0</td>\n",
       "      <td>10</td>\n",
       "      <td>5726.0</td>\n",
       "      <td>NaN</td>\n",
       "      <td>5726.0</td>\n",
       "      <td>0.0</td>\n",
       "    </tr>\n",
       "    <tr>\n",
       "      <th>8183</th>\n",
       "      <td>1010607727</td>\n",
       "      <td>1.0</td>\n",
       "      <td>10</td>\n",
       "      <td>11.922535</td>\n",
       "      <td>정체형</td>\n",
       "      <td>75</td>\n",
       "      <td>중소기업</td>\n",
       "      <td>일반</td>\n",
       "      <td>C3</td>\n",
       "      <td>370418.0</td>\n",
       "      <td>40593.0</td>\n",
       "      <td>18284.0</td>\n",
       "      <td>184275.0</td>\n",
       "      <td>202559.0</td>\n",
       "      <td>10</td>\n",
       "      <td>248823.0</td>\n",
       "      <td>58126.0</td>\n",
       "      <td>248823.0</td>\n",
       "      <td>NaN</td>\n",
       "    </tr>\n",
       "    <tr>\n",
       "      <th>8184</th>\n",
       "      <td>1010204456</td>\n",
       "      <td>5.0</td>\n",
       "      <td>8</td>\n",
       "      <td>23.000000</td>\n",
       "      <td>정체형</td>\n",
       "      <td>46</td>\n",
       "      <td>중소기업</td>\n",
       "      <td>일반</td>\n",
       "      <td>B3</td>\n",
       "      <td>984750.0</td>\n",
       "      <td>76381.0</td>\n",
       "      <td>84972.0</td>\n",
       "      <td>866105.0</td>\n",
       "      <td>951077.0</td>\n",
       "      <td>7</td>\n",
       "      <td>864902.0</td>\n",
       "      <td>16278.0</td>\n",
       "      <td>824657.0</td>\n",
       "      <td>40245.0</td>\n",
       "    </tr>\n",
       "    <tr>\n",
       "      <th>8185</th>\n",
       "      <td>1010109319</td>\n",
       "      <td>1.0</td>\n",
       "      <td>10</td>\n",
       "      <td>21.000000</td>\n",
       "      <td>정체형</td>\n",
       "      <td>46</td>\n",
       "      <td>중소기업</td>\n",
       "      <td>일반</td>\n",
       "      <td>B2</td>\n",
       "      <td>178547.0</td>\n",
       "      <td>12955.0</td>\n",
       "      <td>-289.0</td>\n",
       "      <td>2182.0</td>\n",
       "      <td>1893.0</td>\n",
       "      <td>10</td>\n",
       "      <td>8141.0</td>\n",
       "      <td>707.0</td>\n",
       "      <td>2695.0</td>\n",
       "      <td>5446.0</td>\n",
       "    </tr>\n",
       "  </tbody>\n",
       "</table>\n",
       "<p>8186 rows × 19 columns</p>\n",
       "</div>"
      ],
      "text/plain": [
       "         사업자등록번호  종업원수  종업원그룹         업력   성장단계 산업대분류  기업규모 기업형태 CRI등급  \\\n",
       "0     8998803795  28.0      2   6.000000  성장보육형    58  중소기업   일반    A3   \n",
       "1     8998708313  10.0      5   8.000000  자립성장형    41  중소기업   일반    B1   \n",
       "2     8998707411   9.0      6   8.000000    정체형    70  중소기업   일반    C3   \n",
       "3     8998705196   4.0      9   5.000000  성장보육형    62  중소기업   일반    B1   \n",
       "4     8998607522   6.0      7   8.000000    정체형    73  중소기업   일반    B2   \n",
       "...          ...   ...    ...        ...    ...   ...   ...  ...   ...   \n",
       "8181  1011106242  10.0      5  11.000000    정체형    73  중소기업   폐업     D   \n",
       "8182  1010709848  11.0      5  17.000000    정체형    59  중소기업   일반    B3   \n",
       "8183  1010607727   1.0     10  11.922535    정체형    75  중소기업   일반    C3   \n",
       "8184  1010204456   5.0      8  23.000000    정체형    46  중소기업   일반    B3   \n",
       "8185  1010109319   1.0     10  21.000000    정체형    46  중소기업   일반    B2   \n",
       "\n",
       "            매출액      영업이익     자본총계금액     부채총계금액     자산총계금액  자산총계그룹화  \\\n",
       "0     1011463.0 -814679.0  4013322.0   137198.0  4150520.0        3   \n",
       "1     6813497.0  133499.0   879583.0   264271.0  1143854.0        6   \n",
       "2       15698.0 -369271.0  -864984.0  1571180.0   706196.0        8   \n",
       "3     1520118.0   56722.0    82538.0    85365.0   167903.0       10   \n",
       "4      705737.0   11915.0   -98866.0   319249.0   220383.0       10   \n",
       "...         ...       ...        ...        ...        ...      ...   \n",
       "8181   542209.0   72011.0   184652.0    77909.0   262561.0       10   \n",
       "8182    81492.0   13368.0   -44576.0    50302.0     5726.0       10   \n",
       "8183   370418.0   40593.0    18284.0   184275.0   202559.0       10   \n",
       "8184   984750.0   76381.0    84972.0   866105.0   951077.0        7   \n",
       "8185   178547.0   12955.0     -289.0     2182.0     1893.0       10   \n",
       "\n",
       "           유동자산      유동부채       당좌자산     재고자산  \n",
       "0     2535306.0    6931.0  2535306.0      NaN  \n",
       "1           NaN       NaN        NaN      NaN  \n",
       "2       56478.0   18985.0    56478.0      NaN  \n",
       "3       97198.0  104678.0    97198.0      NaN  \n",
       "4       59780.0  213440.0    59780.0      NaN  \n",
       "...         ...       ...        ...      ...  \n",
       "8181    63463.0    9083.0    63463.0      NaN  \n",
       "8182     5726.0       NaN     5726.0      0.0  \n",
       "8183   248823.0   58126.0   248823.0      NaN  \n",
       "8184   864902.0   16278.0   824657.0  40245.0  \n",
       "8185     8141.0     707.0     2695.0   5446.0  \n",
       "\n",
       "[8186 rows x 19 columns]"
      ]
     },
     "execution_count": 142,
     "metadata": {},
     "output_type": "execute_result"
    }
   ],
   "source": [
    "F_S = Financial_Statements[Financial_Statements.사업자등록번호.isin(df_del_null.사업자등록번호)][['사업자등록번호','재무제표기준년도','재무제표계정과목명','재무제표계정과목금액']]\n",
    "F_S\n",
    "\n",
    "print(len(df_del_null.사업자등록번호.unique().tolist()))\n",
    "print(len(F_S.사업자등록번호.unique().tolist()))\n",
    "\n",
    "F_yj = pd.merge(df_del_null,F_S[F_S.재무제표계정과목명 == '유동자산'],on =['사업자등록번호'],how='left').drop_duplicates(keep='first')\n",
    "F_yj.rename(columns = {'재무제표계정과목금액':'유동자산'},inplace=True)\n",
    "F_yj = F_yj.sort_values(by =['사업자등록번호','재무제표기준년도'],ascending=False).drop_duplicates(subset = [\"사업자등록번호\",\"재무제표계정과목명\"],keep='first').drop(labels=['재무제표계정과목명','재무제표기준년도'],axis = 1)\n",
    "print(len(F_yj.사업자등록번호.unique()),F_yj.shape)\n",
    "F_yj\n",
    "\n",
    "F_yb = pd.merge(F_yj,F_S[F_S.재무제표계정과목명 == '유동부채'],on =['사업자등록번호'],how='left').drop_duplicates()\n",
    "F_yb.rename(columns = {'재무제표계정과목금액':'유동부채'},inplace=True)\n",
    "F_yb = F_yb.sort_values(by =['사업자등록번호','재무제표기준년도'],ascending=False).drop_duplicates(subset = [\"사업자등록번호\",\"재무제표계정과목명\"],keep='first').drop(labels=['재무제표계정과목명','재무제표기준년도'],axis = 1)\n",
    "print(len(F_yb.사업자등록번호.unique()),F_yb.shape)\n",
    "F_yb\n",
    "\n",
    "F_d = pd.merge(F_yb,F_S[F_S.재무제표계정과목명 == '당좌자산'],on =['사업자등록번호'],how='left').drop_duplicates()\n",
    "F_d.rename(columns = {'재무제표계정과목금액':'당좌자산'},inplace=True)\n",
    "F_d = F_d.sort_values(by =['사업자등록번호','재무제표기준년도'],ascending=False).drop_duplicates(subset = [\"사업자등록번호\",\"재무제표계정과목명\"],keep='first').drop(labels=['재무제표계정과목명','재무제표기준년도'],axis = 1)\n",
    "print(len(F_d.사업자등록번호.unique()),F_d.shape)\n",
    "F_d\n",
    "\n",
    "F_j_del_null = pd.merge(F_d,F_S[F_S.재무제표계정과목명 == '재고자산'],on =['사업자등록번호'],how='left').drop_duplicates()\n",
    "F_j_del_null.rename(columns = {'재무제표계정과목금액':'재고자산'},inplace=True)\n",
    "F_j_del_null = F_j_del_null.sort_values(by =['사업자등록번호','재무제표기준년도'],ascending=False).drop_duplicates(subset = [\"사업자등록번호\",\"재무제표계정과목명\"],keep='first').drop(labels=['재무제표계정과목명','재무제표기준년도'],axis = 1)\n",
    "print(len(F_j_del_null.사업자등록번호.unique()),F_j_del_null.shape)\n",
    "F_j_del_null"
   ]
  },
  {
   "cell_type": "code",
   "execution_count": 143,
   "id": "219863be",
   "metadata": {},
   "outputs": [
    {
     "data": {
      "text/plain": [
       "사업자등록번호       0\n",
       "종업원수          0\n",
       "종업원그룹         0\n",
       "업력            0\n",
       "성장단계          0\n",
       "산업대분류         0\n",
       "기업규모          0\n",
       "기업형태          0\n",
       "CRI등급         0\n",
       "매출액           0\n",
       "영업이익          0\n",
       "자본총계금액        0\n",
       "부채총계금액        0\n",
       "자산총계금액        0\n",
       "자산총계그룹화       0\n",
       "유동자산       2353\n",
       "유동부채       3959\n",
       "당좌자산       2457\n",
       "재고자산       5223\n",
       "dtype: int64"
      ]
     },
     "execution_count": 143,
     "metadata": {},
     "output_type": "execute_result"
    }
   ],
   "source": [
    "F_j_del_null.isnull().sum()"
   ]
  },
  {
   "cell_type": "markdown",
   "id": "d21fa04a",
   "metadata": {},
   "source": [
    "#### ✅**유동자산, 유동부채, 당좌자산, 재고자산 결측치 제거 : 자산총계그룹화로 결측치 대치**"
   ]
  },
  {
   "cell_type": "code",
   "execution_count": 144,
   "id": "18ca2fe2",
   "metadata": {},
   "outputs": [
    {
     "data": {
      "text/plain": [
       "<AxesSubplot:>"
      ]
     },
     "execution_count": 144,
     "metadata": {},
     "output_type": "execute_result"
    },
    {
     "data": {
      "image/png": "[encoded data removed]",
      "text/plain": [
       "<Figure size 640x480 with 2 Axes>"
      ]
     },
     "metadata": {},
     "output_type": "display_data"
    }
   ],
   "source": [
    "sns.heatmap(F_j.corr())"
   ]
  },
  {
   "cell_type": "code",
   "execution_count": 145,
   "id": "1c6acbdc",
   "metadata": {},
   "outputs": [
    {
     "data": {
      "text/plain": [
       "<AxesSubplot:>"
      ]
     },
     "execution_count": 145,
     "metadata": {},
     "output_type": "execute_result"
    },
    {
     "data": {
      "image/png": "[encoded data removed]",
      "text/plain": [
       "<Figure size 640x480 with 2 Axes>"
      ]
     },
     "metadata": {},
     "output_type": "display_data"
    }
   ],
   "source": [
    "sns.heatmap(F_j_del_null.corr())"
   ]
  },
  {
   "cell_type": "markdown",
   "id": "0d80897a",
   "metadata": {},
   "source": [
    "#### ✅**유동자산, 자산총계금액 양의 상관성(0.84) 있음, df와 df_del_null 모두 있음**"
   ]
  },
  {
   "cell_type": "code",
   "execution_count": 146,
   "id": "a0ea0778",
   "metadata": {},
   "outputs": [
    {
     "data": {
      "text/plain": [
       "NormaltestResult(statistic=14138.445270683136, pvalue=0.0)"
      ]
     },
     "execution_count": 146,
     "metadata": {},
     "output_type": "execute_result"
    }
   ],
   "source": [
    "stats.normaltest(F_j.dropna(subset='유동자산').유동자산)"
   ]
  },
  {
   "cell_type": "code",
   "execution_count": 147,
   "id": "0353a139",
   "metadata": {},
   "outputs": [
    {
     "data": {
      "text/plain": [
       "NormaltestResult(statistic=15351.132944251753, pvalue=0.0)"
      ]
     },
     "execution_count": 147,
     "metadata": {},
     "output_type": "execute_result"
    }
   ],
   "source": [
    "stats.normaltest(F_j.dropna(subset='유동자산').자산총계금액)"
   ]
  },
  {
   "cell_type": "code",
   "execution_count": 148,
   "id": "8e112fed",
   "metadata": {},
   "outputs": [
    {
     "data": {
      "text/plain": [
       "SpearmanrResult(correlation=0.8458088685055639, pvalue=0.0)"
      ]
     },
     "execution_count": 148,
     "metadata": {},
     "output_type": "execute_result"
    }
   ],
   "source": [
    "stats.spearmanr(F_j.dropna(subset='유동자산').유동자산, F_j.dropna(subset='유동자산').자산총계금액)"
   ]
  },
  {
   "cell_type": "code",
   "execution_count": 149,
   "id": "de8bb8c5",
   "metadata": {},
   "outputs": [
    {
     "data": {
      "text/plain": [
       "NormaltestResult(statistic=13744.267122581565, pvalue=0.0)"
      ]
     },
     "execution_count": 149,
     "metadata": {},
     "output_type": "execute_result"
    }
   ],
   "source": [
    "stats.normaltest(F_j_del_null.dropna(subset='유동자산').유동자산)"
   ]
  },
  {
   "cell_type": "code",
   "execution_count": 150,
   "id": "f0500a1b",
   "metadata": {},
   "outputs": [
    {
     "data": {
      "text/plain": [
       "NormaltestResult(statistic=14868.901597858625, pvalue=0.0)"
      ]
     },
     "execution_count": 150,
     "metadata": {},
     "output_type": "execute_result"
    }
   ],
   "source": [
    "stats.normaltest(F_j_del_null.dropna(subset='유동자산').자산총계금액)"
   ]
  },
  {
   "cell_type": "code",
   "execution_count": 151,
   "id": "a714f1f6",
   "metadata": {},
   "outputs": [
    {
     "data": {
      "text/plain": [
       "SpearmanrResult(correlation=0.8733749505666564, pvalue=0.0)"
      ]
     },
     "execution_count": 151,
     "metadata": {},
     "output_type": "execute_result"
    }
   ],
   "source": [
    "stats.spearmanr(F_j_del_null.dropna(subset='유동자산').유동자산, F_j_del_null.dropna(subset='유동자산').자산총계금액)"
   ]
  },
  {
   "cell_type": "markdown",
   "id": "2edb3e6a",
   "metadata": {},
   "source": [
    "#### ✅**유동부채, 자산총계금액 양의 상관성(0.68) 있음**"
   ]
  },
  {
   "cell_type": "code",
   "execution_count": 152,
   "id": "ce27c089",
   "metadata": {},
   "outputs": [
    {
     "data": {
      "text/plain": [
       "SpearmanrResult(correlation=0.6885580871655095, pvalue=0.0)"
      ]
     },
     "execution_count": 152,
     "metadata": {},
     "output_type": "execute_result"
    }
   ],
   "source": [
    "stats.spearmanr(F_j.dropna(subset='유동부채').유동부채, F_j.dropna(subset='유동부채').자산총계금액)"
   ]
  },
  {
   "cell_type": "code",
   "execution_count": 153,
   "id": "3e297aab",
   "metadata": {},
   "outputs": [
    {
     "data": {
      "text/plain": [
       "SpearmanrResult(correlation=0.712595498437815, pvalue=0.0)"
      ]
     },
     "execution_count": 153,
     "metadata": {},
     "output_type": "execute_result"
    }
   ],
   "source": [
    "stats.spearmanr(F_j_del_null.dropna(subset='유동부채').유동부채, F_j_del_null.dropna(subset='유동부채').자산총계금액)"
   ]
  },
  {
   "cell_type": "code",
   "execution_count": 154,
   "id": "337f5eff",
   "metadata": {},
   "outputs": [
    {
     "data": {
      "text/plain": [
       "KruskalResult(statistic=508.3114105920088, pvalue=7.541131539659394e-110)"
      ]
     },
     "execution_count": 154,
     "metadata": {},
     "output_type": "execute_result"
    }
   ],
   "source": [
    "stats.kruskal(F_j.dropna(subset='유동자산').loc[F_j.CRI등급.isin(['A1','A2','A3'])].유동자산,\n",
    "F_j.dropna(subset='유동자산').loc[F_j.CRI등급.isin(['B1','B2','B3'])].유동자산,\n",
    "F_j.dropna(subset='유동자산').loc[F_j.CRI등급.isin(['C1','C2','C3'])].유동자산,\n",
    "F_j.dropna(subset='유동자산').loc[F_j.CRI등급.isin(['D'])].유동자산)"
   ]
  },
  {
   "cell_type": "code",
   "execution_count": 155,
   "id": "ec355d21",
   "metadata": {},
   "outputs": [
    {
     "data": {
      "text/plain": [
       "KruskalResult(statistic=464.41859063666743, pvalue=2.449691472044791e-100)"
      ]
     },
     "execution_count": 155,
     "metadata": {},
     "output_type": "execute_result"
    }
   ],
   "source": [
    "stats.kruskal(F_j_del_null.dropna(subset='유동자산').loc[F_j_del_null.CRI등급.isin(['A1','A2','A3'])].유동자산,\n",
    "F_j_del_null.dropna(subset='유동자산').loc[F_j_del_null.CRI등급.isin(['B1','B2','B3'])].유동자산,\n",
    "F_j_del_null.dropna(subset='유동자산').loc[F_j_del_null.CRI등급.isin(['C1','C2','C3'])].유동자산,\n",
    "F_j_del_null.dropna(subset='유동자산').loc[F_j_del_null.CRI등급.isin(['D'])].유동자산)"
   ]
  },
  {
   "cell_type": "code",
   "execution_count": 156,
   "id": "b137b8c8",
   "metadata": {},
   "outputs": [
    {
     "data": {
      "text/plain": [
       "KruskalResult(statistic=31.92523293211076, pvalue=5.426828514552504e-07)"
      ]
     },
     "execution_count": 156,
     "metadata": {},
     "output_type": "execute_result"
    }
   ],
   "source": [
    "stats.kruskal(F_j.dropna(subset='유동부채').loc[F_j.CRI등급.isin(['A1','A2','A3'])].유동부채,\n",
    "F_j.dropna(subset='유동부채').loc[F_j.CRI등급.isin(['B1','B2','B3'])].유동부채,\n",
    "F_j.dropna(subset='유동부채').loc[F_j.CRI등급.isin(['C1','C2','C3'])].유동부채,\n",
    "F_j.dropna(subset='유동부채').loc[F_j.CRI등급.isin(['D'])].유동부채)"
   ]
  },
  {
   "cell_type": "code",
   "execution_count": 157,
   "id": "3f0f6dee",
   "metadata": {},
   "outputs": [
    {
     "data": {
      "text/plain": [
       "사업자등록번호       0\n",
       "종업원수          0\n",
       "종업원그룹         0\n",
       "업력            0\n",
       "성장단계          0\n",
       "산업대분류         0\n",
       "기업규모          0\n",
       "기업형태          0\n",
       "CRI등급         0\n",
       "매출액           0\n",
       "영업이익          0\n",
       "자본총계금액        0\n",
       "부채총계금액        0\n",
       "자산총계금액        0\n",
       "자산총계그룹화       0\n",
       "유동자산       3837\n",
       "유동부채       5503\n",
       "당좌자산       3942\n",
       "재고자산       6803\n",
       "dtype: int64"
      ]
     },
     "execution_count": 157,
     "metadata": {},
     "output_type": "execute_result"
    }
   ],
   "source": [
    "F_j.isnull().sum()"
   ]
  },
  {
   "cell_type": "code",
   "execution_count": 158,
   "id": "baa28b41",
   "metadata": {},
   "outputs": [],
   "source": [
    "for i in range(1,11):\n",
    "    F_j.loc[(F_j.유동자산.isnull()) & (F_j.자산총계그룹화 == i),'유동자산'] = F_j[F_j.자산총계그룹화 == i].유동자산.mean()\n",
    "    F_j.loc[(F_j.유동부채.isnull()) & (F_j.자산총계그룹화 == i),'유동부채'] = F_j[F_j.자산총계그룹화 == i].유동부채.mean()\n",
    "    F_j.loc[(F_j.당좌자산.isnull()) & (F_j.자산총계그룹화 == i),'당좌자산'] = F_j[F_j.자산총계그룹화 == i].당좌자산.mean()\n",
    "    F_j.loc[(F_j.재고자산.isnull()) & (F_j.자산총계그룹화 == i),'재고자산'] = F_j[F_j.자산총계그룹화 == i].재고자산.mean()"
   ]
  },
  {
   "cell_type": "code",
   "execution_count": 159,
   "id": "9bf42932",
   "metadata": {},
   "outputs": [
    {
     "data": {
      "text/plain": [
       "사업자등록번호    0\n",
       "종업원수       0\n",
       "종업원그룹      0\n",
       "업력         0\n",
       "성장단계       0\n",
       "산업대분류      0\n",
       "기업규모       0\n",
       "기업형태       0\n",
       "CRI등급      0\n",
       "매출액        0\n",
       "영업이익       0\n",
       "자본총계금액     0\n",
       "부채총계금액     0\n",
       "자산총계금액     0\n",
       "자산총계그룹화    0\n",
       "유동자산       0\n",
       "유동부채       0\n",
       "당좌자산       0\n",
       "재고자산       0\n",
       "dtype: int64"
      ]
     },
     "execution_count": 159,
     "metadata": {},
     "output_type": "execute_result"
    }
   ],
   "source": [
    "F_j.isnull().sum()"
   ]
  },
  {
   "cell_type": "code",
   "execution_count": 160,
   "id": "748b1e0e",
   "metadata": {},
   "outputs": [],
   "source": [
    "for i in range(1,11):\n",
    "    F_j_del_null.loc[(F_j_del_null.유동자산.isnull()) & (F_j_del_null.자산총계그룹화 == i),'유동자산'] = F_j_del_null[F_j_del_null.자산총계그룹화 == i].유동자산.mean()\n",
    "    F_j_del_null.loc[(F_j_del_null.유동부채.isnull()) & (F_j_del_null.자산총계그룹화 == i),'유동부채'] = F_j_del_null[F_j_del_null.자산총계그룹화 == i].유동부채.mean()\n",
    "    F_j_del_null.loc[(F_j_del_null.당좌자산.isnull()) & (F_j_del_null.자산총계그룹화 == i),'당좌자산'] = F_j_del_null[F_j_del_null.자산총계그룹화 == i].당좌자산.mean()\n",
    "    F_j_del_null.loc[(F_j_del_null.재고자산.isnull()) & (F_j_del_null.자산총계그룹화 == i),'재고자산'] = F_j_del_null[F_j_del_null.자산총계그룹화 == i].재고자산.mean()"
   ]
  },
  {
   "cell_type": "code",
   "execution_count": 161,
   "id": "a802d067",
   "metadata": {},
   "outputs": [
    {
     "data": {
      "text/plain": [
       "사업자등록번호    0\n",
       "종업원수       0\n",
       "종업원그룹      0\n",
       "업력         0\n",
       "성장단계       0\n",
       "산업대분류      0\n",
       "기업규모       0\n",
       "기업형태       0\n",
       "CRI등급      0\n",
       "매출액        0\n",
       "영업이익       0\n",
       "자본총계금액     0\n",
       "부채총계금액     0\n",
       "자산총계금액     0\n",
       "자산총계그룹화    0\n",
       "유동자산       0\n",
       "유동부채       0\n",
       "당좌자산       0\n",
       "재고자산       0\n",
       "dtype: int64"
      ]
     },
     "execution_count": 161,
     "metadata": {},
     "output_type": "execute_result"
    }
   ],
   "source": [
    "F_j_del_null.isnull().sum()"
   ]
  },
  {
   "cell_type": "markdown",
   "id": "34ba34dd",
   "metadata": {},
   "source": [
    "#### ✅**유동비율, 부채비율, 자기자본비율, 당좌비율, 순운전자본자본비율, 총자산회전율 추가 : 재무적 데이터 결측치 없앤 데이터 셋 완료**"
   ]
  },
  {
   "cell_type": "code",
   "execution_count": 162,
   "id": "c98e8201",
   "metadata": {},
   "outputs": [],
   "source": [
    "F_j['유동비율'] = round(F_j.유동자산 / F_j.유동부채 * 100,0)\n",
    "F_j['부채비율'] = round(F_j.부채총계금액 / F_j.자본총계금액 * 100,0)\n",
    "F_j['자기자본비율'] = round(F_j.자본총계금액 / F_j.자산총계금액 * 100,0)\n",
    "F_j['매출영업이익률'] = round(F_j.영업이익 / F_j.매출액 * 100,0)\n",
    "F_j['당좌비율'] = round(F_j.당좌자산 / F_j.유동자산 * 100,0)\n",
    "F_j['순운전자본자본비율'] = round((F_j.유동자산 - F_j.유동부채) / F_j.자본총계금액 * 100,0)\n",
    "F_j['총자산회전율'] = round(F_j.매출액 / F_j.자본총계금액 * 100,0)"
   ]
  },
  {
   "cell_type": "code",
   "execution_count": 163,
   "id": "e307ec68",
   "metadata": {},
   "outputs": [
    {
     "data": {
      "text/plain": [
       "Int64Index([530, 2149, 2173, 2955, 3799, 3819, 6164, 6271, 7629], dtype='int64')"
      ]
     },
     "execution_count": 163,
     "metadata": {},
     "output_type": "execute_result"
    }
   ],
   "source": [
    "F_j[(F_j.유동부채 == 0) |(F_j.자본총계금액 == 0) | (F_j.자산총계금액 == 0) | (F_j.유동자산 == 0) | (F_j.매출액 == 0)].index"
   ]
  },
  {
   "cell_type": "code",
   "execution_count": 164,
   "id": "444def27",
   "metadata": {},
   "outputs": [
    {
     "name": "stdout",
     "output_type": "stream",
     "text": [
      "(9837, 26)\n"
     ]
    },
    {
     "data": {
      "text/html": [
       "<div>\n",
       "<style scoped>\n",
       "    .dataframe tbody tr th:only-of-type {\n",
       "        vertical-align: middle;\n",
       "    }\n",
       "\n",
       "    .dataframe tbody tr th {\n",
       "        vertical-align: top;\n",
       "    }\n",
       "\n",
       "    .dataframe thead th {\n",
       "        text-align: right;\n",
       "    }\n",
       "</style>\n",
       "<table border=\"1\" class=\"dataframe\">\n",
       "  <thead>\n",
       "    <tr style=\"text-align: right;\">\n",
       "      <th></th>\n",
       "      <th>index</th>\n",
       "      <th>사업자등록번호</th>\n",
       "      <th>종업원수</th>\n",
       "      <th>종업원그룹</th>\n",
       "      <th>업력</th>\n",
       "      <th>성장단계</th>\n",
       "      <th>산업대분류</th>\n",
       "      <th>기업규모</th>\n",
       "      <th>기업형태</th>\n",
       "      <th>CRI등급</th>\n",
       "      <th>...</th>\n",
       "      <th>유동부채</th>\n",
       "      <th>당좌자산</th>\n",
       "      <th>재고자산</th>\n",
       "      <th>유동비율</th>\n",
       "      <th>부채비율</th>\n",
       "      <th>자기자본비율</th>\n",
       "      <th>매출영업이익률</th>\n",
       "      <th>당좌비율</th>\n",
       "      <th>순운전자본자본비율</th>\n",
       "      <th>총자산회전율</th>\n",
       "    </tr>\n",
       "  </thead>\n",
       "  <tbody>\n",
       "    <tr>\n",
       "      <th>0</th>\n",
       "      <td>0</td>\n",
       "      <td>8998803795</td>\n",
       "      <td>28.0</td>\n",
       "      <td>2</td>\n",
       "      <td>6.000000</td>\n",
       "      <td>성장보육형</td>\n",
       "      <td>58</td>\n",
       "      <td>중소기업</td>\n",
       "      <td>일반</td>\n",
       "      <td>A3</td>\n",
       "      <td>...</td>\n",
       "      <td>6.931000e+03</td>\n",
       "      <td>2.535306e+06</td>\n",
       "      <td>4.864069e+05</td>\n",
       "      <td>36579.0</td>\n",
       "      <td>3.0</td>\n",
       "      <td>97.0</td>\n",
       "      <td>-81.0</td>\n",
       "      <td>100.0</td>\n",
       "      <td>63.0</td>\n",
       "      <td>25.0</td>\n",
       "    </tr>\n",
       "    <tr>\n",
       "      <th>1</th>\n",
       "      <td>1</td>\n",
       "      <td>8998708313</td>\n",
       "      <td>10.0</td>\n",
       "      <td>5</td>\n",
       "      <td>8.000000</td>\n",
       "      <td>자립성장형</td>\n",
       "      <td>41</td>\n",
       "      <td>중소기업</td>\n",
       "      <td>일반</td>\n",
       "      <td>B1</td>\n",
       "      <td>...</td>\n",
       "      <td>2.929791e+05</td>\n",
       "      <td>5.956807e+05</td>\n",
       "      <td>1.509203e+05</td>\n",
       "      <td>229.0</td>\n",
       "      <td>30.0</td>\n",
       "      <td>77.0</td>\n",
       "      <td>2.0</td>\n",
       "      <td>89.0</td>\n",
       "      <td>43.0</td>\n",
       "      <td>775.0</td>\n",
       "    </tr>\n",
       "    <tr>\n",
       "      <th>2</th>\n",
       "      <td>2</td>\n",
       "      <td>8998707411</td>\n",
       "      <td>9.0</td>\n",
       "      <td>6</td>\n",
       "      <td>8.000000</td>\n",
       "      <td>정체형</td>\n",
       "      <td>70</td>\n",
       "      <td>중소기업</td>\n",
       "      <td>일반</td>\n",
       "      <td>C3</td>\n",
       "      <td>...</td>\n",
       "      <td>1.898500e+04</td>\n",
       "      <td>5.647800e+04</td>\n",
       "      <td>9.391934e+04</td>\n",
       "      <td>297.0</td>\n",
       "      <td>-182.0</td>\n",
       "      <td>-122.0</td>\n",
       "      <td>-2352.0</td>\n",
       "      <td>100.0</td>\n",
       "      <td>-4.0</td>\n",
       "      <td>-2.0</td>\n",
       "    </tr>\n",
       "    <tr>\n",
       "      <th>3</th>\n",
       "      <td>3</td>\n",
       "      <td>8998705196</td>\n",
       "      <td>4.0</td>\n",
       "      <td>9</td>\n",
       "      <td>5.000000</td>\n",
       "      <td>성장보육형</td>\n",
       "      <td>62</td>\n",
       "      <td>중소기업</td>\n",
       "      <td>일반</td>\n",
       "      <td>B1</td>\n",
       "      <td>...</td>\n",
       "      <td>1.046780e+05</td>\n",
       "      <td>9.719800e+04</td>\n",
       "      <td>3.419214e+04</td>\n",
       "      <td>93.0</td>\n",
       "      <td>103.0</td>\n",
       "      <td>49.0</td>\n",
       "      <td>4.0</td>\n",
       "      <td>100.0</td>\n",
       "      <td>-9.0</td>\n",
       "      <td>1842.0</td>\n",
       "    </tr>\n",
       "    <tr>\n",
       "      <th>4</th>\n",
       "      <td>4</td>\n",
       "      <td>8998607522</td>\n",
       "      <td>6.0</td>\n",
       "      <td>7</td>\n",
       "      <td>8.000000</td>\n",
       "      <td>정체형</td>\n",
       "      <td>73</td>\n",
       "      <td>중소기업</td>\n",
       "      <td>일반</td>\n",
       "      <td>B2</td>\n",
       "      <td>...</td>\n",
       "      <td>2.134400e+05</td>\n",
       "      <td>5.978000e+04</td>\n",
       "      <td>3.419214e+04</td>\n",
       "      <td>28.0</td>\n",
       "      <td>-323.0</td>\n",
       "      <td>-45.0</td>\n",
       "      <td>2.0</td>\n",
       "      <td>100.0</td>\n",
       "      <td>155.0</td>\n",
       "      <td>-714.0</td>\n",
       "    </tr>\n",
       "    <tr>\n",
       "      <th>...</th>\n",
       "      <td>...</td>\n",
       "      <td>...</td>\n",
       "      <td>...</td>\n",
       "      <td>...</td>\n",
       "      <td>...</td>\n",
       "      <td>...</td>\n",
       "      <td>...</td>\n",
       "      <td>...</td>\n",
       "      <td>...</td>\n",
       "      <td>...</td>\n",
       "      <td>...</td>\n",
       "      <td>...</td>\n",
       "      <td>...</td>\n",
       "      <td>...</td>\n",
       "      <td>...</td>\n",
       "      <td>...</td>\n",
       "      <td>...</td>\n",
       "      <td>...</td>\n",
       "      <td>...</td>\n",
       "      <td>...</td>\n",
       "      <td>...</td>\n",
       "    </tr>\n",
       "    <tr>\n",
       "      <th>9823</th>\n",
       "      <td>9832</td>\n",
       "      <td>1010709848</td>\n",
       "      <td>11.0</td>\n",
       "      <td>5</td>\n",
       "      <td>17.000000</td>\n",
       "      <td>정체형</td>\n",
       "      <td>59</td>\n",
       "      <td>중소기업</td>\n",
       "      <td>일반</td>\n",
       "      <td>B3</td>\n",
       "      <td>...</td>\n",
       "      <td>1.143005e+05</td>\n",
       "      <td>5.726000e+03</td>\n",
       "      <td>0.000000e+00</td>\n",
       "      <td>5.0</td>\n",
       "      <td>-113.0</td>\n",
       "      <td>-778.0</td>\n",
       "      <td>16.0</td>\n",
       "      <td>100.0</td>\n",
       "      <td>244.0</td>\n",
       "      <td>-183.0</td>\n",
       "    </tr>\n",
       "    <tr>\n",
       "      <th>9824</th>\n",
       "      <td>9833</td>\n",
       "      <td>1010607727</td>\n",
       "      <td>1.0</td>\n",
       "      <td>10</td>\n",
       "      <td>11.922535</td>\n",
       "      <td>정체형</td>\n",
       "      <td>75</td>\n",
       "      <td>중소기업</td>\n",
       "      <td>일반</td>\n",
       "      <td>C3</td>\n",
       "      <td>...</td>\n",
       "      <td>5.812600e+04</td>\n",
       "      <td>2.488230e+05</td>\n",
       "      <td>3.419214e+04</td>\n",
       "      <td>428.0</td>\n",
       "      <td>1008.0</td>\n",
       "      <td>9.0</td>\n",
       "      <td>11.0</td>\n",
       "      <td>100.0</td>\n",
       "      <td>1043.0</td>\n",
       "      <td>2026.0</td>\n",
       "    </tr>\n",
       "    <tr>\n",
       "      <th>9825</th>\n",
       "      <td>9834</td>\n",
       "      <td>1010600385</td>\n",
       "      <td>2.0</td>\n",
       "      <td>10</td>\n",
       "      <td>19.000000</td>\n",
       "      <td>창업형</td>\n",
       "      <td>26</td>\n",
       "      <td>중소기업</td>\n",
       "      <td>일반</td>\n",
       "      <td>C2</td>\n",
       "      <td>...</td>\n",
       "      <td>3.346430e+06</td>\n",
       "      <td>4.986473e+06</td>\n",
       "      <td>1.563890e+06</td>\n",
       "      <td>179.0</td>\n",
       "      <td>116.0</td>\n",
       "      <td>59.0</td>\n",
       "      <td>3.0</td>\n",
       "      <td>83.0</td>\n",
       "      <td>48.0</td>\n",
       "      <td>303.0</td>\n",
       "    </tr>\n",
       "    <tr>\n",
       "      <th>9826</th>\n",
       "      <td>9835</td>\n",
       "      <td>1010204456</td>\n",
       "      <td>5.0</td>\n",
       "      <td>8</td>\n",
       "      <td>23.000000</td>\n",
       "      <td>정체형</td>\n",
       "      <td>46</td>\n",
       "      <td>중소기업</td>\n",
       "      <td>일반</td>\n",
       "      <td>B3</td>\n",
       "      <td>...</td>\n",
       "      <td>1.627800e+04</td>\n",
       "      <td>8.246570e+05</td>\n",
       "      <td>4.024500e+04</td>\n",
       "      <td>5313.0</td>\n",
       "      <td>1019.0</td>\n",
       "      <td>9.0</td>\n",
       "      <td>8.0</td>\n",
       "      <td>95.0</td>\n",
       "      <td>999.0</td>\n",
       "      <td>1159.0</td>\n",
       "    </tr>\n",
       "    <tr>\n",
       "      <th>9827</th>\n",
       "      <td>9836</td>\n",
       "      <td>1010109319</td>\n",
       "      <td>1.0</td>\n",
       "      <td>10</td>\n",
       "      <td>21.000000</td>\n",
       "      <td>정체형</td>\n",
       "      <td>46</td>\n",
       "      <td>중소기업</td>\n",
       "      <td>일반</td>\n",
       "      <td>B2</td>\n",
       "      <td>...</td>\n",
       "      <td>7.070000e+02</td>\n",
       "      <td>2.695000e+03</td>\n",
       "      <td>5.446000e+03</td>\n",
       "      <td>1151.0</td>\n",
       "      <td>-755.0</td>\n",
       "      <td>-15.0</td>\n",
       "      <td>7.0</td>\n",
       "      <td>33.0</td>\n",
       "      <td>-2572.0</td>\n",
       "      <td>-61781.0</td>\n",
       "    </tr>\n",
       "  </tbody>\n",
       "</table>\n",
       "<p>9828 rows × 27 columns</p>\n",
       "</div>"
      ],
      "text/plain": [
       "      index     사업자등록번호  종업원수  종업원그룹         업력   성장단계 산업대분류  기업규모 기업형태 CRI등급  \\\n",
       "0         0  8998803795  28.0      2   6.000000  성장보육형    58  중소기업   일반    A3   \n",
       "1         1  8998708313  10.0      5   8.000000  자립성장형    41  중소기업   일반    B1   \n",
       "2         2  8998707411   9.0      6   8.000000    정체형    70  중소기업   일반    C3   \n",
       "3         3  8998705196   4.0      9   5.000000  성장보육형    62  중소기업   일반    B1   \n",
       "4         4  8998607522   6.0      7   8.000000    정체형    73  중소기업   일반    B2   \n",
       "...     ...         ...   ...    ...        ...    ...   ...   ...  ...   ...   \n",
       "9823   9832  1010709848  11.0      5  17.000000    정체형    59  중소기업   일반    B3   \n",
       "9824   9833  1010607727   1.0     10  11.922535    정체형    75  중소기업   일반    C3   \n",
       "9825   9834  1010600385   2.0     10  19.000000    창업형    26  중소기업   일반    C2   \n",
       "9826   9835  1010204456   5.0      8  23.000000    정체형    46  중소기업   일반    B3   \n",
       "9827   9836  1010109319   1.0     10  21.000000    정체형    46  중소기업   일반    B2   \n",
       "\n",
       "      ...          유동부채          당좌자산          재고자산     유동비율    부채비율  자기자본비율  \\\n",
       "0     ...  6.931000e+03  2.535306e+06  4.864069e+05  36579.0     3.0    97.0   \n",
       "1     ...  2.929791e+05  5.956807e+05  1.509203e+05    229.0    30.0    77.0   \n",
       "2     ...  1.898500e+04  5.647800e+04  9.391934e+04    297.0  -182.0  -122.0   \n",
       "3     ...  1.046780e+05  9.719800e+04  3.419214e+04     93.0   103.0    49.0   \n",
       "4     ...  2.134400e+05  5.978000e+04  3.419214e+04     28.0  -323.0   -45.0   \n",
       "...   ...           ...           ...           ...      ...     ...     ...   \n",
       "9823  ...  1.143005e+05  5.726000e+03  0.000000e+00      5.0  -113.0  -778.0   \n",
       "9824  ...  5.812600e+04  2.488230e+05  3.419214e+04    428.0  1008.0     9.0   \n",
       "9825  ...  3.346430e+06  4.986473e+06  1.563890e+06    179.0   116.0    59.0   \n",
       "9826  ...  1.627800e+04  8.246570e+05  4.024500e+04   5313.0  1019.0     9.0   \n",
       "9827  ...  7.070000e+02  2.695000e+03  5.446000e+03   1151.0  -755.0   -15.0   \n",
       "\n",
       "      매출영업이익률   당좌비율  순운전자본자본비율   총자산회전율  \n",
       "0       -81.0  100.0       63.0     25.0  \n",
       "1         2.0   89.0       43.0    775.0  \n",
       "2     -2352.0  100.0       -4.0     -2.0  \n",
       "3         4.0  100.0       -9.0   1842.0  \n",
       "4         2.0  100.0      155.0   -714.0  \n",
       "...       ...    ...        ...      ...  \n",
       "9823     16.0  100.0      244.0   -183.0  \n",
       "9824     11.0  100.0     1043.0   2026.0  \n",
       "9825      3.0   83.0       48.0    303.0  \n",
       "9826      8.0   95.0      999.0   1159.0  \n",
       "9827      7.0   33.0    -2572.0 -61781.0  \n",
       "\n",
       "[9828 rows x 27 columns]"
      ]
     },
     "execution_count": 164,
     "metadata": {},
     "output_type": "execute_result"
    }
   ],
   "source": [
    "print(F_j.shape)\n",
    "F_j.drop(index=[530, 2149, 2173, 2955, 3799, 3819, 6164, 6271, 7629], axis = 0, inplace = True)\n",
    "F_j.reset_index()"
   ]
  },
  {
   "cell_type": "code",
   "execution_count": 165,
   "id": "134cb645",
   "metadata": {},
   "outputs": [],
   "source": [
    "F_j_del_null['유동비율'] = round(F_j_del_null.유동자산 / F_j_del_null.유동부채 * 100,0)\n",
    "F_j_del_null['부채비율'] = round(F_j_del_null.부채총계금액 / F_j_del_null.자본총계금액 * 100,0)\n",
    "F_j_del_null['자기자본비율'] = round(F_j_del_null.자본총계금액 / F_j_del_null.자산총계금액 * 100,0)\n",
    "F_j_del_null['매출영업이익률'] = round(F_j_del_null.영업이익 / F_j_del_null.매출액 * 100,0)\n",
    "F_j_del_null['당좌비율'] = round(F_j_del_null.당좌자산 / F_j_del_null.유동자산 * 100,0)\n",
    "F_j_del_null['순운전자본자본비율'] = round((F_j_del_null.유동자산 - F_j_del_null.유동부채) / F_j_del_null.자본총계금액 * 100,0)\n",
    "F_j_del_null['총자산회전율'] = round(F_j_del_null.매출액 / F_j_del_null.자본총계금액 * 100,0)"
   ]
  },
  {
   "cell_type": "code",
   "execution_count": 166,
   "id": "f3741ffc",
   "metadata": {},
   "outputs": [
    {
     "data": {
      "text/plain": [
       "Int64Index([424, 1807, 1829, 2536, 3123, 3139, 5070, 5173, 6279], dtype='int64')"
      ]
     },
     "execution_count": 166,
     "metadata": {},
     "output_type": "execute_result"
    }
   ],
   "source": [
    "F_j_del_null[(F_j_del_null.유동부채 == 0) |(F_j_del_null.자본총계금액 == 0) | (F_j_del_null.자산총계금액 == 0) | (F_j_del_null.유동자산 == 0) |  (F_j_del_null.매출액 == 0)].index"
   ]
  },
  {
   "cell_type": "code",
   "execution_count": 167,
   "id": "be42d25f",
   "metadata": {},
   "outputs": [
    {
     "name": "stdout",
     "output_type": "stream",
     "text": [
      "(8186, 26)\n"
     ]
    },
    {
     "data": {
      "text/html": [
       "<div>\n",
       "<style scoped>\n",
       "    .dataframe tbody tr th:only-of-type {\n",
       "        vertical-align: middle;\n",
       "    }\n",
       "\n",
       "    .dataframe tbody tr th {\n",
       "        vertical-align: top;\n",
       "    }\n",
       "\n",
       "    .dataframe thead th {\n",
       "        text-align: right;\n",
       "    }\n",
       "</style>\n",
       "<table border=\"1\" class=\"dataframe\">\n",
       "  <thead>\n",
       "    <tr style=\"text-align: right;\">\n",
       "      <th></th>\n",
       "      <th>index</th>\n",
       "      <th>사업자등록번호</th>\n",
       "      <th>종업원수</th>\n",
       "      <th>종업원그룹</th>\n",
       "      <th>업력</th>\n",
       "      <th>성장단계</th>\n",
       "      <th>산업대분류</th>\n",
       "      <th>기업규모</th>\n",
       "      <th>기업형태</th>\n",
       "      <th>CRI등급</th>\n",
       "      <th>...</th>\n",
       "      <th>유동부채</th>\n",
       "      <th>당좌자산</th>\n",
       "      <th>재고자산</th>\n",
       "      <th>유동비율</th>\n",
       "      <th>부채비율</th>\n",
       "      <th>자기자본비율</th>\n",
       "      <th>매출영업이익률</th>\n",
       "      <th>당좌비율</th>\n",
       "      <th>순운전자본자본비율</th>\n",
       "      <th>총자산회전율</th>\n",
       "    </tr>\n",
       "  </thead>\n",
       "  <tbody>\n",
       "    <tr>\n",
       "      <th>0</th>\n",
       "      <td>0</td>\n",
       "      <td>8998803795</td>\n",
       "      <td>28.0</td>\n",
       "      <td>2</td>\n",
       "      <td>6.000000</td>\n",
       "      <td>성장보육형</td>\n",
       "      <td>58</td>\n",
       "      <td>중소기업</td>\n",
       "      <td>일반</td>\n",
       "      <td>A3</td>\n",
       "      <td>...</td>\n",
       "      <td>6931.000000</td>\n",
       "      <td>2.535306e+06</td>\n",
       "      <td>633716.711816</td>\n",
       "      <td>36579.0</td>\n",
       "      <td>3.0</td>\n",
       "      <td>97.0</td>\n",
       "      <td>-81.0</td>\n",
       "      <td>100.0</td>\n",
       "      <td>63.0</td>\n",
       "      <td>25.0</td>\n",
       "    </tr>\n",
       "    <tr>\n",
       "      <th>1</th>\n",
       "      <td>1</td>\n",
       "      <td>8998708313</td>\n",
       "      <td>10.0</td>\n",
       "      <td>5</td>\n",
       "      <td>8.000000</td>\n",
       "      <td>자립성장형</td>\n",
       "      <td>41</td>\n",
       "      <td>중소기업</td>\n",
       "      <td>일반</td>\n",
       "      <td>B1</td>\n",
       "      <td>...</td>\n",
       "      <td>337333.927948</td>\n",
       "      <td>6.465035e+05</td>\n",
       "      <td>175083.552347</td>\n",
       "      <td>218.0</td>\n",
       "      <td>30.0</td>\n",
       "      <td>77.0</td>\n",
       "      <td>2.0</td>\n",
       "      <td>88.0</td>\n",
       "      <td>45.0</td>\n",
       "      <td>775.0</td>\n",
       "    </tr>\n",
       "    <tr>\n",
       "      <th>2</th>\n",
       "      <td>2</td>\n",
       "      <td>8998707411</td>\n",
       "      <td>9.0</td>\n",
       "      <td>6</td>\n",
       "      <td>8.000000</td>\n",
       "      <td>정체형</td>\n",
       "      <td>70</td>\n",
       "      <td>중소기업</td>\n",
       "      <td>일반</td>\n",
       "      <td>C3</td>\n",
       "      <td>...</td>\n",
       "      <td>18985.000000</td>\n",
       "      <td>5.647800e+04</td>\n",
       "      <td>86091.152941</td>\n",
       "      <td>297.0</td>\n",
       "      <td>-182.0</td>\n",
       "      <td>-122.0</td>\n",
       "      <td>-2352.0</td>\n",
       "      <td>100.0</td>\n",
       "      <td>-4.0</td>\n",
       "      <td>-2.0</td>\n",
       "    </tr>\n",
       "    <tr>\n",
       "      <th>3</th>\n",
       "      <td>3</td>\n",
       "      <td>8998705196</td>\n",
       "      <td>4.0</td>\n",
       "      <td>9</td>\n",
       "      <td>5.000000</td>\n",
       "      <td>성장보육형</td>\n",
       "      <td>62</td>\n",
       "      <td>중소기업</td>\n",
       "      <td>일반</td>\n",
       "      <td>B1</td>\n",
       "      <td>...</td>\n",
       "      <td>104678.000000</td>\n",
       "      <td>9.719800e+04</td>\n",
       "      <td>33775.029240</td>\n",
       "      <td>93.0</td>\n",
       "      <td>103.0</td>\n",
       "      <td>49.0</td>\n",
       "      <td>4.0</td>\n",
       "      <td>100.0</td>\n",
       "      <td>-9.0</td>\n",
       "      <td>1842.0</td>\n",
       "    </tr>\n",
       "    <tr>\n",
       "      <th>4</th>\n",
       "      <td>4</td>\n",
       "      <td>8998607522</td>\n",
       "      <td>6.0</td>\n",
       "      <td>7</td>\n",
       "      <td>8.000000</td>\n",
       "      <td>정체형</td>\n",
       "      <td>73</td>\n",
       "      <td>중소기업</td>\n",
       "      <td>일반</td>\n",
       "      <td>B2</td>\n",
       "      <td>...</td>\n",
       "      <td>213440.000000</td>\n",
       "      <td>5.978000e+04</td>\n",
       "      <td>33775.029240</td>\n",
       "      <td>28.0</td>\n",
       "      <td>-323.0</td>\n",
       "      <td>-45.0</td>\n",
       "      <td>2.0</td>\n",
       "      <td>100.0</td>\n",
       "      <td>155.0</td>\n",
       "      <td>-714.0</td>\n",
       "    </tr>\n",
       "    <tr>\n",
       "      <th>...</th>\n",
       "      <td>...</td>\n",
       "      <td>...</td>\n",
       "      <td>...</td>\n",
       "      <td>...</td>\n",
       "      <td>...</td>\n",
       "      <td>...</td>\n",
       "      <td>...</td>\n",
       "      <td>...</td>\n",
       "      <td>...</td>\n",
       "      <td>...</td>\n",
       "      <td>...</td>\n",
       "      <td>...</td>\n",
       "      <td>...</td>\n",
       "      <td>...</td>\n",
       "      <td>...</td>\n",
       "      <td>...</td>\n",
       "      <td>...</td>\n",
       "      <td>...</td>\n",
       "      <td>...</td>\n",
       "      <td>...</td>\n",
       "      <td>...</td>\n",
       "    </tr>\n",
       "    <tr>\n",
       "      <th>8172</th>\n",
       "      <td>8181</td>\n",
       "      <td>1011106242</td>\n",
       "      <td>10.0</td>\n",
       "      <td>5</td>\n",
       "      <td>11.000000</td>\n",
       "      <td>정체형</td>\n",
       "      <td>73</td>\n",
       "      <td>중소기업</td>\n",
       "      <td>폐업</td>\n",
       "      <td>D</td>\n",
       "      <td>...</td>\n",
       "      <td>9083.000000</td>\n",
       "      <td>6.346300e+04</td>\n",
       "      <td>33775.029240</td>\n",
       "      <td>699.0</td>\n",
       "      <td>42.0</td>\n",
       "      <td>70.0</td>\n",
       "      <td>13.0</td>\n",
       "      <td>100.0</td>\n",
       "      <td>29.0</td>\n",
       "      <td>294.0</td>\n",
       "    </tr>\n",
       "    <tr>\n",
       "      <th>8173</th>\n",
       "      <td>8182</td>\n",
       "      <td>1010709848</td>\n",
       "      <td>11.0</td>\n",
       "      <td>5</td>\n",
       "      <td>17.000000</td>\n",
       "      <td>정체형</td>\n",
       "      <td>59</td>\n",
       "      <td>중소기업</td>\n",
       "      <td>일반</td>\n",
       "      <td>B3</td>\n",
       "      <td>...</td>\n",
       "      <td>88359.577869</td>\n",
       "      <td>5.726000e+03</td>\n",
       "      <td>0.000000</td>\n",
       "      <td>6.0</td>\n",
       "      <td>-113.0</td>\n",
       "      <td>-778.0</td>\n",
       "      <td>16.0</td>\n",
       "      <td>100.0</td>\n",
       "      <td>185.0</td>\n",
       "      <td>-183.0</td>\n",
       "    </tr>\n",
       "    <tr>\n",
       "      <th>8174</th>\n",
       "      <td>8183</td>\n",
       "      <td>1010607727</td>\n",
       "      <td>1.0</td>\n",
       "      <td>10</td>\n",
       "      <td>11.922535</td>\n",
       "      <td>정체형</td>\n",
       "      <td>75</td>\n",
       "      <td>중소기업</td>\n",
       "      <td>일반</td>\n",
       "      <td>C3</td>\n",
       "      <td>...</td>\n",
       "      <td>58126.000000</td>\n",
       "      <td>2.488230e+05</td>\n",
       "      <td>33775.029240</td>\n",
       "      <td>428.0</td>\n",
       "      <td>1008.0</td>\n",
       "      <td>9.0</td>\n",
       "      <td>11.0</td>\n",
       "      <td>100.0</td>\n",
       "      <td>1043.0</td>\n",
       "      <td>2026.0</td>\n",
       "    </tr>\n",
       "    <tr>\n",
       "      <th>8175</th>\n",
       "      <td>8184</td>\n",
       "      <td>1010204456</td>\n",
       "      <td>5.0</td>\n",
       "      <td>8</td>\n",
       "      <td>23.000000</td>\n",
       "      <td>정체형</td>\n",
       "      <td>46</td>\n",
       "      <td>중소기업</td>\n",
       "      <td>일반</td>\n",
       "      <td>B3</td>\n",
       "      <td>...</td>\n",
       "      <td>16278.000000</td>\n",
       "      <td>8.246570e+05</td>\n",
       "      <td>40245.000000</td>\n",
       "      <td>5313.0</td>\n",
       "      <td>1019.0</td>\n",
       "      <td>9.0</td>\n",
       "      <td>8.0</td>\n",
       "      <td>95.0</td>\n",
       "      <td>999.0</td>\n",
       "      <td>1159.0</td>\n",
       "    </tr>\n",
       "    <tr>\n",
       "      <th>8176</th>\n",
       "      <td>8185</td>\n",
       "      <td>1010109319</td>\n",
       "      <td>1.0</td>\n",
       "      <td>10</td>\n",
       "      <td>21.000000</td>\n",
       "      <td>정체형</td>\n",
       "      <td>46</td>\n",
       "      <td>중소기업</td>\n",
       "      <td>일반</td>\n",
       "      <td>B2</td>\n",
       "      <td>...</td>\n",
       "      <td>707.000000</td>\n",
       "      <td>2.695000e+03</td>\n",
       "      <td>5446.000000</td>\n",
       "      <td>1151.0</td>\n",
       "      <td>-755.0</td>\n",
       "      <td>-15.0</td>\n",
       "      <td>7.0</td>\n",
       "      <td>33.0</td>\n",
       "      <td>-2572.0</td>\n",
       "      <td>-61781.0</td>\n",
       "    </tr>\n",
       "  </tbody>\n",
       "</table>\n",
       "<p>8177 rows × 27 columns</p>\n",
       "</div>"
      ],
      "text/plain": [
       "      index     사업자등록번호  종업원수  종업원그룹         업력   성장단계 산업대분류  기업규모 기업형태 CRI등급  \\\n",
       "0         0  8998803795  28.0      2   6.000000  성장보육형    58  중소기업   일반    A3   \n",
       "1         1  8998708313  10.0      5   8.000000  자립성장형    41  중소기업   일반    B1   \n",
       "2         2  8998707411   9.0      6   8.000000    정체형    70  중소기업   일반    C3   \n",
       "3         3  8998705196   4.0      9   5.000000  성장보육형    62  중소기업   일반    B1   \n",
       "4         4  8998607522   6.0      7   8.000000    정체형    73  중소기업   일반    B2   \n",
       "...     ...         ...   ...    ...        ...    ...   ...   ...  ...   ...   \n",
       "8172   8181  1011106242  10.0      5  11.000000    정체형    73  중소기업   폐업     D   \n",
       "8173   8182  1010709848  11.0      5  17.000000    정체형    59  중소기업   일반    B3   \n",
       "8174   8183  1010607727   1.0     10  11.922535    정체형    75  중소기업   일반    C3   \n",
       "8175   8184  1010204456   5.0      8  23.000000    정체형    46  중소기업   일반    B3   \n",
       "8176   8185  1010109319   1.0     10  21.000000    정체형    46  중소기업   일반    B2   \n",
       "\n",
       "      ...           유동부채          당좌자산           재고자산     유동비율    부채비율  \\\n",
       "0     ...    6931.000000  2.535306e+06  633716.711816  36579.0     3.0   \n",
       "1     ...  337333.927948  6.465035e+05  175083.552347    218.0    30.0   \n",
       "2     ...   18985.000000  5.647800e+04   86091.152941    297.0  -182.0   \n",
       "3     ...  104678.000000  9.719800e+04   33775.029240     93.0   103.0   \n",
       "4     ...  213440.000000  5.978000e+04   33775.029240     28.0  -323.0   \n",
       "...   ...            ...           ...            ...      ...     ...   \n",
       "8172  ...    9083.000000  6.346300e+04   33775.029240    699.0    42.0   \n",
       "8173  ...   88359.577869  5.726000e+03       0.000000      6.0  -113.0   \n",
       "8174  ...   58126.000000  2.488230e+05   33775.029240    428.0  1008.0   \n",
       "8175  ...   16278.000000  8.246570e+05   40245.000000   5313.0  1019.0   \n",
       "8176  ...     707.000000  2.695000e+03    5446.000000   1151.0  -755.0   \n",
       "\n",
       "      자기자본비율  매출영업이익률   당좌비율  순운전자본자본비율   총자산회전율  \n",
       "0       97.0    -81.0  100.0       63.0     25.0  \n",
       "1       77.0      2.0   88.0       45.0    775.0  \n",
       "2     -122.0  -2352.0  100.0       -4.0     -2.0  \n",
       "3       49.0      4.0  100.0       -9.0   1842.0  \n",
       "4      -45.0      2.0  100.0      155.0   -714.0  \n",
       "...      ...      ...    ...        ...      ...  \n",
       "8172    70.0     13.0  100.0       29.0    294.0  \n",
       "8173  -778.0     16.0  100.0      185.0   -183.0  \n",
       "8174     9.0     11.0  100.0     1043.0   2026.0  \n",
       "8175     9.0      8.0   95.0      999.0   1159.0  \n",
       "8176   -15.0      7.0   33.0    -2572.0 -61781.0  \n",
       "\n",
       "[8177 rows x 27 columns]"
      ]
     },
     "execution_count": 167,
     "metadata": {},
     "output_type": "execute_result"
    }
   ],
   "source": [
    "print(F_j_del_null.shape)\n",
    "F_j_del_null.drop(index=[424, 1807, 1829, 2536, 3123, 3139, 5070, 5173, 6279], axis = 0, inplace = True)\n",
    "F_j_del_null.reset_index()"
   ]
  },
  {
   "cell_type": "code",
   "execution_count": 168,
   "id": "1493c8c6-497a-468d-b241-80b946e2d8fa",
   "metadata": {},
   "outputs": [
    {
     "data": {
      "text/html": [
       "<div>\n",
       "<style scoped>\n",
       "    .dataframe tbody tr th:only-of-type {\n",
       "        vertical-align: middle;\n",
       "    }\n",
       "\n",
       "    .dataframe tbody tr th {\n",
       "        vertical-align: top;\n",
       "    }\n",
       "\n",
       "    .dataframe thead th {\n",
       "        text-align: right;\n",
       "    }\n",
       "</style>\n",
       "<table border=\"1\" class=\"dataframe\">\n",
       "  <thead>\n",
       "    <tr style=\"text-align: right;\">\n",
       "      <th></th>\n",
       "      <th>사업자등록번호</th>\n",
       "      <th>종업원수</th>\n",
       "      <th>종업원그룹</th>\n",
       "      <th>업력</th>\n",
       "      <th>성장단계</th>\n",
       "      <th>산업대분류</th>\n",
       "      <th>기업규모</th>\n",
       "      <th>기업형태</th>\n",
       "      <th>CRI등급</th>\n",
       "      <th>매출액</th>\n",
       "      <th>...</th>\n",
       "      <th>유동부채</th>\n",
       "      <th>당좌자산</th>\n",
       "      <th>재고자산</th>\n",
       "      <th>유동비율</th>\n",
       "      <th>부채비율</th>\n",
       "      <th>자기자본비율</th>\n",
       "      <th>매출영업이익률</th>\n",
       "      <th>당좌비율</th>\n",
       "      <th>순운전자본자본비율</th>\n",
       "      <th>총자산회전율</th>\n",
       "    </tr>\n",
       "  </thead>\n",
       "  <tbody>\n",
       "    <tr>\n",
       "      <th>0</th>\n",
       "      <td>8998803795</td>\n",
       "      <td>28.0</td>\n",
       "      <td>2</td>\n",
       "      <td>6.000000</td>\n",
       "      <td>성장보육형</td>\n",
       "      <td>58</td>\n",
       "      <td>중소기업</td>\n",
       "      <td>일반</td>\n",
       "      <td>A3</td>\n",
       "      <td>1011463.0</td>\n",
       "      <td>...</td>\n",
       "      <td>6931.000000</td>\n",
       "      <td>2.535306e+06</td>\n",
       "      <td>633716.711816</td>\n",
       "      <td>36579.0</td>\n",
       "      <td>3.0</td>\n",
       "      <td>97.0</td>\n",
       "      <td>-81.0</td>\n",
       "      <td>100.0</td>\n",
       "      <td>63.0</td>\n",
       "      <td>25.0</td>\n",
       "    </tr>\n",
       "    <tr>\n",
       "      <th>1</th>\n",
       "      <td>8998708313</td>\n",
       "      <td>10.0</td>\n",
       "      <td>5</td>\n",
       "      <td>8.000000</td>\n",
       "      <td>자립성장형</td>\n",
       "      <td>41</td>\n",
       "      <td>중소기업</td>\n",
       "      <td>일반</td>\n",
       "      <td>B1</td>\n",
       "      <td>6813497.0</td>\n",
       "      <td>...</td>\n",
       "      <td>337333.927948</td>\n",
       "      <td>6.465035e+05</td>\n",
       "      <td>175083.552347</td>\n",
       "      <td>218.0</td>\n",
       "      <td>30.0</td>\n",
       "      <td>77.0</td>\n",
       "      <td>2.0</td>\n",
       "      <td>88.0</td>\n",
       "      <td>45.0</td>\n",
       "      <td>775.0</td>\n",
       "    </tr>\n",
       "    <tr>\n",
       "      <th>2</th>\n",
       "      <td>8998707411</td>\n",
       "      <td>9.0</td>\n",
       "      <td>6</td>\n",
       "      <td>8.000000</td>\n",
       "      <td>정체형</td>\n",
       "      <td>70</td>\n",
       "      <td>중소기업</td>\n",
       "      <td>일반</td>\n",
       "      <td>C3</td>\n",
       "      <td>15698.0</td>\n",
       "      <td>...</td>\n",
       "      <td>18985.000000</td>\n",
       "      <td>5.647800e+04</td>\n",
       "      <td>86091.152941</td>\n",
       "      <td>297.0</td>\n",
       "      <td>-182.0</td>\n",
       "      <td>-122.0</td>\n",
       "      <td>-2352.0</td>\n",
       "      <td>100.0</td>\n",
       "      <td>-4.0</td>\n",
       "      <td>-2.0</td>\n",
       "    </tr>\n",
       "    <tr>\n",
       "      <th>3</th>\n",
       "      <td>8998705196</td>\n",
       "      <td>4.0</td>\n",
       "      <td>9</td>\n",
       "      <td>5.000000</td>\n",
       "      <td>성장보육형</td>\n",
       "      <td>62</td>\n",
       "      <td>중소기업</td>\n",
       "      <td>일반</td>\n",
       "      <td>B1</td>\n",
       "      <td>1520118.0</td>\n",
       "      <td>...</td>\n",
       "      <td>104678.000000</td>\n",
       "      <td>9.719800e+04</td>\n",
       "      <td>33775.029240</td>\n",
       "      <td>93.0</td>\n",
       "      <td>103.0</td>\n",
       "      <td>49.0</td>\n",
       "      <td>4.0</td>\n",
       "      <td>100.0</td>\n",
       "      <td>-9.0</td>\n",
       "      <td>1842.0</td>\n",
       "    </tr>\n",
       "    <tr>\n",
       "      <th>4</th>\n",
       "      <td>8998607522</td>\n",
       "      <td>6.0</td>\n",
       "      <td>7</td>\n",
       "      <td>8.000000</td>\n",
       "      <td>정체형</td>\n",
       "      <td>73</td>\n",
       "      <td>중소기업</td>\n",
       "      <td>일반</td>\n",
       "      <td>B2</td>\n",
       "      <td>705737.0</td>\n",
       "      <td>...</td>\n",
       "      <td>213440.000000</td>\n",
       "      <td>5.978000e+04</td>\n",
       "      <td>33775.029240</td>\n",
       "      <td>28.0</td>\n",
       "      <td>-323.0</td>\n",
       "      <td>-45.0</td>\n",
       "      <td>2.0</td>\n",
       "      <td>100.0</td>\n",
       "      <td>155.0</td>\n",
       "      <td>-714.0</td>\n",
       "    </tr>\n",
       "    <tr>\n",
       "      <th>...</th>\n",
       "      <td>...</td>\n",
       "      <td>...</td>\n",
       "      <td>...</td>\n",
       "      <td>...</td>\n",
       "      <td>...</td>\n",
       "      <td>...</td>\n",
       "      <td>...</td>\n",
       "      <td>...</td>\n",
       "      <td>...</td>\n",
       "      <td>...</td>\n",
       "      <td>...</td>\n",
       "      <td>...</td>\n",
       "      <td>...</td>\n",
       "      <td>...</td>\n",
       "      <td>...</td>\n",
       "      <td>...</td>\n",
       "      <td>...</td>\n",
       "      <td>...</td>\n",
       "      <td>...</td>\n",
       "      <td>...</td>\n",
       "      <td>...</td>\n",
       "    </tr>\n",
       "    <tr>\n",
       "      <th>8181</th>\n",
       "      <td>1011106242</td>\n",
       "      <td>10.0</td>\n",
       "      <td>5</td>\n",
       "      <td>11.000000</td>\n",
       "      <td>정체형</td>\n",
       "      <td>73</td>\n",
       "      <td>중소기업</td>\n",
       "      <td>폐업</td>\n",
       "      <td>D</td>\n",
       "      <td>542209.0</td>\n",
       "      <td>...</td>\n",
       "      <td>9083.000000</td>\n",
       "      <td>6.346300e+04</td>\n",
       "      <td>33775.029240</td>\n",
       "      <td>699.0</td>\n",
       "      <td>42.0</td>\n",
       "      <td>70.0</td>\n",
       "      <td>13.0</td>\n",
       "      <td>100.0</td>\n",
       "      <td>29.0</td>\n",
       "      <td>294.0</td>\n",
       "    </tr>\n",
       "    <tr>\n",
       "      <th>8182</th>\n",
       "      <td>1010709848</td>\n",
       "      <td>11.0</td>\n",
       "      <td>5</td>\n",
       "      <td>17.000000</td>\n",
       "      <td>정체형</td>\n",
       "      <td>59</td>\n",
       "      <td>중소기업</td>\n",
       "      <td>일반</td>\n",
       "      <td>B3</td>\n",
       "      <td>81492.0</td>\n",
       "      <td>...</td>\n",
       "      <td>88359.577869</td>\n",
       "      <td>5.726000e+03</td>\n",
       "      <td>0.000000</td>\n",
       "      <td>6.0</td>\n",
       "      <td>-113.0</td>\n",
       "      <td>-778.0</td>\n",
       "      <td>16.0</td>\n",
       "      <td>100.0</td>\n",
       "      <td>185.0</td>\n",
       "      <td>-183.0</td>\n",
       "    </tr>\n",
       "    <tr>\n",
       "      <th>8183</th>\n",
       "      <td>1010607727</td>\n",
       "      <td>1.0</td>\n",
       "      <td>10</td>\n",
       "      <td>11.922535</td>\n",
       "      <td>정체형</td>\n",
       "      <td>75</td>\n",
       "      <td>중소기업</td>\n",
       "      <td>일반</td>\n",
       "      <td>C3</td>\n",
       "      <td>370418.0</td>\n",
       "      <td>...</td>\n",
       "      <td>58126.000000</td>\n",
       "      <td>2.488230e+05</td>\n",
       "      <td>33775.029240</td>\n",
       "      <td>428.0</td>\n",
       "      <td>1008.0</td>\n",
       "      <td>9.0</td>\n",
       "      <td>11.0</td>\n",
       "      <td>100.0</td>\n",
       "      <td>1043.0</td>\n",
       "      <td>2026.0</td>\n",
       "    </tr>\n",
       "    <tr>\n",
       "      <th>8184</th>\n",
       "      <td>1010204456</td>\n",
       "      <td>5.0</td>\n",
       "      <td>8</td>\n",
       "      <td>23.000000</td>\n",
       "      <td>정체형</td>\n",
       "      <td>46</td>\n",
       "      <td>중소기업</td>\n",
       "      <td>일반</td>\n",
       "      <td>B3</td>\n",
       "      <td>984750.0</td>\n",
       "      <td>...</td>\n",
       "      <td>16278.000000</td>\n",
       "      <td>8.246570e+05</td>\n",
       "      <td>40245.000000</td>\n",
       "      <td>5313.0</td>\n",
       "      <td>1019.0</td>\n",
       "      <td>9.0</td>\n",
       "      <td>8.0</td>\n",
       "      <td>95.0</td>\n",
       "      <td>999.0</td>\n",
       "      <td>1159.0</td>\n",
       "    </tr>\n",
       "    <tr>\n",
       "      <th>8185</th>\n",
       "      <td>1010109319</td>\n",
       "      <td>1.0</td>\n",
       "      <td>10</td>\n",
       "      <td>21.000000</td>\n",
       "      <td>정체형</td>\n",
       "      <td>46</td>\n",
       "      <td>중소기업</td>\n",
       "      <td>일반</td>\n",
       "      <td>B2</td>\n",
       "      <td>178547.0</td>\n",
       "      <td>...</td>\n",
       "      <td>707.000000</td>\n",
       "      <td>2.695000e+03</td>\n",
       "      <td>5446.000000</td>\n",
       "      <td>1151.0</td>\n",
       "      <td>-755.0</td>\n",
       "      <td>-15.0</td>\n",
       "      <td>7.0</td>\n",
       "      <td>33.0</td>\n",
       "      <td>-2572.0</td>\n",
       "      <td>-61781.0</td>\n",
       "    </tr>\n",
       "  </tbody>\n",
       "</table>\n",
       "<p>8177 rows × 26 columns</p>\n",
       "</div>"
      ],
      "text/plain": [
       "         사업자등록번호  종업원수  종업원그룹         업력   성장단계 산업대분류  기업규모 기업형태 CRI등급  \\\n",
       "0     8998803795  28.0      2   6.000000  성장보육형    58  중소기업   일반    A3   \n",
       "1     8998708313  10.0      5   8.000000  자립성장형    41  중소기업   일반    B1   \n",
       "2     8998707411   9.0      6   8.000000    정체형    70  중소기업   일반    C3   \n",
       "3     8998705196   4.0      9   5.000000  성장보육형    62  중소기업   일반    B1   \n",
       "4     8998607522   6.0      7   8.000000    정체형    73  중소기업   일반    B2   \n",
       "...          ...   ...    ...        ...    ...   ...   ...  ...   ...   \n",
       "8181  1011106242  10.0      5  11.000000    정체형    73  중소기업   폐업     D   \n",
       "8182  1010709848  11.0      5  17.000000    정체형    59  중소기업   일반    B3   \n",
       "8183  1010607727   1.0     10  11.922535    정체형    75  중소기업   일반    C3   \n",
       "8184  1010204456   5.0      8  23.000000    정체형    46  중소기업   일반    B3   \n",
       "8185  1010109319   1.0     10  21.000000    정체형    46  중소기업   일반    B2   \n",
       "\n",
       "            매출액  ...           유동부채          당좌자산           재고자산     유동비율  \\\n",
       "0     1011463.0  ...    6931.000000  2.535306e+06  633716.711816  36579.0   \n",
       "1     6813497.0  ...  337333.927948  6.465035e+05  175083.552347    218.0   \n",
       "2       15698.0  ...   18985.000000  5.647800e+04   86091.152941    297.0   \n",
       "3     1520118.0  ...  104678.000000  9.719800e+04   33775.029240     93.0   \n",
       "4      705737.0  ...  213440.000000  5.978000e+04   33775.029240     28.0   \n",
       "...         ...  ...            ...           ...            ...      ...   \n",
       "8181   542209.0  ...    9083.000000  6.346300e+04   33775.029240    699.0   \n",
       "8182    81492.0  ...   88359.577869  5.726000e+03       0.000000      6.0   \n",
       "8183   370418.0  ...   58126.000000  2.488230e+05   33775.029240    428.0   \n",
       "8184   984750.0  ...   16278.000000  8.246570e+05   40245.000000   5313.0   \n",
       "8185   178547.0  ...     707.000000  2.695000e+03    5446.000000   1151.0   \n",
       "\n",
       "        부채비율  자기자본비율  매출영업이익률   당좌비율  순운전자본자본비율   총자산회전율  \n",
       "0        3.0    97.0    -81.0  100.0       63.0     25.0  \n",
       "1       30.0    77.0      2.0   88.0       45.0    775.0  \n",
       "2     -182.0  -122.0  -2352.0  100.0       -4.0     -2.0  \n",
       "3      103.0    49.0      4.0  100.0       -9.0   1842.0  \n",
       "4     -323.0   -45.0      2.0  100.0      155.0   -714.0  \n",
       "...      ...     ...      ...    ...        ...      ...  \n",
       "8181    42.0    70.0     13.0  100.0       29.0    294.0  \n",
       "8182  -113.0  -778.0     16.0  100.0      185.0   -183.0  \n",
       "8183  1008.0     9.0     11.0  100.0     1043.0   2026.0  \n",
       "8184  1019.0     9.0      8.0   95.0      999.0   1159.0  \n",
       "8185  -755.0   -15.0      7.0   33.0    -2572.0 -61781.0  \n",
       "\n",
       "[8177 rows x 26 columns]"
      ]
     },
     "execution_count": 168,
     "metadata": {},
     "output_type": "execute_result"
    }
   ],
   "source": [
    "F_j_del_null"
   ]
  },
  {
   "cell_type": "markdown",
   "id": "088a6872",
   "metadata": {},
   "source": [
    "---\n",
    "> # **재무머신러닝 만들기**\n",
    "---"
   ]
  },
  {
   "cell_type": "code",
   "execution_count": 169,
   "id": "326e01d8",
   "metadata": {},
   "outputs": [],
   "source": [
    "from sklearn.model_selection import train_test_split # 학습 검증 데이터 분할\n",
    "from imblearn.pipeline import make_pipeline # 학습 + 특성공학 파이프라인 구축 \n",
    "from sklearn.compose import make_column_transformer # 각 항목의 타입별로 파이프 분할\n",
    "\n",
    "from sklearn.impute import SimpleImputer # 결측치 처리\n",
    "from sklearn.preprocessing import MinMaxScaler # 숫자 스케일링\n",
    "from sklearn.preprocessing import OneHotEncoder # 문자 데이터 인쾽\n",
    "from imblearn.over_sampling import SMOTE # 불균형 데이터 처리\n",
    "\n",
    "from sklearn.ensemble import RandomForestClassifier # 랜덤포레스트 (Bagging)\n",
    "from sklearn.ensemble import GradientBoostingClassifier # 그레디언트 Boosting\n",
    "from sklearn.tree import DecisionTreeClassifier # 의사결정모형\n",
    "from sklearn.model_selection import GridSearchCV #교차검증 + 하이퍼 파라미터 튜닝\n",
    "from sklearn.metrics import classification_report # 평가\n",
    "\n",
    "\n",
    "from sklearn.experimental import enable_iterative_imputer\n",
    "from sklearn.impute import SimpleImputer, IterativeImputer"
   ]
  },
  {
   "cell_type": "code",
   "execution_count": 170,
   "id": "f16aecbd",
   "metadata": {},
   "outputs": [
    {
     "name": "stdout",
     "output_type": "stream",
     "text": [
      "<class 'pandas.core.frame.DataFrame'>\n",
      "Int64Index: 9828 entries, 0 to 9836\n",
      "Data columns (total 26 columns):\n",
      " #   Column     Non-Null Count  Dtype  \n",
      "---  ------     --------------  -----  \n",
      " 0   사업자등록번호    9828 non-null   int64  \n",
      " 1   종업원수       9828 non-null   float64\n",
      " 2   종업원그룹      9828 non-null   int64  \n",
      " 3   업력         9828 non-null   float64\n",
      " 4   성장단계       9828 non-null   object \n",
      " 5   산업대분류      9828 non-null   object \n",
      " 6   기업규모       9828 non-null   object \n",
      " 7   기업형태       9828 non-null   object \n",
      " 8   CRI등급      9828 non-null   object \n",
      " 9   매출액        9828 non-null   float64\n",
      " 10  영업이익       9828 non-null   float64\n",
      " 11  자본총계금액     9828 non-null   float64\n",
      " 12  부채총계금액     9828 non-null   float64\n",
      " 13  자산총계금액     9828 non-null   float64\n",
      " 14  자산총계그룹화    9828 non-null   int64  \n",
      " 15  유동자산       9828 non-null   float64\n",
      " 16  유동부채       9828 non-null   float64\n",
      " 17  당좌자산       9828 non-null   float64\n",
      " 18  재고자산       9828 non-null   float64\n",
      " 19  유동비율       9828 non-null   float64\n",
      " 20  부채비율       9828 non-null   float64\n",
      " 21  자기자본비율     9828 non-null   float64\n",
      " 22  매출영업이익률    9828 non-null   float64\n",
      " 23  당좌비율       9828 non-null   float64\n",
      " 24  순운전자본자본비율  9828 non-null   float64\n",
      " 25  총자산회전율     9828 non-null   float64\n",
      "dtypes: float64(18), int64(3), object(5)\n",
      "memory usage: 2.0+ MB\n"
     ]
    }
   ],
   "source": [
    "jamoo = F_j\n",
    "jamoo.info()"
   ]
  },
  {
   "cell_type": "code",
   "execution_count": 171,
   "id": "84e8f95c",
   "metadata": {},
   "outputs": [
    {
     "data": {
      "text/plain": [
       "Index(['사업자등록번호', '종업원수', '종업원그룹', '업력', '성장단계', '산업대분류', '기업규모', '기업형태',\n",
       "       'CRI등급', '매출액', '영업이익', '자본총계금액', '부채총계금액', '자산총계금액', '자산총계그룹화', '유동자산',\n",
       "       '유동부채', '당좌자산', '재고자산', '유동비율', '부채비율', '자기자본비율', '매출영업이익률', '당좌비율',\n",
       "       '순운전자본자본비율', '총자산회전율'],\n",
       "      dtype='object')"
      ]
     },
     "execution_count": 171,
     "metadata": {},
     "output_type": "execute_result"
    }
   ],
   "source": [
    "jamoo.columns"
   ]
  },
  {
   "cell_type": "code",
   "execution_count": 172,
   "id": "33e844c4",
   "metadata": {},
   "outputs": [],
   "source": [
    "jamoo.loc[jamoo.CRI등급 == 'A1','target'] = 0\n",
    "jamoo.loc[jamoo.CRI등급 == 'A2','target'] = 1\n",
    "jamoo.loc[jamoo.CRI등급 == 'A3','target'] = 2\n",
    "jamoo.loc[jamoo.CRI등급 == 'B1','target'] = 3\n",
    "jamoo.loc[jamoo.CRI등급 == 'B2','target'] = 4\n",
    "jamoo.loc[jamoo.CRI등급 == 'B3','target'] = 5\n",
    "jamoo.loc[jamoo.CRI등급 == 'C1','target'] = 6\n",
    "jamoo.loc[jamoo.CRI등급 == 'C2','target'] = 7\n",
    "jamoo.loc[jamoo.CRI등급 == 'C3','target'] = 8\n",
    "jamoo.loc[jamoo.CRI등급 == 'D','target'] = 9"
   ]
  },
  {
   "cell_type": "code",
   "execution_count": 173,
   "id": "c22860ba",
   "metadata": {},
   "outputs": [],
   "source": [
    "# '종업원수', '종업원그룹', '성장단계', '산업대분류', '기업규모', '기업형태',\n",
    "X = jamoo[['사업자등록번호',\n",
    "         '유동비율', '부채비율', '자기자본비율', '매출영업이익률', '당좌비율', '순운전자본자본비율', '총자산회전율']]\n",
    "Y = jamoo['target']"
   ]
  },
  {
   "cell_type": "code",
   "execution_count": 174,
   "id": "b279c3fc",
   "metadata": {},
   "outputs": [
    {
     "data": {
      "text/plain": [
       "<AxesSubplot:>"
      ]
     },
     "execution_count": 174,
     "metadata": {},
     "output_type": "execute_result"
    },
    {
     "data": {
      "image/png": "[encoded data removed]",
      "text/plain": [
       "<Figure size 640x480 with 2 Axes>"
      ]
     },
     "metadata": {},
     "output_type": "display_data"
    }
   ],
   "source": [
    "sns.heatmap(X.corr())"
   ]
  },
  {
   "cell_type": "markdown",
   "id": "5855bdc8",
   "metadata": {},
   "source": [
    "- ### **F_j_del_null**"
   ]
  },
  {
   "cell_type": "code",
   "execution_count": 175,
   "id": "9bb5d9b0",
   "metadata": {},
   "outputs": [],
   "source": [
    "jamoo_del = F_j_del_null"
   ]
  },
  {
   "cell_type": "code",
   "execution_count": 176,
   "id": "0f1d6bd3",
   "metadata": {},
   "outputs": [],
   "source": [
    "jamoo_del.loc[jamoo_del.CRI등급 == 'A1','target'] = 0\n",
    "jamoo_del.loc[jamoo_del.CRI등급 == 'A2','target'] = 1\n",
    "jamoo_del.loc[jamoo_del.CRI등급 == 'A3','target'] = 2\n",
    "jamoo_del.loc[jamoo_del.CRI등급 == 'B1','target'] = 3\n",
    "jamoo_del.loc[jamoo_del.CRI등급 == 'B2','target'] = 4\n",
    "jamoo_del.loc[jamoo_del.CRI등급 == 'B3','target'] = 5\n",
    "jamoo_del.loc[jamoo_del.CRI등급 == 'C1','target'] = 6\n",
    "jamoo_del.loc[jamoo_del.CRI등급 == 'C2','target'] = 7\n",
    "jamoo_del.loc[jamoo_del.CRI등급 == 'C3','target'] = 8\n",
    "jamoo_del.loc[jamoo_del.CRI등급 == 'D','target'] = 9"
   ]
  },
  {
   "cell_type": "code",
   "execution_count": 177,
   "id": "c247ad47",
   "metadata": {},
   "outputs": [],
   "source": [
    "# '종업원수', '종업원그룹', '성장단계', '산업대분류', '기업규모', '기업형태',\n",
    "X_d = jamoo_del[['사업자등록번호', \n",
    "         '유동비율', '부채비율', '자기자본비율', '매출영업이익률', '당좌비율', '순운전자본자본비율', '총자산회전율']]\n",
    "Y_d = jamoo_del['target']"
   ]
  },
  {
   "cell_type": "code",
   "execution_count": 178,
   "id": "57d22197",
   "metadata": {},
   "outputs": [],
   "source": [
    "jamoo[['사업자등록번호', '종업원수', '종업원그룹', '성장단계', '산업대분류', '기업규모', '기업형태', '자산총계그룹화',\n",
    "         '유동비율', '부채비율', '자기자본비율', '매출영업이익률', '당좌비율', '순운전자본자본비율', '총자산회전율','target']].to_csv(\"재무_자산총계null.csv\",encoding='CP949')\n",
    "jamoo_del[['사업자등록번호', '종업원수', '종업원그룹', '성장단계', '산업대분류', '기업규모', '기업형태', '자산총계그룹화',\n",
    "         '유동비율', '부채비율', '자기자본비율', '매출영업이익률', '당좌비율', '순운전자본자본비율', '총자산회전율','target']].to_csv(\"재무_자산총계결측치처리함.csv\",encoding='CP949')"
   ]
  },
  {
   "cell_type": "code",
   "execution_count": 179,
   "id": "9311bf64-58f1-48fc-93a6-04220dd39fde",
   "metadata": {},
   "outputs": [
    {
     "name": "stdout",
     "output_type": "stream",
     "text": [
      "<class 'pandas.core.frame.DataFrame'>\n",
      "Int64Index: 8177 entries, 0 to 8185\n",
      "Data columns (total 8 columns):\n",
      " #   Column     Non-Null Count  Dtype  \n",
      "---  ------     --------------  -----  \n",
      " 0   사업자등록번호    8177 non-null   int64  \n",
      " 1   유동비율       8177 non-null   float64\n",
      " 2   부채비율       8177 non-null   float64\n",
      " 3   자기자본비율     8177 non-null   float64\n",
      " 4   매출영업이익률    8177 non-null   float64\n",
      " 5   당좌비율       8177 non-null   float64\n",
      " 6   순운전자본자본비율  8177 non-null   float64\n",
      " 7   총자산회전율     8177 non-null   float64\n",
      "dtypes: float64(7), int64(1)\n",
      "memory usage: 574.9 KB\n"
     ]
    }
   ],
   "source": [
    "X_d.info()"
   ]
  },
  {
   "cell_type": "markdown",
   "id": "d23f513c",
   "metadata": {},
   "source": [
    "- ### **데이터 전처리**"
   ]
  },
  {
   "cell_type": "code",
   "execution_count": 180,
   "id": "e8fc9099",
   "metadata": {},
   "outputs": [],
   "source": [
    "def pipe_model_func(model):\n",
    "    numeric_pipe = make_pipeline( SimpleImputer(strategy='mean'),MinMaxScaler())\n",
    "    #category_pipe = make_pipeline( SimpleImputer(strategy='most_frequent'), OneHotEncoder(handle_unknown='ignore'))\n",
    "    numeric_list = X.describe().columns.tolist()\n",
    "    #category_list = X.describe(include='object').columns.tolist()\n",
    "    preprocessing_pipe = make_column_transformer((numeric_pipe, numeric_list))\n",
    " #                                            ,(category_pipe, category_list))\n",
    "    model_pipe=make_pipeline(preprocessing_pipe,SMOTE(),model)\n",
    "    return model_pipe\n",
    "numeric_list = X.describe().columns.tolist()"
   ]
  },
  {
   "cell_type": "markdown",
   "id": "ec96e6c4",
   "metadata": {},
   "source": [
    "- ### **데이터 분할**"
   ]
  },
  {
   "cell_type": "code",
   "execution_count": 181,
   "id": "242b148a",
   "metadata": {},
   "outputs": [],
   "source": [
    "X_train, X_test, Y_train, Y_test = train_test_split(X,Y, random_state=1234)"
   ]
  },
  {
   "cell_type": "code",
   "execution_count": 182,
   "id": "67c54282",
   "metadata": {},
   "outputs": [],
   "source": [
    "X_d_train, X_d_test, Y_d_train, Y_d_test = train_test_split(X_d,Y_d, random_state=1234)"
   ]
  },
  {
   "cell_type": "markdown",
   "id": "20a362af",
   "metadata": {},
   "source": [
    "- ### **평가성능지표**"
   ]
  },
  {
   "cell_type": "code",
   "execution_count": 183,
   "id": "f55623d1",
   "metadata": {},
   "outputs": [],
   "source": [
    "def evaluation_func(best_model):\n",
    "    Y_train_pred = best_model.predict(X_train)\n",
    "    Y_test_pred = best_model.predict(X_test)\n",
    "    print('학습능력평가')\n",
    "    print(classification_report(Y_train,Y_train_pred))\n",
    "    print('일반화능력평가')\n",
    "    print(classification_report(Y_test, Y_test_pred))"
   ]
  },
  {
   "cell_type": "markdown",
   "id": "9f003c80",
   "metadata": {},
   "source": [
    "- ### **의사결정트리**"
   ]
  },
  {
   "cell_type": "code",
   "execution_count": 184,
   "id": "a31cf9fd",
   "metadata": {},
   "outputs": [
    {
     "name": "stdout",
     "output_type": "stream",
     "text": [
      "학습능력평가\n",
      "              precision    recall  f1-score   support\n",
      "\n",
      "         0.0       0.12      0.54      0.19       153\n",
      "         1.0       0.26      0.45      0.33       350\n",
      "         2.0       0.31      0.23      0.26       757\n",
      "         3.0       0.34      0.22      0.26       916\n",
      "         4.0       0.35      0.22      0.27      1315\n",
      "         5.0       0.33      0.35      0.34      1183\n",
      "         6.0       0.26      0.32      0.29       639\n",
      "         7.0       0.50      0.43      0.46      1172\n",
      "         8.0       0.44      0.40      0.42       791\n",
      "         9.0       0.20      0.66      0.31        95\n",
      "\n",
      "    accuracy                           0.32      7371\n",
      "   macro avg       0.31      0.38      0.31      7371\n",
      "weighted avg       0.36      0.32      0.33      7371\n",
      "\n",
      "일반화능력평가\n",
      "              precision    recall  f1-score   support\n",
      "\n",
      "         0.0       0.04      0.20      0.07        50\n",
      "         1.0       0.14      0.25      0.18       126\n",
      "         2.0       0.14      0.11      0.12       229\n",
      "         3.0       0.21      0.14      0.16       291\n",
      "         4.0       0.23      0.15      0.18       423\n",
      "         5.0       0.23      0.22      0.23       410\n",
      "         6.0       0.11      0.13      0.12       209\n",
      "         7.0       0.46      0.38      0.42       402\n",
      "         8.0       0.34      0.30      0.32       282\n",
      "         9.0       0.05      0.17      0.08        35\n",
      "\n",
      "    accuracy                           0.22      2457\n",
      "   macro avg       0.20      0.21      0.19      2457\n",
      "weighted avg       0.25      0.22      0.23      2457\n",
      "\n"
     ]
    }
   ],
   "source": [
    "model_decision = pipe_model_func(DecisionTreeClassifier())\n",
    "hyperparameter_dict = {'decisiontreeclassifier__max_depth':range(5,15)}\n",
    "grid_model = GridSearchCV(model_decision,cv=5,param_grid = hyperparameter_dict,\n",
    "                         scoring='accuracy',n_jobs=-1)\n",
    "grid_model.fit(X_train,Y_train)\n",
    "#grid_model.get_params().keys()\n",
    "best_tree = grid_model.best_estimator_\n",
    "Y_train_pred = best_tree.predict(X_train)\n",
    "Y_test_pred = best_tree.predict(X_test)\n",
    "print('학습능력평가')\n",
    "print(classification_report(Y_train,Y_train_pred))\n",
    "print('일반화능력평가')\n",
    "print(classification_report(Y_test, Y_test_pred))"
   ]
  },
  {
   "cell_type": "code",
   "execution_count": 185,
   "id": "1ec35625",
   "metadata": {},
   "outputs": [
    {
     "name": "stdout",
     "output_type": "stream",
     "text": [
      "학습능력평가\n",
      "              precision    recall  f1-score   support\n",
      "\n",
      "         0.0       0.40      0.76      0.53       152\n",
      "         1.0       0.39      0.64      0.49       343\n",
      "         2.0       0.40      0.57      0.47       646\n",
      "         3.0       0.48      0.44      0.46       791\n",
      "         4.0       0.59      0.39      0.47      1174\n",
      "         5.0       0.58      0.43      0.50      1119\n",
      "         6.0       0.48      0.57      0.52       530\n",
      "         7.0       0.51      0.55      0.53       713\n",
      "         8.0       0.70      0.58      0.63       598\n",
      "         9.0       0.40      0.83      0.54        66\n",
      "\n",
      "    accuracy                           0.50      6132\n",
      "   macro avg       0.49      0.58      0.51      6132\n",
      "weighted avg       0.53      0.50      0.50      6132\n",
      "\n",
      "일반화능력평가\n",
      "              precision    recall  f1-score   support\n",
      "\n",
      "         0.0       0.05      0.12      0.07        41\n",
      "         1.0       0.15      0.30      0.20        91\n",
      "         2.0       0.17      0.23      0.20       226\n",
      "         3.0       0.22      0.19      0.21       270\n",
      "         4.0       0.22      0.12      0.16       396\n",
      "         5.0       0.19      0.14      0.16       381\n",
      "         6.0       0.14      0.18      0.16       167\n",
      "         7.0       0.20      0.22      0.21       265\n",
      "         8.0       0.29      0.26      0.27       183\n",
      "         9.0       0.04      0.12      0.06        25\n",
      "\n",
      "    accuracy                           0.18      2045\n",
      "   macro avg       0.17      0.19      0.17      2045\n",
      "weighted avg       0.20      0.18      0.19      2045\n",
      "\n"
     ]
    }
   ],
   "source": [
    "model_decision = pipe_model_func(DecisionTreeClassifier())\n",
    "hyperparameter_dict = {'decisiontreeclassifier__max_depth':range(5,15)}\n",
    "grid_model = GridSearchCV(model_decision,cv=5,param_grid = hyperparameter_dict,\n",
    "                         scoring='accuracy',n_jobs=-1)\n",
    "grid_model.fit(X_d_train,Y_d_train)\n",
    "#grid_model.get_params().keys()\n",
    "best_tree = grid_model.best_estimator_\n",
    "Y_train_pred = best_tree.predict(X_d_train)\n",
    "Y_test_pred = best_tree.predict(X_d_test)\n",
    "print('학습능력평가')\n",
    "print(classification_report(Y_d_train,Y_train_pred))\n",
    "print('일반화능력평가')\n",
    "print(classification_report(Y_d_test, Y_test_pred))"
   ]
  },
  {
   "cell_type": "markdown",
   "id": "7c22b0a7",
   "metadata": {},
   "source": [
    "- ### **랜덤포레스트**"
   ]
  },
  {
   "cell_type": "code",
   "execution_count": 186,
   "id": "b920005a",
   "metadata": {},
   "outputs": [
    {
     "name": "stdout",
     "output_type": "stream",
     "text": [
      "학습능력평가\n",
      "              precision    recall  f1-score   support\n",
      "\n",
      "         0.0       0.99      1.00      0.99       153\n",
      "         1.0       0.98      1.00      0.99       350\n",
      "         2.0       0.99      0.99      0.99       757\n",
      "         3.0       0.99      0.99      0.99       916\n",
      "         4.0       0.99      0.99      0.99      1315\n",
      "         5.0       1.00      0.99      1.00      1183\n",
      "         6.0       1.00      1.00      1.00       639\n",
      "         7.0       1.00      1.00      1.00      1172\n",
      "         8.0       1.00      1.00      1.00       791\n",
      "         9.0       1.00      1.00      1.00        95\n",
      "\n",
      "    accuracy                           0.99      7371\n",
      "   macro avg       0.99      1.00      0.99      7371\n",
      "weighted avg       0.99      0.99      0.99      7371\n",
      "\n",
      "일반화능력평가\n",
      "              precision    recall  f1-score   support\n",
      "\n",
      "         0.0       0.08      0.18      0.11        50\n",
      "         1.0       0.14      0.25      0.18       126\n",
      "         2.0       0.13      0.14      0.14       229\n",
      "         3.0       0.19      0.19      0.19       291\n",
      "         4.0       0.24      0.22      0.23       423\n",
      "         5.0       0.26      0.25      0.26       410\n",
      "         6.0       0.14      0.15      0.15       209\n",
      "         7.0       0.43      0.30      0.35       402\n",
      "         8.0       0.33      0.31      0.32       282\n",
      "         9.0       0.08      0.11      0.09        35\n",
      "\n",
      "    accuracy                           0.23      2457\n",
      "   macro avg       0.20      0.21      0.20      2457\n",
      "weighted avg       0.25      0.23      0.24      2457\n",
      "\n"
     ]
    }
   ],
   "source": [
    "model_random = pipe_model_func(RandomForestClassifier())\n",
    "#hyperparameter_dict = {'randomforestclassifier__max_depth' : range(10,20),\n",
    " #                      'randomforestclassifier__max_features': [2,3,4,5],\n",
    " #                      'randomforestclassifier__min_samples_split': [2,8,16]}\n",
    "#grid_model = GridSearchCV(model_random, param_grid = hyperparameter_dict,cv=5,\n",
    "  #                        scoring='accuracy',n_jobs=-1)\n",
    "best_randomforest = model_random.fit(X_train,Y_train)\n",
    "#best_randomforest = grid_model.best_estimator_\n",
    "Y_train_pred = best_randomforest.predict(X_train)\n",
    "Y_test_pred = best_randomforest.predict(X_test)\n",
    "print('학습능력평가')\n",
    "print(classification_report(Y_train,Y_train_pred))\n",
    "print('일반화능력평가')\n",
    "print(classification_report(Y_test, Y_test_pred))"
   ]
  },
  {
   "cell_type": "code",
   "execution_count": 187,
   "id": "f4ee052c",
   "metadata": {},
   "outputs": [
    {
     "name": "stdout",
     "output_type": "stream",
     "text": [
      "학습능력평가\n",
      "              precision    recall  f1-score   support\n",
      "\n",
      "         0.0       0.51      0.90      0.65       153\n",
      "         1.0       0.63      0.86      0.73       350\n",
      "         2.0       0.77      0.78      0.78       757\n",
      "         3.0       0.79      0.76      0.78       916\n",
      "         4.0       0.83      0.75      0.79      1315\n",
      "         5.0       0.82      0.81      0.81      1183\n",
      "         6.0       0.74      0.76      0.75       639\n",
      "         7.0       0.80      0.73      0.76      1172\n",
      "         8.0       0.76      0.74      0.75       791\n",
      "         9.0       0.60      0.86      0.71        95\n",
      "\n",
      "    accuracy                           0.77      7371\n",
      "   macro avg       0.73      0.79      0.75      7371\n",
      "weighted avg       0.78      0.77      0.77      7371\n",
      "\n",
      "일반화능력평가\n",
      "              precision    recall  f1-score   support\n",
      "\n",
      "         0.0       0.08      0.22      0.12        50\n",
      "         1.0       0.15      0.27      0.19       126\n",
      "         2.0       0.18      0.20      0.19       229\n",
      "         3.0       0.20      0.16      0.18       291\n",
      "         4.0       0.25      0.18      0.21       423\n",
      "         5.0       0.27      0.26      0.27       410\n",
      "         6.0       0.16      0.20      0.18       209\n",
      "         7.0       0.47      0.35      0.40       402\n",
      "         8.0       0.35      0.34      0.35       282\n",
      "         9.0       0.06      0.14      0.08        35\n",
      "\n",
      "    accuracy                           0.25      2457\n",
      "   macro avg       0.22      0.23      0.22      2457\n",
      "weighted avg       0.27      0.25      0.25      2457\n",
      "\n"
     ]
    }
   ],
   "source": [
    "model_random = pipe_model_func(RandomForestClassifier())\n",
    "#best_randomforest = model_random.fit(X_d_train,Y_d_train) \n",
    "hyperparameter_dict = {'randomforestclassifier__max_depth' : range(10,20),\n",
    "                      'randomforestclassifier__max_features': [2,3,4,5],\n",
    "                     'randomforestclassifier__min_samples_split': [2,8,16]}\n",
    "grid_model = GridSearchCV(model_random, param_grid = hyperparameter_dict,cv=5,\n",
    "                   scoring='accuracy',n_jobs=-1)\n",
    "grid_model.fit(X_train,Y_train)\n",
    "best_randomforest = grid_model.best_estimator_\n",
    "Y_train_pred = best_randomforest.predict(X_train)\n",
    "Y_test_pred = best_randomforest.predict(X_test)\n",
    "print('학습능력평가')\n",
    "print(classification_report(Y_train,Y_train_pred))\n",
    "print('일반화능력평가')\n",
    "print(classification_report(Y_test, Y_test_pred))"
   ]
  },
  {
   "cell_type": "code",
   "execution_count": 188,
   "id": "bf9acdc7",
   "metadata": {},
   "outputs": [
    {
     "name": "stdout",
     "output_type": "stream",
     "text": [
      "학습능력평가\n",
      "              precision    recall  f1-score   support\n",
      "\n",
      "         0.0       0.94      1.00      0.97       152\n",
      "         1.0       0.93      0.99      0.96       343\n",
      "         2.0       0.99      0.98      0.99       646\n",
      "         3.0       0.99      0.99      0.99       791\n",
      "         4.0       0.99      0.98      0.99      1174\n",
      "         5.0       0.99      0.99      0.99      1119\n",
      "         6.0       1.00      0.99      1.00       530\n",
      "         7.0       0.99      0.98      0.99       713\n",
      "         8.0       0.99      0.99      0.99       598\n",
      "         9.0       1.00      1.00      1.00        66\n",
      "\n",
      "    accuracy                           0.99      6132\n",
      "   macro avg       0.98      0.99      0.99      6132\n",
      "weighted avg       0.99      0.99      0.99      6132\n",
      "\n",
      "일반화능력평가\n",
      "              precision    recall  f1-score   support\n",
      "\n",
      "         0.0       0.04      0.10      0.06        41\n",
      "         1.0       0.15      0.32      0.20        91\n",
      "         2.0       0.18      0.19      0.19       226\n",
      "         3.0       0.23      0.20      0.21       270\n",
      "         4.0       0.27      0.22      0.24       396\n",
      "         5.0       0.27      0.25      0.26       381\n",
      "         6.0       0.15      0.16      0.15       167\n",
      "         7.0       0.19      0.14      0.16       265\n",
      "         8.0       0.33      0.34      0.33       183\n",
      "         9.0       0.05      0.08      0.06        25\n",
      "\n",
      "    accuracy                           0.21      2045\n",
      "   macro avg       0.18      0.20      0.19      2045\n",
      "weighted avg       0.23      0.21      0.22      2045\n",
      "\n"
     ]
    }
   ],
   "source": [
    "model_random = pipe_model_func(RandomForestClassifier())\n",
    "#best_randomforest = model_random.fit(X_d_train,Y_d_train) \n",
    "hyperparameter_dict = {'randomforestclassifier__max_depth' : range(10,20),\n",
    "                      'randomforestclassifier__max_features': [2,3,4,5],\n",
    "                     'randomforestclassifier__min_samples_split': [2,8,16]}\n",
    "grid_model = GridSearchCV(model_random, param_grid = hyperparameter_dict,cv=5,\n",
    "                   scoring='accuracy',n_jobs=-1)\n",
    "grid_model.fit(X_d_train,Y_d_train)\n",
    "best_randomforest = grid_model.best_estimator_\n",
    "Y_train_pred = best_randomforest.predict(X_d_train)\n",
    "Y_test_pred = best_randomforest.predict(X_d_test)\n",
    "print('학습능력평가')\n",
    "print(classification_report(Y_d_train,Y_train_pred))\n",
    "print('일반화능력평가')\n",
    "print(classification_report(Y_d_test, Y_test_pred))"
   ]
  },
  {
   "cell_type": "code",
   "execution_count": 189,
   "id": "29c90db6-30e6-469f-846c-b57bf98922c1",
   "metadata": {},
   "outputs": [
    {
     "name": "stdout",
     "output_type": "stream",
     "text": [
      "Pipeline(steps=[('columntransformer',\n",
      "                 ColumnTransformer(transformers=[('pipeline',\n",
      "                                                  Pipeline(steps=[('simpleimputer',\n",
      "                                                                   SimpleImputer()),\n",
      "                                                                  ('minmaxscaler',\n",
      "                                                                   MinMaxScaler())]),\n",
      "                                                  ['사업자등록번호', '유동비율', '부채비율',\n",
      "                                                   '자기자본비율', '매출영업이익률', '당좌비율',\n",
      "                                                   '순운전자본자본비율', '총자산회전율'])])),\n",
      "                ('smote', SMOTE()),\n",
      "                ('randomforestclassifier',\n",
      "                 RandomForestClassifier(max_depth=16, max_features=3))])\n"
     ]
    }
   ],
   "source": [
    "print(best_randomforest)"
   ]
  },
  {
   "cell_type": "markdown",
   "id": "f00fd084",
   "metadata": {},
   "source": [
    "- ### **XG부스트**"
   ]
  },
  {
   "cell_type": "code",
   "execution_count": 190,
   "id": "1c353c7c",
   "metadata": {},
   "outputs": [],
   "source": [
    "#!pip install xgboost"
   ]
  },
  {
   "cell_type": "code",
   "execution_count": 191,
   "id": "b6a03991",
   "metadata": {},
   "outputs": [
    {
     "name": "stdout",
     "output_type": "stream",
     "text": [
      "학습능력평가\n",
      "              precision    recall  f1-score   support\n",
      "\n",
      "         0.0       0.85      0.92      0.88       153\n",
      "         1.0       0.78      0.89      0.83       350\n",
      "         2.0       0.87      0.84      0.85       757\n",
      "         3.0       0.86      0.82      0.84       916\n",
      "         4.0       0.83      0.86      0.85      1315\n",
      "         5.0       0.88      0.86      0.87      1183\n",
      "         6.0       0.90      0.79      0.84       639\n",
      "         7.0       0.82      0.89      0.86      1172\n",
      "         8.0       0.89      0.83      0.86       791\n",
      "         9.0       0.80      0.95      0.87        95\n",
      "\n",
      "    accuracy                           0.85      7371\n",
      "   macro avg       0.85      0.87      0.85      7371\n",
      "weighted avg       0.85      0.85      0.85      7371\n",
      "\n",
      "일반화능력평가\n",
      "              precision    recall  f1-score   support\n",
      "\n",
      "         0.0       0.11      0.16      0.13        50\n",
      "         1.0       0.20      0.23      0.21       126\n",
      "         2.0       0.18      0.19      0.19       229\n",
      "         3.0       0.20      0.17      0.18       291\n",
      "         4.0       0.26      0.28      0.27       423\n",
      "         5.0       0.30      0.30      0.30       410\n",
      "         6.0       0.15      0.14      0.14       209\n",
      "         7.0       0.41      0.38      0.39       402\n",
      "         8.0       0.35      0.34      0.34       282\n",
      "         9.0       0.11      0.11      0.11        35\n",
      "\n",
      "    accuracy                           0.27      2457\n",
      "   macro avg       0.23      0.23      0.23      2457\n",
      "weighted avg       0.27      0.27      0.27      2457\n",
      "\n"
     ]
    }
   ],
   "source": [
    "from xgboost import XGBClassifier\n",
    "model_xg = pipe_model_func(XGBClassifier())\n",
    "best_XG = model_xg.fit(X_train,Y_train)\n",
    "evaluation_func(best_XG)"
   ]
  },
  {
   "cell_type": "code",
   "execution_count": 192,
   "id": "aafe2789-0986-4296-bac9-d1028b6359c2",
   "metadata": {},
   "outputs": [
    {
     "name": "stdout",
     "output_type": "stream",
     "text": [
      "Pipeline(steps=[('columntransformer',\n",
      "                 ColumnTransformer(transformers=[('pipeline',\n",
      "                                                  Pipeline(steps=[('simpleimputer',\n",
      "                                                                   SimpleImputer()),\n",
      "                                                                  ('minmaxscaler',\n",
      "                                                                   MinMaxScaler())]),\n",
      "                                                  ['사업자등록번호', '유동비율', '부채비율',\n",
      "                                                   '자기자본비율', '매출영업이익률', '당좌비율',\n",
      "                                                   '순운전자본자본비율', '총자산회전율'])])),\n",
      "                ('smote', SMOTE()),\n",
      "                ('xgbclassifier',\n",
      "                 XGBClassifier(base_score=None, booster=None, callbacks=None,\n",
      "                               colsample_bylev...\n",
      "                               grow_policy=None, importance_type=None,\n",
      "                               interaction_constraints=None, learning_rate=None,\n",
      "                               max_bin=None, max_cat_threshold=None,\n",
      "                               max_cat_to_onehot=None, max_delta_step=None,\n",
      "                               max_depth=None, max_leaves=None,\n",
      "                               min_child_weight=None, missing=nan,\n",
      "                               monotone_constraints=None, n_estimators=100,\n",
      "                               n_jobs=None, num_parallel_tree=None,\n",
      "                               objective='multi:softprob', predictor=None, ...))])\n"
     ]
    }
   ],
   "source": [
    "print(best_XG)"
   ]
  },
  {
   "cell_type": "code",
   "execution_count": 193,
   "id": "d37c4e11",
   "metadata": {},
   "outputs": [
    {
     "name": "stdout",
     "output_type": "stream",
     "text": [
      "학습능력평가\n",
      "              precision    recall  f1-score   support\n",
      "\n",
      "         0.0       0.39      0.68      0.49       153\n",
      "         1.0       0.57      0.68      0.62       350\n",
      "         2.0       0.58      0.62      0.60       757\n",
      "         3.0       0.56      0.53      0.55       916\n",
      "         4.0       0.57      0.63      0.60      1315\n",
      "         5.0       0.50      0.64      0.56      1183\n",
      "         6.0       0.60      0.59      0.59       639\n",
      "         7.0       0.72      0.41      0.52      1172\n",
      "         8.0       0.68      0.57      0.62       791\n",
      "         9.0       0.55      0.55      0.55        95\n",
      "\n",
      "    accuracy                           0.57      7371\n",
      "   macro avg       0.57      0.59      0.57      7371\n",
      "weighted avg       0.59      0.57      0.57      7371\n",
      "\n",
      "일반화능력평가\n",
      "              precision    recall  f1-score   support\n",
      "\n",
      "         0.0       0.41      0.74      0.52        50\n",
      "         1.0       0.61      0.66      0.63       126\n",
      "         2.0       0.53      0.63      0.58       229\n",
      "         3.0       0.56      0.54      0.55       291\n",
      "         4.0       0.57      0.65      0.61       423\n",
      "         5.0       0.50      0.63      0.56       410\n",
      "         6.0       0.58      0.56      0.57       209\n",
      "         7.0       0.76      0.40      0.53       402\n",
      "         8.0       0.64      0.53      0.58       282\n",
      "         9.0       0.55      0.49      0.52        35\n",
      "\n",
      "    accuracy                           0.57      2457\n",
      "   macro avg       0.57      0.58      0.56      2457\n",
      "weighted avg       0.59      0.57      0.57      2457\n",
      "\n"
     ]
    }
   ],
   "source": [
    "from xgboost import XGBClassifier\n",
    "model_xg = pipe_model_func(XGBClassifier())\n",
    "best_XG = model_xg.fit(X_d_train,Y_d_train)\n",
    "evaluation_func(best_XG)"
   ]
  },
  {
   "cell_type": "code",
   "execution_count": 194,
   "id": "d1d8a77d",
   "metadata": {},
   "outputs": [
    {
     "name": "stdout",
     "output_type": "stream",
     "text": [
      "학습능력평가\n",
      "              precision    recall  f1-score   support\n",
      "\n",
      "         0.0       0.09      0.48      0.15       153\n",
      "         1.0       0.12      0.41      0.19       350\n",
      "         2.0       0.20      0.07      0.10       757\n",
      "         3.0       0.23      0.08      0.12       916\n",
      "         4.0       0.30      0.12      0.17      1315\n",
      "         5.0       0.32      0.13      0.18      1183\n",
      "         6.0       0.18      0.28      0.22       639\n",
      "         7.0       0.43      0.37      0.39      1172\n",
      "         8.0       0.31      0.37      0.34       791\n",
      "         9.0       0.05      0.43      0.08        95\n",
      "\n",
      "    accuracy                           0.22      7371\n",
      "   macro avg       0.22      0.27      0.19      7371\n",
      "weighted avg       0.28      0.22      0.22      7371\n",
      "\n",
      "일반화능력평가\n",
      "              precision    recall  f1-score   support\n",
      "\n",
      "         0.0       0.05      0.26      0.08        50\n",
      "         1.0       0.12      0.38      0.18       126\n",
      "         2.0       0.12      0.04      0.06       229\n",
      "         3.0       0.20      0.07      0.10       291\n",
      "         4.0       0.26      0.09      0.13       423\n",
      "         5.0       0.24      0.08      0.12       410\n",
      "         6.0       0.15      0.23      0.18       209\n",
      "         7.0       0.42      0.38      0.40       402\n",
      "         8.0       0.29      0.36      0.32       282\n",
      "         9.0       0.05      0.40      0.09        35\n",
      "\n",
      "    accuracy                           0.19      2457\n",
      "   macro avg       0.19      0.23      0.17      2457\n",
      "weighted avg       0.24      0.19      0.19      2457\n",
      "\n"
     ]
    }
   ],
   "source": [
    "from xgboost import XGBClassifier\n",
    "model_xg = pipe_model_func(XGBClassifier())\n",
    "hyperparameter_dict = {'xgbclassifier__n_estimators':[100],\n",
    "                     'xgbclassifier__learning_rate':[0.01],\n",
    "                       'xgbclassifier__max_depth':range(1,4),\n",
    "                        'xgbclassifier__gamma':[0,1,2,3]}\n",
    "\n",
    "grid_model = GridSearchCV(model_xg, param_grid = hyperparameter_dict,cv=3,\n",
    "                          scoring='accuracy',n_jobs=-1)\n",
    "grid_model.fit(X_train,Y_train)\n",
    "best_XG = grid_model.best_estimator_\n",
    "evaluation_func(best_XG)\n",
    "#grid_model.get_params().keys()"
   ]
  },
  {
   "cell_type": "code",
   "execution_count": 195,
   "id": "acea6989",
   "metadata": {},
   "outputs": [
    {
     "name": "stdout",
     "output_type": "stream",
     "text": [
      "학습능력평가\n",
      "              precision    recall  f1-score   support\n",
      "\n",
      "         0.0       0.23      0.60      0.33       153\n",
      "         1.0       0.33      0.56      0.41       350\n",
      "         2.0       0.40      0.32      0.35       757\n",
      "         3.0       0.30      0.31      0.30       916\n",
      "         4.0       0.37      0.40      0.39      1315\n",
      "         5.0       0.41      0.36      0.39      1183\n",
      "         6.0       0.40      0.43      0.41       639\n",
      "         7.0       0.46      0.25      0.33      1172\n",
      "         8.0       0.59      0.43      0.49       791\n",
      "         9.0       0.12      0.52      0.19        95\n",
      "\n",
      "    accuracy                           0.37      7371\n",
      "   macro avg       0.36      0.42      0.36      7371\n",
      "weighted avg       0.40      0.37      0.38      7371\n",
      "\n",
      "일반화능력평가\n",
      "              precision    recall  f1-score   support\n",
      "\n",
      "         0.0       0.21      0.62      0.31        50\n",
      "         1.0       0.31      0.54      0.40       126\n",
      "         2.0       0.39      0.33      0.36       229\n",
      "         3.0       0.28      0.32      0.30       291\n",
      "         4.0       0.36      0.40      0.38       423\n",
      "         5.0       0.46      0.41      0.43       410\n",
      "         6.0       0.39      0.36      0.38       209\n",
      "         7.0       0.51      0.26      0.34       402\n",
      "         8.0       0.56      0.40      0.47       282\n",
      "         9.0       0.13      0.46      0.20        35\n",
      "\n",
      "    accuracy                           0.37      2457\n",
      "   macro avg       0.36      0.41      0.36      2457\n",
      "weighted avg       0.41      0.37      0.38      2457\n",
      "\n"
     ]
    }
   ],
   "source": [
    "from xgboost import XGBClassifier\n",
    "model_xg = pipe_model_func(XGBClassifier())\n",
    "hyperparameter_dict = {'xgbclassifier__n_estimators':[100],\n",
    "                     'xgbclassifier__learning_rate':[0.01],\n",
    "                       'xgbclassifier__max_depth':range(5,10),\n",
    "                        'xgbclassifier__gamma':[0,1,2,3]}\n",
    "\n",
    "grid_model = GridSearchCV(model_xg, param_grid = hyperparameter_dict,cv=3,\n",
    "                          scoring='accuracy',n_jobs=-1)\n",
    "grid_model.fit(X_d_train,Y_d_train)\n",
    "best_XG = grid_model.best_estimator_\n",
    "evaluation_func(best_XG)\n",
    "#grid_model.get_params().keys()"
   ]
  },
  {
   "cell_type": "markdown",
   "id": "55ddeeab",
   "metadata": {},
   "source": [
    "- ### **GradientBoostingClassifier()**"
   ]
  },
  {
   "cell_type": "code",
   "execution_count": 196,
   "id": "49809aa7",
   "metadata": {},
   "outputs": [
    {
     "name": "stdout",
     "output_type": "stream",
     "text": [
      "학습능력평가\n",
      "              precision    recall  f1-score   support\n",
      "\n",
      "         0.0       0.16      0.61      0.25       153\n",
      "         1.0       0.26      0.50      0.34       350\n",
      "         2.0       0.33      0.27      0.30       757\n",
      "         3.0       0.44      0.24      0.31       916\n",
      "         4.0       0.42      0.35      0.38      1315\n",
      "         5.0       0.43      0.40      0.41      1183\n",
      "         6.0       0.39      0.38      0.39       639\n",
      "         7.0       0.57      0.48      0.52      1172\n",
      "         8.0       0.45      0.47      0.46       791\n",
      "         9.0       0.18      0.64      0.28        95\n",
      "\n",
      "    accuracy                           0.39      7371\n",
      "   macro avg       0.36      0.43      0.36      7371\n",
      "weighted avg       0.42      0.39      0.39      7371\n",
      "\n",
      "일반화능력평가\n",
      "              precision    recall  f1-score   support\n",
      "\n",
      "         0.0       0.06      0.24      0.09        50\n",
      "         1.0       0.15      0.28      0.19       126\n",
      "         2.0       0.15      0.13      0.14       229\n",
      "         3.0       0.22      0.11      0.14       291\n",
      "         4.0       0.24      0.21      0.23       423\n",
      "         5.0       0.26      0.23      0.24       410\n",
      "         6.0       0.15      0.16      0.15       209\n",
      "         7.0       0.44      0.37      0.40       402\n",
      "         8.0       0.32      0.32      0.32       282\n",
      "         9.0       0.05      0.17      0.08        35\n",
      "\n",
      "    accuracy                           0.23      2457\n",
      "   macro avg       0.20      0.22      0.20      2457\n",
      "weighted avg       0.26      0.23      0.24      2457\n",
      "\n"
     ]
    }
   ],
   "source": [
    "model_gb = pipe_model_func(GradientBoostingClassifier())\n",
    "GB = model_gb.fit(X_train,Y_train)\n",
    "evaluation_func(GB)"
   ]
  },
  {
   "cell_type": "code",
   "execution_count": 197,
   "id": "71b7b9db",
   "metadata": {},
   "outputs": [
    {
     "name": "stdout",
     "output_type": "stream",
     "text": [
      "학습능력평가\n",
      "              precision    recall  f1-score   support\n",
      "\n",
      "         0.0       0.13      0.46      0.20       153\n",
      "         1.0       0.19      0.50      0.27       350\n",
      "         2.0       0.29      0.29      0.29       757\n",
      "         3.0       0.20      0.25      0.22       916\n",
      "         4.0       0.33      0.27      0.30      1315\n",
      "         5.0       0.38      0.31      0.34      1183\n",
      "         6.0       0.31      0.25      0.27       639\n",
      "         7.0       0.42      0.19      0.26      1172\n",
      "         8.0       0.49      0.32      0.38       791\n",
      "         9.0       0.11      0.39      0.17        95\n",
      "\n",
      "    accuracy                           0.28      7371\n",
      "   macro avg       0.28      0.32      0.27      7371\n",
      "weighted avg       0.33      0.28      0.29      7371\n",
      "\n",
      "일반화능력평가\n",
      "              precision    recall  f1-score   support\n",
      "\n",
      "         0.0       0.12      0.42      0.18        50\n",
      "         1.0       0.19      0.44      0.27       126\n",
      "         2.0       0.25      0.29      0.27       229\n",
      "         3.0       0.17      0.23      0.19       291\n",
      "         4.0       0.32      0.26      0.29       423\n",
      "         5.0       0.37      0.31      0.34       410\n",
      "         6.0       0.28      0.22      0.25       209\n",
      "         7.0       0.40      0.17      0.24       402\n",
      "         8.0       0.47      0.30      0.37       282\n",
      "         9.0       0.09      0.29      0.14        35\n",
      "\n",
      "    accuracy                           0.27      2457\n",
      "   macro avg       0.27      0.29      0.25      2457\n",
      "weighted avg       0.32      0.27      0.28      2457\n",
      "\n"
     ]
    }
   ],
   "source": [
    "model_gb = pipe_model_func(GradientBoostingClassifier())\n",
    "GB = model_gb.fit(X_d_train,Y_d_train)\n",
    "evaluation_func(GB)"
   ]
  },
  {
   "cell_type": "markdown",
   "id": "d55f4700-281b-48d9-a747-e73014e81682",
   "metadata": {},
   "source": [
    "---\n",
    "> # **재무 + 비재무 평가 지표 머신러닝**\n",
    "---"
   ]
  },
  {
   "cell_type": "code",
   "execution_count": 198,
   "id": "82e9eff2",
   "metadata": {},
   "outputs": [
    {
     "data": {
      "text/html": [
       "<div>\n",
       "<style scoped>\n",
       "    .dataframe tbody tr th:only-of-type {\n",
       "        vertical-align: middle;\n",
       "    }\n",
       "\n",
       "    .dataframe tbody tr th {\n",
       "        vertical-align: top;\n",
       "    }\n",
       "\n",
       "    .dataframe thead th {\n",
       "        text-align: right;\n",
       "    }\n",
       "</style>\n",
       "<table border=\"1\" class=\"dataframe\">\n",
       "  <thead>\n",
       "    <tr style=\"text-align: right;\">\n",
       "      <th></th>\n",
       "      <th>사업자등록번호</th>\n",
       "      <th>종업원수</th>\n",
       "      <th>종업원그룹</th>\n",
       "      <th>업력</th>\n",
       "      <th>성장단계</th>\n",
       "      <th>산업대분류</th>\n",
       "      <th>기업규모</th>\n",
       "      <th>기업형태</th>\n",
       "      <th>CRI등급</th>\n",
       "      <th>매출액</th>\n",
       "      <th>...</th>\n",
       "      <th>당좌자산</th>\n",
       "      <th>재고자산</th>\n",
       "      <th>유동비율</th>\n",
       "      <th>부채비율</th>\n",
       "      <th>자기자본비율</th>\n",
       "      <th>매출영업이익률</th>\n",
       "      <th>당좌비율</th>\n",
       "      <th>순운전자본자본비율</th>\n",
       "      <th>총자산회전율</th>\n",
       "      <th>target</th>\n",
       "    </tr>\n",
       "  </thead>\n",
       "  <tbody>\n",
       "    <tr>\n",
       "      <th>0</th>\n",
       "      <td>8998803795</td>\n",
       "      <td>28.0</td>\n",
       "      <td>2</td>\n",
       "      <td>6.000000</td>\n",
       "      <td>성장보육형</td>\n",
       "      <td>58</td>\n",
       "      <td>중소기업</td>\n",
       "      <td>일반</td>\n",
       "      <td>A3</td>\n",
       "      <td>1011463.0</td>\n",
       "      <td>...</td>\n",
       "      <td>2.535306e+06</td>\n",
       "      <td>633716.711816</td>\n",
       "      <td>36579.0</td>\n",
       "      <td>3.0</td>\n",
       "      <td>97.0</td>\n",
       "      <td>-81.0</td>\n",
       "      <td>100.0</td>\n",
       "      <td>63.0</td>\n",
       "      <td>25.0</td>\n",
       "      <td>2.0</td>\n",
       "    </tr>\n",
       "    <tr>\n",
       "      <th>1</th>\n",
       "      <td>8998708313</td>\n",
       "      <td>10.0</td>\n",
       "      <td>5</td>\n",
       "      <td>8.000000</td>\n",
       "      <td>자립성장형</td>\n",
       "      <td>41</td>\n",
       "      <td>중소기업</td>\n",
       "      <td>일반</td>\n",
       "      <td>B1</td>\n",
       "      <td>6813497.0</td>\n",
       "      <td>...</td>\n",
       "      <td>6.465035e+05</td>\n",
       "      <td>175083.552347</td>\n",
       "      <td>218.0</td>\n",
       "      <td>30.0</td>\n",
       "      <td>77.0</td>\n",
       "      <td>2.0</td>\n",
       "      <td>88.0</td>\n",
       "      <td>45.0</td>\n",
       "      <td>775.0</td>\n",
       "      <td>3.0</td>\n",
       "    </tr>\n",
       "    <tr>\n",
       "      <th>2</th>\n",
       "      <td>8998707411</td>\n",
       "      <td>9.0</td>\n",
       "      <td>6</td>\n",
       "      <td>8.000000</td>\n",
       "      <td>정체형</td>\n",
       "      <td>70</td>\n",
       "      <td>중소기업</td>\n",
       "      <td>일반</td>\n",
       "      <td>C3</td>\n",
       "      <td>15698.0</td>\n",
       "      <td>...</td>\n",
       "      <td>5.647800e+04</td>\n",
       "      <td>86091.152941</td>\n",
       "      <td>297.0</td>\n",
       "      <td>-182.0</td>\n",
       "      <td>-122.0</td>\n",
       "      <td>-2352.0</td>\n",
       "      <td>100.0</td>\n",
       "      <td>-4.0</td>\n",
       "      <td>-2.0</td>\n",
       "      <td>8.0</td>\n",
       "    </tr>\n",
       "    <tr>\n",
       "      <th>3</th>\n",
       "      <td>8998705196</td>\n",
       "      <td>4.0</td>\n",
       "      <td>9</td>\n",
       "      <td>5.000000</td>\n",
       "      <td>성장보육형</td>\n",
       "      <td>62</td>\n",
       "      <td>중소기업</td>\n",
       "      <td>일반</td>\n",
       "      <td>B1</td>\n",
       "      <td>1520118.0</td>\n",
       "      <td>...</td>\n",
       "      <td>9.719800e+04</td>\n",
       "      <td>33775.029240</td>\n",
       "      <td>93.0</td>\n",
       "      <td>103.0</td>\n",
       "      <td>49.0</td>\n",
       "      <td>4.0</td>\n",
       "      <td>100.0</td>\n",
       "      <td>-9.0</td>\n",
       "      <td>1842.0</td>\n",
       "      <td>3.0</td>\n",
       "    </tr>\n",
       "    <tr>\n",
       "      <th>4</th>\n",
       "      <td>8998607522</td>\n",
       "      <td>6.0</td>\n",
       "      <td>7</td>\n",
       "      <td>8.000000</td>\n",
       "      <td>정체형</td>\n",
       "      <td>73</td>\n",
       "      <td>중소기업</td>\n",
       "      <td>일반</td>\n",
       "      <td>B2</td>\n",
       "      <td>705737.0</td>\n",
       "      <td>...</td>\n",
       "      <td>5.978000e+04</td>\n",
       "      <td>33775.029240</td>\n",
       "      <td>28.0</td>\n",
       "      <td>-323.0</td>\n",
       "      <td>-45.0</td>\n",
       "      <td>2.0</td>\n",
       "      <td>100.0</td>\n",
       "      <td>155.0</td>\n",
       "      <td>-714.0</td>\n",
       "      <td>4.0</td>\n",
       "    </tr>\n",
       "    <tr>\n",
       "      <th>...</th>\n",
       "      <td>...</td>\n",
       "      <td>...</td>\n",
       "      <td>...</td>\n",
       "      <td>...</td>\n",
       "      <td>...</td>\n",
       "      <td>...</td>\n",
       "      <td>...</td>\n",
       "      <td>...</td>\n",
       "      <td>...</td>\n",
       "      <td>...</td>\n",
       "      <td>...</td>\n",
       "      <td>...</td>\n",
       "      <td>...</td>\n",
       "      <td>...</td>\n",
       "      <td>...</td>\n",
       "      <td>...</td>\n",
       "      <td>...</td>\n",
       "      <td>...</td>\n",
       "      <td>...</td>\n",
       "      <td>...</td>\n",
       "      <td>...</td>\n",
       "    </tr>\n",
       "    <tr>\n",
       "      <th>8181</th>\n",
       "      <td>1011106242</td>\n",
       "      <td>10.0</td>\n",
       "      <td>5</td>\n",
       "      <td>11.000000</td>\n",
       "      <td>정체형</td>\n",
       "      <td>73</td>\n",
       "      <td>중소기업</td>\n",
       "      <td>폐업</td>\n",
       "      <td>D</td>\n",
       "      <td>542209.0</td>\n",
       "      <td>...</td>\n",
       "      <td>6.346300e+04</td>\n",
       "      <td>33775.029240</td>\n",
       "      <td>699.0</td>\n",
       "      <td>42.0</td>\n",
       "      <td>70.0</td>\n",
       "      <td>13.0</td>\n",
       "      <td>100.0</td>\n",
       "      <td>29.0</td>\n",
       "      <td>294.0</td>\n",
       "      <td>9.0</td>\n",
       "    </tr>\n",
       "    <tr>\n",
       "      <th>8182</th>\n",
       "      <td>1010709848</td>\n",
       "      <td>11.0</td>\n",
       "      <td>5</td>\n",
       "      <td>17.000000</td>\n",
       "      <td>정체형</td>\n",
       "      <td>59</td>\n",
       "      <td>중소기업</td>\n",
       "      <td>일반</td>\n",
       "      <td>B3</td>\n",
       "      <td>81492.0</td>\n",
       "      <td>...</td>\n",
       "      <td>5.726000e+03</td>\n",
       "      <td>0.000000</td>\n",
       "      <td>6.0</td>\n",
       "      <td>-113.0</td>\n",
       "      <td>-778.0</td>\n",
       "      <td>16.0</td>\n",
       "      <td>100.0</td>\n",
       "      <td>185.0</td>\n",
       "      <td>-183.0</td>\n",
       "      <td>5.0</td>\n",
       "    </tr>\n",
       "    <tr>\n",
       "      <th>8183</th>\n",
       "      <td>1010607727</td>\n",
       "      <td>1.0</td>\n",
       "      <td>10</td>\n",
       "      <td>11.922535</td>\n",
       "      <td>정체형</td>\n",
       "      <td>75</td>\n",
       "      <td>중소기업</td>\n",
       "      <td>일반</td>\n",
       "      <td>C3</td>\n",
       "      <td>370418.0</td>\n",
       "      <td>...</td>\n",
       "      <td>2.488230e+05</td>\n",
       "      <td>33775.029240</td>\n",
       "      <td>428.0</td>\n",
       "      <td>1008.0</td>\n",
       "      <td>9.0</td>\n",
       "      <td>11.0</td>\n",
       "      <td>100.0</td>\n",
       "      <td>1043.0</td>\n",
       "      <td>2026.0</td>\n",
       "      <td>8.0</td>\n",
       "    </tr>\n",
       "    <tr>\n",
       "      <th>8184</th>\n",
       "      <td>1010204456</td>\n",
       "      <td>5.0</td>\n",
       "      <td>8</td>\n",
       "      <td>23.000000</td>\n",
       "      <td>정체형</td>\n",
       "      <td>46</td>\n",
       "      <td>중소기업</td>\n",
       "      <td>일반</td>\n",
       "      <td>B3</td>\n",
       "      <td>984750.0</td>\n",
       "      <td>...</td>\n",
       "      <td>8.246570e+05</td>\n",
       "      <td>40245.000000</td>\n",
       "      <td>5313.0</td>\n",
       "      <td>1019.0</td>\n",
       "      <td>9.0</td>\n",
       "      <td>8.0</td>\n",
       "      <td>95.0</td>\n",
       "      <td>999.0</td>\n",
       "      <td>1159.0</td>\n",
       "      <td>5.0</td>\n",
       "    </tr>\n",
       "    <tr>\n",
       "      <th>8185</th>\n",
       "      <td>1010109319</td>\n",
       "      <td>1.0</td>\n",
       "      <td>10</td>\n",
       "      <td>21.000000</td>\n",
       "      <td>정체형</td>\n",
       "      <td>46</td>\n",
       "      <td>중소기업</td>\n",
       "      <td>일반</td>\n",
       "      <td>B2</td>\n",
       "      <td>178547.0</td>\n",
       "      <td>...</td>\n",
       "      <td>2.695000e+03</td>\n",
       "      <td>5446.000000</td>\n",
       "      <td>1151.0</td>\n",
       "      <td>-755.0</td>\n",
       "      <td>-15.0</td>\n",
       "      <td>7.0</td>\n",
       "      <td>33.0</td>\n",
       "      <td>-2572.0</td>\n",
       "      <td>-61781.0</td>\n",
       "      <td>4.0</td>\n",
       "    </tr>\n",
       "  </tbody>\n",
       "</table>\n",
       "<p>8177 rows × 27 columns</p>\n",
       "</div>"
      ],
      "text/plain": [
       "         사업자등록번호  종업원수  종업원그룹         업력   성장단계 산업대분류  기업규모 기업형태 CRI등급  \\\n",
       "0     8998803795  28.0      2   6.000000  성장보육형    58  중소기업   일반    A3   \n",
       "1     8998708313  10.0      5   8.000000  자립성장형    41  중소기업   일반    B1   \n",
       "2     8998707411   9.0      6   8.000000    정체형    70  중소기업   일반    C3   \n",
       "3     8998705196   4.0      9   5.000000  성장보육형    62  중소기업   일반    B1   \n",
       "4     8998607522   6.0      7   8.000000    정체형    73  중소기업   일반    B2   \n",
       "...          ...   ...    ...        ...    ...   ...   ...  ...   ...   \n",
       "8181  1011106242  10.0      5  11.000000    정체형    73  중소기업   폐업     D   \n",
       "8182  1010709848  11.0      5  17.000000    정체형    59  중소기업   일반    B3   \n",
       "8183  1010607727   1.0     10  11.922535    정체형    75  중소기업   일반    C3   \n",
       "8184  1010204456   5.0      8  23.000000    정체형    46  중소기업   일반    B3   \n",
       "8185  1010109319   1.0     10  21.000000    정체형    46  중소기업   일반    B2   \n",
       "\n",
       "            매출액  ...          당좌자산           재고자산     유동비율    부채비율  자기자본비율  \\\n",
       "0     1011463.0  ...  2.535306e+06  633716.711816  36579.0     3.0    97.0   \n",
       "1     6813497.0  ...  6.465035e+05  175083.552347    218.0    30.0    77.0   \n",
       "2       15698.0  ...  5.647800e+04   86091.152941    297.0  -182.0  -122.0   \n",
       "3     1520118.0  ...  9.719800e+04   33775.029240     93.0   103.0    49.0   \n",
       "4      705737.0  ...  5.978000e+04   33775.029240     28.0  -323.0   -45.0   \n",
       "...         ...  ...           ...            ...      ...     ...     ...   \n",
       "8181   542209.0  ...  6.346300e+04   33775.029240    699.0    42.0    70.0   \n",
       "8182    81492.0  ...  5.726000e+03       0.000000      6.0  -113.0  -778.0   \n",
       "8183   370418.0  ...  2.488230e+05   33775.029240    428.0  1008.0     9.0   \n",
       "8184   984750.0  ...  8.246570e+05   40245.000000   5313.0  1019.0     9.0   \n",
       "8185   178547.0  ...  2.695000e+03    5446.000000   1151.0  -755.0   -15.0   \n",
       "\n",
       "      매출영업이익률   당좌비율  순운전자본자본비율   총자산회전율  target  \n",
       "0       -81.0  100.0       63.0     25.0     2.0  \n",
       "1         2.0   88.0       45.0    775.0     3.0  \n",
       "2     -2352.0  100.0       -4.0     -2.0     8.0  \n",
       "3         4.0  100.0       -9.0   1842.0     3.0  \n",
       "4         2.0  100.0      155.0   -714.0     4.0  \n",
       "...       ...    ...        ...      ...     ...  \n",
       "8181     13.0  100.0       29.0    294.0     9.0  \n",
       "8182     16.0  100.0      185.0   -183.0     5.0  \n",
       "8183     11.0  100.0     1043.0   2026.0     8.0  \n",
       "8184      8.0   95.0      999.0   1159.0     5.0  \n",
       "8185      7.0   33.0    -2572.0 -61781.0     4.0  \n",
       "\n",
       "[8177 rows x 27 columns]"
      ]
     },
     "execution_count": 198,
     "metadata": {},
     "output_type": "execute_result"
    }
   ],
   "source": [
    "F_j_del_null"
   ]
  },
  {
   "cell_type": "code",
   "execution_count": 199,
   "id": "0c3d491c",
   "metadata": {},
   "outputs": [
    {
     "data": {
      "text/html": [
       "<div>\n",
       "<style scoped>\n",
       "    .dataframe tbody tr th:only-of-type {\n",
       "        vertical-align: middle;\n",
       "    }\n",
       "\n",
       "    .dataframe tbody tr th {\n",
       "        vertical-align: top;\n",
       "    }\n",
       "\n",
       "    .dataframe thead th {\n",
       "        text-align: right;\n",
       "    }\n",
       "</style>\n",
       "<table border=\"1\" class=\"dataframe\">\n",
       "  <thead>\n",
       "    <tr style=\"text-align: right;\">\n",
       "      <th></th>\n",
       "      <th>사업자등록번호</th>\n",
       "      <th>종업원수</th>\n",
       "      <th>종업원그룹</th>\n",
       "      <th>성장단계</th>\n",
       "      <th>산업대분류</th>\n",
       "      <th>기업규모</th>\n",
       "      <th>기업형태</th>\n",
       "      <th>CRI등급</th>\n",
       "      <th>자산총계그룹화</th>\n",
       "      <th>실용신안</th>\n",
       "      <th>상표권</th>\n",
       "      <th>디자인권</th>\n",
       "      <th>특허정보</th>\n",
       "      <th>경영진점수</th>\n",
       "      <th>기업문화점수</th>\n",
       "      <th>복지및급여점수</th>\n",
       "      <th>승진기회점수</th>\n",
       "      <th>업무생명균형점수</th>\n",
       "      <th>종합점수</th>\n",
       "      <th>target</th>\n",
       "    </tr>\n",
       "  </thead>\n",
       "  <tbody>\n",
       "    <tr>\n",
       "      <th>0</th>\n",
       "      <td>1050508965</td>\n",
       "      <td>93.868687</td>\n",
       "      <td>1</td>\n",
       "      <td>창업형</td>\n",
       "      <td>96</td>\n",
       "      <td>중소기업</td>\n",
       "      <td>폐업</td>\n",
       "      <td>D</td>\n",
       "      <td>1</td>\n",
       "      <td>1</td>\n",
       "      <td>7</td>\n",
       "      <td>82</td>\n",
       "      <td>7</td>\n",
       "      <td>47.407407</td>\n",
       "      <td>52.486772</td>\n",
       "      <td>65.925926</td>\n",
       "      <td>80.740741</td>\n",
       "      <td>79.365079</td>\n",
       "      <td>50.264550</td>\n",
       "      <td>9.0</td>\n",
       "    </tr>\n",
       "    <tr>\n",
       "      <th>1</th>\n",
       "      <td>1010204456</td>\n",
       "      <td>5.000000</td>\n",
       "      <td>8</td>\n",
       "      <td>정체형</td>\n",
       "      <td>46</td>\n",
       "      <td>중소기업</td>\n",
       "      <td>일반</td>\n",
       "      <td>B3</td>\n",
       "      <td>8</td>\n",
       "      <td>0</td>\n",
       "      <td>0</td>\n",
       "      <td>0</td>\n",
       "      <td>0</td>\n",
       "      <td>44.822270</td>\n",
       "      <td>50.686869</td>\n",
       "      <td>46.259019</td>\n",
       "      <td>48.822300</td>\n",
       "      <td>54.745821</td>\n",
       "      <td>50.537819</td>\n",
       "      <td>5.0</td>\n",
       "    </tr>\n",
       "    <tr>\n",
       "      <th>2</th>\n",
       "      <td>1048107174</td>\n",
       "      <td>12.000000</td>\n",
       "      <td>5</td>\n",
       "      <td>자립성장형</td>\n",
       "      <td>50</td>\n",
       "      <td>중소기업</td>\n",
       "      <td>일반</td>\n",
       "      <td>B2</td>\n",
       "      <td>3</td>\n",
       "      <td>0</td>\n",
       "      <td>0</td>\n",
       "      <td>0</td>\n",
       "      <td>0</td>\n",
       "      <td>38.888889</td>\n",
       "      <td>53.333333</td>\n",
       "      <td>48.888889</td>\n",
       "      <td>44.444444</td>\n",
       "      <td>37.777778</td>\n",
       "      <td>53.333333</td>\n",
       "      <td>4.0</td>\n",
       "    </tr>\n",
       "    <tr>\n",
       "      <th>3</th>\n",
       "      <td>1018102731</td>\n",
       "      <td>18.000000</td>\n",
       "      <td>3</td>\n",
       "      <td>자립성장형</td>\n",
       "      <td>73</td>\n",
       "      <td>중소기업</td>\n",
       "      <td>일반</td>\n",
       "      <td>C2</td>\n",
       "      <td>6</td>\n",
       "      <td>0</td>\n",
       "      <td>3</td>\n",
       "      <td>0</td>\n",
       "      <td>0</td>\n",
       "      <td>40.000000</td>\n",
       "      <td>66.666667</td>\n",
       "      <td>40.000000</td>\n",
       "      <td>64.444444</td>\n",
       "      <td>37.777778</td>\n",
       "      <td>51.111111</td>\n",
       "      <td>7.0</td>\n",
       "    </tr>\n",
       "    <tr>\n",
       "      <th>4</th>\n",
       "      <td>1018606595</td>\n",
       "      <td>3.000000</td>\n",
       "      <td>9</td>\n",
       "      <td>정체형</td>\n",
       "      <td>68</td>\n",
       "      <td>중소기업</td>\n",
       "      <td>외감</td>\n",
       "      <td>C3</td>\n",
       "      <td>1</td>\n",
       "      <td>0</td>\n",
       "      <td>0</td>\n",
       "      <td>0</td>\n",
       "      <td>0</td>\n",
       "      <td>47.361111</td>\n",
       "      <td>52.123016</td>\n",
       "      <td>47.678571</td>\n",
       "      <td>51.071429</td>\n",
       "      <td>52.301587</td>\n",
       "      <td>52.361111</td>\n",
       "      <td>8.0</td>\n",
       "    </tr>\n",
       "    <tr>\n",
       "      <th>...</th>\n",
       "      <td>...</td>\n",
       "      <td>...</td>\n",
       "      <td>...</td>\n",
       "      <td>...</td>\n",
       "      <td>...</td>\n",
       "      <td>...</td>\n",
       "      <td>...</td>\n",
       "      <td>...</td>\n",
       "      <td>...</td>\n",
       "      <td>...</td>\n",
       "      <td>...</td>\n",
       "      <td>...</td>\n",
       "      <td>...</td>\n",
       "      <td>...</td>\n",
       "      <td>...</td>\n",
       "      <td>...</td>\n",
       "      <td>...</td>\n",
       "      <td>...</td>\n",
       "      <td>...</td>\n",
       "      <td>...</td>\n",
       "    </tr>\n",
       "    <tr>\n",
       "      <th>9832</th>\n",
       "      <td>2148708573</td>\n",
       "      <td>150.000000</td>\n",
       "      <td>1</td>\n",
       "      <td>창업형</td>\n",
       "      <td>58</td>\n",
       "      <td>중소기업</td>\n",
       "      <td>외감</td>\n",
       "      <td>A3</td>\n",
       "      <td>1</td>\n",
       "      <td>0</td>\n",
       "      <td>8</td>\n",
       "      <td>0</td>\n",
       "      <td>1</td>\n",
       "      <td>51.111111</td>\n",
       "      <td>62.222222</td>\n",
       "      <td>44.444444</td>\n",
       "      <td>64.444444</td>\n",
       "      <td>62.222222</td>\n",
       "      <td>62.222222</td>\n",
       "      <td>2.0</td>\n",
       "    </tr>\n",
       "    <tr>\n",
       "      <th>9833</th>\n",
       "      <td>4208704866</td>\n",
       "      <td>7.000000</td>\n",
       "      <td>7</td>\n",
       "      <td>창업형</td>\n",
       "      <td>41</td>\n",
       "      <td>중소기업</td>\n",
       "      <td>일반</td>\n",
       "      <td>A3</td>\n",
       "      <td>5</td>\n",
       "      <td>0</td>\n",
       "      <td>3</td>\n",
       "      <td>0</td>\n",
       "      <td>0</td>\n",
       "      <td>48.432668</td>\n",
       "      <td>51.905615</td>\n",
       "      <td>50.209251</td>\n",
       "      <td>53.091398</td>\n",
       "      <td>51.206691</td>\n",
       "      <td>53.945639</td>\n",
       "      <td>2.0</td>\n",
       "    </tr>\n",
       "    <tr>\n",
       "      <th>9834</th>\n",
       "      <td>4618107952</td>\n",
       "      <td>3.000000</td>\n",
       "      <td>9</td>\n",
       "      <td>창업형</td>\n",
       "      <td>41</td>\n",
       "      <td>중소기업</td>\n",
       "      <td>일반</td>\n",
       "      <td>C2</td>\n",
       "      <td>4</td>\n",
       "      <td>0</td>\n",
       "      <td>0</td>\n",
       "      <td>0</td>\n",
       "      <td>0</td>\n",
       "      <td>48.432668</td>\n",
       "      <td>51.905615</td>\n",
       "      <td>50.209251</td>\n",
       "      <td>53.091398</td>\n",
       "      <td>51.206691</td>\n",
       "      <td>53.945639</td>\n",
       "      <td>7.0</td>\n",
       "    </tr>\n",
       "    <tr>\n",
       "      <th>9835</th>\n",
       "      <td>2208107776</td>\n",
       "      <td>21.000000</td>\n",
       "      <td>3</td>\n",
       "      <td>창업형</td>\n",
       "      <td>63</td>\n",
       "      <td>중소기업</td>\n",
       "      <td>외감</td>\n",
       "      <td>C2</td>\n",
       "      <td>2</td>\n",
       "      <td>0</td>\n",
       "      <td>9</td>\n",
       "      <td>0</td>\n",
       "      <td>2</td>\n",
       "      <td>51.517857</td>\n",
       "      <td>56.812713</td>\n",
       "      <td>52.792517</td>\n",
       "      <td>57.021046</td>\n",
       "      <td>62.817744</td>\n",
       "      <td>57.184524</td>\n",
       "      <td>7.0</td>\n",
       "    </tr>\n",
       "    <tr>\n",
       "      <th>9836</th>\n",
       "      <td>4638108687</td>\n",
       "      <td>5.000000</td>\n",
       "      <td>8</td>\n",
       "      <td>창업형</td>\n",
       "      <td>41</td>\n",
       "      <td>중소기업</td>\n",
       "      <td>외감</td>\n",
       "      <td>B3</td>\n",
       "      <td>5</td>\n",
       "      <td>0</td>\n",
       "      <td>0</td>\n",
       "      <td>0</td>\n",
       "      <td>0</td>\n",
       "      <td>48.432668</td>\n",
       "      <td>51.905615</td>\n",
       "      <td>50.209251</td>\n",
       "      <td>53.091398</td>\n",
       "      <td>51.206691</td>\n",
       "      <td>53.945639</td>\n",
       "      <td>5.0</td>\n",
       "    </tr>\n",
       "  </tbody>\n",
       "</table>\n",
       "<p>9837 rows × 20 columns</p>\n",
       "</div>"
      ],
      "text/plain": [
       "         사업자등록번호        종업원수  종업원그룹   성장단계  산업대분류  기업규모 기업형태 CRI등급  자산총계그룹화  \\\n",
       "0     1050508965   93.868687      1    창업형     96  중소기업   폐업     D        1   \n",
       "1     1010204456    5.000000      8    정체형     46  중소기업   일반    B3        8   \n",
       "2     1048107174   12.000000      5  자립성장형     50  중소기업   일반    B2        3   \n",
       "3     1018102731   18.000000      3  자립성장형     73  중소기업   일반    C2        6   \n",
       "4     1018606595    3.000000      9    정체형     68  중소기업   외감    C3        1   \n",
       "...          ...         ...    ...    ...    ...   ...  ...   ...      ...   \n",
       "9832  2148708573  150.000000      1    창업형     58  중소기업   외감    A3        1   \n",
       "9833  4208704866    7.000000      7    창업형     41  중소기업   일반    A3        5   \n",
       "9834  4618107952    3.000000      9    창업형     41  중소기업   일반    C2        4   \n",
       "9835  2208107776   21.000000      3    창업형     63  중소기업   외감    C2        2   \n",
       "9836  4638108687    5.000000      8    창업형     41  중소기업   외감    B3        5   \n",
       "\n",
       "      실용신안  상표권  디자인권  특허정보      경영진점수     기업문화점수    복지및급여점수     승진기회점수  \\\n",
       "0        1    7    82     7  47.407407  52.486772  65.925926  80.740741   \n",
       "1        0    0     0     0  44.822270  50.686869  46.259019  48.822300   \n",
       "2        0    0     0     0  38.888889  53.333333  48.888889  44.444444   \n",
       "3        0    3     0     0  40.000000  66.666667  40.000000  64.444444   \n",
       "4        0    0     0     0  47.361111  52.123016  47.678571  51.071429   \n",
       "...    ...  ...   ...   ...        ...        ...        ...        ...   \n",
       "9832     0    8     0     1  51.111111  62.222222  44.444444  64.444444   \n",
       "9833     0    3     0     0  48.432668  51.905615  50.209251  53.091398   \n",
       "9834     0    0     0     0  48.432668  51.905615  50.209251  53.091398   \n",
       "9835     0    9     0     2  51.517857  56.812713  52.792517  57.021046   \n",
       "9836     0    0     0     0  48.432668  51.905615  50.209251  53.091398   \n",
       "\n",
       "       업무생명균형점수       종합점수  target  \n",
       "0     79.365079  50.264550     9.0  \n",
       "1     54.745821  50.537819     5.0  \n",
       "2     37.777778  53.333333     4.0  \n",
       "3     37.777778  51.111111     7.0  \n",
       "4     52.301587  52.361111     8.0  \n",
       "...         ...        ...     ...  \n",
       "9832  62.222222  62.222222     2.0  \n",
       "9833  51.206691  53.945639     2.0  \n",
       "9834  51.206691  53.945639     7.0  \n",
       "9835  62.817744  57.184524     7.0  \n",
       "9836  51.206691  53.945639     5.0  \n",
       "\n",
       "[9837 rows x 20 columns]"
      ]
     },
     "execution_count": 199,
     "metadata": {},
     "output_type": "execute_result"
    }
   ],
   "source": [
    "bi = pd.read_csv(\"비재무요소.csv\",encoding='CP949',index_col=0)\n",
    "bi"
   ]
  },
  {
   "cell_type": "code",
   "execution_count": 200,
   "id": "bc90e4af",
   "metadata": {},
   "outputs": [
    {
     "data": {
      "text/plain": [
       "Index(['사업자등록번호', '종업원수', '종업원그룹', '업력', '성장단계', '산업대분류', '기업규모', '기업형태',\n",
       "       'CRI등급', '매출액', '영업이익', '자본총계금액', '부채총계금액', '자산총계금액', '자산총계그룹화', '유동자산',\n",
       "       '유동부채', '당좌자산', '재고자산', '유동비율', '부채비율', '자기자본비율', '매출영업이익률', '당좌비율',\n",
       "       '순운전자본자본비율', '총자산회전율', 'target'],\n",
       "      dtype='object')"
      ]
     },
     "execution_count": 200,
     "metadata": {},
     "output_type": "execute_result"
    }
   ],
   "source": [
    "F_j_del_null.columns"
   ]
  },
  {
   "cell_type": "code",
   "execution_count": 201,
   "id": "7bb7d025",
   "metadata": {},
   "outputs": [
    {
     "data": {
      "text/plain": [
       "Index(['사업자등록번호', '종업원수', '종업원그룹', '성장단계', '산업대분류', '기업규모', '기업형태', 'CRI등급',\n",
       "       '자산총계그룹화', '실용신안', '상표권', '디자인권', '특허정보', '경영진점수', '기업문화점수', '복지및급여점수',\n",
       "       '승진기회점수', '업무생명균형점수', '종합점수', 'target'],\n",
       "      dtype='object')"
      ]
     },
     "execution_count": 201,
     "metadata": {},
     "output_type": "execute_result"
    }
   ],
   "source": [
    "bi.columns"
   ]
  },
  {
   "cell_type": "code",
   "execution_count": 202,
   "id": "737a3921",
   "metadata": {},
   "outputs": [
    {
     "name": "stdout",
     "output_type": "stream",
     "text": [
      "<class 'pandas.core.frame.DataFrame'>\n",
      "Int64Index: 9837 entries, 0 to 9836\n",
      "Data columns (total 27 columns):\n",
      " #   Column     Non-Null Count  Dtype  \n",
      "---  ------     --------------  -----  \n",
      " 0   사업자등록번호    9837 non-null   int64  \n",
      " 1   종업원수       9837 non-null   float64\n",
      " 2   종업원그룹      9837 non-null   int64  \n",
      " 3   성장단계       9837 non-null   object \n",
      " 4   산업대분류      9837 non-null   int64  \n",
      " 5   기업규모       9837 non-null   object \n",
      " 6   기업형태       9837 non-null   object \n",
      " 7   CRI등급      9837 non-null   object \n",
      " 8   자산총계그룹화    9837 non-null   int64  \n",
      " 9   실용신안       9837 non-null   int64  \n",
      " 10  상표권        9837 non-null   int64  \n",
      " 11  디자인권       9837 non-null   int64  \n",
      " 12  특허정보       9837 non-null   int64  \n",
      " 13  경영진점수      9823 non-null   float64\n",
      " 14  기업문화점수     9823 non-null   float64\n",
      " 15  복지및급여점수    9823 non-null   float64\n",
      " 16  승진기회점수     9823 non-null   float64\n",
      " 17  업무생명균형점수   9823 non-null   float64\n",
      " 18  종합점수       9823 non-null   float64\n",
      " 19  target     9837 non-null   float64\n",
      " 20  유동비율       8177 non-null   float64\n",
      " 21  부채비율       8177 non-null   float64\n",
      " 22  자기자본비율     8177 non-null   float64\n",
      " 23  매출영업이익률    8177 non-null   float64\n",
      " 24  당좌비율       8177 non-null   float64\n",
      " 25  순운전자본자본비율  8177 non-null   float64\n",
      " 26  총자산회전율     8177 non-null   float64\n",
      "dtypes: float64(15), int64(8), object(4)\n",
      "memory usage: 2.1+ MB\n"
     ]
    }
   ],
   "source": [
    "jm_bjm = pd.merge(bi,F_j_del_null[['사업자등록번호','유동비율', '부채비율', '자기자본비율', '매출영업이익률', '당좌비율',\n",
    "       '순운전자본자본비율', '총자산회전율']],on='사업자등록번호',how='left')\n",
    "jm_bjm.info()"
   ]
  },
  {
   "cell_type": "code",
   "execution_count": 203,
   "id": "3d624d75-df4b-43de-8e5b-ced9ec882566",
   "metadata": {},
   "outputs": [
    {
     "data": {
      "text/plain": [
       "Index(['사업자등록번호', '종업원수', '종업원그룹', '성장단계', '산업대분류', '기업규모', '기업형태', 'CRI등급',\n",
       "       '자산총계그룹화', '실용신안', '상표권', '디자인권', '특허정보', '경영진점수', '기업문화점수', '복지및급여점수',\n",
       "       '승진기회점수', '업무생명균형점수', '종합점수', 'target', '유동비율', '부채비율', '자기자본비율',\n",
       "       '매출영업이익률', '당좌비율', '순운전자본자본비율', '총자산회전율'],\n",
       "      dtype='object')"
      ]
     },
     "execution_count": 203,
     "metadata": {},
     "output_type": "execute_result"
    }
   ],
   "source": [
    "jm_bjm.columns"
   ]
  },
  {
   "cell_type": "code",
   "execution_count": 204,
   "id": "2fb7c931",
   "metadata": {},
   "outputs": [],
   "source": [
    "jm_bjm.loc[jm_bjm.CRI등급 == 'A1','target'] = 0\n",
    "jm_bjm.loc[jm_bjm.CRI등급 == 'A2','target'] = 1\n",
    "jm_bjm.loc[jm_bjm.CRI등급 == 'A3','target'] = 2\n",
    "jm_bjm.loc[jm_bjm.CRI등급 == 'B1','target'] = 3\n",
    "jm_bjm.loc[jm_bjm.CRI등급 == 'B2','target'] = 4\n",
    "jm_bjm.loc[jm_bjm.CRI등급 == 'B3','target'] = 5\n",
    "jm_bjm.loc[jm_bjm.CRI등급 == 'C1','target'] = 6\n",
    "jm_bjm.loc[jm_bjm.CRI등급 == 'C2','target'] = 7\n",
    "jm_bjm.loc[jm_bjm.CRI등급 == 'C3','target'] = 8\n",
    "jm_bjm.loc[jm_bjm.CRI등급 == 'D','target'] = 9\n",
    "X_all = jm_bjm[['사업자등록번호', '종업원수', '종업원그룹', '성장단계', '산업대분류', '기업규모', '자산총계그룹화', \n",
    "                '실용신안', '상표권', '디자인권', '특허정보', '경영진점수', '기업문화점수', '복지및급여점수',\n",
    "       '승진기회점수', '업무생명균형점수', '종합점수', '유동비율', '부채비율', '자기자본비율',\n",
    "       '매출영업이익률', '당좌비율', '순운전자본자본비율', '총자산회전율']]\n",
    "Y_all = jm_bjm['target']\n",
    "\n",
    "X_train, X_test, Y_train, Y_test = train_test_split(X_all,Y_all, random_state=1234)"
   ]
  },
  {
   "cell_type": "code",
   "execution_count": 205,
   "id": "72e6c6d0",
   "metadata": {},
   "outputs": [
    {
     "name": "stdout",
     "output_type": "stream",
     "text": [
      "<class 'pandas.core.frame.DataFrame'>\n",
      "Int64Index: 9837 entries, 0 to 9836\n",
      "Data columns (total 24 columns):\n",
      " #   Column     Non-Null Count  Dtype  \n",
      "---  ------     --------------  -----  \n",
      " 0   사업자등록번호    9837 non-null   int64  \n",
      " 1   종업원수       9837 non-null   float64\n",
      " 2   종업원그룹      9837 non-null   int64  \n",
      " 3   성장단계       9837 non-null   object \n",
      " 4   산업대분류      9837 non-null   int64  \n",
      " 5   기업규모       9837 non-null   object \n",
      " 6   자산총계그룹화    9837 non-null   int64  \n",
      " 7   실용신안       9837 non-null   int64  \n",
      " 8   상표권        9837 non-null   int64  \n",
      " 9   디자인권       9837 non-null   int64  \n",
      " 10  특허정보       9837 non-null   int64  \n",
      " 11  경영진점수      9823 non-null   float64\n",
      " 12  기업문화점수     9823 non-null   float64\n",
      " 13  복지및급여점수    9823 non-null   float64\n",
      " 14  승진기회점수     9823 non-null   float64\n",
      " 15  업무생명균형점수   9823 non-null   float64\n",
      " 16  종합점수       9823 non-null   float64\n",
      " 17  유동비율       8177 non-null   float64\n",
      " 18  부채비율       8177 non-null   float64\n",
      " 19  자기자본비율     8177 non-null   float64\n",
      " 20  매출영업이익률    8177 non-null   float64\n",
      " 21  당좌비율       8177 non-null   float64\n",
      " 22  순운전자본자본비율  8177 non-null   float64\n",
      " 23  총자산회전율     8177 non-null   float64\n",
      "dtypes: float64(14), int64(8), object(2)\n",
      "memory usage: 1.9+ MB\n"
     ]
    }
   ],
   "source": [
    "X_all.info()"
   ]
  },
  {
   "cell_type": "code",
   "execution_count": 206,
   "id": "f9ca5e7c",
   "metadata": {},
   "outputs": [],
   "source": [
    "def pipe_model_func(model):\n",
    "    numeric_pipe = make_pipeline( SimpleImputer(strategy='mean'),MinMaxScaler())\n",
    "    category_pipe = make_pipeline( SimpleImputer(strategy='most_frequent'), \n",
    "    OneHotEncoder(handle_unknown='ignore'))\n",
    "    numeric_list = X_all.describe().columns.tolist()\n",
    "    category_list = X_all.describe(include='object').columns.tolist()\n",
    "    preprocessing_pipe = make_column_transformer((numeric_pipe, numeric_list),\n",
    "                                           (category_pipe, category_list))\n",
    "    model_pipe=make_pipeline(preprocessing_pipe,SMOTE(),model)\n",
    "    return model_pipe\n",
    "numeric_list = X_all.describe().columns.tolist()"
   ]
  },
  {
   "cell_type": "code",
   "execution_count": 207,
   "id": "40ab3826",
   "metadata": {},
   "outputs": [],
   "source": [
    "def evaluation_func(best_model):\n",
    "    Y_train_pred = best_model.predict(X_train)\n",
    "    Y_test_pred = best_model.predict(X_test)\n",
    "    print('학습능력평가')\n",
    "    print(classification_report(Y_train,Y_train_pred))\n",
    "    print('일반화능력평가')\n",
    "    print(classification_report(Y_test, Y_test_pred))"
   ]
  },
  {
   "cell_type": "markdown",
   "id": "f401a610-34db-4d80-92b3-403fdb4a56c3",
   "metadata": {},
   "source": [
    "- ### **의사결정트리**"
   ]
  },
  {
   "cell_type": "code",
   "execution_count": 208,
   "id": "5a947206",
   "metadata": {},
   "outputs": [
    {
     "name": "stdout",
     "output_type": "stream",
     "text": [
      "학습능력평가\n",
      "              precision    recall  f1-score   support\n",
      "\n",
      "         0.0       0.59      0.90      0.71       148\n",
      "         1.0       0.67      0.81      0.73       359\n",
      "         2.0       0.60      0.72      0.66       721\n",
      "         3.0       0.60      0.67      0.63       878\n",
      "         4.0       0.70      0.65      0.68      1315\n",
      "         5.0       0.72      0.69      0.71      1193\n",
      "         6.0       0.68      0.68      0.68       638\n",
      "         7.0       0.83      0.70      0.76      1191\n",
      "         8.0       0.81      0.73      0.76       832\n",
      "         9.0       0.93      0.90      0.92       102\n",
      "\n",
      "    accuracy                           0.70      7377\n",
      "   macro avg       0.71      0.75      0.72      7377\n",
      "weighted avg       0.71      0.70      0.70      7377\n",
      "\n",
      "일반화능력평가\n",
      "              precision    recall  f1-score   support\n",
      "\n",
      "         0.0       0.11      0.18      0.14        55\n",
      "         1.0       0.18      0.27      0.22       118\n",
      "         2.0       0.23      0.23      0.23       265\n",
      "         3.0       0.21      0.22      0.22       329\n",
      "         4.0       0.27      0.25      0.26       423\n",
      "         5.0       0.29      0.28      0.29       400\n",
      "         6.0       0.16      0.17      0.17       211\n",
      "         7.0       0.47      0.35      0.40       384\n",
      "         8.0       0.34      0.33      0.34       247\n",
      "         9.0       0.13      0.32      0.19        28\n",
      "\n",
      "    accuracy                           0.27      2460\n",
      "   macro avg       0.24      0.26      0.25      2460\n",
      "weighted avg       0.28      0.27      0.27      2460\n",
      "\n"
     ]
    }
   ],
   "source": [
    "model_decision = pipe_model_func(DecisionTreeClassifier())\n",
    "hyperparameter_dict = {'decisiontreeclassifier__max_depth':range(15,30)}\n",
    "                      \n",
    "grid_model = GridSearchCV(model_decision,cv=5,param_grid = hyperparameter_dict,\n",
    "                         scoring='accuracy',n_jobs=-1)\n",
    "grid_model.fit(X_train,Y_train)\n",
    "#grid_model.get_params().keys()\n",
    "best_tree = grid_model.best_estimator_\n",
    "Y_train_pred = best_tree.predict(X_train)\n",
    "Y_test_pred = best_tree.predict(X_test)\n",
    "print('학습능력평가')\n",
    "print(classification_report(Y_train,Y_train_pred))\n",
    "print('일반화능력평가')\n",
    "print(classification_report(Y_test, Y_test_pred))"
   ]
  },
  {
   "cell_type": "code",
   "execution_count": 209,
   "id": "480f9d98-dfeb-498a-bae0-e72ac3786ed0",
   "metadata": {},
   "outputs": [
    {
     "name": "stdout",
     "output_type": "stream",
     "text": [
      "Pipeline(steps=[('columntransformer',\n",
      "                 ColumnTransformer(transformers=[('pipeline-1',\n",
      "                                                  Pipeline(steps=[('simpleimputer',\n",
      "                                                                   SimpleImputer()),\n",
      "                                                                  ('minmaxscaler',\n",
      "                                                                   MinMaxScaler())]),\n",
      "                                                  ['사업자등록번호', '종업원수', '종업원그룹',\n",
      "                                                   '산업대분류', '자산총계그룹화', '실용신안',\n",
      "                                                   '상표권', '디자인권', '특허정보',\n",
      "                                                   '경영진점수', '기업문화점수', '복지및급여점수',\n",
      "                                                   '승진기회점수', '업무생명균형점수', '종합점수',\n",
      "                                                   '유동비율', '부채비율', '자기자본비율',\n",
      "                                                   '매출영업이익률', '당좌비율',\n",
      "                                                   '순운전자본자본비율', '총자산회전율']),\n",
      "                                                 ('pipeline-2',\n",
      "                                                  Pipeline(steps=[('simpleimputer',\n",
      "                                                                   SimpleImputer(strategy='most_frequent')),\n",
      "                                                                  ('onehotencoder',\n",
      "                                                                   OneHotEncoder(handle_unknown='ignore'))]),\n",
      "                                                  ['성장단계', '기업규모'])])),\n",
      "                ('smote', SMOTE()),\n",
      "                ('decisiontreeclassifier',\n",
      "                 DecisionTreeClassifier(max_depth=15))])\n"
     ]
    }
   ],
   "source": [
    "print(best_tree)"
   ]
  },
  {
   "cell_type": "markdown",
   "id": "290132ed-4d5a-484c-87b8-7f4e5535464f",
   "metadata": {},
   "source": [
    "- ### **랜덤포레스트**"
   ]
  },
  {
   "cell_type": "code",
   "execution_count": 210,
   "id": "c93640b3-3cca-41dd-a376-c6c1a745e8bd",
   "metadata": {},
   "outputs": [
    {
     "name": "stdout",
     "output_type": "stream",
     "text": [
      "학습능력평가\n",
      "              precision    recall  f1-score   support\n",
      "\n",
      "         0.0       1.00      1.00      1.00       148\n",
      "         1.0       1.00      1.00      1.00       359\n",
      "         2.0       1.00      1.00      1.00       721\n",
      "         3.0       1.00      1.00      1.00       878\n",
      "         4.0       1.00      1.00      1.00      1315\n",
      "         5.0       1.00      1.00      1.00      1193\n",
      "         6.0       1.00      1.00      1.00       638\n",
      "         7.0       1.00      1.00      1.00      1191\n",
      "         8.0       1.00      1.00      1.00       832\n",
      "         9.0       1.00      1.00      1.00       102\n",
      "\n",
      "    accuracy                           1.00      7377\n",
      "   macro avg       1.00      1.00      1.00      7377\n",
      "weighted avg       1.00      1.00      1.00      7377\n",
      "\n",
      "일반화능력평가\n",
      "              precision    recall  f1-score   support\n",
      "\n",
      "         0.0       0.15      0.20      0.17        55\n",
      "         1.0       0.18      0.28      0.22       118\n",
      "         2.0       0.25      0.23      0.24       265\n",
      "         3.0       0.28      0.22      0.25       329\n",
      "         4.0       0.32      0.34      0.33       423\n",
      "         5.0       0.32      0.40      0.35       400\n",
      "         6.0       0.20      0.16      0.18       211\n",
      "         7.0       0.51      0.39      0.44       384\n",
      "         8.0       0.44      0.44      0.44       247\n",
      "         9.0       0.28      0.25      0.26        28\n",
      "\n",
      "    accuracy                           0.32      2460\n",
      "   macro avg       0.29      0.29      0.29      2460\n",
      "weighted avg       0.33      0.32      0.32      2460\n",
      "\n"
     ]
    }
   ],
   "source": [
    "model_random = pipe_model_func(RandomForestClassifier())\n",
    "#hyperparameter_dict = {'randomforestclassifier__max_depth' : range(10,20),\n",
    " #                      'randomforestclassifier__max_features': [2,3,4,5],\n",
    " #                      'randomforestclassifier__min_samples_split': [2,8,16]}\n",
    "#grid_model = GridSearchCV(model_random, param_grid = hyperparameter_dict,cv=5,\n",
    "  #                        scoring='accuracy',n_jobs=-1)\n",
    "best_randomforest = model_random.fit(X_train,Y_train)\n",
    "#best_randomforest = grid_model.best_estimator_\n",
    "evaluation_func(best_randomforest)"
   ]
  },
  {
   "cell_type": "code",
   "execution_count": 211,
   "id": "b6c900f9",
   "metadata": {},
   "outputs": [
    {
     "name": "stdout",
     "output_type": "stream",
     "text": [
      "학습능력평가\n",
      "              precision    recall  f1-score   support\n",
      "\n",
      "         0.0       0.99      1.00      0.99       148\n",
      "         1.0       0.99      1.00      0.99       359\n",
      "         2.0       0.99      0.99      0.99       721\n",
      "         3.0       0.98      0.99      0.98       878\n",
      "         4.0       0.98      0.99      0.99      1315\n",
      "         5.0       0.99      0.98      0.99      1193\n",
      "         6.0       1.00      0.98      0.99       638\n",
      "         7.0       0.99      0.98      0.98      1191\n",
      "         8.0       1.00      0.99      0.99       832\n",
      "         9.0       1.00      1.00      1.00       102\n",
      "\n",
      "    accuracy                           0.99      7377\n",
      "   macro avg       0.99      0.99      0.99      7377\n",
      "weighted avg       0.99      0.99      0.99      7377\n",
      "\n",
      "일반화능력평가\n",
      "              precision    recall  f1-score   support\n",
      "\n",
      "         0.0       0.15      0.24      0.19        55\n",
      "         1.0       0.19      0.32      0.24       118\n",
      "         2.0       0.28      0.24      0.26       265\n",
      "         3.0       0.25      0.22      0.24       329\n",
      "         4.0       0.34      0.35      0.35       423\n",
      "         5.0       0.31      0.39      0.35       400\n",
      "         6.0       0.24      0.19      0.21       211\n",
      "         7.0       0.53      0.42      0.47       384\n",
      "         8.0       0.46      0.45      0.45       247\n",
      "         9.0       0.28      0.32      0.30        28\n",
      "\n",
      "    accuracy                           0.33      2460\n",
      "   macro avg       0.31      0.31      0.31      2460\n",
      "weighted avg       0.34      0.33      0.33      2460\n",
      "\n"
     ]
    }
   ],
   "source": [
    "model_random = pipe_model_func(RandomForestClassifier())\n",
    "hyperparameter_dict = {'randomforestclassifier__max_depth' : range(10,25),\n",
    "                      'randomforestclassifier__max_features': [5,6,7],\n",
    "                     'randomforestclassifier__min_samples_split': [2,8,16]}\n",
    "grid_model = GridSearchCV(model_random, param_grid = hyperparameter_dict,cv=5,\n",
    "                          scoring='accuracy',n_jobs=-1)\n",
    "grid_model.fit(X_train,Y_train)\n",
    "best_randomforest = grid_model.best_estimator_\n",
    "Y_train_pred = best_randomforest.predict(X_train)\n",
    "Y_test_pred = best_randomforest.predict(X_test)\n",
    "print('학습능력평가')\n",
    "print(classification_report(Y_train,Y_train_pred))\n",
    "print('일반화능력평가')\n",
    "print(classification_report(Y_test, Y_test_pred))"
   ]
  },
  {
   "cell_type": "code",
   "execution_count": 212,
   "id": "f4cd07ed",
   "metadata": {},
   "outputs": [
    {
     "name": "stdout",
     "output_type": "stream",
     "text": [
      "학습능력평가\n",
      "              precision    recall  f1-score   support\n",
      "\n",
      "         0.0       0.99      0.99      0.99       148\n",
      "         1.0       0.96      0.97      0.96       359\n",
      "         2.0       0.94      0.93      0.94       721\n",
      "         3.0       0.93      0.90      0.92       878\n",
      "         4.0       0.88      0.94      0.91      1315\n",
      "         5.0       0.89      0.93      0.91      1193\n",
      "         6.0       0.97      0.87      0.92       638\n",
      "         7.0       0.93      0.91      0.92      1191\n",
      "         8.0       0.96      0.93      0.94       832\n",
      "         9.0       1.00      1.00      1.00       102\n",
      "\n",
      "    accuracy                           0.92      7377\n",
      "   macro avg       0.95      0.94      0.94      7377\n",
      "weighted avg       0.93      0.92      0.92      7377\n",
      "\n",
      "일반화능력평가\n",
      "              precision    recall  f1-score   support\n",
      "\n",
      "         0.0       0.18      0.13      0.15        55\n",
      "         1.0       0.21      0.25      0.22       118\n",
      "         2.0       0.29      0.23      0.26       265\n",
      "         3.0       0.29      0.25      0.27       329\n",
      "         4.0       0.32      0.39      0.35       423\n",
      "         5.0       0.34      0.40      0.37       400\n",
      "         6.0       0.22      0.18      0.20       211\n",
      "         7.0       0.46      0.47      0.46       384\n",
      "         8.0       0.45      0.41      0.43       247\n",
      "         9.0       0.35      0.29      0.31        28\n",
      "\n",
      "    accuracy                           0.34      2460\n",
      "   macro avg       0.31      0.30      0.30      2460\n",
      "weighted avg       0.34      0.34      0.33      2460\n",
      "\n"
     ]
    }
   ],
   "source": [
    "from xgboost import XGBClassifier\n",
    "model_xg = pipe_model_func(XGBClassifier())\n",
    "best_XG = model_xg.fit(X_train,Y_train)\n",
    "evaluation_func(best_XG)"
   ]
  },
  {
   "cell_type": "code",
   "execution_count": 213,
   "id": "16fcb8bd",
   "metadata": {},
   "outputs": [
    {
     "data": {
      "text/plain": [
       "array([0.01998331, 0.04428617, 0.03166869, 0.02889113, 0.0427816 ,\n",
       "       0.02755639, 0.02044207, 0.0205298 , 0.023055  , 0.0230865 ,\n",
       "       0.02090197, 0.02041567, 0.01862194, 0.02080123, 0.02130624,\n",
       "       0.0204932 , 0.02530403, 0.06914259, 0.03002737, 0.02250774,\n",
       "       0.0208839 , 0.01997061, 0.0201735 , 0.02105309, 0.03884525,\n",
       "       0.03449166, 0.02182725, 0.12238029, 0.02122515, 0.05464846,\n",
       "       0.03100867, 0.04168947], dtype=float32)"
      ]
     },
     "execution_count": 213,
     "metadata": {},
     "output_type": "execute_result"
    }
   ],
   "source": [
    "best_XG['xgbclassifier'].feature_importances_"
   ]
  },
  {
   "cell_type": "code",
   "execution_count": 214,
   "id": "94932543",
   "metadata": {},
   "outputs": [
    {
     "data": {
      "text/plain": [
       "['x0_성숙형',\n",
       " 'x0_성장보육형',\n",
       " 'x0_자립성장형',\n",
       " 'x0_정체형',\n",
       " 'x0_창업형',\n",
       " 'x1_기타(비영리법인)',\n",
       " 'x1_대기업',\n",
       " 'x1_중견기업',\n",
       " 'x1_중견기업(하)',\n",
       " 'x1_중소기업']"
      ]
     },
     "execution_count": 214,
     "metadata": {},
     "output_type": "execute_result"
    }
   ],
   "source": [
    "encoder_list = best_XG.named_steps['columntransformer'].transformers_[1][1].named_steps['onehotencoder'].get_feature_names_out().tolist()\n",
    "encoder_list"
   ]
  },
  {
   "cell_type": "code",
   "execution_count": 215,
   "id": "531232ea",
   "metadata": {},
   "outputs": [],
   "source": [
    "df_importance = pd.DataFrame()\n",
    "df_importance['Feature'] = pd.Series(numeric_list + encoder_list)\n",
    "df_importance['Importance'] = best_XG['xgbclassifier'].feature_importances_"
   ]
  },
  {
   "cell_type": "code",
   "execution_count": 216,
   "id": "654eb57b",
   "metadata": {},
   "outputs": [],
   "source": [
    "df_importance_key = df_importance.sort_values(by='Importance',ascending=False).head(10)"
   ]
  },
  {
   "cell_type": "code",
   "execution_count": 217,
   "id": "a37de921",
   "metadata": {},
   "outputs": [
    {
     "data": {
      "text/html": [
       "<div>\n",
       "<style scoped>\n",
       "    .dataframe tbody tr th:only-of-type {\n",
       "        vertical-align: middle;\n",
       "    }\n",
       "\n",
       "    .dataframe tbody tr th {\n",
       "        vertical-align: top;\n",
       "    }\n",
       "\n",
       "    .dataframe thead th {\n",
       "        text-align: right;\n",
       "    }\n",
       "</style>\n",
       "<table border=\"1\" class=\"dataframe\">\n",
       "  <thead>\n",
       "    <tr style=\"text-align: right;\">\n",
       "      <th></th>\n",
       "      <th>Feature</th>\n",
       "      <th>Importance</th>\n",
       "    </tr>\n",
       "  </thead>\n",
       "  <tbody>\n",
       "    <tr>\n",
       "      <th>27</th>\n",
       "      <td>x1_기타(비영리법인)</td>\n",
       "      <td>0.122380</td>\n",
       "    </tr>\n",
       "    <tr>\n",
       "      <th>17</th>\n",
       "      <td>자기자본비율</td>\n",
       "      <td>0.069143</td>\n",
       "    </tr>\n",
       "    <tr>\n",
       "      <th>29</th>\n",
       "      <td>x1_중견기업</td>\n",
       "      <td>0.054648</td>\n",
       "    </tr>\n",
       "    <tr>\n",
       "      <th>1</th>\n",
       "      <td>종업원수</td>\n",
       "      <td>0.044286</td>\n",
       "    </tr>\n",
       "    <tr>\n",
       "      <th>4</th>\n",
       "      <td>자산총계그룹화</td>\n",
       "      <td>0.042782</td>\n",
       "    </tr>\n",
       "    <tr>\n",
       "      <th>31</th>\n",
       "      <td>x1_중소기업</td>\n",
       "      <td>0.041689</td>\n",
       "    </tr>\n",
       "    <tr>\n",
       "      <th>24</th>\n",
       "      <td>x0_자립성장형</td>\n",
       "      <td>0.038845</td>\n",
       "    </tr>\n",
       "    <tr>\n",
       "      <th>25</th>\n",
       "      <td>x0_정체형</td>\n",
       "      <td>0.034492</td>\n",
       "    </tr>\n",
       "    <tr>\n",
       "      <th>2</th>\n",
       "      <td>종업원그룹</td>\n",
       "      <td>0.031669</td>\n",
       "    </tr>\n",
       "    <tr>\n",
       "      <th>30</th>\n",
       "      <td>x1_중견기업(하)</td>\n",
       "      <td>0.031009</td>\n",
       "    </tr>\n",
       "  </tbody>\n",
       "</table>\n",
       "</div>"
      ],
      "text/plain": [
       "         Feature  Importance\n",
       "27  x1_기타(비영리법인)    0.122380\n",
       "17        자기자본비율    0.069143\n",
       "29       x1_중견기업    0.054648\n",
       "1           종업원수    0.044286\n",
       "4        자산총계그룹화    0.042782\n",
       "31       x1_중소기업    0.041689\n",
       "24      x0_자립성장형    0.038845\n",
       "25        x0_정체형    0.034492\n",
       "2          종업원그룹    0.031669\n",
       "30    x1_중견기업(하)    0.031009"
      ]
     },
     "execution_count": 217,
     "metadata": {},
     "output_type": "execute_result"
    }
   ],
   "source": [
    "df_importance_key"
   ]
  }
 ],
 "metadata": {
  "kernelspec": {
   "display_name": "Python 3 (ipykernel)",
   "language": "python",
   "name": "python3"
  },
  "language_info": {
   "codemirror_mode": {
    "name": "ipython",
    "version": 3
   },
   "file_extension": ".py",
   "mimetype": "text/x-python",
   "name": "python",
   "nbconvert_exporter": "python",
   "pygments_lexer": "ipython3",
   "version": "3.9.13"
  },
  "vscode": {
   "interpreter": {
    "hash": "9761c2a3d48e6874f874c6d6481ca02c9c64f4a74ea49c70087598f3636cb5ee"
   }
  }
 },
 "nbformat": 4,
 "nbformat_minor": 5
}
