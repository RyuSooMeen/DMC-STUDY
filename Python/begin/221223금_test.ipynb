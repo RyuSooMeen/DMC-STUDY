{
 "cells": [
  {
   "cell_type": "markdown",
   "id": "2444642a-093f-43c3-968a-3957b0af5bfd",
   "metadata": {},
   "source": [
    "# Numpy 시험"
   ]
  },
  {
   "cell_type": "markdown",
   "id": "c563d043-363a-44d2-9348-72ee1059794d",
   "metadata": {},
   "source": [
    "### 1번"
   ]
  },
  {
   "cell_type": "code",
   "execution_count": 1,
   "id": "29cb5d51-58e5-4c93-9ca4-7d3e4945d7cd",
   "metadata": {},
   "outputs": [
    {
     "name": "stdout",
     "output_type": "stream",
     "text": [
      "섭씨 10 도 = 화씨 50.0\n",
      "섭씨 20 도 = 화씨 68.0\n",
      "섭씨 30 도 = 화씨 86.0\n",
      "섭씨 40 도 = 화씨 104.0\n",
      "섭씨 50 도 = 화씨 122.0\n"
     ]
    }
   ],
   "source": [
    "def temp(celsius):\n",
    "    fahrenheit = (9/5) * celsius + 32\n",
    "    return fahrenheit\n",
    "print(\"섭씨 10 도 = 화씨\", temp(10))\n",
    "print(\"섭씨 20 도 = 화씨\", temp(20))\n",
    "print(\"섭씨 30 도 = 화씨\", temp(30))\n",
    "print(\"섭씨 40 도 = 화씨\", temp(40))\n",
    "print(\"섭씨 50 도 = 화씨\", temp(50))"
   ]
  },
  {
   "cell_type": "markdown",
   "id": "f3c53623-2d2e-4108-8a21-2cceacb3c5f1",
   "metadata": {},
   "source": [
    "### 2번"
   ]
  },
  {
   "cell_type": "code",
   "execution_count": 2,
   "id": "7414e775-5477-4393-a513-e0618eeafe22",
   "metadata": {},
   "outputs": [
    {
     "data": {
      "text/plain": [
       "[1, 4, 9, 16, 25, 36, 49]"
      ]
     },
     "execution_count": 2,
     "metadata": {},
     "output_type": "execute_result"
    }
   ],
   "source": [
    "a = [1, 2, 3, 4, 5, 6, 7]\n",
    "b = [x ** 2 for x in a]\n",
    "b"
   ]
  },
  {
   "cell_type": "markdown",
   "id": "999d5e99-ce63-42cb-a403-2740b58a0bb3",
   "metadata": {},
   "source": [
    "### 3번"
   ]
  },
  {
   "cell_type": "code",
   "execution_count": 3,
   "id": "04a37c8b-6d11-46f4-9a3c-c17dbf873169",
   "metadata": {},
   "outputs": [
    {
     "name": "stdout",
     "output_type": "stream",
     "text": [
      "밑변 10, 높이 20인 삼각형의 면적은 : 100\n"
     ]
    }
   ],
   "source": [
    "def print_area(width,height):\n",
    "    print(\"밑변 {}, 높이 {}인 삼각형의 면적은 : {}\".format(width, height, int(width*height/2)))\n",
    "\n",
    "print_area(10, 20)"
   ]
  },
  {
   "cell_type": "markdown",
   "id": "de55b3c7-cd80-4376-9478-6a89b60495ce",
   "metadata": {},
   "source": [
    "### 4번"
   ]
  },
  {
   "cell_type": "code",
   "execution_count": 4,
   "id": "4e95a26e-da21-4d5b-ac66-95282e11914f",
   "metadata": {},
   "outputs": [
    {
     "name": "stdout",
     "output_type": "stream",
     "text": [
      "Hello Python !\n"
     ]
    }
   ],
   "source": [
    "print('Hello','Python', '!')"
   ]
  },
  {
   "cell_type": "markdown",
   "id": "27873870-b48b-4ab5-ad0b-5c836701e462",
   "metadata": {},
   "source": [
    "### 5번"
   ]
  },
  {
   "cell_type": "code",
   "execution_count": 5,
   "id": "cf601508-c83d-4cfb-9c0f-a83269d4a2b5",
   "metadata": {},
   "outputs": [
    {
     "name": "stdout",
     "output_type": "stream",
     "text": [
      "Hello Python!\n",
      "Hello Python!\n",
      "Hello Python!\n",
      "300\n",
      "3의 3제곱 : 27\n"
     ]
    }
   ],
   "source": [
    "#(1) Print('Hello Python!')\n",
    "print('Hello Python!')  # print 소문자\n",
    "\n",
    "#(2) print(\"Hello Python!')\n",
    "print('Hello Python!') # 문자열 출력 시 공통되게 작은 따음표 또는 큰따음표 사용\n",
    "\n",
    "#(3) print(Hello Python!)\n",
    "print('Hello Python!') # 따음표가 없으므로 넣어줘야 함\n",
    "\n",
    "#(4) print(100 + '200')\n",
    "print(100 + 200) # 숫자는 따음표를 쓰지 않음\n",
    "\n",
    "#(5) print('3의 3제곱 :', 3 ^ 3)\n",
    "print('3의 3제곱 :', 3**3) # 파이썬의 제곱근 기호는 **임\n"
   ]
  },
  {
   "cell_type": "markdown",
   "id": "83a073bd-730b-499f-bbde-efbe4342109a",
   "metadata": {},
   "source": [
    "### 6번"
   ]
  },
  {
   "cell_type": "code",
   "execution_count": 6,
   "id": "360a8575-f290-45ea-bb50-380a24cdfdda",
   "metadata": {},
   "outputs": [
    {
     "name": "stdin",
     "output_type": "stream",
     "text": [
      "원의 반지름을 입력하세요 :  11\n"
     ]
    },
    {
     "name": "stdout",
     "output_type": "stream",
     "text": [
      "원의 둘레 = 69.115024, 원의 면적 = 380.132632\n"
     ]
    }
   ],
   "source": [
    "r = int(input(\"원의 반지름을 입력하세요 : \"))\n",
    "PI = 3.141592\n",
    "print(\"원의 둘레 = {}, 원의 면적 = {}\".format(2*PI*r, PI*r**2))"
   ]
  },
  {
   "cell_type": "markdown",
   "id": "1c60641c-013c-4a1c-96e6-d10cf4936b76",
   "metadata": {},
   "source": [
    "### 7번"
   ]
  },
  {
   "cell_type": "code",
   "execution_count": 7,
   "id": "00646dfd-84a8-469a-959b-76f0db56d278",
   "metadata": {},
   "outputs": [
    {
     "name": "stdin",
     "output_type": "stream",
     "text": [
      "정수를 입력하세요 :  120\n"
     ]
    },
    {
     "name": "stdout",
     "output_type": "stream",
     "text": [
      "입력된 정수는 0에서 100의 범위 안에 있는 짝수인가요? False\n"
     ]
    }
   ],
   "source": [
    "n = int(input(\"정수를 입력하세요 : \"))\n",
    "if 0<=n<=100:\n",
    "    print(\"입력된 정수는 0에서 100의 범위 안에 있는 짝수인가요? True\")\n",
    "else:\n",
    "    print(\"입력된 정수는 0에서 100의 범위 안에 있는 짝수인가요? False\")"
   ]
  },
  {
   "cell_type": "markdown",
   "id": "356c4a74-3527-42fd-9974-3722c21fa30c",
   "metadata": {},
   "source": [
    "### 8번"
   ]
  },
  {
   "cell_type": "code",
   "execution_count": 8,
   "id": "40094da0-ee41-4fc1-8a44-de59858cd087",
   "metadata": {},
   "outputs": [
    {
     "name": "stdin",
     "output_type": "stream",
     "text": [
      "정수 a를 입력하세요 :  202\n",
      "정수 b를 입력하세요 :  50\n"
     ]
    },
    {
     "name": "stdout",
     "output_type": "stream",
     "text": [
      "a / b의 몫 : 4\n",
      "a / b의 나머지 : 2\n"
     ]
    }
   ],
   "source": [
    "a = int(input(\"정수 a를 입력하세요 : \"))\n",
    "b = int(input(\"정수 b를 입력하세요 : \"))\n",
    "print(\"a / b의 몫 : {}\".format(a//b))\n",
    "print(\"a / b의 나머지 : {}\".format(a%b))"
   ]
  },
  {
   "cell_type": "markdown",
   "id": "b9f6b4af-773f-4723-8ed3-e7c70ab3facb",
   "metadata": {},
   "source": [
    "### 9번"
   ]
  },
  {
   "cell_type": "code",
   "execution_count": 9,
   "id": "24a22a22-2592-4e56-99c9-cf339948ba3b",
   "metadata": {},
   "outputs": [
    {
     "name": "stdin",
     "output_type": "stream",
     "text": [
      "이름을 입력하시오 :  동운\n",
      "키를 입력하시오(단위 cm) :  160\n"
     ]
    },
    {
     "name": "stdout",
     "output_type": "stream",
     "text": [
      "동운님은 놀이기구를 탈 수 있습니다.\n"
     ]
    }
   ],
   "source": [
    "n = input(\"이름을 입력하시오 : \")\n",
    "h = int(input(\"키를 입력하시오(단위 cm) : \"))\n",
    "if h < 140:\n",
    "    print(\"{}님은 놀이기구를 탈 수 없습니다.\".format(n))\n",
    "else:\n",
    "    print(\"{}님은 놀이기구를 탈 수 있습니다.\".format(n))"
   ]
  },
  {
   "cell_type": "markdown",
   "id": "2cfd7c82-86c8-4d74-a616-806949aaf288",
   "metadata": {},
   "source": [
    "### 10번"
   ]
  },
  {
   "cell_type": "code",
   "execution_count": 10,
   "id": "5d21b0a5-1aae-406c-a848-88a94208b0a9",
   "metadata": {},
   "outputs": [
    {
     "data": {
      "text/plain": [
       "70"
      ]
     },
     "execution_count": 10,
     "metadata": {},
     "output_type": "execute_result"
    }
   ],
   "source": [
    "list_ex = [10, 20, 30, 40, 50, 60, 70]\n",
    "list_ex[-1] #답"
   ]
  },
  {
   "cell_type": "markdown",
   "id": "9baa7bc3-9b2b-494d-bd08-d387a9a9f311",
   "metadata": {},
   "source": [
    "### 11번\n",
    "#### 답 : x o x"
   ]
  },
  {
   "cell_type": "markdown",
   "id": "847c35fa-4c97-46fd-a194-bf66a848c705",
   "metadata": {},
   "source": [
    "### 12번\n",
    "####  (1) 오류 안남\n",
    "#### (2) 오류 안남\n",
    "#### (3) 오류남\n",
    "#### (4) 오류 안남"
   ]
  },
  {
   "cell_type": "code",
   "execution_count": 12,
   "id": "1b01730a-fcba-4c9d-859f-f1e3c27e35e4",
   "metadata": {},
   "outputs": [],
   "source": [
    "a = dict()\n",
    "a['name']='python' # (1) 오류 안남\n",
    "a = dict()\n",
    "a[('a',)] = 'python' # (2) 오류 안남\n",
    "a = dict()\n",
    "# a[[1]]='python' #(3) 오류남\n",
    "a = dict()\n",
    "a[250]='python' #(4) 오류 안남"
   ]
  },
  {
   "cell_type": "markdown",
   "id": "71d51616-442f-4ac6-a4ce-eac07e05f41d",
   "metadata": {},
   "source": [
    "### 13번"
   ]
  },
  {
   "cell_type": "code",
   "execution_count": 13,
   "id": "105211f7-9be0-4940-bd85-76a2a18e6498",
   "metadata": {},
   "outputs": [
    {
     "name": "stdout",
     "output_type": "stream",
     "text": [
      "3 * 2 = 6\n",
      "3 * 3 = 9\n",
      "3 * 4 = 12\n",
      "3 * 5 = 15\n",
      "3 * 6 = 18\n",
      "5 * 2 = 10\n"
     ]
    }
   ],
   "source": [
    "list1 = [3, 5, 7]\n",
    "list2 = [2, 3, 4, 5, 6]\n",
    "for i in range(len(list1)):\n",
    "    for j in range(len(list2)):\n",
    "        if list1[i] == 5 and list2[j] == 3:\n",
    "            break\n",
    "        elif list1[i] == 7:\n",
    "            break\n",
    "        print(\"{} * {} = {}\".format(list1[i],list2[j],list1[i]*list2[j]))"
   ]
  },
  {
   "cell_type": "markdown",
   "id": "8b048db8-3e38-4154-9cbc-4b073b78a3c2",
   "metadata": {},
   "source": [
    "### 14번"
   ]
  },
  {
   "cell_type": "code",
   "execution_count": 14,
   "id": "600ee9ad-93df-49d1-856f-b2cb0b76ac79",
   "metadata": {},
   "outputs": [
    {
     "name": "stdout",
     "output_type": "stream",
     "text": [
      "Americano 가격 : 3000원\n",
      "Ice Americano 가격 : 3500원\n",
      "Cappuccino 가격 : 4000원\n",
      "Caffe Latte 가격 : 4500원\n",
      "Espresso 가격 : 3600원\n"
     ]
    }
   ],
   "source": [
    "table = [\"Americano\", \"Ice Americano\", \"Cappuccino\", \"Caffe Latte\", \"Espresso\"]\n",
    "price = [3000, 3500, 4000, 4500, 3600]\n",
    "menu = dict(zip(table, price))\n",
    "for key in menu:\n",
    "    print(\"{} 가격 : {}원\".format(key,menu[key]) )"
   ]
  },
  {
   "cell_type": "markdown",
   "id": "2803b330-97d8-4b9d-8b74-fa6c90af3935",
   "metadata": {},
   "source": [
    "### 15번"
   ]
  },
  {
   "cell_type": "code",
   "execution_count": 16,
   "id": "b7708a05-a20c-4aae-acb2-229fbd9b55e9",
   "metadata": {},
   "outputs": [
    {
     "name": "stdout",
     "output_type": "stream",
     "text": [
      "sqrt(0) = 0.0000\n",
      "sqrt(1) = 1.0000\n",
      "sqrt(2) = 1.4142\n",
      "sqrt(3) = 1.7321\n",
      "sqrt(4) = 2.0000\n",
      "sqrt(5) = 2.2361\n",
      "sqrt(6) = 2.4495\n",
      "sqrt(7) = 2.6458\n",
      "sqrt(8) = 2.8284\n",
      "sqrt(9) = 3.0000\n",
      "sqrt(10) = 3.1623\n"
     ]
    }
   ],
   "source": [
    "import math\n",
    "import numpy as np\n",
    "a = np.arange(11)\n",
    "for i in a:\n",
    "    print(\"sqrt({}) = {:.4f}\".format(i,math.sqrt(i)))"
   ]
  },
  {
   "cell_type": "markdown",
   "id": "2a318f5c-9cf8-4262-a404-c097349dfba6",
   "metadata": {},
   "source": [
    "### 16번"
   ]
  },
  {
   "cell_type": "code",
   "execution_count": 17,
   "id": "30ea491c-6847-414b-a770-b2e9eda8f324",
   "metadata": {},
   "outputs": [
    {
     "name": "stdout",
     "output_type": "stream",
     "text": [
      "my_dog의 이름은 Mango이고 나이는 3살입니다.\n"
     ]
    }
   ],
   "source": [
    "class Dog:\n",
    "    def __init__(self,name,age):\n",
    "        self.name = name\n",
    "        self.age = age\n",
    "    def __str__(self):\n",
    "        return \"my_dog의 이름은 {}이고 나이는 {}살입니다.\".format(self.name,self.age)\n",
    "    \n",
    "my_dog = Dog(\"Mango\",3)\n",
    "print(my_dog)"
   ]
  },
  {
   "cell_type": "markdown",
   "id": "1f7d4761-3aa7-4416-9464-01e922b53564",
   "metadata": {},
   "source": [
    "### 17번"
   ]
  },
  {
   "cell_type": "code",
   "execution_count": 18,
   "id": "e3d77293-b451-4b51-9611-042365008d34",
   "metadata": {},
   "outputs": [
    {
     "name": "stdout",
     "output_type": "stream",
     "text": [
      "[[ 1  2  3  4  5]\n",
      " [ 6  7  8  9 10]]\n"
     ]
    }
   ],
   "source": [
    "a = np.arange(1,11)\n",
    "a = a.reshape(2,5)\n",
    "print(a)"
   ]
  },
  {
   "cell_type": "markdown",
   "id": "a808ea7f-8d4d-4a04-9046-b676eb15590b",
   "metadata": {},
   "source": [
    "### 18번"
   ]
  },
  {
   "cell_type": "code",
   "execution_count": 19,
   "id": "f91b2e79-1799-4379-8831-c66170a10e47",
   "metadata": {},
   "outputs": [
    {
     "name": "stdout",
     "output_type": "stream",
     "text": [
      "a는 4, b는 3\n"
     ]
    }
   ],
   "source": [
    "# 18번\n",
    "a = 3\n",
    "b = 4\n",
    "a,b = b,a \n",
    "print(\"a는 {}, b는 {}\".format(a,b))"
   ]
  },
  {
   "cell_type": "markdown",
   "id": "e7c732d1-7336-415e-a6e9-518830dfd038",
   "metadata": {},
   "source": [
    "### 19번"
   ]
  },
  {
   "cell_type": "code",
   "execution_count": 20,
   "id": "5d9eee0c-c006-4acb-9114-ecff48a1dcd1",
   "metadata": {},
   "outputs": [
    {
     "name": "stdout",
     "output_type": "stream",
     "text": [
      "[0, 1, 2, 3, 4, 5, 6, 7, 8, 9]\n"
     ]
    }
   ],
   "source": [
    "list_int = list(range(0,10))\n",
    "print(list_int)"
   ]
  },
  {
   "cell_type": "markdown",
   "id": "42c45f64-dafd-4702-86dd-f5fc8ca5f9aa",
   "metadata": {},
   "source": [
    "### 20번"
   ]
  },
  {
   "cell_type": "code",
   "execution_count": 21,
   "id": "9b32724b-6261-4324-8089-76f414479b07",
   "metadata": {},
   "outputs": [
    {
     "name": "stdout",
     "output_type": "stream",
     "text": [
      "[1, 3, 4, 5]\n"
     ]
    }
   ],
   "source": [
    "a = [1,1,1,3,3,4,4,4,4,5]\n",
    "a = list(set(a))\n",
    "print(a)"
   ]
  }
 ],
 "metadata": {
  "kernelspec": {
   "display_name": "Python 3 (ipykernel)",
   "language": "python",
   "name": "python3"
  },
  "language_info": {
   "codemirror_mode": {
    "name": "ipython",
    "version": 3
   },
   "file_extension": ".py",
   "mimetype": "text/x-python",
   "name": "python",
   "nbconvert_exporter": "python",
   "pygments_lexer": "ipython3",
   "version": "3.8.15"
  }
 },
 "nbformat": 4,
 "nbformat_minor": 5
}
