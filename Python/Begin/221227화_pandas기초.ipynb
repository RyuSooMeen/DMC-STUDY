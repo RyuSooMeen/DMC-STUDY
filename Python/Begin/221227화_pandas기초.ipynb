{
 "cells": [
  {
   "cell_type": "markdown",
   "id": "57dcced5-47bf-46e3-a4bf-bae9bef0ceaa",
   "metadata": {},
   "source": [
    "# pandas 기초.pdf\n",
    "# 판다스(Pandas) 기초\n",
    "< 참고자료 및 코드 출처>\n",
    "1. DANDYRILLA 님의 github \"판다스(pandas) 기본 사용법 익히기\"\n",
    "2. 파이썬 머신러닝 완벽 가이드 (권철민 저)\n",
    "3. 김도형의 데이터 사이언스 스쿨\n",
    "4. R,Python 분석과 프로그래밍의 친구(by R Friend)\n",
    "\n",
    "##### pandas 외에도 배열구조나 랜더 값 생성 등의 기능을 활용하기 위한 numpy 와 그래프를 그리기 위한 matplotlib 패키지들도 함께 import"
   ]
  },
  {
   "cell_type": "code",
   "execution_count": 1,
   "id": "2afcceda-96e6-47f9-973b-c4df510505bf",
   "metadata": {},
   "outputs": [],
   "source": [
    "import pandas as pd\n",
    "import numpy as np\n",
    "import matplotlib.pyplot as plt"
   ]
  },
  {
   "cell_type": "markdown",
   "id": "b2fe254b-51de-403d-a3aa-41aa34695993",
   "metadata": {},
   "source": [
    "## 데이터 object 생성하기\n",
    "- 데이터 object 는 '데이터를 담고 있는 그릇'이라고 생각하면 이해하기 쉽다\n",
    "- 판다스에서 자주 사용하게 될 데이터 object는 'Series'와 'DataFrame'이 있다\n",
    "- Series는 데이터를 1차원 배열(칼럼1개)로 담고 있고, DataFrame을 데이터를 2차원배열(칼럼이 여러개)로 담고 있다.\n",
    "\n",
    "### Series는 다음과 같이 리스트를 넘겨줘서 만들 수 있다\n",
    "- index의 경우, 0부터 시작해서 1씩 증가하는 정수 index가 사용된다"
   ]
  },
  {
   "cell_type": "code",
   "execution_count": 3,
   "id": "afa793be-60e6-4dc6-881d-4ae7e1e05523",
   "metadata": {},
   "outputs": [
    {
     "data": {
      "text/plain": [
       "0    1.0\n",
       "1    3.0\n",
       "2    5.0\n",
       "3    NaN\n",
       "4    6.0\n",
       "5    8.0\n",
       "dtype: float64"
      ]
     },
     "execution_count": 3,
     "metadata": {},
     "output_type": "execute_result"
    }
   ],
   "source": [
    "s = pd.Series([1,3,5,np.nan,6,8])\n",
    "s"
   ]
  },
  {
   "cell_type": "markdown",
   "id": "77920e4f-a8f6-4c3c-a7c6-5c40d2805d5b",
   "metadata": {},
   "source": [
    "### DataFrame은 여러 형태의 데이터를 받아 생성할 수 있다\n",
    "- numpy array를 받아서 생성\n",
    "- pd.DataFrame()이라는 클래스 생성자를 사용"
   ]
  },
  {
   "cell_type": "code",
   "execution_count": 4,
   "id": "7848aaac-9b03-4132-b515-318b1982f4de",
   "metadata": {},
   "outputs": [
    {
     "data": {
      "text/html": [
       "<div>\n",
       "<style scoped>\n",
       "    .dataframe tbody tr th:only-of-type {\n",
       "        vertical-align: middle;\n",
       "    }\n",
       "\n",
       "    .dataframe tbody tr th {\n",
       "        vertical-align: top;\n",
       "    }\n",
       "\n",
       "    .dataframe thead th {\n",
       "        text-align: right;\n",
       "    }\n",
       "</style>\n",
       "<table border=\"1\" class=\"dataframe\">\n",
       "  <thead>\n",
       "    <tr style=\"text-align: right;\">\n",
       "      <th></th>\n",
       "      <th>A</th>\n",
       "      <th>B</th>\n",
       "      <th>C</th>\n",
       "      <th>D</th>\n",
       "    </tr>\n",
       "  </thead>\n",
       "  <tbody>\n",
       "    <tr>\n",
       "      <th>2022-08-01</th>\n",
       "      <td>-0.105818</td>\n",
       "      <td>-0.531284</td>\n",
       "      <td>-0.538712</td>\n",
       "      <td>-1.157917</td>\n",
       "    </tr>\n",
       "    <tr>\n",
       "      <th>2022-08-02</th>\n",
       "      <td>-0.334733</td>\n",
       "      <td>0.567517</td>\n",
       "      <td>0.051116</td>\n",
       "      <td>-0.968098</td>\n",
       "    </tr>\n",
       "    <tr>\n",
       "      <th>2022-08-03</th>\n",
       "      <td>-0.316085</td>\n",
       "      <td>-1.295673</td>\n",
       "      <td>-1.401836</td>\n",
       "      <td>1.039669</td>\n",
       "    </tr>\n",
       "    <tr>\n",
       "      <th>2022-08-04</th>\n",
       "      <td>1.655381</td>\n",
       "      <td>0.060956</td>\n",
       "      <td>-2.252284</td>\n",
       "      <td>-1.274215</td>\n",
       "    </tr>\n",
       "    <tr>\n",
       "      <th>2022-08-05</th>\n",
       "      <td>0.702529</td>\n",
       "      <td>1.153751</td>\n",
       "      <td>1.057240</td>\n",
       "      <td>-1.010675</td>\n",
       "    </tr>\n",
       "    <tr>\n",
       "      <th>2022-08-06</th>\n",
       "      <td>-0.067756</td>\n",
       "      <td>-0.898653</td>\n",
       "      <td>0.308734</td>\n",
       "      <td>-0.872713</td>\n",
       "    </tr>\n",
       "  </tbody>\n",
       "</table>\n",
       "</div>"
      ],
      "text/plain": [
       "                   A         B         C         D\n",
       "2022-08-01 -0.105818 -0.531284 -0.538712 -1.157917\n",
       "2022-08-02 -0.334733  0.567517  0.051116 -0.968098\n",
       "2022-08-03 -0.316085 -1.295673 -1.401836  1.039669\n",
       "2022-08-04  1.655381  0.060956 -2.252284 -1.274215\n",
       "2022-08-05  0.702529  1.153751  1.057240 -1.010675\n",
       "2022-08-06 -0.067756 -0.898653  0.308734 -0.872713"
      ]
     },
     "execution_count": 4,
     "metadata": {},
     "output_type": "execute_result"
    }
   ],
   "source": [
    "# 날짜 값들을 만들기\n",
    "dates = pd.date_range('20220801', periods= 6)\n",
    "# 행 : index, 열 : columns\n",
    "# 참고 : np.random.randn(m,n)은 평균 0, 표준편차 1의 표준정규분포 난수\n",
    "df = pd.DataFrame(np.random.randn(6,4),index=dates, columns=list(\"ABCD\"))\n",
    "df"
   ]
  },
  {
   "cell_type": "markdown",
   "id": "a050d897-8156-4df8-9c23-7a623922289e",
   "metadata": {},
   "source": [
    "- 여러 종류의 자료들이 담긴 딕셔너리(dict)을 받아서 생성\n",
    "    - 딕셔너리의 key값이 열을 정의하는 column\n",
    "    - 행을 정의하는 index는 0부터 1씩 증가하는 정수 index"
   ]
  },
  {
   "cell_type": "code",
   "execution_count": 5,
   "id": "3c680712-854d-4982-a343-35cab762c145",
   "metadata": {},
   "outputs": [
    {
     "data": {
      "text/html": [
       "<div>\n",
       "<style scoped>\n",
       "    .dataframe tbody tr th:only-of-type {\n",
       "        vertical-align: middle;\n",
       "    }\n",
       "\n",
       "    .dataframe tbody tr th {\n",
       "        vertical-align: top;\n",
       "    }\n",
       "\n",
       "    .dataframe thead th {\n",
       "        text-align: right;\n",
       "    }\n",
       "</style>\n",
       "<table border=\"1\" class=\"dataframe\">\n",
       "  <thead>\n",
       "    <tr style=\"text-align: right;\">\n",
       "      <th></th>\n",
       "      <th>A</th>\n",
       "      <th>B</th>\n",
       "      <th>C</th>\n",
       "      <th>D</th>\n",
       "      <th>E</th>\n",
       "      <th>F</th>\n",
       "    </tr>\n",
       "  </thead>\n",
       "  <tbody>\n",
       "    <tr>\n",
       "      <th>0</th>\n",
       "      <td>1.0</td>\n",
       "      <td>2022-08-02</td>\n",
       "      <td>1.0</td>\n",
       "      <td>3</td>\n",
       "      <td>test</td>\n",
       "      <td>foo</td>\n",
       "    </tr>\n",
       "    <tr>\n",
       "      <th>1</th>\n",
       "      <td>1.0</td>\n",
       "      <td>2022-08-02</td>\n",
       "      <td>1.0</td>\n",
       "      <td>3</td>\n",
       "      <td>train</td>\n",
       "      <td>foo</td>\n",
       "    </tr>\n",
       "    <tr>\n",
       "      <th>2</th>\n",
       "      <td>1.0</td>\n",
       "      <td>2022-08-02</td>\n",
       "      <td>1.0</td>\n",
       "      <td>3</td>\n",
       "      <td>test</td>\n",
       "      <td>foo</td>\n",
       "    </tr>\n",
       "    <tr>\n",
       "      <th>3</th>\n",
       "      <td>1.0</td>\n",
       "      <td>2022-08-02</td>\n",
       "      <td>1.0</td>\n",
       "      <td>3</td>\n",
       "      <td>train</td>\n",
       "      <td>foo</td>\n",
       "    </tr>\n",
       "  </tbody>\n",
       "</table>\n",
       "</div>"
      ],
      "text/plain": [
       "     A          B    C  D      E    F\n",
       "0  1.0 2022-08-02  1.0  3   test  foo\n",
       "1  1.0 2022-08-02  1.0  3  train  foo\n",
       "2  1.0 2022-08-02  1.0  3   test  foo\n",
       "3  1.0 2022-08-02  1.0  3  train  foo"
      ]
     },
     "execution_count": 5,
     "metadata": {},
     "output_type": "execute_result"
    }
   ],
   "source": [
    "df2 = pd.DataFrame({'A' : 1.,\n",
    "                    'B' : pd.Timestamp('20220802'),\n",
    "                    'C' : pd.Series(1,index = list(range(4)),dtype = 'float32'),\n",
    "                    'D' : np.array([3]*4, dtype = 'int32'),\n",
    "                    'E' : pd.Categorical(['test','train','test','train']),\n",
    "                    'F' : 'foo'})\n",
    "df2"
   ]
  },
  {
   "cell_type": "code",
   "execution_count": 7,
   "id": "cb757dbe-df34-43c4-9a5e-b0fba3634431",
   "metadata": {},
   "outputs": [
    {
     "data": {
      "text/plain": [
       "A           float64\n",
       "B    datetime64[ns]\n",
       "C           float32\n",
       "D             int32\n",
       "E          category\n",
       "F            object\n",
       "dtype: object"
      ]
     },
     "execution_count": 7,
     "metadata": {},
     "output_type": "execute_result"
    }
   ],
   "source": [
    "df2.dtypes"
   ]
  },
  {
   "cell_type": "markdown",
   "id": "2d8324e9-c23e-4eb7-989a-c225487efdaa",
   "metadata": {},
   "source": [
    "## 데이터 확인하기\n",
    "- 데이터 프레임에 있는 자료들 중, 몇 개의 자료들만 확인해보고 싶다면 .head()와 .tail() 사용"
   ]
  },
  {
   "cell_type": "code",
   "execution_count": 10,
   "id": "bd551d0b-374a-4777-85f5-1e4c403f79c0",
   "metadata": {},
   "outputs": [
    {
     "data": {
      "text/html": [
       "<div>\n",
       "<style scoped>\n",
       "    .dataframe tbody tr th:only-of-type {\n",
       "        vertical-align: middle;\n",
       "    }\n",
       "\n",
       "    .dataframe tbody tr th {\n",
       "        vertical-align: top;\n",
       "    }\n",
       "\n",
       "    .dataframe thead th {\n",
       "        text-align: right;\n",
       "    }\n",
       "</style>\n",
       "<table border=\"1\" class=\"dataframe\">\n",
       "  <thead>\n",
       "    <tr style=\"text-align: right;\">\n",
       "      <th></th>\n",
       "      <th>A</th>\n",
       "      <th>B</th>\n",
       "      <th>C</th>\n",
       "      <th>D</th>\n",
       "    </tr>\n",
       "  </thead>\n",
       "  <tbody>\n",
       "    <tr>\n",
       "      <th>2022-08-01</th>\n",
       "      <td>-0.105818</td>\n",
       "      <td>-0.531284</td>\n",
       "      <td>-0.538712</td>\n",
       "      <td>-1.157917</td>\n",
       "    </tr>\n",
       "    <tr>\n",
       "      <th>2022-08-02</th>\n",
       "      <td>-0.334733</td>\n",
       "      <td>0.567517</td>\n",
       "      <td>0.051116</td>\n",
       "      <td>-0.968098</td>\n",
       "    </tr>\n",
       "    <tr>\n",
       "      <th>2022-08-03</th>\n",
       "      <td>-0.316085</td>\n",
       "      <td>-1.295673</td>\n",
       "      <td>-1.401836</td>\n",
       "      <td>1.039669</td>\n",
       "    </tr>\n",
       "    <tr>\n",
       "      <th>2022-08-04</th>\n",
       "      <td>1.655381</td>\n",
       "      <td>0.060956</td>\n",
       "      <td>-2.252284</td>\n",
       "      <td>-1.274215</td>\n",
       "    </tr>\n",
       "    <tr>\n",
       "      <th>2022-08-05</th>\n",
       "      <td>0.702529</td>\n",
       "      <td>1.153751</td>\n",
       "      <td>1.057240</td>\n",
       "      <td>-1.010675</td>\n",
       "    </tr>\n",
       "  </tbody>\n",
       "</table>\n",
       "</div>"
      ],
      "text/plain": [
       "                   A         B         C         D\n",
       "2022-08-01 -0.105818 -0.531284 -0.538712 -1.157917\n",
       "2022-08-02 -0.334733  0.567517  0.051116 -0.968098\n",
       "2022-08-03 -0.316085 -1.295673 -1.401836  1.039669\n",
       "2022-08-04  1.655381  0.060956 -2.252284 -1.274215\n",
       "2022-08-05  0.702529  1.153751  1.057240 -1.010675"
      ]
     },
     "execution_count": 10,
     "metadata": {},
     "output_type": "execute_result"
    }
   ],
   "source": [
    "df.head()"
   ]
  },
  {
   "cell_type": "code",
   "execution_count": 11,
   "id": "9190781a-d94a-4f83-b8d5-969318d8226e",
   "metadata": {},
   "outputs": [
    {
     "data": {
      "text/html": [
       "<div>\n",
       "<style scoped>\n",
       "    .dataframe tbody tr th:only-of-type {\n",
       "        vertical-align: middle;\n",
       "    }\n",
       "\n",
       "    .dataframe tbody tr th {\n",
       "        vertical-align: top;\n",
       "    }\n",
       "\n",
       "    .dataframe thead th {\n",
       "        text-align: right;\n",
       "    }\n",
       "</style>\n",
       "<table border=\"1\" class=\"dataframe\">\n",
       "  <thead>\n",
       "    <tr style=\"text-align: right;\">\n",
       "      <th></th>\n",
       "      <th>A</th>\n",
       "      <th>B</th>\n",
       "      <th>C</th>\n",
       "      <th>D</th>\n",
       "    </tr>\n",
       "  </thead>\n",
       "  <tbody>\n",
       "    <tr>\n",
       "      <th>2022-08-04</th>\n",
       "      <td>1.655381</td>\n",
       "      <td>0.060956</td>\n",
       "      <td>-2.252284</td>\n",
       "      <td>-1.274215</td>\n",
       "    </tr>\n",
       "    <tr>\n",
       "      <th>2022-08-05</th>\n",
       "      <td>0.702529</td>\n",
       "      <td>1.153751</td>\n",
       "      <td>1.057240</td>\n",
       "      <td>-1.010675</td>\n",
       "    </tr>\n",
       "    <tr>\n",
       "      <th>2022-08-06</th>\n",
       "      <td>-0.067756</td>\n",
       "      <td>-0.898653</td>\n",
       "      <td>0.308734</td>\n",
       "      <td>-0.872713</td>\n",
       "    </tr>\n",
       "  </tbody>\n",
       "</table>\n",
       "</div>"
      ],
      "text/plain": [
       "                   A         B         C         D\n",
       "2022-08-04  1.655381  0.060956 -2.252284 -1.274215\n",
       "2022-08-05  0.702529  1.153751  1.057240 -1.010675\n",
       "2022-08-06 -0.067756 -0.898653  0.308734 -0.872713"
      ]
     },
     "execution_count": 11,
     "metadata": {},
     "output_type": "execute_result"
    }
   ],
   "source": [
    "df.tail(3)"
   ]
  },
  {
   "cell_type": "code",
   "execution_count": 12,
   "id": "3d4c4957-a98a-4dba-a7e5-392069be0b75",
   "metadata": {},
   "outputs": [
    {
     "data": {
      "text/plain": [
       "DatetimeIndex(['2022-08-01', '2022-08-02', '2022-08-03', '2022-08-04',\n",
       "               '2022-08-05', '2022-08-06'],\n",
       "              dtype='datetime64[ns]', freq='D')"
      ]
     },
     "execution_count": 12,
     "metadata": {},
     "output_type": "execute_result"
    }
   ],
   "source": [
    "df.index"
   ]
  },
  {
   "cell_type": "code",
   "execution_count": 13,
   "id": "e289654c-ee14-40c0-9e48-45240a2ebdf8",
   "metadata": {},
   "outputs": [
    {
     "data": {
      "text/plain": [
       "Index(['A', 'B', 'C', 'D'], dtype='object')"
      ]
     },
     "execution_count": 13,
     "metadata": {},
     "output_type": "execute_result"
    }
   ],
   "source": [
    "df.columns"
   ]
  },
  {
   "cell_type": "code",
   "execution_count": 14,
   "id": "cb3aa83c-7d7b-4b35-af06-c59f4af8d16b",
   "metadata": {},
   "outputs": [
    {
     "data": {
      "text/plain": [
       "array([[-0.10581774, -0.53128442, -0.53871236, -1.15791701],\n",
       "       [-0.33473275,  0.56751677,  0.05111629, -0.9680976 ],\n",
       "       [-0.31608525, -1.29567256, -1.40183572,  1.03966927],\n",
       "       [ 1.65538104,  0.06095641, -2.25228356, -1.27421469],\n",
       "       [ 0.70252936,  1.15375082,  1.05723963, -1.01067513],\n",
       "       [-0.06775615, -0.89865278,  0.30873379, -0.87271273]])"
      ]
     },
     "execution_count": 14,
     "metadata": {},
     "output_type": "execute_result"
    }
   ],
   "source": [
    "df.values"
   ]
  },
  {
   "cell_type": "markdown",
   "id": "5080d391-9b11-4842-a117-68fec1a6be10",
   "metadata": {},
   "source": [
    "- 데이터 프레임의 기초통계량 확인 : .describe() 메소드 사용\n",
    "    - count\n",
    "    - mean\n",
    "    - std\n",
    "    - min\n",
    "    - 4분위수(25%, 50%, 75%)\n",
    "    - max"
   ]
  },
  {
   "cell_type": "code",
   "execution_count": 15,
   "id": "8080f9ae-238f-41a0-98e5-f79ec75aad03",
   "metadata": {},
   "outputs": [
    {
     "data": {
      "text/html": [
       "<div>\n",
       "<style scoped>\n",
       "    .dataframe tbody tr th:only-of-type {\n",
       "        vertical-align: middle;\n",
       "    }\n",
       "\n",
       "    .dataframe tbody tr th {\n",
       "        vertical-align: top;\n",
       "    }\n",
       "\n",
       "    .dataframe thead th {\n",
       "        text-align: right;\n",
       "    }\n",
       "</style>\n",
       "<table border=\"1\" class=\"dataframe\">\n",
       "  <thead>\n",
       "    <tr style=\"text-align: right;\">\n",
       "      <th></th>\n",
       "      <th>A</th>\n",
       "      <th>B</th>\n",
       "      <th>C</th>\n",
       "      <th>D</th>\n",
       "    </tr>\n",
       "  </thead>\n",
       "  <tbody>\n",
       "    <tr>\n",
       "      <th>count</th>\n",
       "      <td>6.000000</td>\n",
       "      <td>6.000000</td>\n",
       "      <td>6.000000</td>\n",
       "      <td>6.000000</td>\n",
       "    </tr>\n",
       "    <tr>\n",
       "      <th>mean</th>\n",
       "      <td>0.255586</td>\n",
       "      <td>-0.157231</td>\n",
       "      <td>-0.462624</td>\n",
       "      <td>-0.707325</td>\n",
       "    </tr>\n",
       "    <tr>\n",
       "      <th>std</th>\n",
       "      <td>0.783534</td>\n",
       "      <td>0.924901</td>\n",
       "      <td>1.204964</td>\n",
       "      <td>0.867613</td>\n",
       "    </tr>\n",
       "    <tr>\n",
       "      <th>min</th>\n",
       "      <td>-0.334733</td>\n",
       "      <td>-1.295673</td>\n",
       "      <td>-2.252284</td>\n",
       "      <td>-1.274215</td>\n",
       "    </tr>\n",
       "    <tr>\n",
       "      <th>25%</th>\n",
       "      <td>-0.263518</td>\n",
       "      <td>-0.806811</td>\n",
       "      <td>-1.186055</td>\n",
       "      <td>-1.121107</td>\n",
       "    </tr>\n",
       "    <tr>\n",
       "      <th>50%</th>\n",
       "      <td>-0.086787</td>\n",
       "      <td>-0.235164</td>\n",
       "      <td>-0.243798</td>\n",
       "      <td>-0.989386</td>\n",
       "    </tr>\n",
       "    <tr>\n",
       "      <th>75%</th>\n",
       "      <td>0.509958</td>\n",
       "      <td>0.440877</td>\n",
       "      <td>0.244329</td>\n",
       "      <td>-0.896559</td>\n",
       "    </tr>\n",
       "    <tr>\n",
       "      <th>max</th>\n",
       "      <td>1.655381</td>\n",
       "      <td>1.153751</td>\n",
       "      <td>1.057240</td>\n",
       "      <td>1.039669</td>\n",
       "    </tr>\n",
       "  </tbody>\n",
       "</table>\n",
       "</div>"
      ],
      "text/plain": [
       "              A         B         C         D\n",
       "count  6.000000  6.000000  6.000000  6.000000\n",
       "mean   0.255586 -0.157231 -0.462624 -0.707325\n",
       "std    0.783534  0.924901  1.204964  0.867613\n",
       "min   -0.334733 -1.295673 -2.252284 -1.274215\n",
       "25%   -0.263518 -0.806811 -1.186055 -1.121107\n",
       "50%   -0.086787 -0.235164 -0.243798 -0.989386\n",
       "75%    0.509958  0.440877  0.244329 -0.896559\n",
       "max    1.655381  1.153751  1.057240  1.039669"
      ]
     },
     "execution_count": 15,
     "metadata": {},
     "output_type": "execute_result"
    }
   ],
   "source": [
    "df.describe()"
   ]
  },
  {
   "cell_type": "code",
   "execution_count": 16,
   "id": "34a21af4-8af6-40ef-92b7-1f5918a5a688",
   "metadata": {},
   "outputs": [
    {
     "data": {
      "text/html": [
       "<div>\n",
       "<style scoped>\n",
       "    .dataframe tbody tr th:only-of-type {\n",
       "        vertical-align: middle;\n",
       "    }\n",
       "\n",
       "    .dataframe tbody tr th {\n",
       "        vertical-align: top;\n",
       "    }\n",
       "\n",
       "    .dataframe thead th {\n",
       "        text-align: right;\n",
       "    }\n",
       "</style>\n",
       "<table border=\"1\" class=\"dataframe\">\n",
       "  <thead>\n",
       "    <tr style=\"text-align: right;\">\n",
       "      <th></th>\n",
       "      <th>2022-08-01</th>\n",
       "      <th>2022-08-02</th>\n",
       "      <th>2022-08-03</th>\n",
       "      <th>2022-08-04</th>\n",
       "      <th>2022-08-05</th>\n",
       "      <th>2022-08-06</th>\n",
       "    </tr>\n",
       "  </thead>\n",
       "  <tbody>\n",
       "    <tr>\n",
       "      <th>A</th>\n",
       "      <td>-0.105818</td>\n",
       "      <td>-0.334733</td>\n",
       "      <td>-0.316085</td>\n",
       "      <td>1.655381</td>\n",
       "      <td>0.702529</td>\n",
       "      <td>-0.067756</td>\n",
       "    </tr>\n",
       "    <tr>\n",
       "      <th>B</th>\n",
       "      <td>-0.531284</td>\n",
       "      <td>0.567517</td>\n",
       "      <td>-1.295673</td>\n",
       "      <td>0.060956</td>\n",
       "      <td>1.153751</td>\n",
       "      <td>-0.898653</td>\n",
       "    </tr>\n",
       "    <tr>\n",
       "      <th>C</th>\n",
       "      <td>-0.538712</td>\n",
       "      <td>0.051116</td>\n",
       "      <td>-1.401836</td>\n",
       "      <td>-2.252284</td>\n",
       "      <td>1.057240</td>\n",
       "      <td>0.308734</td>\n",
       "    </tr>\n",
       "    <tr>\n",
       "      <th>D</th>\n",
       "      <td>-1.157917</td>\n",
       "      <td>-0.968098</td>\n",
       "      <td>1.039669</td>\n",
       "      <td>-1.274215</td>\n",
       "      <td>-1.010675</td>\n",
       "      <td>-0.872713</td>\n",
       "    </tr>\n",
       "  </tbody>\n",
       "</table>\n",
       "</div>"
      ],
      "text/plain": [
       "   2022-08-01  2022-08-02  2022-08-03  2022-08-04  2022-08-05  2022-08-06\n",
       "A   -0.105818   -0.334733   -0.316085    1.655381    0.702529   -0.067756\n",
       "B   -0.531284    0.567517   -1.295673    0.060956    1.153751   -0.898653\n",
       "C   -0.538712    0.051116   -1.401836   -2.252284    1.057240    0.308734\n",
       "D   -1.157917   -0.968098    1.039669   -1.274215   -1.010675   -0.872713"
      ]
     },
     "execution_count": 16,
     "metadata": {},
     "output_type": "execute_result"
    }
   ],
   "source": [
    "# 데이터 프레임을 transpose 시키기 : .T\n",
    "df.T"
   ]
  },
  {
   "cell_type": "markdown",
   "id": "6f737cf6-3b3e-4b38-ba72-1821061f3f86",
   "metadata": {},
   "source": [
    "- 행과 열 이름을 정렬하기 : sort_index() 메소드\n",
    "    - axis = 0 : index를 기준으로 정렬\n",
    "    - axis = 1 : column을 기준으로 정렬\n",
    "    - ascending = True : 오름차순 정렬\n",
    "    - ascending = False : 내림차순 정렬"
   ]
  },
  {
   "cell_type": "code",
   "execution_count": 18,
   "id": "382a9e39-c432-4648-8c80-5b40c0838b90",
   "metadata": {},
   "outputs": [
    {
     "data": {
      "text/html": [
       "<div>\n",
       "<style scoped>\n",
       "    .dataframe tbody tr th:only-of-type {\n",
       "        vertical-align: middle;\n",
       "    }\n",
       "\n",
       "    .dataframe tbody tr th {\n",
       "        vertical-align: top;\n",
       "    }\n",
       "\n",
       "    .dataframe thead th {\n",
       "        text-align: right;\n",
       "    }\n",
       "</style>\n",
       "<table border=\"1\" class=\"dataframe\">\n",
       "  <thead>\n",
       "    <tr style=\"text-align: right;\">\n",
       "      <th></th>\n",
       "      <th>D</th>\n",
       "      <th>C</th>\n",
       "      <th>B</th>\n",
       "      <th>A</th>\n",
       "    </tr>\n",
       "  </thead>\n",
       "  <tbody>\n",
       "    <tr>\n",
       "      <th>2022-08-01</th>\n",
       "      <td>-1.157917</td>\n",
       "      <td>-0.538712</td>\n",
       "      <td>-0.531284</td>\n",
       "      <td>-0.105818</td>\n",
       "    </tr>\n",
       "    <tr>\n",
       "      <th>2022-08-02</th>\n",
       "      <td>-0.968098</td>\n",
       "      <td>0.051116</td>\n",
       "      <td>0.567517</td>\n",
       "      <td>-0.334733</td>\n",
       "    </tr>\n",
       "    <tr>\n",
       "      <th>2022-08-03</th>\n",
       "      <td>1.039669</td>\n",
       "      <td>-1.401836</td>\n",
       "      <td>-1.295673</td>\n",
       "      <td>-0.316085</td>\n",
       "    </tr>\n",
       "    <tr>\n",
       "      <th>2022-08-04</th>\n",
       "      <td>-1.274215</td>\n",
       "      <td>-2.252284</td>\n",
       "      <td>0.060956</td>\n",
       "      <td>1.655381</td>\n",
       "    </tr>\n",
       "    <tr>\n",
       "      <th>2022-08-05</th>\n",
       "      <td>-1.010675</td>\n",
       "      <td>1.057240</td>\n",
       "      <td>1.153751</td>\n",
       "      <td>0.702529</td>\n",
       "    </tr>\n",
       "    <tr>\n",
       "      <th>2022-08-06</th>\n",
       "      <td>-0.872713</td>\n",
       "      <td>0.308734</td>\n",
       "      <td>-0.898653</td>\n",
       "      <td>-0.067756</td>\n",
       "    </tr>\n",
       "  </tbody>\n",
       "</table>\n",
       "</div>"
      ],
      "text/plain": [
       "                   D         C         B         A\n",
       "2022-08-01 -1.157917 -0.538712 -0.531284 -0.105818\n",
       "2022-08-02 -0.968098  0.051116  0.567517 -0.334733\n",
       "2022-08-03  1.039669 -1.401836 -1.295673 -0.316085\n",
       "2022-08-04 -1.274215 -2.252284  0.060956  1.655381\n",
       "2022-08-05 -1.010675  1.057240  1.153751  0.702529\n",
       "2022-08-06 -0.872713  0.308734 -0.898653 -0.067756"
      ]
     },
     "execution_count": 18,
     "metadata": {},
     "output_type": "execute_result"
    }
   ],
   "source": [
    "df.sort_index(axis=1, ascending = False) # 내림차순으로 정렬"
   ]
  },
  {
   "cell_type": "markdown",
   "id": "a355d072-1e77-4007-924a-4bd9d9a1f3fd",
   "metadata": {},
   "source": [
    "- 데이터 프레임 내부에 있는 값으로 정렬하기 : sort_values()\n",
    "- dataframe은 sort()가 없음"
   ]
  },
  {
   "cell_type": "code",
   "execution_count": 20,
   "id": "47770838-a002-4321-bed1-c1695ab450b4",
   "metadata": {},
   "outputs": [
    {
     "data": {
      "text/html": [
       "<div>\n",
       "<style scoped>\n",
       "    .dataframe tbody tr th:only-of-type {\n",
       "        vertical-align: middle;\n",
       "    }\n",
       "\n",
       "    .dataframe tbody tr th {\n",
       "        vertical-align: top;\n",
       "    }\n",
       "\n",
       "    .dataframe thead th {\n",
       "        text-align: right;\n",
       "    }\n",
       "</style>\n",
       "<table border=\"1\" class=\"dataframe\">\n",
       "  <thead>\n",
       "    <tr style=\"text-align: right;\">\n",
       "      <th></th>\n",
       "      <th>A</th>\n",
       "      <th>B</th>\n",
       "      <th>C</th>\n",
       "      <th>D</th>\n",
       "    </tr>\n",
       "  </thead>\n",
       "  <tbody>\n",
       "    <tr>\n",
       "      <th>2022-08-03</th>\n",
       "      <td>-0.316085</td>\n",
       "      <td>-1.295673</td>\n",
       "      <td>-1.401836</td>\n",
       "      <td>1.039669</td>\n",
       "    </tr>\n",
       "    <tr>\n",
       "      <th>2022-08-06</th>\n",
       "      <td>-0.067756</td>\n",
       "      <td>-0.898653</td>\n",
       "      <td>0.308734</td>\n",
       "      <td>-0.872713</td>\n",
       "    </tr>\n",
       "    <tr>\n",
       "      <th>2022-08-01</th>\n",
       "      <td>-0.105818</td>\n",
       "      <td>-0.531284</td>\n",
       "      <td>-0.538712</td>\n",
       "      <td>-1.157917</td>\n",
       "    </tr>\n",
       "    <tr>\n",
       "      <th>2022-08-04</th>\n",
       "      <td>1.655381</td>\n",
       "      <td>0.060956</td>\n",
       "      <td>-2.252284</td>\n",
       "      <td>-1.274215</td>\n",
       "    </tr>\n",
       "    <tr>\n",
       "      <th>2022-08-02</th>\n",
       "      <td>-0.334733</td>\n",
       "      <td>0.567517</td>\n",
       "      <td>0.051116</td>\n",
       "      <td>-0.968098</td>\n",
       "    </tr>\n",
       "    <tr>\n",
       "      <th>2022-08-05</th>\n",
       "      <td>0.702529</td>\n",
       "      <td>1.153751</td>\n",
       "      <td>1.057240</td>\n",
       "      <td>-1.010675</td>\n",
       "    </tr>\n",
       "  </tbody>\n",
       "</table>\n",
       "</div>"
      ],
      "text/plain": [
       "                   A         B         C         D\n",
       "2022-08-03 -0.316085 -1.295673 -1.401836  1.039669\n",
       "2022-08-06 -0.067756 -0.898653  0.308734 -0.872713\n",
       "2022-08-01 -0.105818 -0.531284 -0.538712 -1.157917\n",
       "2022-08-04  1.655381  0.060956 -2.252284 -1.274215\n",
       "2022-08-02 -0.334733  0.567517  0.051116 -0.968098\n",
       "2022-08-05  0.702529  1.153751  1.057240 -1.010675"
      ]
     },
     "execution_count": 20,
     "metadata": {},
     "output_type": "execute_result"
    }
   ],
   "source": [
    "# 'B' column 에 대해 정렬\n",
    "df.sort_values(by='B') # B 컬럼의 값이 커지는 순으로 행의 인덱스가 정리"
   ]
  },
  {
   "cell_type": "markdown",
   "id": "44b31400-b5c2-4392-aefd-162994a32028",
   "metadata": {},
   "source": [
    "## 데이터 선택하기\n",
    "- 슬라이싱 사용"
   ]
  },
  {
   "cell_type": "code",
   "execution_count": 21,
   "id": "b9ae1370-755f-4fd2-ad39-4c97af0b90f2",
   "metadata": {},
   "outputs": [
    {
     "data": {
      "text/plain": [
       "2022-08-01   -0.105818\n",
       "2022-08-02   -0.334733\n",
       "2022-08-03   -0.316085\n",
       "2022-08-04    1.655381\n",
       "2022-08-05    0.702529\n",
       "2022-08-06   -0.067756\n",
       "Freq: D, Name: A, dtype: float64"
      ]
     },
     "execution_count": 21,
     "metadata": {},
     "output_type": "execute_result"
    }
   ],
   "source": [
    "# 컬럼 'A' 출력\n",
    "df['A']"
   ]
  },
  {
   "cell_type": "code",
   "execution_count": 22,
   "id": "3ddeb5b5-6698-46a6-aa86-c4e335d716c8",
   "metadata": {},
   "outputs": [
    {
     "data": {
      "text/plain": [
       "pandas.core.series.Series"
      ]
     },
     "execution_count": 22,
     "metadata": {},
     "output_type": "execute_result"
    }
   ],
   "source": [
    "type(df['A'])"
   ]
  },
  {
   "cell_type": "code",
   "execution_count": 23,
   "id": "d2e0cda2-68e6-4449-b8e1-1dc23a86e212",
   "metadata": {},
   "outputs": [
    {
     "data": {
      "text/html": [
       "<div>\n",
       "<style scoped>\n",
       "    .dataframe tbody tr th:only-of-type {\n",
       "        vertical-align: middle;\n",
       "    }\n",
       "\n",
       "    .dataframe tbody tr th {\n",
       "        vertical-align: top;\n",
       "    }\n",
       "\n",
       "    .dataframe thead th {\n",
       "        text-align: right;\n",
       "    }\n",
       "</style>\n",
       "<table border=\"1\" class=\"dataframe\">\n",
       "  <thead>\n",
       "    <tr style=\"text-align: right;\">\n",
       "      <th></th>\n",
       "      <th>A</th>\n",
       "      <th>B</th>\n",
       "      <th>C</th>\n",
       "      <th>D</th>\n",
       "    </tr>\n",
       "  </thead>\n",
       "  <tbody>\n",
       "    <tr>\n",
       "      <th>2022-08-01</th>\n",
       "      <td>-0.105818</td>\n",
       "      <td>-0.531284</td>\n",
       "      <td>-0.538712</td>\n",
       "      <td>-1.157917</td>\n",
       "    </tr>\n",
       "    <tr>\n",
       "      <th>2022-08-02</th>\n",
       "      <td>-0.334733</td>\n",
       "      <td>0.567517</td>\n",
       "      <td>0.051116</td>\n",
       "      <td>-0.968098</td>\n",
       "    </tr>\n",
       "    <tr>\n",
       "      <th>2022-08-03</th>\n",
       "      <td>-0.316085</td>\n",
       "      <td>-1.295673</td>\n",
       "      <td>-1.401836</td>\n",
       "      <td>1.039669</td>\n",
       "    </tr>\n",
       "  </tbody>\n",
       "</table>\n",
       "</div>"
      ],
      "text/plain": [
       "                   A         B         C         D\n",
       "2022-08-01 -0.105818 -0.531284 -0.538712 -1.157917\n",
       "2022-08-02 -0.334733  0.567517  0.051116 -0.968098\n",
       "2022-08-03 -0.316085 -1.295673 -1.401836  1.039669"
      ]
     },
     "execution_count": 23,
     "metadata": {},
     "output_type": "execute_result"
    }
   ],
   "source": [
    "# 0,1,2행을 추출 (특정 '행 범위'의 데이터 추출)\n",
    "df[0:3]"
   ]
  },
  {
   "cell_type": "code",
   "execution_count": 24,
   "id": "e58adc14-ea72-4c6d-a87e-929fe0c62d2b",
   "metadata": {},
   "outputs": [
    {
     "data": {
      "text/html": [
       "<div>\n",
       "<style scoped>\n",
       "    .dataframe tbody tr th:only-of-type {\n",
       "        vertical-align: middle;\n",
       "    }\n",
       "\n",
       "    .dataframe tbody tr th {\n",
       "        vertical-align: top;\n",
       "    }\n",
       "\n",
       "    .dataframe thead th {\n",
       "        text-align: right;\n",
       "    }\n",
       "</style>\n",
       "<table border=\"1\" class=\"dataframe\">\n",
       "  <thead>\n",
       "    <tr style=\"text-align: right;\">\n",
       "      <th></th>\n",
       "      <th>A</th>\n",
       "      <th>B</th>\n",
       "      <th>C</th>\n",
       "      <th>D</th>\n",
       "    </tr>\n",
       "  </thead>\n",
       "  <tbody>\n",
       "    <tr>\n",
       "      <th>2022-08-02</th>\n",
       "      <td>-0.334733</td>\n",
       "      <td>0.567517</td>\n",
       "      <td>0.051116</td>\n",
       "      <td>-0.968098</td>\n",
       "    </tr>\n",
       "    <tr>\n",
       "      <th>2022-08-03</th>\n",
       "      <td>-0.316085</td>\n",
       "      <td>-1.295673</td>\n",
       "      <td>-1.401836</td>\n",
       "      <td>1.039669</td>\n",
       "    </tr>\n",
       "    <tr>\n",
       "      <th>2022-08-04</th>\n",
       "      <td>1.655381</td>\n",
       "      <td>0.060956</td>\n",
       "      <td>-2.252284</td>\n",
       "      <td>-1.274215</td>\n",
       "    </tr>\n",
       "  </tbody>\n",
       "</table>\n",
       "</div>"
      ],
      "text/plain": [
       "                   A         B         C         D\n",
       "2022-08-02 -0.334733  0.567517  0.051116 -0.968098\n",
       "2022-08-03 -0.316085 -1.295673 -1.401836  1.039669\n",
       "2022-08-04  1.655381  0.060956 -2.252284 -1.274215"
      ]
     },
     "execution_count": 24,
     "metadata": {},
     "output_type": "execute_result"
    }
   ],
   "source": [
    "# index명에 해당하는 값들 추출\n",
    "df['20220802':'20220804']"
   ]
  },
  {
   "cell_type": "markdown",
   "id": "a84256a2-f1ff-44fc-a34f-64a4137c2a3d",
   "metadata": {},
   "source": [
    "##### **특정 행 하나**를 선택하고 싶은 경우(컬럼선택과 헷갈릴 수 있음)"
   ]
  },
  {
   "cell_type": "code",
   "execution_count": 25,
   "id": "92274699-283e-4715-96ce-3f03b070a311",
   "metadata": {},
   "outputs": [
    {
     "data": {
      "text/html": [
       "<div>\n",
       "<style scoped>\n",
       "    .dataframe tbody tr th:only-of-type {\n",
       "        vertical-align: middle;\n",
       "    }\n",
       "\n",
       "    .dataframe tbody tr th {\n",
       "        vertical-align: top;\n",
       "    }\n",
       "\n",
       "    .dataframe thead th {\n",
       "        text-align: right;\n",
       "    }\n",
       "</style>\n",
       "<table border=\"1\" class=\"dataframe\">\n",
       "  <thead>\n",
       "    <tr style=\"text-align: right;\">\n",
       "      <th></th>\n",
       "      <th>A</th>\n",
       "      <th>B</th>\n",
       "      <th>C</th>\n",
       "      <th>D</th>\n",
       "    </tr>\n",
       "  </thead>\n",
       "  <tbody>\n",
       "    <tr>\n",
       "      <th>2022-08-02</th>\n",
       "      <td>-0.334733</td>\n",
       "      <td>0.567517</td>\n",
       "      <td>0.051116</td>\n",
       "      <td>-0.968098</td>\n",
       "    </tr>\n",
       "  </tbody>\n",
       "</table>\n",
       "</div>"
      ],
      "text/plain": [
       "                   A         B         C         D\n",
       "2022-08-02 -0.334733  0.567517  0.051116 -0.968098"
      ]
     },
     "execution_count": 25,
     "metadata": {},
     "output_type": "execute_result"
    }
   ],
   "source": [
    "df['20220802':'20220802']"
   ]
  },
  {
   "cell_type": "markdown",
   "id": "997972d1-75d4-4b64-811b-1b439711864b",
   "metadata": {},
   "source": [
    "<요약>\n",
    "- 데이터프레임 자체가 갖고 있는 슬라이싱은 다음과 같은 형태로 사용 가능!\n",
    "    - df[컬럼명]\n",
    "    - df[시작인뎃스:끝 인덱스+1]\n",
    "    - df[시작인덱스명: 끝인덱스명]"
   ]
  },
  {
   "cell_type": "markdown",
   "id": "bda5cb64-397b-46b7-b90e-6c75f8d7fbd2",
   "metadata": {},
   "source": [
    "### 라벨의 이름을 이용(명칭 기반 인덱싱)하여 데이터 선택하기:.loc"
   ]
  },
  {
   "cell_type": "code",
   "execution_count": 28,
   "id": "826fc1e6-96f0-49d4-a23f-af8549ae26b9",
   "metadata": {},
   "outputs": [
    {
     "data": {
      "text/html": [
       "<div>\n",
       "<style scoped>\n",
       "    .dataframe tbody tr th:only-of-type {\n",
       "        vertical-align: middle;\n",
       "    }\n",
       "\n",
       "    .dataframe tbody tr th {\n",
       "        vertical-align: top;\n",
       "    }\n",
       "\n",
       "    .dataframe thead th {\n",
       "        text-align: right;\n",
       "    }\n",
       "</style>\n",
       "<table border=\"1\" class=\"dataframe\">\n",
       "  <thead>\n",
       "    <tr style=\"text-align: right;\">\n",
       "      <th></th>\n",
       "      <th>A</th>\n",
       "      <th>B</th>\n",
       "      <th>C</th>\n",
       "      <th>D</th>\n",
       "    </tr>\n",
       "  </thead>\n",
       "  <tbody>\n",
       "    <tr>\n",
       "      <th>2022-08-01</th>\n",
       "      <td>-0.105818</td>\n",
       "      <td>-0.531284</td>\n",
       "      <td>-0.538712</td>\n",
       "      <td>-1.157917</td>\n",
       "    </tr>\n",
       "    <tr>\n",
       "      <th>2022-08-02</th>\n",
       "      <td>-0.334733</td>\n",
       "      <td>0.567517</td>\n",
       "      <td>0.051116</td>\n",
       "      <td>-0.968098</td>\n",
       "    </tr>\n",
       "    <tr>\n",
       "      <th>2022-08-03</th>\n",
       "      <td>-0.316085</td>\n",
       "      <td>-1.295673</td>\n",
       "      <td>-1.401836</td>\n",
       "      <td>1.039669</td>\n",
       "    </tr>\n",
       "    <tr>\n",
       "      <th>2022-08-04</th>\n",
       "      <td>1.655381</td>\n",
       "      <td>0.060956</td>\n",
       "      <td>-2.252284</td>\n",
       "      <td>-1.274215</td>\n",
       "    </tr>\n",
       "    <tr>\n",
       "      <th>2022-08-05</th>\n",
       "      <td>0.702529</td>\n",
       "      <td>1.153751</td>\n",
       "      <td>1.057240</td>\n",
       "      <td>-1.010675</td>\n",
       "    </tr>\n",
       "    <tr>\n",
       "      <th>2022-08-06</th>\n",
       "      <td>-0.067756</td>\n",
       "      <td>-0.898653</td>\n",
       "      <td>0.308734</td>\n",
       "      <td>-0.872713</td>\n",
       "    </tr>\n",
       "  </tbody>\n",
       "</table>\n",
       "</div>"
      ],
      "text/plain": [
       "                   A         B         C         D\n",
       "2022-08-01 -0.105818 -0.531284 -0.538712 -1.157917\n",
       "2022-08-02 -0.334733  0.567517  0.051116 -0.968098\n",
       "2022-08-03 -0.316085 -1.295673 -1.401836  1.039669\n",
       "2022-08-04  1.655381  0.060956 -2.252284 -1.274215\n",
       "2022-08-05  0.702529  1.153751  1.057240 -1.010675\n",
       "2022-08-06 -0.067756 -0.898653  0.308734 -0.872713"
      ]
     },
     "execution_count": 28,
     "metadata": {},
     "output_type": "execute_result"
    }
   ],
   "source": [
    "df"
   ]
  },
  {
   "cell_type": "code",
   "execution_count": 27,
   "id": "317dc4c1-6104-4d06-922e-97ab52285319",
   "metadata": {},
   "outputs": [
    {
     "data": {
      "text/plain": [
       "A   -0.105818\n",
       "B   -0.531284\n",
       "C   -0.538712\n",
       "D   -1.157917\n",
       "Name: 2022-08-01 00:00:00, dtype: float64"
      ]
     },
     "execution_count": 27,
     "metadata": {},
     "output_type": "execute_result"
    }
   ],
   "source": [
    "df.loc[dates[0]]\n",
    "#df.loc['20220801']\n",
    "#df.loc['2022-08-01']"
   ]
  },
  {
   "cell_type": "code",
   "execution_count": 30,
   "id": "bb4f5059-6816-47f1-bea0-a37d340a4c62",
   "metadata": {},
   "outputs": [
    {
     "data": {
      "text/html": [
       "<div>\n",
       "<style scoped>\n",
       "    .dataframe tbody tr th:only-of-type {\n",
       "        vertical-align: middle;\n",
       "    }\n",
       "\n",
       "    .dataframe tbody tr th {\n",
       "        vertical-align: top;\n",
       "    }\n",
       "\n",
       "    .dataframe thead th {\n",
       "        text-align: right;\n",
       "    }\n",
       "</style>\n",
       "<table border=\"1\" class=\"dataframe\">\n",
       "  <thead>\n",
       "    <tr style=\"text-align: right;\">\n",
       "      <th></th>\n",
       "      <th>A</th>\n",
       "      <th>B</th>\n",
       "    </tr>\n",
       "  </thead>\n",
       "  <tbody>\n",
       "    <tr>\n",
       "      <th>2022-08-01</th>\n",
       "      <td>-0.105818</td>\n",
       "      <td>-0.531284</td>\n",
       "    </tr>\n",
       "    <tr>\n",
       "      <th>2022-08-02</th>\n",
       "      <td>-0.334733</td>\n",
       "      <td>0.567517</td>\n",
       "    </tr>\n",
       "    <tr>\n",
       "      <th>2022-08-03</th>\n",
       "      <td>-0.316085</td>\n",
       "      <td>-1.295673</td>\n",
       "    </tr>\n",
       "    <tr>\n",
       "      <th>2022-08-04</th>\n",
       "      <td>1.655381</td>\n",
       "      <td>0.060956</td>\n",
       "    </tr>\n",
       "    <tr>\n",
       "      <th>2022-08-05</th>\n",
       "      <td>0.702529</td>\n",
       "      <td>1.153751</td>\n",
       "    </tr>\n",
       "    <tr>\n",
       "      <th>2022-08-06</th>\n",
       "      <td>-0.067756</td>\n",
       "      <td>-0.898653</td>\n",
       "    </tr>\n",
       "  </tbody>\n",
       "</table>\n",
       "</div>"
      ],
      "text/plain": [
       "                   A         B\n",
       "2022-08-01 -0.105818 -0.531284\n",
       "2022-08-02 -0.334733  0.567517\n",
       "2022-08-03 -0.316085 -1.295673\n",
       "2022-08-04  1.655381  0.060956\n",
       "2022-08-05  0.702529  1.153751\n",
       "2022-08-06 -0.067756 -0.898653"
      ]
     },
     "execution_count": 30,
     "metadata": {},
     "output_type": "execute_result"
    }
   ],
   "source": [
    "# column 'A','B'에 대한 모든 값 추출\n",
    "df.loc[:,['A','B']]"
   ]
  },
  {
   "cell_type": "code",
   "execution_count": 31,
   "id": "8b2d202f-d096-48b3-9da1-6393a8847f91",
   "metadata": {},
   "outputs": [
    {
     "data": {
      "text/html": [
       "<div>\n",
       "<style scoped>\n",
       "    .dataframe tbody tr th:only-of-type {\n",
       "        vertical-align: middle;\n",
       "    }\n",
       "\n",
       "    .dataframe tbody tr th {\n",
       "        vertical-align: top;\n",
       "    }\n",
       "\n",
       "    .dataframe thead th {\n",
       "        text-align: right;\n",
       "    }\n",
       "</style>\n",
       "<table border=\"1\" class=\"dataframe\">\n",
       "  <thead>\n",
       "    <tr style=\"text-align: right;\">\n",
       "      <th></th>\n",
       "      <th>A</th>\n",
       "      <th>B</th>\n",
       "    </tr>\n",
       "  </thead>\n",
       "  <tbody>\n",
       "    <tr>\n",
       "      <th>2022-08-02</th>\n",
       "      <td>-0.334733</td>\n",
       "      <td>0.567517</td>\n",
       "    </tr>\n",
       "    <tr>\n",
       "      <th>2022-08-03</th>\n",
       "      <td>-0.316085</td>\n",
       "      <td>-1.295673</td>\n",
       "    </tr>\n",
       "    <tr>\n",
       "      <th>2022-08-04</th>\n",
       "      <td>1.655381</td>\n",
       "      <td>0.060956</td>\n",
       "    </tr>\n",
       "  </tbody>\n",
       "</table>\n",
       "</div>"
      ],
      "text/plain": [
       "                   A         B\n",
       "2022-08-02 -0.334733  0.567517\n",
       "2022-08-03 -0.316085 -1.295673\n",
       "2022-08-04  1.655381  0.060956"
      ]
     },
     "execution_count": 31,
     "metadata": {},
     "output_type": "execute_result"
    }
   ],
   "source": [
    "# index '2022-08-02'부터 '2022-08-04'까지의 column 'A','B'의 값 추출\n",
    "df.loc['20220802':'20220804',['A','B']]"
   ]
  },
  {
   "cell_type": "code",
   "execution_count": 32,
   "id": "b65a94a2-493d-49a5-94b0-c2d30b53dafd",
   "metadata": {},
   "outputs": [
    {
     "data": {
      "text/plain": [
       "A   -0.105818\n",
       "B   -0.531284\n",
       "Name: 2022-08-01 00:00:00, dtype: float64"
      ]
     },
     "execution_count": 32,
     "metadata": {},
     "output_type": "execute_result"
    }
   ],
   "source": [
    "# 특정 index 값의 column 'A','B' 값을 추출\n",
    "df.loc[dates[0],['A','B']]"
   ]
  },
  {
   "cell_type": "code",
   "execution_count": 33,
   "id": "b7de16a4-4f29-426c-ba75-b1a9d7976690",
   "metadata": {},
   "outputs": [
    {
     "data": {
      "text/plain": [
       "-0.10581774118363481"
      ]
     },
     "execution_count": 33,
     "metadata": {},
     "output_type": "execute_result"
    }
   ],
   "source": [
    "# 특정 index 값과 특정 column에 있는 값을 추출\n",
    "df.at[dates[0],'A']"
   ]
  },
  {
   "cell_type": "markdown",
   "id": "decb30cd-c3d9-4ba5-9d0b-7ac280fa9259",
   "metadata": {},
   "source": [
    "### 위치를 나타내는 index 번호를 이용(위치 기반 인덱싱)하여 데이터 선택하기 : .iloc\n",
    "- 행과 열 값으로 정수형 또는 정수형의 슬라이싱, 팬시 리스트(인덱스의 집합을 리스트로 만든 것)값을 입력\n",
    "- iloc에 위치 인덱싱이 아닌 명칭을 입력하면 오류가 발생\n",
    "    - ex) data_df.iloc[0,'Name'] (X)\n",
    "- iloc에 문자열 인덱스를 행 위치에 입력하도 오류가 밸생\n",
    "    - ex) data_df.iloc['one',0] (X)\n",
    "- iloc는 슬라이싱과 팬시 인덱싱은 제공하나, 명확한 위치 기반 인덱싱이 사용되어야 하는 제약으로 인해 불린 인덱싱은 제공하지 않음"
   ]
  },
  {
   "cell_type": "code",
   "execution_count": 35,
   "id": "4abc9575-6d2f-47f7-8784-118d80023163",
   "metadata": {},
   "outputs": [
    {
     "data": {
      "text/html": [
       "<div>\n",
       "<style scoped>\n",
       "    .dataframe tbody tr th:only-of-type {\n",
       "        vertical-align: middle;\n",
       "    }\n",
       "\n",
       "    .dataframe tbody tr th {\n",
       "        vertical-align: top;\n",
       "    }\n",
       "\n",
       "    .dataframe thead th {\n",
       "        text-align: right;\n",
       "    }\n",
       "</style>\n",
       "<table border=\"1\" class=\"dataframe\">\n",
       "  <thead>\n",
       "    <tr style=\"text-align: right;\">\n",
       "      <th></th>\n",
       "      <th>A</th>\n",
       "      <th>B</th>\n",
       "      <th>C</th>\n",
       "      <th>D</th>\n",
       "    </tr>\n",
       "  </thead>\n",
       "  <tbody>\n",
       "    <tr>\n",
       "      <th>2022-08-01</th>\n",
       "      <td>-0.105818</td>\n",
       "      <td>-0.531284</td>\n",
       "      <td>-0.538712</td>\n",
       "      <td>-1.157917</td>\n",
       "    </tr>\n",
       "    <tr>\n",
       "      <th>2022-08-02</th>\n",
       "      <td>-0.334733</td>\n",
       "      <td>0.567517</td>\n",
       "      <td>0.051116</td>\n",
       "      <td>-0.968098</td>\n",
       "    </tr>\n",
       "    <tr>\n",
       "      <th>2022-08-03</th>\n",
       "      <td>-0.316085</td>\n",
       "      <td>-1.295673</td>\n",
       "      <td>-1.401836</td>\n",
       "      <td>1.039669</td>\n",
       "    </tr>\n",
       "    <tr>\n",
       "      <th>2022-08-04</th>\n",
       "      <td>1.655381</td>\n",
       "      <td>0.060956</td>\n",
       "      <td>-2.252284</td>\n",
       "      <td>-1.274215</td>\n",
       "    </tr>\n",
       "    <tr>\n",
       "      <th>2022-08-05</th>\n",
       "      <td>0.702529</td>\n",
       "      <td>1.153751</td>\n",
       "      <td>1.057240</td>\n",
       "      <td>-1.010675</td>\n",
       "    </tr>\n",
       "    <tr>\n",
       "      <th>2022-08-06</th>\n",
       "      <td>-0.067756</td>\n",
       "      <td>-0.898653</td>\n",
       "      <td>0.308734</td>\n",
       "      <td>-0.872713</td>\n",
       "    </tr>\n",
       "  </tbody>\n",
       "</table>\n",
       "</div>"
      ],
      "text/plain": [
       "                   A         B         C         D\n",
       "2022-08-01 -0.105818 -0.531284 -0.538712 -1.157917\n",
       "2022-08-02 -0.334733  0.567517  0.051116 -0.968098\n",
       "2022-08-03 -0.316085 -1.295673 -1.401836  1.039669\n",
       "2022-08-04  1.655381  0.060956 -2.252284 -1.274215\n",
       "2022-08-05  0.702529  1.153751  1.057240 -1.010675\n",
       "2022-08-06 -0.067756 -0.898653  0.308734 -0.872713"
      ]
     },
     "execution_count": 35,
     "metadata": {},
     "output_type": "execute_result"
    }
   ],
   "source": [
    "df"
   ]
  },
  {
   "cell_type": "code",
   "execution_count": 37,
   "id": "b3011f94-93f6-4eea-a90b-95c464dbb2e2",
   "metadata": {},
   "outputs": [
    {
     "data": {
      "text/plain": [
       "A    1.655381\n",
       "B    0.060956\n",
       "C   -2.252284\n",
       "D   -1.274215\n",
       "Name: 2022-08-04 00:00:00, dtype: float64"
      ]
     },
     "execution_count": 37,
     "metadata": {},
     "output_type": "execute_result"
    }
   ],
   "source": [
    "# index 번호 3행 출력\n",
    "df.iloc[3]"
   ]
  },
  {
   "cell_type": "code",
   "execution_count": null,
   "id": "56ad7535-8d6b-4a65-9915-6c52a4f0670d",
   "metadata": {},
   "outputs": [],
   "source": []
  },
  {
   "cell_type": "code",
   "execution_count": null,
   "id": "2b1c9ce6-364b-440a-8cef-ed91a575e1fa",
   "metadata": {},
   "outputs": [],
   "source": []
  },
  {
   "cell_type": "markdown",
   "id": "07534eaa-984e-47a2-8793-8625cdce9013",
   "metadata": {},
   "source": [
    "### 불린 인덱싱(조건 설정)을 사용하여 데이터 선택하기\n",
    "- 가장 많이 사용\n",
    "- 특정한 열의 값들을 기준으로 조건을 만들어서, 해당 조건에 만족하는 '행'만 선택"
   ]
  },
  {
   "cell_type": "code",
   "execution_count": null,
   "id": "a3fbb57e-8834-4942-945c-40fb8252234b",
   "metadata": {},
   "outputs": [],
   "source": []
  },
  {
   "cell_type": "code",
   "execution_count": null,
   "id": "c7c6f58c-2ecc-4671-a8f9-b2a214ee6278",
   "metadata": {},
   "outputs": [],
   "source": []
  },
  {
   "cell_type": "code",
   "execution_count": null,
   "id": "f4428f17-243a-449a-9b3d-b46b9add4300",
   "metadata": {},
   "outputs": [],
   "source": []
  },
  {
   "cell_type": "markdown",
   "id": "18f134e8-9c94-436c-8494-59366a520796",
   "metadata": {},
   "source": [
    "## 데이터 변경하기\n",
    "- 데이터 프레임의 특정 값들을 다른 값으로 변경"
   ]
  },
  {
   "cell_type": "code",
   "execution_count": null,
   "id": "5f68c42a-1023-4bcc-b7ce-ff6e25a7e4aa",
   "metadata": {},
   "outputs": [],
   "source": []
  },
  {
   "cell_type": "markdown",
   "id": "8040f6a0-d47b-41ae-9b0d-95bc27fdc8a1",
   "metadata": {},
   "source": [
    "### DataFrame과 리스트, 딕셔너리, 넘파이 ndarray 상호 변환\n",
    "##### **리스트, ndarray에서 DataFrame 변환**"
   ]
  },
  {
   "cell_type": "code",
   "execution_count": null,
   "id": "a852214a-d4d2-452d-81a7-7b32bb782c5b",
   "metadata": {},
   "outputs": [],
   "source": []
  },
  {
   "cell_type": "markdown",
   "id": "bf289998-f81b-4111-be8e-c829d1f496d4",
   "metadata": {},
   "source": [
    "##### **딕셔너리(dict)에서 DataFrame변환**"
   ]
  },
  {
   "cell_type": "code",
   "execution_count": null,
   "id": "b56e67b0-2250-4f7a-b5dd-46ff472ffe71",
   "metadata": {},
   "outputs": [],
   "source": []
  },
  {
   "cell_type": "markdown",
   "id": "364400c9-c684-4509-9ce2-045e4cc3a0f6",
   "metadata": {},
   "source": [
    "##### **DataFrame을 ndarray로 변환**"
   ]
  },
  {
   "cell_type": "code",
   "execution_count": null,
   "id": "aaa79937-9e29-456b-a98d-ff74aee8a858",
   "metadata": {},
   "outputs": [],
   "source": []
  },
  {
   "cell_type": "markdown",
   "id": "411aeeec-0d2a-4ee9-9eb5-aa2f9cf6d15b",
   "metadata": {},
   "source": [
    "##### **DataFrame을 리스트와 딕셔너리로 변환**"
   ]
  },
  {
   "cell_type": "code",
   "execution_count": null,
   "id": "38168c67-eaf9-4219-9877-bd7353dffd0a",
   "metadata": {},
   "outputs": [],
   "source": []
  },
  {
   "cell_type": "markdown",
   "id": "c670adc2-2b85-4a71-8a1b-193f445b7560",
   "metadata": {},
   "source": [
    "## DataFrame 데이터 삭제하기\n",
    "- drop() 메소드 사용\n",
    "- DataFrame.drop(labels=None, axis =0,index=None, columns=None,level=None,inplace=False,errors='raise')\n",
    "    - axis = 0 : row 방향 축 --> 이상치 데이터 삭제하는 경우\n",
    "    - axis = 1 : column 방향 축 --> 기존 column 값을 가공해서 새로운 column을 만들고 삭제\n",
    "    - inplace = False : 원본 DataFrame을 유지하고 drop된 DataFrame을 새롭게 만들고 싶은 경우\n",
    "    - inplcae = True : 원본 DataFrame에 drop된 결과를 적용할 경우"
   ]
  },
  {
   "cell_type": "markdown",
   "id": "27158cdc-f3dc-4626-bbec-000fe4a4afc5",
   "metadata": {},
   "source": [
    "##### **inplace = True와 False 둘 중, 하나를 딱 정해서 사용**"
   ]
  },
  {
   "cell_type": "markdown",
   "id": "22ac2886-6957-4a6c-98c3-778d3f6037a8",
   "metadata": {},
   "source": [
    "## Index 객체 \n",
    "- DataFrame, Series에서 Index 객체만 추출하려면, DataFrame.index 또는 Series.index 속성을 통해 가능\n",
    "- Index는 오직 식별용으로만 사용\n",
    "- 한번 만들어진 DataFrame 및 Series의 Index 객체는 함부로 변경할 수 없다\n",
    "- DataFrame 및 Series에 reset_index() 메소드를 수행하면, 새롭게 인덱스를 연속 숫자형으로 할당하여 기존 인덱스는 'index'라는 새로운 칼럼명으로 추가\n",
    "    - 인덱스가 연속된 int 숫자형 데이터가 아닐 경우에, 다시 이를 연속 int 숫자형 데이터로 만들 때 사용\n",
    "    - Series에 reset_index()를 적용하면, Series가 아닌 DataFreame이 반환\n",
    "    - rest_index()의 파라미터 중, drop=True를 설명하면 기존 인덱스는 새로운 칼럼으로 추가되지 않고 삭제(drop)됨!"
   ]
  },
  {
   "cell_type": "markdown",
   "id": "5250bb48-9f17-490c-8654-d485bb46ff20",
   "metadata": {},
   "source": [
    "## 결측치(Missing Data) 처리하기\n",
    "- 결측 데이터는 column에 값이 없는 NULL인 경우\n",
    "- 기본적으로 머신러닝 알고리즘은 이 NaN 값을 처리하지 않으므로, 이 값을 다른 값으로 대체해야 함\n",
    "    - NaN 값은 평균, 총합 등의 함수 연산 시 제외\n",
    "- 판다스(pandas)에서는 결측치를 np.nan으로 나타내며, 기본적으로 연산에서 제외"
   ]
  },
  {
   "cell_type": "code",
   "execution_count": null,
   "id": "fb7b4a25-5abf-4875-a798-1546e219484c",
   "metadata": {},
   "outputs": [],
   "source": []
  },
  {
   "cell_type": "markdown",
   "id": "fcc3af7a-1424-47e8-a585-6b2c34c0ec12",
   "metadata": {},
   "source": [
    "## 연산(Operations)\n",
    "### 통계적 지표들(Stats)"
   ]
  },
  {
   "cell_type": "code",
   "execution_count": null,
   "id": "6a75dcb1-f8c4-477b-8d05-a5fae0fd5e90",
   "metadata": {},
   "outputs": [],
   "source": []
  },
  {
   "cell_type": "markdown",
   "id": "194ca58f-f003-4f55-8c63-fa40d600114e",
   "metadata": {},
   "source": [
    "### 데이터 프레임에 함수 적용하기 (Apply)\n",
    "- 판다스는 apply 함수에 lambda 식을 결합해 DataFrame 이나 Series의 레코드 별로 데이터를 가공하는 기능을 제공\n",
    "- apply lambda 식으로 데이터를 가공하는 방법은 자주 사용함\n",
    "    - ex) lambda x:x**2\n",
    "    - 위 예시에서 앞 x는 입력인자, 뒤 x**2는 입력인자를 기반으로 계산한 식\n",
    "- lambda 식을 이용할 때, 여러 개의 값을 입력 인자로 사용해야 할 경우, map() 함수 결합\n",
    "    - ex) a = [1,2,3]; squares = map(lambda x:x**2,a); list(squares)"
   ]
  },
  {
   "cell_type": "code",
   "execution_count": null,
   "id": "82e49398-91c5-46b3-a0d2-978ef9a0f5fa",
   "metadata": {},
   "outputs": [],
   "source": []
  },
  {
   "cell_type": "markdown",
   "id": "848c682c-aa5b-487c-8b21-3a3fc7cf1a0b",
   "metadata": {},
   "source": [
    "### 히스토그램 구하기 (Histogramming)"
   ]
  },
  {
   "cell_type": "code",
   "execution_count": null,
   "id": "4db7af11-ea8e-4c53-875b-c1e5660bc914",
   "metadata": {},
   "outputs": [],
   "source": []
  },
  {
   "cell_type": "markdown",
   "id": "cf097c1f-3a4f-43e1-928e-5b893d798b9f",
   "metadata": {},
   "source": [
    "### 문자열 관련 메소드들(String Methods)"
   ]
  },
  {
   "cell_type": "code",
   "execution_count": null,
   "id": "578fa54b-b073-4810-b40d-5ab7e4beaf6e",
   "metadata": {},
   "outputs": [],
   "source": []
  },
  {
   "cell_type": "markdown",
   "id": "6b08a54e-fb55-450d-bb08-12be3fe9c45a",
   "metadata": {},
   "source": [
    "## 합치기(Merging)\n",
    "- 다양한 자료들을 합쳐 새로운 자료를 만들 때 사용"
   ]
  },
  {
   "cell_type": "markdown",
   "id": "f1a29e1c-3753-4ef8-be7a-cf742cbea7eb",
   "metadata": {},
   "source": [
    "### Concat\n",
    "- 같은 형태의 자료들을 이어 하나로 만듬"
   ]
  },
  {
   "cell_type": "code",
   "execution_count": null,
   "id": "d08442d6-1997-4700-bbae-6c32720de828",
   "metadata": {},
   "outputs": [],
   "source": []
  },
  {
   "cell_type": "markdown",
   "id": "a2ac9501-be2b-4fbe-84b2-44d8c0127981",
   "metadata": {},
   "source": [
    "### Join\n",
    "- 데이터베이스에서 사용하는 SQL 스타일의 합치기 가능\n",
    "- merge 메소드를 통해 이루어짐"
   ]
  },
  {
   "cell_type": "code",
   "execution_count": null,
   "id": "4ecc0aef-cac0-4728-bd5b-f0d711f633c6",
   "metadata": {},
   "outputs": [],
   "source": []
  },
  {
   "cell_type": "markdown",
   "id": "8f3291f8-19ee-4969-9ca6-be385a0bf168",
   "metadata": {},
   "source": [
    "## 그룹화 = 묶기(Grouping)\n",
    "- 어떠한 기준을 바탕으로 데이터를 나눔(splitting)\n",
    "- 각 그룹에 어떤 함수를 독립적으로 적용(applying)\n",
    "- 적용되어 나온 결과들을 통합(combining)"
   ]
  },
  {
   "cell_type": "code",
   "execution_count": null,
   "id": "1319769b-d262-433e-9d8b-61e1918ecedd",
   "metadata": {},
   "outputs": [],
   "source": []
  },
  {
   "cell_type": "markdown",
   "id": "e04bb310-af2f-4972-b4d4-c06822a3cba0",
   "metadata": {},
   "source": [
    "## 변형하기(Reshaping)\n",
    "- 데이터 프레임을 다른 형태로 변환"
   ]
  },
  {
   "cell_type": "markdown",
   "id": "f68df4d8-eaef-445a-8fc2-5885a8acb1a9",
   "metadata": {},
   "source": [
    "### Stack 메소드\n",
    "- column들을 index의 레벨로 만들어 '압축'한다"
   ]
  },
  {
   "cell_type": "code",
   "execution_count": null,
   "id": "fabaced0-3182-467f-936b-046f4988667b",
   "metadata": {},
   "outputs": [],
   "source": []
  },
  {
   "cell_type": "markdown",
   "id": "7cc9afe7-4ced-4f59-851a-17281c0445d8",
   "metadata": {},
   "source": [
    "### Pivot Tables"
   ]
  },
  {
   "cell_type": "code",
   "execution_count": null,
   "id": "56c395fe-b7a9-4715-9bef-37e63ede4be8",
   "metadata": {},
   "outputs": [],
   "source": []
  },
  {
   "cell_type": "markdown",
   "id": "c5d65910-3fab-44f8-ba38-9a2eda3afc66",
   "metadata": {},
   "source": [
    "## 시계열 데이터 다루기(Time Series)\n",
    "- Pandas는 시계열 단위인 주기(frequency)를 다시 샘플링할 수 있다\n",
    "- 특히 금융데이터를 다룰 때 사용"
   ]
  },
  {
   "cell_type": "markdown",
   "id": "04402e3f-baa0-4285-a5fd-fdaa99b7d63c",
   "metadata": {},
   "source": [
    "### pd.to_datetime()\n",
    "- 날짜/시간을 나타내는 문자열을 자동으로 datetime 자료형으로 바꾸고, DatetimeIndex 자료형 index를 생성"
   ]
  },
  {
   "cell_type": "code",
   "execution_count": null,
   "id": "f53ecb63-8e97-4246-97ce-7854d101393e",
   "metadata": {},
   "outputs": [],
   "source": []
  },
  {
   "cell_type": "markdown",
   "id": "5a05a499-a41e-45a6-b506-2ca0eafa2c84",
   "metadata": {},
   "source": [
    "### pd.date_range() 함수\n",
    "- 모든 날짜/시간을 일일히 입력할 필요 없이, 시작일과 종료일 또는 시작일과 기간을 읿력하면 범위 내에 index를 생성"
   ]
  },
  {
   "cell_type": "code",
   "execution_count": null,
   "id": "a4ecb4f9-8d0c-4c28-9ae4-c07d78d52913",
   "metadata": {},
   "outputs": [],
   "source": []
  },
  {
   "cell_type": "markdown",
   "id": "e475d4e2-59db-495f-8d89-943e561e8a57",
   "metadata": {},
   "source": [
    "### shift 연산\n",
    "- "
   ]
  },
  {
   "cell_type": "code",
   "execution_count": null,
   "id": "9c11b1e1-f910-4c34-ab59-64cfba6cc7ef",
   "metadata": {},
   "outputs": [],
   "source": []
  },
  {
   "cell_type": "markdown",
   "id": "b932a685-7720-4799-b8ad-0a3c51e0cc7e",
   "metadata": {},
   "source": [
    "#### 1228에 이어서 함\n",
    "\n",
    "## 범주형 데이터 다루기(Categoricals)"
   ]
  },
  {
   "cell_type": "code",
   "execution_count": null,
   "id": "402cec56-6157-4b7d-8d4e-04851544d386",
   "metadata": {},
   "outputs": [],
   "source": []
  }
 ],
 "metadata": {
  "kernelspec": {
   "display_name": "Python 3 (ipykernel)",
   "language": "python",
   "name": "python3"
  },
  "language_info": {
   "codemirror_mode": {
    "name": "ipython",
    "version": 3
   },
   "file_extension": ".py",
   "mimetype": "text/x-python",
   "name": "python",
   "nbconvert_exporter": "python",
   "pygments_lexer": "ipython3",
   "version": "3.8.15"
  }
 },
 "nbformat": 4,
 "nbformat_minor": 5
}
