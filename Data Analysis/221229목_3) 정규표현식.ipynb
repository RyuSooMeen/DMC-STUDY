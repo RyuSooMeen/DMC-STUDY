{
 "cells": [
  {
   "cell_type": "markdown",
   "id": "9636e69b-82fd-4186-bc9e-43e4571d1b43",
   "metadata": {},
   "source": [
    "---\n",
    "> # **_정규표현식_**\n",
    "> - 이를 활용하면 더 **간편하고 직관적인 코드**를 작성할 수 있음\n",
    "> - **특정한 규칙을 가지고 있는 문자열들을 표현하는데 사용되는 규칙을 가진 언어**\n",
    "> - 텍스트 에서 특정 스트링 패턴과 **매칭**되는 부분을 찾아내기 위한 표현식\n",
    "> - 매우 강력한 일종의 암호화된 표현식\n",
    "> - 정규표현식을 위한 **표준 라이브러리 re모듈** 제공\n",
    "> - **search(), findall(),split(),sub()** 등 \n",
    "---"
   ]
  },
  {
   "cell_type": "code",
   "execution_count": 2,
   "id": "4dda30fe-7e07-42fa-a6f4-4842398b12c7",
   "metadata": {},
   "outputs": [
    {
     "name": "stdout",
     "output_type": "stream",
     "text": [
      "\n",
      "park 800905-*******\n",
      "kim 700905-105119\n",
      "\n"
     ]
    }
   ],
   "source": [
    "import re\n",
    "data = \"\"\"\n",
    "park 800905-1049118\n",
    "kim 700905-105119\n",
    "\"\"\"\n",
    "\n",
    "pat = re.compile(\"(\\d{6})[-]\\d{7}\")\n",
    "print(pat.sub(\"\\g<1>-*******\",data))"
   ]
  },
  {
   "cell_type": "code",
   "execution_count": 4,
   "id": "da095ba3-6dca-4643-a07e-a9b426b15896",
   "metadata": {},
   "outputs": [
    {
     "data": {
      "text/plain": [
       "re.compile(r'ab*', re.UNICODE)"
      ]
     },
     "execution_count": 4,
     "metadata": {},
     "output_type": "execute_result"
    }
   ],
   "source": [
    "import re\n",
    "p =re.compile(\"ab*\")\n",
    "p"
   ]
  },
  {
   "cell_type": "markdown",
   "id": "2baf0d84-55f2-499a-80c2-6353de1b8a67",
   "metadata": {},
   "source": [
    "---\n",
    "> ## **메서드 4개**\n",
    "> - match() : 문자열의 처음부터 정규식과 매치되는지 조사\n",
    "> - search() : 문자열 전체 검색하여 정규식과 매치되는지 조사\n",
    "> - findall() : 정규식과 매치되는 모든 문자열(substring)을 리스트로 돌려줌\n",
    "> - findfilter() : 정규식과 매치되는 모든 문자열(substring)을 반복 가능한 객체로 돌려줌\n",
    "> - 매치되면 match 객체를 돌려주고 매치되지 않으면 None을 돌려줌\n",
    "---"
   ]
  },
  {
   "cell_type": "markdown",
   "id": "79ffd4c2-c0ab-4f7f-a3e3-1fe98db36d29",
   "metadata": {},
   "source": [
    "### **match**\n",
    "- group() : 매치된 문자열을 돌려줌\n",
    "- start() : 매치된 문자열의 시작위치를 돌려줌\n",
    "- end() : 매치된 문자열의 끝 위치를 돌려줌\n",
    "- span() : 매치된 문자열의 시작, 끝에 해당하는 튜플을 돌려줌"
   ]
  },
  {
   "cell_type": "code",
   "execution_count": 8,
   "id": "c5580fb4-e6a6-47ab-a12d-0c690ed23b60",
   "metadata": {},
   "outputs": [
    {
     "name": "stdout",
     "output_type": "stream",
     "text": [
      "<re.Match object; span=(0, 6), match='python'>\n"
     ]
    }
   ],
   "source": [
    "p = re.compile('[a-z]+')\n",
    "m = p.match('python')\n",
    "print(m)"
   ]
  },
  {
   "cell_type": "code",
   "execution_count": 7,
   "id": "e7de9748-5c82-42e2-b07a-efba74f491c1",
   "metadata": {},
   "outputs": [
    {
     "name": "stdout",
     "output_type": "stream",
     "text": [
      "None\n"
     ]
    }
   ],
   "source": [
    "m = p.match('3 python')\n",
    "print(m)"
   ]
  },
  {
   "cell_type": "code",
   "execution_count": 11,
   "id": "5df5a899-55ef-4924-bfa2-c4f7a2e89596",
   "metadata": {},
   "outputs": [
    {
     "data": {
      "text/plain": [
       "'python'"
      ]
     },
     "execution_count": 11,
     "metadata": {},
     "output_type": "execute_result"
    }
   ],
   "source": [
    "m = p.match('python')\n",
    "m.group()"
   ]
  },
  {
   "cell_type": "code",
   "execution_count": 12,
   "id": "ca577dc3-a101-4d44-b770-433f66226573",
   "metadata": {},
   "outputs": [
    {
     "data": {
      "text/plain": [
       "0"
      ]
     },
     "execution_count": 12,
     "metadata": {},
     "output_type": "execute_result"
    }
   ],
   "source": [
    "m.start()"
   ]
  },
  {
   "cell_type": "code",
   "execution_count": 13,
   "id": "c41787ec-687f-4e6f-b1fc-0827bd2ff75d",
   "metadata": {},
   "outputs": [
    {
     "data": {
      "text/plain": [
       "6"
      ]
     },
     "execution_count": 13,
     "metadata": {},
     "output_type": "execute_result"
    }
   ],
   "source": [
    "m.end()"
   ]
  },
  {
   "cell_type": "code",
   "execution_count": 14,
   "id": "2639ab50-aa4c-4adc-8fa5-6b20f9c0016e",
   "metadata": {},
   "outputs": [
    {
     "data": {
      "text/plain": [
       "(0, 6)"
      ]
     },
     "execution_count": 14,
     "metadata": {},
     "output_type": "execute_result"
    }
   ],
   "source": [
    "m.span()"
   ]
  },
  {
   "cell_type": "markdown",
   "id": "3d7783d3-eafd-4383-bc18-0b566018a3bf",
   "metadata": {},
   "source": [
    "### **search**\n",
    "- group() : 매치된 문자열을 돌려줌\n",
    "- start() : 매치된 문자열의 시작위치를 돌려줌\n",
    "- end() : 매치된 문자열의 끝 위치를 돌려줌\n",
    "- span() : 매치된 문자열의 시작, 끝에 해당하는 튜플을 돌려줌"
   ]
  },
  {
   "cell_type": "code",
   "execution_count": 15,
   "id": "73ab1e0a-660a-4341-8b47-3bf44dd313f5",
   "metadata": {},
   "outputs": [
    {
     "name": "stdout",
     "output_type": "stream",
     "text": [
      "<re.Match object; span=(0, 6), match='python'>\n"
     ]
    }
   ],
   "source": [
    "m = p.search('python')\n",
    "print(m)"
   ]
  },
  {
   "cell_type": "code",
   "execution_count": 17,
   "id": "1def6c6d-f5cf-4487-95ea-a98ba6c324bf",
   "metadata": {},
   "outputs": [
    {
     "name": "stdout",
     "output_type": "stream",
     "text": [
      "<re.Match object; span=(2, 8), match='python'>\n"
     ]
    }
   ],
   "source": [
    "m = p.search('3 python')\n",
    "print(m)"
   ]
  },
  {
   "cell_type": "markdown",
   "id": "3dd011d2-92f4-4421-beb5-2caf1b8107de",
   "metadata": {},
   "source": [
    "### **findall**\n",
    "- 문자열의 단어를 [a-z]+ 정규식과 매치해서 리스트로 돌려줌"
   ]
  },
  {
   "cell_type": "code",
   "execution_count": 18,
   "id": "42714ddf-bca5-4883-8cb2-e76f100a7263",
   "metadata": {},
   "outputs": [
    {
     "name": "stdout",
     "output_type": "stream",
     "text": [
      "['life', 'is', 'too', 'short']\n"
     ]
    }
   ],
   "source": [
    "result = p.findall('life is too short')\n",
    "print(result)"
   ]
  },
  {
   "cell_type": "markdown",
   "id": "be059ca7-2fc6-4720-b578-98771812e53c",
   "metadata": {},
   "source": [
    "### **finditer**\n",
    "- findall 과 동일하지만 그 결과로 반복가능한 객체를 돌려줌"
   ]
  },
  {
   "cell_type": "code",
   "execution_count": 19,
   "id": "2fa3942e-320e-432a-a0d5-d5081f239c82",
   "metadata": {},
   "outputs": [
    {
     "name": "stdout",
     "output_type": "stream",
     "text": [
      "<callable_iterator object at 0x00000245E6B2C820>\n"
     ]
    }
   ],
   "source": [
    "result = p.finditer('life is too short')\n",
    "print(result)"
   ]
  },
  {
   "cell_type": "code",
   "execution_count": 20,
   "id": "f72199bf-9fa4-4dd1-a224-025940e22ef8",
   "metadata": {},
   "outputs": [
    {
     "name": "stdout",
     "output_type": "stream",
     "text": [
      "<re.Match object; span=(0, 4), match='life'>\n",
      "<re.Match object; span=(5, 7), match='is'>\n",
      "<re.Match object; span=(8, 11), match='too'>\n",
      "<re.Match object; span=(12, 17), match='short'>\n"
     ]
    }
   ],
   "source": [
    "for r in result:\n",
    "    print(r)"
   ]
  },
  {
   "cell_type": "markdown",
   "id": "b5939afc-a874-4ca8-8ffe-9c2ff1b5cfd1",
   "metadata": {},
   "source": [
    "#### 모듈 단위로 수행하기"
   ]
  },
  {
   "cell_type": "code",
   "execution_count": 22,
   "id": "9abb1587-455c-48cc-baa4-d559f3cace43",
   "metadata": {},
   "outputs": [
    {
     "data": {
      "text/plain": [
       "<re.Match object; span=(0, 6), match='python'>"
      ]
     },
     "execution_count": 22,
     "metadata": {},
     "output_type": "execute_result"
    }
   ],
   "source": [
    "p = re.compile('[a-z]+')\n",
    "m = p.match('python')\n",
    "m"
   ]
  },
  {
   "cell_type": "code",
   "execution_count": 24,
   "id": "b8cd1c83-b455-42ab-ae13-af529532944f",
   "metadata": {},
   "outputs": [
    {
     "data": {
      "text/plain": [
       "<re.Match object; span=(0, 6), match='python'>"
      ]
     },
     "execution_count": 24,
     "metadata": {},
     "output_type": "execute_result"
    }
   ],
   "source": [
    "m = re.match('[a-z]+','python')\n",
    "m"
   ]
  },
  {
   "cell_type": "markdown",
   "id": "dab24011-6346-4b17-b22b-924098897693",
   "metadata": {},
   "source": [
    "---\n",
    "> ## **컴파일 옵션**\n",
    "> - DOTALL(S) - : 줄바꿈 문자를 포함하여 모든 문자와 매치\n",
    "> - IGNORECASE(I) : 대소문자에 관계없이 매치\n",
    "> - MULTILINE(M) : 여러줄과 매치할 수 있도록 함\n",
    "> - VERPOSE(X) : verbose 모드를 사용\n",
    "---"
   ]
  },
  {
   "cell_type": "markdown",
   "id": "a055775b-6969-4d61-b28c-1a62638b8b92",
   "metadata": {},
   "source": [
    "### **DOTALL, S**\n",
    "- re.DOTALL 또는 re.S\n",
    "- re.DOTALL 옵션을 여러 줄로 이루어진 문자열에서 \\n에 상관없이 검색 시 사용"
   ]
  },
  {
   "cell_type": "code",
   "execution_count": 25,
   "id": "3c548b8d-8c61-4d99-bb39-13b25f4ed684",
   "metadata": {},
   "outputs": [
    {
     "name": "stdout",
     "output_type": "stream",
     "text": [
      "None\n"
     ]
    }
   ],
   "source": [
    "import re\n",
    "p = re.compile('a.b')\n",
    "m = p.match('a\\nb')\n",
    "print(m)"
   ]
  },
  {
   "cell_type": "code",
   "execution_count": 26,
   "id": "ab44738f-632c-44b7-bb43-e2e888edf747",
   "metadata": {},
   "outputs": [
    {
     "name": "stdout",
     "output_type": "stream",
     "text": [
      "<re.Match object; span=(0, 3), match='a\\nb'>\n"
     ]
    }
   ],
   "source": [
    "p = re.compile('a.b', re.DOTALL)\n",
    "m = p.match('a\\nb')\n",
    "print(m)"
   ]
  },
  {
   "cell_type": "markdown",
   "id": "82559255-51f2-4df4-83b7-e55b171efdb9",
   "metadata": {},
   "source": [
    "### **IGNORECASE, I**\n",
    "- 대소문자 구별없이 매치를 수행할 때 사용\n",
    "- **p의 정규식은 소문자만을 의미하지만 : [a-z]+**, **re.I 조건으로 대소문자 구별 없음**"
   ]
  },
  {
   "cell_type": "code",
   "execution_count": 27,
   "id": "7afde992-533b-48fd-a26a-5c9868c55599",
   "metadata": {},
   "outputs": [
    {
     "data": {
      "text/plain": [
       "<re.Match object; span=(0, 6), match='python'>"
      ]
     },
     "execution_count": 27,
     "metadata": {},
     "output_type": "execute_result"
    }
   ],
   "source": [
    "p = re.compile('[a-z]+', re.I)\n",
    "p.match('python')"
   ]
  },
  {
   "cell_type": "code",
   "execution_count": 28,
   "id": "2baf8925-69e8-4b96-89a6-4328e0372c4f",
   "metadata": {},
   "outputs": [
    {
     "data": {
      "text/plain": [
       "<re.Match object; span=(0, 6), match='Python'>"
      ]
     },
     "execution_count": 28,
     "metadata": {},
     "output_type": "execute_result"
    }
   ],
   "source": [
    "p.match('Python')"
   ]
  },
  {
   "cell_type": "code",
   "execution_count": 29,
   "id": "d59acc45-2e7f-4648-9318-62041d006d2c",
   "metadata": {},
   "outputs": [
    {
     "data": {
      "text/plain": [
       "<re.Match object; span=(0, 6), match='PYTHON'>"
      ]
     },
     "execution_count": 29,
     "metadata": {},
     "output_type": "execute_result"
    }
   ],
   "source": [
    "p.match('PYTHON')"
   ]
  },
  {
   "cell_type": "markdown",
   "id": "0a4db9e6-cd57-4ca8-bf46-c018daec86c8",
   "metadata": {},
   "source": [
    "### **MULTILINE, M**\n",
    "- 메타 문자와 연관\n",
    "- ^ : 문자열의 처음\n",
    "- $ : 문자열의 마지막"
   ]
  },
  {
   "cell_type": "code",
   "execution_count": 30,
   "id": "bee3230e-5301-4cb2-aa1b-ecb569d92ee7",
   "metadata": {},
   "outputs": [
    {
     "name": "stdout",
     "output_type": "stream",
     "text": [
      "['python one']\n"
     ]
    }
   ],
   "source": [
    "import re\n",
    "p = re.compile('^python\\s\\w+')\n",
    "\n",
    "data = \"\"\"python one\n",
    "life is too short\n",
    "python two\n",
    "you need python\n",
    "python three\"\"\"\n",
    "\n",
    "print(p.findall(data))"
   ]
  },
  {
   "cell_type": "code",
   "execution_count": 31,
   "id": "930c12f6-dd6c-4b6d-8e65-9cca1eb14c66",
   "metadata": {},
   "outputs": [
    {
     "name": "stdout",
     "output_type": "stream",
     "text": [
      "['python one', 'python two', 'python three']\n"
     ]
    }
   ],
   "source": [
    "import re\n",
    "p = re.compile('^python\\s\\w+', re.M)\n",
    "\n",
    "data = \"\"\"python one\n",
    "life is too short\n",
    "python two\n",
    "you need python\n",
    "python three\"\"\"\n",
    "\n",
    "print(p.findall(data))"
   ]
  },
  {
   "cell_type": "markdown",
   "id": "dc718309-5b15-4fb4-a2eb-0fe0edbc127a",
   "metadata": {},
   "source": [
    "### **VERPOSE, X**"
   ]
  },
  {
   "cell_type": "code",
   "execution_count": 36,
   "id": "b336ce51-8159-49be-ae5e-996568b463ec",
   "metadata": {},
   "outputs": [],
   "source": [
    "charref = re.compile(r'&[#](0[0-7]+|[0-9]+|×[0-9a-fA-F]+);')"
   ]
  },
  {
   "cell_type": "code",
   "execution_count": 37,
   "id": "2e794059-cd93-4532-896f-85b3a586b701",
   "metadata": {},
   "outputs": [],
   "source": [
    "charref = re.compile(r\"\"\"\n",
    "&[#]\n",
    "(\n",
    "    0[0-7]+\n",
    "    |[0-9]+\n",
    "    |x[0-9a-fA-F]+\n",
    ")\n",
    ";\n",
    "\"\"\",re.VERBOSE)"
   ]
  },
  {
   "cell_type": "markdown",
   "id": "2e977a9d-4ed8-4790-98f0-ea247b840ab9",
   "metadata": {},
   "source": [
    "### **백슬래시 문제**"
   ]
  },
  {
   "cell_type": "code",
   "execution_count": 38,
   "id": "1de20ff1-6f2b-4395-ad6b-f891a91408f7",
   "metadata": {},
   "outputs": [],
   "source": [
    "p = re.compile('\\\\section')"
   ]
  },
  {
   "cell_type": "markdown",
   "id": "1760f163-4897-48a9-9e63-9e85b6fa06e4",
   "metadata": {},
   "source": [
    "---\n",
    "> ## **주요 메타문자**\n",
    "> - ^ : 시작\n",
    "> - $ : 끝\n",
    "> - . : 한개의 문자\n",
    "> - \\d : 숫자\n",
    "> - \\w : answkdhk tntwk\n",
    "> - \\s : 공백 문자\n",
    "> - \\S : 공백제외 문자\n",
    "> - * : 반복 / 앞문자가 0번 이상 반복\n",
    "> - + : 반복 / 앞문자가 1번 이상 반복\n",
    "> - [abc] : 문자선택범위 / a,b,c 가운데 하나의 문자\n",
    "> - [^abc] : 문자제외범위 / a,b,c가 아닌 문자\n",
    "> - | : 또는 | 앞의 문자 또는 뒤의 문자\n",
    "---"
   ]
  },
  {
   "cell_type": "markdown",
   "id": "86adb43a-45f3-4e49-977f-a467af11cb5a",
   "metadata": {},
   "source": [
    "---\n",
    "## **적용사례**\n",
    "---"
   ]
  },
  {
   "cell_type": "code",
   "execution_count": 71,
   "id": "c15d879c-d3e3-422b-8798-32694de5c2a6",
   "metadata": {},
   "outputs": [
    {
     "name": "stdout",
     "output_type": "stream",
     "text": [
      "국내 증권업계에서 베트남은 매력적이긴 하나 수익을 내기 어려운 국가라는 인식이 강했다.\n",
      "10년 전 전세계를 강타한 글로벌 금융위기로 베트남 증시가 휘청이면서 당시 국내에 설정된 베트남 펀드 수익률이 크게 꺾인 아픔도 있다.\n",
      "하지만 최근 들어 한국 금융투자업계가 베트남 시장의 문을 다시 두드리기 시작했다.\n",
      "베트남 정부의 적극적인 외국인 투자 유치 정책이 효과를 발휘하면서 베트남 증시는 2017년 한 해 동안 40% 이상 상승했다.\n",
      "베트남 펀드 수익률도 다시 고공비행 중이다.\n",
      "인구 1억명의 베트남은 전체 인구의 70%가 생산가능인구(15~64세)인 젊은 국가다.\n",
      "30세 미만 인구 비중은 주요 신흥국 가운데 인도와 인도네시아 다음으로 높다.\n",
      "전문가들은 “베트남의 무서운 경제 성장세가 2018년에도 지속될 것”이라고 내다봤다.\n",
      "KB증권은 지난달 29일(현지시간) 베트남 하노이에서 자회사 ‘KBSV(KB Securities Vietnam)’의 공식 출범 행사를 개최했다.\n",
      "KBSV의 전신(前身)은 베트남 증권사인 매리타임증권이다. KB증권은 2017년 10월 매리타임증권을 인수한 뒤 약 3달간 재출범 준비를 해왔다.\n",
      "매리타임증권은 베트남에서 자산 기준 27위, 자기자본 기준 24위의 중소형 증권사였다.\n",
      "KB증권은 KBSV를 베트남 선두권 증권사로 육성한다는 계획이다.\n",
      "베트남에 진출했거나 진출 예정인 한국 기업을 위한 인수합병(M&A) 자문, 자금조달 주선, 신사업 추진 컨설팅 등도 지원할 예정이다.\n",
      "\n",
      "exp1: ['10', '2017', '40', '1', '70', '15', '64', '30', '2018', '29', '2017', '10', '3', '27', '24']\n",
      "exp2: ['강했다', '있다', '시작했다', '상승했다', '중이다', '국가다', '높다', '내다봤다', '개최했다', '해왔다', '증권사였다', '계획이다', '예정이다']\n"
     ]
    }
   ],
   "source": [
    "import re\n",
    "mytext = open('news.txt','r',encoding='UTF8').read()\n",
    "print(mytext)\n",
    "\n",
    "exp1 = r'\\d+'\n",
    "print('exp1:',re.findall(exp1,mytext))\n",
    "\n",
    "exp2 = r'([가-힝]+).$'\n",
    "p = re.compile(exp2,re.M)\n",
    "print(\"exp2:\",p.findall(mytext))"
   ]
  }
 ],
 "metadata": {
  "kernelspec": {
   "display_name": "Python 3 (ipykernel)",
   "language": "python",
   "name": "python3"
  },
  "language_info": {
   "codemirror_mode": {
    "name": "ipython",
    "version": 3
   },
   "file_extension": ".py",
   "mimetype": "text/x-python",
   "name": "python",
   "nbconvert_exporter": "python",
   "pygments_lexer": "ipython3",
   "version": "3.8.15"
  }
 },
 "nbformat": 4,
 "nbformat_minor": 5
}
