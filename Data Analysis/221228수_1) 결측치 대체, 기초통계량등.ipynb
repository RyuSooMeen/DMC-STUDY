{
 "cells": [
  {
   "cell_type": "markdown",
   "id": "0f173c65-237c-4251-b5eb-a26251191030",
   "metadata": {},
   "source": [
    "# 결측치 대체, 기초통계량등.pdf\n",
    "---\n",
    "> ## **데이터 정제 사례**\n",
    "> - 데이터 다운\n",
    "---"
   ]
  },
  {
   "cell_type": "code",
   "execution_count": 1,
   "id": "78005c0f-e509-4e01-ad72-a1756ad66bff",
   "metadata": {},
   "outputs": [],
   "source": [
    "import pandas as pd\n",
    "import numpy as np"
   ]
  },
  {
   "cell_type": "code",
   "execution_count": 2,
   "id": "19c66001-fa0e-4397-b392-26aec872aebe",
   "metadata": {},
   "outputs": [
    {
     "data": {
      "text/html": [
       "<div>\n",
       "<style scoped>\n",
       "    .dataframe tbody tr th:only-of-type {\n",
       "        vertical-align: middle;\n",
       "    }\n",
       "\n",
       "    .dataframe tbody tr th {\n",
       "        vertical-align: top;\n",
       "    }\n",
       "\n",
       "    .dataframe thead th {\n",
       "        text-align: right;\n",
       "    }\n",
       "</style>\n",
       "<table border=\"1\" class=\"dataframe\">\n",
       "  <thead>\n",
       "    <tr style=\"text-align: right;\">\n",
       "      <th></th>\n",
       "      <th>symboling</th>\n",
       "      <th>normalized-losses</th>\n",
       "      <th>make</th>\n",
       "      <th>fuel-type</th>\n",
       "      <th>aspiration</th>\n",
       "      <th>num-of-doors</th>\n",
       "      <th>body-style</th>\n",
       "      <th>drive-wheels</th>\n",
       "      <th>engine-location</th>\n",
       "      <th>wheel-base</th>\n",
       "      <th>...</th>\n",
       "      <th>engine-size</th>\n",
       "      <th>fuel-system</th>\n",
       "      <th>bore</th>\n",
       "      <th>stroke</th>\n",
       "      <th>compression-ratio</th>\n",
       "      <th>horsepower</th>\n",
       "      <th>peak-rpm</th>\n",
       "      <th>city-mpg</th>\n",
       "      <th>highway-mpg</th>\n",
       "      <th>price</th>\n",
       "    </tr>\n",
       "  </thead>\n",
       "  <tbody>\n",
       "    <tr>\n",
       "      <th>0</th>\n",
       "      <td>3</td>\n",
       "      <td>?</td>\n",
       "      <td>alfa-romero</td>\n",
       "      <td>gas</td>\n",
       "      <td>std</td>\n",
       "      <td>two</td>\n",
       "      <td>convertible</td>\n",
       "      <td>rwd</td>\n",
       "      <td>front</td>\n",
       "      <td>88.6</td>\n",
       "      <td>...</td>\n",
       "      <td>130</td>\n",
       "      <td>mpfi</td>\n",
       "      <td>3.47</td>\n",
       "      <td>2.68</td>\n",
       "      <td>9.0</td>\n",
       "      <td>111</td>\n",
       "      <td>5000</td>\n",
       "      <td>21</td>\n",
       "      <td>27</td>\n",
       "      <td>13495</td>\n",
       "    </tr>\n",
       "    <tr>\n",
       "      <th>1</th>\n",
       "      <td>3</td>\n",
       "      <td>?</td>\n",
       "      <td>alfa-romero</td>\n",
       "      <td>gas</td>\n",
       "      <td>std</td>\n",
       "      <td>two</td>\n",
       "      <td>convertible</td>\n",
       "      <td>rwd</td>\n",
       "      <td>front</td>\n",
       "      <td>88.6</td>\n",
       "      <td>...</td>\n",
       "      <td>130</td>\n",
       "      <td>mpfi</td>\n",
       "      <td>3.47</td>\n",
       "      <td>2.68</td>\n",
       "      <td>9.0</td>\n",
       "      <td>111</td>\n",
       "      <td>5000</td>\n",
       "      <td>21</td>\n",
       "      <td>27</td>\n",
       "      <td>16500</td>\n",
       "    </tr>\n",
       "    <tr>\n",
       "      <th>2</th>\n",
       "      <td>1</td>\n",
       "      <td>?</td>\n",
       "      <td>alfa-romero</td>\n",
       "      <td>gas</td>\n",
       "      <td>std</td>\n",
       "      <td>two</td>\n",
       "      <td>hatchback</td>\n",
       "      <td>rwd</td>\n",
       "      <td>front</td>\n",
       "      <td>94.5</td>\n",
       "      <td>...</td>\n",
       "      <td>152</td>\n",
       "      <td>mpfi</td>\n",
       "      <td>2.68</td>\n",
       "      <td>3.47</td>\n",
       "      <td>9.0</td>\n",
       "      <td>154</td>\n",
       "      <td>5000</td>\n",
       "      <td>19</td>\n",
       "      <td>26</td>\n",
       "      <td>16500</td>\n",
       "    </tr>\n",
       "    <tr>\n",
       "      <th>3</th>\n",
       "      <td>2</td>\n",
       "      <td>164</td>\n",
       "      <td>audi</td>\n",
       "      <td>gas</td>\n",
       "      <td>std</td>\n",
       "      <td>four</td>\n",
       "      <td>sedan</td>\n",
       "      <td>fwd</td>\n",
       "      <td>front</td>\n",
       "      <td>99.8</td>\n",
       "      <td>...</td>\n",
       "      <td>109</td>\n",
       "      <td>mpfi</td>\n",
       "      <td>3.19</td>\n",
       "      <td>3.4</td>\n",
       "      <td>10.0</td>\n",
       "      <td>102</td>\n",
       "      <td>5500</td>\n",
       "      <td>24</td>\n",
       "      <td>30</td>\n",
       "      <td>13950</td>\n",
       "    </tr>\n",
       "    <tr>\n",
       "      <th>4</th>\n",
       "      <td>2</td>\n",
       "      <td>164</td>\n",
       "      <td>audi</td>\n",
       "      <td>gas</td>\n",
       "      <td>std</td>\n",
       "      <td>four</td>\n",
       "      <td>sedan</td>\n",
       "      <td>4wd</td>\n",
       "      <td>front</td>\n",
       "      <td>99.4</td>\n",
       "      <td>...</td>\n",
       "      <td>136</td>\n",
       "      <td>mpfi</td>\n",
       "      <td>3.19</td>\n",
       "      <td>3.4</td>\n",
       "      <td>8.0</td>\n",
       "      <td>115</td>\n",
       "      <td>5500</td>\n",
       "      <td>18</td>\n",
       "      <td>22</td>\n",
       "      <td>17450</td>\n",
       "    </tr>\n",
       "  </tbody>\n",
       "</table>\n",
       "<p>5 rows × 26 columns</p>\n",
       "</div>"
      ],
      "text/plain": [
       "   symboling normalized-losses         make fuel-type aspiration num-of-doors  \\\n",
       "0          3                 ?  alfa-romero       gas        std          two   \n",
       "1          3                 ?  alfa-romero       gas        std          two   \n",
       "2          1                 ?  alfa-romero       gas        std          two   \n",
       "3          2               164         audi       gas        std         four   \n",
       "4          2               164         audi       gas        std         four   \n",
       "\n",
       "    body-style drive-wheels engine-location  wheel-base  ...  engine-size  \\\n",
       "0  convertible          rwd           front        88.6  ...          130   \n",
       "1  convertible          rwd           front        88.6  ...          130   \n",
       "2    hatchback          rwd           front        94.5  ...          152   \n",
       "3        sedan          fwd           front        99.8  ...          109   \n",
       "4        sedan          4wd           front        99.4  ...          136   \n",
       "\n",
       "   fuel-system  bore  stroke compression-ratio horsepower  peak-rpm city-mpg  \\\n",
       "0         mpfi  3.47    2.68               9.0        111      5000       21   \n",
       "1         mpfi  3.47    2.68               9.0        111      5000       21   \n",
       "2         mpfi  2.68    3.47               9.0        154      5000       19   \n",
       "3         mpfi  3.19     3.4              10.0        102      5500       24   \n",
       "4         mpfi  3.19     3.4               8.0        115      5500       18   \n",
       "\n",
       "  highway-mpg  price  \n",
       "0          27  13495  \n",
       "1          27  16500  \n",
       "2          26  16500  \n",
       "3          30  13950  \n",
       "4          22  17450  \n",
       "\n",
       "[5 rows x 26 columns]"
      ]
     },
     "execution_count": 2,
     "metadata": {},
     "output_type": "execute_result"
    }
   ],
   "source": [
    "df = pd.read_csv(\"https://raw.githubusercontent.com/PacktPublishing/\"\n",
    "                 \"hands-on-exploratory-data-analysis-with-python/\"\n",
    "                 \"master/Chapter%205/data.csv\")\n",
    "df.head()"
   ]
  },
  {
   "cell_type": "code",
   "execution_count": 3,
   "id": "e3481446-5ee9-4280-8ae3-8ed57a872574",
   "metadata": {},
   "outputs": [
    {
     "data": {
      "text/plain": [
       "symboling              int64\n",
       "normalized-losses     object\n",
       "make                  object\n",
       "fuel-type             object\n",
       "aspiration            object\n",
       "num-of-doors          object\n",
       "body-style            object\n",
       "drive-wheels          object\n",
       "engine-location       object\n",
       "wheel-base           float64\n",
       "length               float64\n",
       "width                float64\n",
       "height               float64\n",
       "curb-weight            int64\n",
       "engine-type           object\n",
       "num-of-cylinders      object\n",
       "engine-size            int64\n",
       "fuel-system           object\n",
       "bore                  object\n",
       "stroke                object\n",
       "compression-ratio    float64\n",
       "horsepower            object\n",
       "peak-rpm              object\n",
       "city-mpg               int64\n",
       "highway-mpg            int64\n",
       "price                 object\n",
       "dtype: object"
      ]
     },
     "execution_count": 3,
     "metadata": {},
     "output_type": "execute_result"
    }
   ],
   "source": [
    "df.dtypes"
   ]
  },
  {
   "cell_type": "markdown",
   "id": "0179178e-3434-49c5-829d-7ad1416a871d",
   "metadata": {},
   "source": [
    "---\n",
    "> ### **결측치 탐지 및 대체**\n",
    "> - 문자열로 된 숫자의 결측치 탐지 : isnumeric(), value_counts()이용\n",
    "> - **결측치가 null 값이 아닌 ? 값**으로 이루어짐\n",
    "> - 열 평균값으로 대체\n",
    "---"
   ]
  },
  {
   "cell_type": "markdown",
   "id": "b6b8cd59-8243-4c89-9d84-35f8a340bed8",
   "metadata": {},
   "source": [
    "##### **'?' 이 있는 열 찾기**"
   ]
  },
  {
   "cell_type": "code",
   "execution_count": 4,
   "id": "1828f2fa-977f-4d05-87eb-ba597b2b2afc",
   "metadata": {},
   "outputs": [
    {
     "data": {
      "text/plain": [
       "['normalized-losses',\n",
       " 'num-of-doors',\n",
       " 'bore',\n",
       " 'stroke',\n",
       " 'horsepower',\n",
       " 'peak-rpm',\n",
       " 'price']"
      ]
     },
     "execution_count": 4,
     "metadata": {},
     "output_type": "execute_result"
    }
   ],
   "source": [
    "nancol = []\n",
    "for i in range(len(df.columns)):\n",
    "    if len(df[df[df.columns[i]] == '?'].index) > 0:\n",
    "        nancol.append(df.columns[i])\n",
    "nancol"
   ]
  },
  {
   "cell_type": "code",
   "execution_count": 5,
   "id": "fb9bb14d-f28d-4edd-ae97-4a9560480f65",
   "metadata": {},
   "outputs": [
    {
     "data": {
      "text/plain": [
       "normalized-losses    object\n",
       "num-of-doors         object\n",
       "bore                 object\n",
       "stroke               object\n",
       "horsepower           object\n",
       "peak-rpm             object\n",
       "price                object\n",
       "dtype: object"
      ]
     },
     "execution_count": 5,
     "metadata": {},
     "output_type": "execute_result"
    }
   ],
   "source": [
    "df[nancol].dtypes"
   ]
  },
  {
   "cell_type": "markdown",
   "id": "17c69337-fe58-434a-aeae-7648a6bd8335",
   "metadata": {},
   "source": [
    "##### **price 열 결측치 정제**"
   ]
  },
  {
   "cell_type": "code",
   "execution_count": 6,
   "id": "f85ffb59-be2a-425a-b7b7-6afffea118c8",
   "metadata": {},
   "outputs": [
    {
     "data": {
      "text/plain": [
       "True     201\n",
       "False      4\n",
       "Name: price, dtype: int64"
      ]
     },
     "execution_count": 6,
     "metadata": {},
     "output_type": "execute_result"
    }
   ],
   "source": [
    "# 숫자, 문자열 여부\n",
    "# isnumeric() ; 숫자로 된 문자열 체크\n",
    "df['price'].str.isnumeric().value_counts()"
   ]
  },
  {
   "cell_type": "code",
   "execution_count": 7,
   "id": "877ffb26-8356-45bd-8330-26ce26e19b70",
   "metadata": {},
   "outputs": [
    {
     "data": {
      "text/plain": [
       "9      ?\n",
       "44     ?\n",
       "45     ?\n",
       "129    ?\n",
       "Name: price, dtype: object"
      ]
     },
     "execution_count": 7,
     "metadata": {},
     "output_type": "execute_result"
    }
   ],
   "source": [
    "# 숫자가 아닌 문자열 행 값 체크 - 4개\n",
    "df['price'].loc[df['price'].str.isnumeric() == False]"
   ]
  },
  {
   "cell_type": "code",
   "execution_count": 8,
   "id": "e638f43a-0d91-4115-89c2-d776dac55676",
   "metadata": {},
   "outputs": [
    {
     "name": "stdout",
     "output_type": "stream",
     "text": [
      "13207.129353233831\n"
     ]
    }
   ],
   "source": [
    "# 결측치를 제외한 나머지 값 평균 구하기\n",
    "price = df['price'].loc[df['price'] != '?']\n",
    "pmean = price.astype(str).astype(int).mean()\n",
    "print(pmean)"
   ]
  },
  {
   "cell_type": "code",
   "execution_count": 9,
   "id": "8cd85970-5222-4875-be7d-9054507784d4",
   "metadata": {},
   "outputs": [
    {
     "data": {
      "text/plain": [
       "0    13495\n",
       "1    16500\n",
       "2    16500\n",
       "3    13950\n",
       "4    17450\n",
       "Name: price, dtype: int32"
      ]
     },
     "execution_count": 9,
     "metadata": {},
     "output_type": "execute_result"
    }
   ],
   "source": [
    "#pmean = price.astype(str).astype(int).mean()\n",
    "#결측치 평균값으로 대체\n",
    "df['price'] = df['price'].replace(\"?\",pmean).astype(int)\n",
    "df['price'].head()"
   ]
  },
  {
   "cell_type": "code",
   "execution_count": 13,
   "id": "9b65ef32-8049-4edc-af8d-5ff84e260a1b",
   "metadata": {},
   "outputs": [
    {
     "data": {
      "text/html": [
       "<div>\n",
       "<style scoped>\n",
       "    .dataframe tbody tr th:only-of-type {\n",
       "        vertical-align: middle;\n",
       "    }\n",
       "\n",
       "    .dataframe tbody tr th {\n",
       "        vertical-align: top;\n",
       "    }\n",
       "\n",
       "    .dataframe thead th {\n",
       "        text-align: right;\n",
       "    }\n",
       "</style>\n",
       "<table border=\"1\" class=\"dataframe\">\n",
       "  <thead>\n",
       "    <tr style=\"text-align: right;\">\n",
       "      <th></th>\n",
       "      <th>symboling</th>\n",
       "      <th>normalized-losses</th>\n",
       "      <th>make</th>\n",
       "      <th>fuel-type</th>\n",
       "      <th>aspiration</th>\n",
       "      <th>num-of-doors</th>\n",
       "      <th>body-style</th>\n",
       "      <th>drive-wheels</th>\n",
       "      <th>engine-location</th>\n",
       "      <th>wheel-base</th>\n",
       "      <th>...</th>\n",
       "      <th>engine-size</th>\n",
       "      <th>fuel-system</th>\n",
       "      <th>bore</th>\n",
       "      <th>stroke</th>\n",
       "      <th>compression-ratio</th>\n",
       "      <th>horsepower</th>\n",
       "      <th>peak-rpm</th>\n",
       "      <th>city-mpg</th>\n",
       "      <th>highway-mpg</th>\n",
       "      <th>price</th>\n",
       "    </tr>\n",
       "  </thead>\n",
       "  <tbody>\n",
       "  </tbody>\n",
       "</table>\n",
       "<p>0 rows × 26 columns</p>\n",
       "</div>"
      ],
      "text/plain": [
       "Empty DataFrame\n",
       "Columns: [symboling, normalized-losses, make, fuel-type, aspiration, num-of-doors, body-style, drive-wheels, engine-location, wheel-base, length, width, height, curb-weight, engine-type, num-of-cylinders, engine-size, fuel-system, bore, stroke, compression-ratio, horsepower, peak-rpm, city-mpg, highway-mpg, price]\n",
       "Index: []\n",
       "\n",
       "[0 rows x 26 columns]"
      ]
     },
     "execution_count": 13,
     "metadata": {},
     "output_type": "execute_result"
    }
   ],
   "source": [
    "# 확인\n",
    "df[df['horsepower'] == '?']"
   ]
  },
  {
   "cell_type": "markdown",
   "id": "4dc8c082-6b09-4377-b898-17468c2163b2",
   "metadata": {},
   "source": [
    "##### **horsepower 열 결측치 정제**"
   ]
  },
  {
   "cell_type": "code",
   "execution_count": 11,
   "id": "c20a08e4-550a-4033-b296-b013f5c21cd9",
   "metadata": {},
   "outputs": [
    {
     "data": {
      "text/plain": [
       "True     203\n",
       "False      2\n",
       "Name: horsepower, dtype: int64"
      ]
     },
     "execution_count": 11,
     "metadata": {},
     "output_type": "execute_result"
    }
   ],
   "source": [
    "df['horsepower'].str.isnumeric().value_counts()"
   ]
  },
  {
   "cell_type": "code",
   "execution_count": 12,
   "id": "f825f382-7aac-44c7-8cca-bf881ba29a7d",
   "metadata": {},
   "outputs": [
    {
     "data": {
      "text/plain": [
       "0    111\n",
       "1    111\n",
       "2    154\n",
       "3    102\n",
       "4    115\n",
       "Name: horsepower, dtype: int32"
      ]
     },
     "execution_count": 12,
     "metadata": {},
     "output_type": "execute_result"
    }
   ],
   "source": [
    "horsepower = df['horsepower'].loc[df['horsepower'] != '?']\n",
    "hpmean = horsepower.astype(str).astype(int).mean()\n",
    "df['horsepower'] = df['horsepower'].replace('?',hpmean).astype(int)\n",
    "df['horsepower'].head()"
   ]
  },
  {
   "cell_type": "code",
   "execution_count": 13,
   "id": "095922de",
   "metadata": {},
   "outputs": [
    {
     "data": {
      "text/html": [
       "<div>\n",
       "<style scoped>\n",
       "    .dataframe tbody tr th:only-of-type {\n",
       "        vertical-align: middle;\n",
       "    }\n",
       "\n",
       "    .dataframe tbody tr th {\n",
       "        vertical-align: top;\n",
       "    }\n",
       "\n",
       "    .dataframe thead th {\n",
       "        text-align: right;\n",
       "    }\n",
       "</style>\n",
       "<table border=\"1\" class=\"dataframe\">\n",
       "  <thead>\n",
       "    <tr style=\"text-align: right;\">\n",
       "      <th></th>\n",
       "      <th>symboling</th>\n",
       "      <th>normalized-losses</th>\n",
       "      <th>make</th>\n",
       "      <th>fuel-type</th>\n",
       "      <th>aspiration</th>\n",
       "      <th>num-of-doors</th>\n",
       "      <th>body-style</th>\n",
       "      <th>drive-wheels</th>\n",
       "      <th>engine-location</th>\n",
       "      <th>wheel-base</th>\n",
       "      <th>...</th>\n",
       "      <th>engine-size</th>\n",
       "      <th>fuel-system</th>\n",
       "      <th>bore</th>\n",
       "      <th>stroke</th>\n",
       "      <th>compression-ratio</th>\n",
       "      <th>horsepower</th>\n",
       "      <th>peak-rpm</th>\n",
       "      <th>city-mpg</th>\n",
       "      <th>highway-mpg</th>\n",
       "      <th>price</th>\n",
       "    </tr>\n",
       "  </thead>\n",
       "  <tbody>\n",
       "  </tbody>\n",
       "</table>\n",
       "<p>0 rows × 26 columns</p>\n",
       "</div>"
      ],
      "text/plain": [
       "Empty DataFrame\n",
       "Columns: [symboling, normalized-losses, make, fuel-type, aspiration, num-of-doors, body-style, drive-wheels, engine-location, wheel-base, length, width, height, curb-weight, engine-type, num-of-cylinders, engine-size, fuel-system, bore, stroke, compression-ratio, horsepower, peak-rpm, city-mpg, highway-mpg, price]\n",
       "Index: []\n",
       "\n",
       "[0 rows x 26 columns]"
      ]
     },
     "execution_count": 13,
     "metadata": {},
     "output_type": "execute_result"
    }
   ],
   "source": [
    "# 확인\n",
    "df[df['horsepower'] == '?']"
   ]
  },
  {
   "cell_type": "markdown",
   "id": "20520a24-07c0-4dce-9a88-33a66ce58f7b",
   "metadata": {},
   "source": [
    "##### **normalized-losses 열 결측치 정제**"
   ]
  },
  {
   "cell_type": "code",
   "execution_count": 14,
   "id": "0cf45def-c8a1-44d0-a804-d1dc33a333be",
   "metadata": {},
   "outputs": [
    {
     "data": {
      "text/plain": [
       "symboling            41\n",
       "normalized-losses    41\n",
       "make                 41\n",
       "fuel-type            41\n",
       "aspiration           41\n",
       "num-of-doors         41\n",
       "body-style           41\n",
       "drive-wheels         41\n",
       "engine-location      41\n",
       "wheel-base           41\n",
       "length               41\n",
       "width                41\n",
       "height               41\n",
       "curb-weight          41\n",
       "engine-type          41\n",
       "num-of-cylinders     41\n",
       "engine-size          41\n",
       "fuel-system          41\n",
       "bore                 41\n",
       "stroke               41\n",
       "compression-ratio    41\n",
       "horsepower           41\n",
       "peak-rpm             41\n",
       "city-mpg             41\n",
       "highway-mpg          41\n",
       "price                41\n",
       "dtype: int64"
      ]
     },
     "execution_count": 14,
     "metadata": {},
     "output_type": "execute_result"
    }
   ],
   "source": [
    "df[df['normalized-losses'] == '?'].count()"
   ]
  },
  {
   "cell_type": "code",
   "execution_count": 15,
   "id": "8a699b3b-b507-4c1e-acfd-145594fd17f0",
   "metadata": {},
   "outputs": [
    {
     "data": {
      "text/plain": [
       "0    122\n",
       "1    122\n",
       "2    122\n",
       "3    164\n",
       "4    164\n",
       "Name: normalized-losses, dtype: int32"
      ]
     },
     "execution_count": 15,
     "metadata": {},
     "output_type": "execute_result"
    }
   ],
   "source": [
    "nl = df['normalized-losses'].loc[df['normalized-losses'] != '?']\n",
    "nmean = nl.astype(str).astype(int).mean()\n",
    "df['normalized-losses'] = df['normalized-losses'].replace('?',nmean).astype(int)\n",
    "df['normalized-losses'].head()"
   ]
  },
  {
   "cell_type": "code",
   "execution_count": 16,
   "id": "4b2db574-aeb4-451e-9dc2-97e6b9d803c6",
   "metadata": {},
   "outputs": [
    {
     "data": {
      "text/html": [
       "<div>\n",
       "<style scoped>\n",
       "    .dataframe tbody tr th:only-of-type {\n",
       "        vertical-align: middle;\n",
       "    }\n",
       "\n",
       "    .dataframe tbody tr th {\n",
       "        vertical-align: top;\n",
       "    }\n",
       "\n",
       "    .dataframe thead th {\n",
       "        text-align: right;\n",
       "    }\n",
       "</style>\n",
       "<table border=\"1\" class=\"dataframe\">\n",
       "  <thead>\n",
       "    <tr style=\"text-align: right;\">\n",
       "      <th></th>\n",
       "      <th>symboling</th>\n",
       "      <th>normalized-losses</th>\n",
       "      <th>make</th>\n",
       "      <th>fuel-type</th>\n",
       "      <th>aspiration</th>\n",
       "      <th>num-of-doors</th>\n",
       "      <th>body-style</th>\n",
       "      <th>drive-wheels</th>\n",
       "      <th>engine-location</th>\n",
       "      <th>wheel-base</th>\n",
       "      <th>...</th>\n",
       "      <th>engine-size</th>\n",
       "      <th>fuel-system</th>\n",
       "      <th>bore</th>\n",
       "      <th>stroke</th>\n",
       "      <th>compression-ratio</th>\n",
       "      <th>horsepower</th>\n",
       "      <th>peak-rpm</th>\n",
       "      <th>city-mpg</th>\n",
       "      <th>highway-mpg</th>\n",
       "      <th>price</th>\n",
       "    </tr>\n",
       "  </thead>\n",
       "  <tbody>\n",
       "  </tbody>\n",
       "</table>\n",
       "<p>0 rows × 26 columns</p>\n",
       "</div>"
      ],
      "text/plain": [
       "Empty DataFrame\n",
       "Columns: [symboling, normalized-losses, make, fuel-type, aspiration, num-of-doors, body-style, drive-wheels, engine-location, wheel-base, length, width, height, curb-weight, engine-type, num-of-cylinders, engine-size, fuel-system, bore, stroke, compression-ratio, horsepower, peak-rpm, city-mpg, highway-mpg, price]\n",
       "Index: []\n",
       "\n",
       "[0 rows x 26 columns]"
      ]
     },
     "execution_count": 16,
     "metadata": {},
     "output_type": "execute_result"
    }
   ],
   "source": [
    "# 확인\n",
    "df[df['normalized-losses'] == '?']"
   ]
  },
  {
   "cell_type": "markdown",
   "id": "cf3f814b-7ccb-453b-8aab-c63909be5fbe",
   "metadata": {},
   "source": [
    "---\n",
    "> ### **결측치 탐지 및 대체**\n",
    "> - 문자열로 된 숫자 일때 결측치 탐지 : to_numeric\n",
    "> - 결측치 삭제\n",
    "---"
   ]
  },
  {
   "cell_type": "markdown",
   "id": "e3a9fd5b-f3c0-4434-aa58-d42552deb992",
   "metadata": {},
   "source": [
    "##### **bore열 정제**\n",
    "- 값은 숫자 인데 object로 되어있음\n",
    "- 결측치를 NaN으로 바꿔준다"
   ]
  },
  {
   "cell_type": "code",
   "execution_count": 17,
   "id": "3a831ac1-608f-421a-ab85-d9f7d5f46c82",
   "metadata": {},
   "outputs": [
    {
     "data": {
      "text/plain": [
       "0      3.47\n",
       "1      3.47\n",
       "2      2.68\n",
       "3      3.19\n",
       "4      3.19\n",
       "       ... \n",
       "200    3.78\n",
       "201    3.78\n",
       "202    3.58\n",
       "203    3.01\n",
       "204    3.78\n",
       "Name: bore, Length: 205, dtype: object"
      ]
     },
     "execution_count": 17,
     "metadata": {},
     "output_type": "execute_result"
    }
   ],
   "source": [
    "df.bore"
   ]
  },
  {
   "cell_type": "code",
   "execution_count": 18,
   "id": "efe086b1-d840-465b-b4b0-1bb8bf80f5df",
   "metadata": {},
   "outputs": [
    {
     "data": {
      "text/plain": [
       "55    ?\n",
       "56    ?\n",
       "57    ?\n",
       "58    ?\n",
       "Name: bore, dtype: object"
      ]
     },
     "execution_count": 18,
     "metadata": {},
     "output_type": "execute_result"
    }
   ],
   "source": [
    "df.bore.loc[df.bore =='?']"
   ]
  },
  {
   "cell_type": "code",
   "execution_count": 19,
   "id": "fe9ce146-dd38-4b25-8f93-eee73fd2fed9",
   "metadata": {},
   "outputs": [
    {
     "data": {
      "text/plain": [
       "55   NaN\n",
       "56   NaN\n",
       "57   NaN\n",
       "58   NaN\n",
       "Name: bore, dtype: float64"
      ]
     },
     "execution_count": 19,
     "metadata": {},
     "output_type": "execute_result"
    }
   ],
   "source": [
    "# 숫자가 아닌 ? 값을 NaN으로 만들기\n",
    "df.bore = pd.to_numeric(df.bore, errors='coerce')\n",
    "df.bore[[55,56,57,58]].head()"
   ]
  },
  {
   "cell_type": "markdown",
   "id": "68053885-5e8b-4b7b-be8f-3df9a1fbd19a",
   "metadata": {},
   "source": [
    "##### **stroke 열 정제**"
   ]
  },
  {
   "cell_type": "code",
   "execution_count": 20,
   "id": "839b442e-ebc2-400b-9b3d-81cf9f82f48c",
   "metadata": {},
   "outputs": [
    {
     "data": {
      "text/plain": [
       "0      2.68\n",
       "1      2.68\n",
       "2      3.47\n",
       "3       3.4\n",
       "4       3.4\n",
       "       ... \n",
       "200    3.15\n",
       "201    3.15\n",
       "202    2.87\n",
       "203     3.4\n",
       "204    3.15\n",
       "Name: stroke, Length: 205, dtype: object"
      ]
     },
     "execution_count": 20,
     "metadata": {},
     "output_type": "execute_result"
    }
   ],
   "source": [
    "df.stroke"
   ]
  },
  {
   "cell_type": "code",
   "execution_count": 21,
   "id": "23a1e8da-9691-43e4-a9e6-7eaf7752275e",
   "metadata": {},
   "outputs": [
    {
     "data": {
      "text/plain": [
       "55    ?\n",
       "56    ?\n",
       "57    ?\n",
       "58    ?\n",
       "Name: stroke, dtype: object"
      ]
     },
     "execution_count": 21,
     "metadata": {},
     "output_type": "execute_result"
    }
   ],
   "source": [
    "df.stroke.loc[df.stroke =='?']"
   ]
  },
  {
   "cell_type": "code",
   "execution_count": 22,
   "id": "767438ac-92bc-4084-8e21-f8caf3add9fc",
   "metadata": {},
   "outputs": [
    {
     "data": {
      "text/plain": [
       "55   NaN\n",
       "56   NaN\n",
       "57   NaN\n",
       "58   NaN\n",
       "Name: stroke, dtype: float64"
      ]
     },
     "execution_count": 22,
     "metadata": {},
     "output_type": "execute_result"
    }
   ],
   "source": [
    "df['stroke'] = pd.to_numeric(df['stroke'],errors='coerce')\n",
    "df.stroke[[55,56,57,58]].head()"
   ]
  },
  {
   "cell_type": "markdown",
   "id": "54f93f45-d6c2-4ede-86ab-2064befca78c",
   "metadata": {},
   "source": [
    "##### **peak-rpm 열 정제**"
   ]
  },
  {
   "cell_type": "code",
   "execution_count": 26,
   "id": "8d5e3faf-a48d-4d4e-924c-1c814ecb4dd7",
   "metadata": {},
   "outputs": [
    {
     "data": {
      "text/plain": [
       "0       two\n",
       "1       two\n",
       "2       two\n",
       "3      four\n",
       "4      four\n",
       "       ... \n",
       "200    four\n",
       "201    four\n",
       "202    four\n",
       "203    four\n",
       "204    four\n",
       "Name: num-of-doors, Length: 205, dtype: object"
      ]
     },
     "execution_count": 26,
     "metadata": {},
     "output_type": "execute_result"
    }
   ],
   "source": [
    "df['num-of-doors']"
   ]
  },
  {
   "cell_type": "code",
   "execution_count": 24,
   "id": "a74f0b7d-41b3-4dd3-9065-a2bdb207b481",
   "metadata": {},
   "outputs": [
    {
     "data": {
      "text/plain": [
       "130    ?\n",
       "131    ?\n",
       "Name: peak-rpm, dtype: object"
      ]
     },
     "execution_count": 24,
     "metadata": {},
     "output_type": "execute_result"
    }
   ],
   "source": [
    "df['peak-rpm'].loc[df['peak-rpm'] =='?']"
   ]
  },
  {
   "cell_type": "code",
   "execution_count": 25,
   "id": "3459c8e2-e4be-4c58-a976-5fe4831ed426",
   "metadata": {},
   "outputs": [
    {
     "data": {
      "text/plain": [
       "130   NaN\n",
       "131   NaN\n",
       "Name: peak-rpm, dtype: float64"
      ]
     },
     "execution_count": 25,
     "metadata": {},
     "output_type": "execute_result"
    }
   ],
   "source": [
    "df['peak-rpm'] = pd.to_numeric(df['peak-rpm'],errors='coerce')\n",
    "df['peak-rpm'][[130,131]].head()"
   ]
  },
  {
   "cell_type": "markdown",
   "id": "065c9e51-3b24-4fbc-aa4f-b3c82d16d8ef",
   "metadata": {},
   "source": [
    "##### **num-of-doors 열 정제**\n",
    "- ? 값을 가지는 행을 아예 삭제하는 방법을 따른다.\n",
    "- 바꿀 수 있는 값이 없기 때문"
   ]
  },
  {
   "cell_type": "code",
   "execution_count": 26,
   "id": "bce6161f",
   "metadata": {},
   "outputs": [
    {
     "data": {
      "text/plain": [
       "0       two\n",
       "1       two\n",
       "2       two\n",
       "3      four\n",
       "4      four\n",
       "       ... \n",
       "200    four\n",
       "201    four\n",
       "202    four\n",
       "203    four\n",
       "204    four\n",
       "Name: num-of-doors, Length: 205, dtype: object"
      ]
     },
     "execution_count": 26,
     "metadata": {},
     "output_type": "execute_result"
    }
   ],
   "source": [
    "df['num-of-doors']"
   ]
  },
  {
   "cell_type": "code",
   "execution_count": 27,
   "id": "c6043e81-0f8b-4d83-bb3f-5130635ff13d",
   "metadata": {},
   "outputs": [
    {
     "data": {
      "text/plain": [
       "27    ?\n",
       "63    ?\n",
       "Name: num-of-doors, dtype: object"
      ]
     },
     "execution_count": 27,
     "metadata": {},
     "output_type": "execute_result"
    }
   ],
   "source": [
    "df['num-of-doors'].loc[df['num-of-doors'] =='?']"
   ]
  },
  {
   "cell_type": "code",
   "execution_count": 28,
   "id": "c7c51ef8-b79e-40a3-a9ad-5434e5535f6a",
   "metadata": {},
   "outputs": [
    {
     "data": {
      "text/plain": [
       "Series([], Name: num-of-doors, dtype: object)"
      ]
     },
     "execution_count": 28,
     "metadata": {},
     "output_type": "execute_result"
    }
   ],
   "source": [
    "# ? 행 값 삭제\n",
    "df.drop(df['num-of-doors'].loc[df['num-of-doors'] =='?'].index,inplace=True)\n",
    "df['num-of-doors'].loc[df['num-of-doors'] =='?']"
   ]
  },
  {
   "cell_type": "markdown",
   "id": "09d91687-5241-4999-a065-25fc3dc05755",
   "metadata": {},
   "source": [
    "---\n",
    "> ### **기초 통계량 계산**\n",
    "---"
   ]
  },
  {
   "cell_type": "code",
   "execution_count": 29,
   "id": "7c886607-f6b2-4bef-ba54-d1d392785916",
   "metadata": {},
   "outputs": [
    {
     "data": {
      "text/html": [
       "<div>\n",
       "<style scoped>\n",
       "    .dataframe tbody tr th:only-of-type {\n",
       "        vertical-align: middle;\n",
       "    }\n",
       "\n",
       "    .dataframe tbody tr th {\n",
       "        vertical-align: top;\n",
       "    }\n",
       "\n",
       "    .dataframe thead th {\n",
       "        text-align: right;\n",
       "    }\n",
       "</style>\n",
       "<table border=\"1\" class=\"dataframe\">\n",
       "  <thead>\n",
       "    <tr style=\"text-align: right;\">\n",
       "      <th></th>\n",
       "      <th>symboling</th>\n",
       "      <th>normalized-losses</th>\n",
       "      <th>wheel-base</th>\n",
       "      <th>length</th>\n",
       "      <th>width</th>\n",
       "      <th>height</th>\n",
       "      <th>curb-weight</th>\n",
       "      <th>engine-size</th>\n",
       "      <th>bore</th>\n",
       "      <th>stroke</th>\n",
       "      <th>compression-ratio</th>\n",
       "      <th>horsepower</th>\n",
       "      <th>peak-rpm</th>\n",
       "      <th>city-mpg</th>\n",
       "      <th>highway-mpg</th>\n",
       "      <th>price</th>\n",
       "    </tr>\n",
       "  </thead>\n",
       "  <tbody>\n",
       "    <tr>\n",
       "      <th>count</th>\n",
       "      <td>203.000000</td>\n",
       "      <td>203.000000</td>\n",
       "      <td>203.000000</td>\n",
       "      <td>203.00000</td>\n",
       "      <td>203.000000</td>\n",
       "      <td>203.000000</td>\n",
       "      <td>203.000000</td>\n",
       "      <td>203.000000</td>\n",
       "      <td>199.000000</td>\n",
       "      <td>199.000000</td>\n",
       "      <td>203.000000</td>\n",
       "      <td>203.000000</td>\n",
       "      <td>201.000000</td>\n",
       "      <td>203.000000</td>\n",
       "      <td>203.000000</td>\n",
       "      <td>203.000000</td>\n",
       "    </tr>\n",
       "    <tr>\n",
       "      <th>mean</th>\n",
       "      <td>0.837438</td>\n",
       "      <td>121.871921</td>\n",
       "      <td>98.781281</td>\n",
       "      <td>174.11330</td>\n",
       "      <td>65.915271</td>\n",
       "      <td>53.731527</td>\n",
       "      <td>2557.916256</td>\n",
       "      <td>127.073892</td>\n",
       "      <td>3.330955</td>\n",
       "      <td>3.254070</td>\n",
       "      <td>10.093202</td>\n",
       "      <td>104.463054</td>\n",
       "      <td>5125.870647</td>\n",
       "      <td>25.172414</td>\n",
       "      <td>30.699507</td>\n",
       "      <td>13241.911330</td>\n",
       "    </tr>\n",
       "    <tr>\n",
       "      <th>std</th>\n",
       "      <td>1.250021</td>\n",
       "      <td>31.784599</td>\n",
       "      <td>6.040994</td>\n",
       "      <td>12.33909</td>\n",
       "      <td>2.150274</td>\n",
       "      <td>2.442526</td>\n",
       "      <td>522.557049</td>\n",
       "      <td>41.797123</td>\n",
       "      <td>0.274054</td>\n",
       "      <td>0.318023</td>\n",
       "      <td>3.888216</td>\n",
       "      <td>39.612384</td>\n",
       "      <td>479.820136</td>\n",
       "      <td>6.529812</td>\n",
       "      <td>6.874645</td>\n",
       "      <td>7898.957924</td>\n",
       "    </tr>\n",
       "    <tr>\n",
       "      <th>min</th>\n",
       "      <td>-2.000000</td>\n",
       "      <td>65.000000</td>\n",
       "      <td>86.600000</td>\n",
       "      <td>141.10000</td>\n",
       "      <td>60.300000</td>\n",
       "      <td>47.800000</td>\n",
       "      <td>1488.000000</td>\n",
       "      <td>61.000000</td>\n",
       "      <td>2.540000</td>\n",
       "      <td>2.070000</td>\n",
       "      <td>7.000000</td>\n",
       "      <td>48.000000</td>\n",
       "      <td>4150.000000</td>\n",
       "      <td>13.000000</td>\n",
       "      <td>16.000000</td>\n",
       "      <td>5118.000000</td>\n",
       "    </tr>\n",
       "    <tr>\n",
       "      <th>25%</th>\n",
       "      <td>0.000000</td>\n",
       "      <td>101.000000</td>\n",
       "      <td>94.500000</td>\n",
       "      <td>166.55000</td>\n",
       "      <td>64.100000</td>\n",
       "      <td>52.000000</td>\n",
       "      <td>2145.000000</td>\n",
       "      <td>97.000000</td>\n",
       "      <td>3.150000</td>\n",
       "      <td>3.110000</td>\n",
       "      <td>8.600000</td>\n",
       "      <td>70.000000</td>\n",
       "      <td>4800.000000</td>\n",
       "      <td>19.000000</td>\n",
       "      <td>25.000000</td>\n",
       "      <td>7781.500000</td>\n",
       "    </tr>\n",
       "    <tr>\n",
       "      <th>50%</th>\n",
       "      <td>1.000000</td>\n",
       "      <td>122.000000</td>\n",
       "      <td>97.000000</td>\n",
       "      <td>173.20000</td>\n",
       "      <td>65.500000</td>\n",
       "      <td>54.100000</td>\n",
       "      <td>2414.000000</td>\n",
       "      <td>120.000000</td>\n",
       "      <td>3.310000</td>\n",
       "      <td>3.290000</td>\n",
       "      <td>9.000000</td>\n",
       "      <td>95.000000</td>\n",
       "      <td>5200.000000</td>\n",
       "      <td>24.000000</td>\n",
       "      <td>30.000000</td>\n",
       "      <td>10595.000000</td>\n",
       "    </tr>\n",
       "    <tr>\n",
       "      <th>75%</th>\n",
       "      <td>2.000000</td>\n",
       "      <td>137.000000</td>\n",
       "      <td>102.400000</td>\n",
       "      <td>183.30000</td>\n",
       "      <td>66.900000</td>\n",
       "      <td>55.500000</td>\n",
       "      <td>2943.500000</td>\n",
       "      <td>143.000000</td>\n",
       "      <td>3.590000</td>\n",
       "      <td>3.410000</td>\n",
       "      <td>9.400000</td>\n",
       "      <td>116.000000</td>\n",
       "      <td>5500.000000</td>\n",
       "      <td>30.000000</td>\n",
       "      <td>34.000000</td>\n",
       "      <td>16500.000000</td>\n",
       "    </tr>\n",
       "    <tr>\n",
       "      <th>max</th>\n",
       "      <td>3.000000</td>\n",
       "      <td>256.000000</td>\n",
       "      <td>120.900000</td>\n",
       "      <td>208.10000</td>\n",
       "      <td>72.300000</td>\n",
       "      <td>59.800000</td>\n",
       "      <td>4066.000000</td>\n",
       "      <td>326.000000</td>\n",
       "      <td>3.940000</td>\n",
       "      <td>4.170000</td>\n",
       "      <td>23.000000</td>\n",
       "      <td>288.000000</td>\n",
       "      <td>6600.000000</td>\n",
       "      <td>49.000000</td>\n",
       "      <td>54.000000</td>\n",
       "      <td>45400.000000</td>\n",
       "    </tr>\n",
       "  </tbody>\n",
       "</table>\n",
       "</div>"
      ],
      "text/plain": [
       "        symboling  normalized-losses  wheel-base     length       width  \\\n",
       "count  203.000000         203.000000  203.000000  203.00000  203.000000   \n",
       "mean     0.837438         121.871921   98.781281  174.11330   65.915271   \n",
       "std      1.250021          31.784599    6.040994   12.33909    2.150274   \n",
       "min     -2.000000          65.000000   86.600000  141.10000   60.300000   \n",
       "25%      0.000000         101.000000   94.500000  166.55000   64.100000   \n",
       "50%      1.000000         122.000000   97.000000  173.20000   65.500000   \n",
       "75%      2.000000         137.000000  102.400000  183.30000   66.900000   \n",
       "max      3.000000         256.000000  120.900000  208.10000   72.300000   \n",
       "\n",
       "           height  curb-weight  engine-size        bore      stroke  \\\n",
       "count  203.000000   203.000000   203.000000  199.000000  199.000000   \n",
       "mean    53.731527  2557.916256   127.073892    3.330955    3.254070   \n",
       "std      2.442526   522.557049    41.797123    0.274054    0.318023   \n",
       "min     47.800000  1488.000000    61.000000    2.540000    2.070000   \n",
       "25%     52.000000  2145.000000    97.000000    3.150000    3.110000   \n",
       "50%     54.100000  2414.000000   120.000000    3.310000    3.290000   \n",
       "75%     55.500000  2943.500000   143.000000    3.590000    3.410000   \n",
       "max     59.800000  4066.000000   326.000000    3.940000    4.170000   \n",
       "\n",
       "       compression-ratio  horsepower     peak-rpm    city-mpg  highway-mpg  \\\n",
       "count         203.000000  203.000000   201.000000  203.000000   203.000000   \n",
       "mean           10.093202  104.463054  5125.870647   25.172414    30.699507   \n",
       "std             3.888216   39.612384   479.820136    6.529812     6.874645   \n",
       "min             7.000000   48.000000  4150.000000   13.000000    16.000000   \n",
       "25%             8.600000   70.000000  4800.000000   19.000000    25.000000   \n",
       "50%             9.000000   95.000000  5200.000000   24.000000    30.000000   \n",
       "75%             9.400000  116.000000  5500.000000   30.000000    34.000000   \n",
       "max            23.000000  288.000000  6600.000000   49.000000    54.000000   \n",
       "\n",
       "              price  \n",
       "count    203.000000  \n",
       "mean   13241.911330  \n",
       "std     7898.957924  \n",
       "min     5118.000000  \n",
       "25%     7781.500000  \n",
       "50%    10595.000000  \n",
       "75%    16500.000000  \n",
       "max    45400.000000  "
      ]
     },
     "execution_count": 29,
     "metadata": {},
     "output_type": "execute_result"
    }
   ],
   "source": [
    "df.describe()"
   ]
  },
  {
   "cell_type": "markdown",
   "id": "627f1009-7de7-45b8-b2bc-063c7fa20b20",
   "metadata": {},
   "source": [
    "##### height 열 추출"
   ]
  },
  {
   "cell_type": "code",
   "execution_count": 30,
   "id": "aca15074-66ec-48e4-8606-6b6cda6c8271",
   "metadata": {},
   "outputs": [
    {
     "name": "stdout",
     "output_type": "stream",
     "text": [
      "0      48.8\n",
      "1      48.8\n",
      "2      52.4\n",
      "3      54.3\n",
      "4      54.3\n",
      "       ... \n",
      "200    55.5\n",
      "201    55.5\n",
      "202    55.5\n",
      "203    55.5\n",
      "204    55.5\n",
      "Name: height, Length: 203, dtype: float64\n"
     ]
    },
    {
     "data": {
      "text/plain": [
       "pandas.core.series.Series"
      ]
     },
     "execution_count": 30,
     "metadata": {},
     "output_type": "execute_result"
    }
   ],
   "source": [
    "height = df.height\n",
    "print(height)\n",
    "type(height)"
   ]
  },
  {
   "cell_type": "code",
   "execution_count": 31,
   "id": "2adabf1e-e467-4102-9379-7e68528a84a6",
   "metadata": {},
   "outputs": [
    {
     "name": "stdout",
     "output_type": "stream",
     "text": [
      "53.73152709359606 54.1 0    50.8\n",
      "Name: height, dtype: float64\n"
     ]
    }
   ],
   "source": [
    "mean = height.mean()\n",
    "median = height.median()\n",
    "mode = height.mode()\n",
    "print(mean, median, mode)"
   ]
  },
  {
   "cell_type": "code",
   "execution_count": 32,
   "id": "d0079d51-4657-44d4-afb2-9023f06810d0",
   "metadata": {},
   "outputs": [
    {
     "data": {
      "text/plain": [
       "53.73152709359606"
      ]
     },
     "execution_count": 32,
     "metadata": {},
     "output_type": "execute_result"
    }
   ],
   "source": [
    "df.height.mean()"
   ]
  },
  {
   "cell_type": "markdown",
   "id": "706779fd-3547-4b4c-97b2-210d7b988952",
   "metadata": {},
   "source": [
    "---\n",
    "> ### **명목형 변수의 막대 그래프 시각화**\n",
    "---"
   ]
  },
  {
   "cell_type": "code",
   "execution_count": 33,
   "id": "07b58a12-e863-40a7-9168-16f1c34f52f9",
   "metadata": {},
   "outputs": [],
   "source": [
    "import matplotlib.pyplot as plt"
   ]
  },
  {
   "cell_type": "markdown",
   "id": "73be0f2e-5c92-4b6d-bb80-c43fee8b1210",
   "metadata": {},
   "source": [
    "##### **make 명목형 변수**"
   ]
  },
  {
   "cell_type": "code",
   "execution_count": 34,
   "id": "7510570d-b845-4f83-b347-016ae593dbce",
   "metadata": {},
   "outputs": [
    {
     "data": {
      "text/plain": [
       "0      alfa-romero\n",
       "1      alfa-romero\n",
       "2      alfa-romero\n",
       "3             audi\n",
       "4             audi\n",
       "          ...     \n",
       "200          volvo\n",
       "201          volvo\n",
       "202          volvo\n",
       "203          volvo\n",
       "204          volvo\n",
       "Name: make, Length: 203, dtype: object"
      ]
     },
     "execution_count": 34,
     "metadata": {},
     "output_type": "execute_result"
    }
   ],
   "source": [
    "df.make"
   ]
  },
  {
   "cell_type": "code",
   "execution_count": 35,
   "id": "5824ff47-9327-4fd1-acfe-dc5c82839b85",
   "metadata": {},
   "outputs": [
    {
     "data": {
      "image/png": "[encoded data removed]",
      "text/plain": [
       "<Figure size 1400x800 with 1 Axes>"
      ]
     },
     "metadata": {},
     "output_type": "display_data"
    }
   ],
   "source": [
    "df.make.value_counts().nlargest(10).plot(kind='bar', figsize =(14,8))\n",
    "plt.title(\"Number of cars by make\")\n",
    "plt.ylabel(\"Number of cars\")\n",
    "plt.xlabel(\"Make of the cars\");"
   ]
  },
  {
   "cell_type": "markdown",
   "id": "5b192cb4-4ea4-4a7e-85ba-3c2901b27a8a",
   "metadata": {},
   "source": [
    "##### **drive_wheels 명목형 변수**"
   ]
  },
  {
   "cell_type": "code",
   "execution_count": 36,
   "id": "2003c202-6fb6-4d35-a3ce-de33833735a1",
   "metadata": {},
   "outputs": [
    {
     "name": "stdout",
     "output_type": "stream",
     "text": [
      "fwd    118\n",
      "rwd     76\n",
      "4wd      9\n",
      "Name: drive-wheels, dtype: int64\n"
     ]
    }
   ],
   "source": [
    "drive_wheels_count = df['drive-wheels'].value_counts()\n",
    "print(drive_wheels_count)"
   ]
  },
  {
   "cell_type": "markdown",
   "id": "2545b69b-60e1-4610-b477-de628546a23e",
   "metadata": {},
   "source": [
    "---\n",
    "> ### **산포 계산**\n",
    "---"
   ]
  },
  {
   "cell_type": "markdown",
   "id": "06ec7d8a-0bf5-4471-bcce-fc59c6eec7bc",
   "metadata": {},
   "source": [
    "##### **표준편차 계산**"
   ]
  },
  {
   "cell_type": "code",
   "execution_count": 37,
   "id": "9c56e86e-908f-47ad-bd72-318a29eb17bd",
   "metadata": {},
   "outputs": [
    {
     "name": "stdout",
     "output_type": "stream",
     "text": [
      "symboling               1.250021\n",
      "normalized-losses      31.784599\n",
      "wheel-base              6.040994\n",
      "length                 12.339090\n",
      "width                   2.150274\n",
      "height                  2.442526\n",
      "curb-weight           522.557049\n",
      "engine-size            41.797123\n",
      "bore                    0.274054\n",
      "stroke                  0.318023\n",
      "compression-ratio       3.888216\n",
      "horsepower             39.612384\n",
      "peak-rpm              479.820136\n",
      "city-mpg                6.529812\n",
      "highway-mpg             6.874645\n",
      "price                7898.957924\n",
      "dtype: float64\n",
      "2.4425257040318664\n"
     ]
    },
    {
     "name": "stderr",
     "output_type": "stream",
     "text": [
      "C:\\Users\\skyme\\AppData\\Local\\Temp\\ipykernel_20988\\3000797036.py:2: FutureWarning: The default value of numeric_only in DataFrame.std is deprecated. In a future version, it will default to False. In addition, specifying 'numeric_only=None' is deprecated. Select only valid columns or specify the value of numeric_only to silence this warning.\n",
      "  std_dev = df.std()\n"
     ]
    }
   ],
   "source": [
    "#std() function\n",
    "std_dev = df.std()\n",
    "print(std_dev)\n",
    "# 특정 열의 표준편차 계산\n",
    "sv_height = df.loc[:,'height'].std()\n",
    "print(sv_height)"
   ]
  },
  {
   "cell_type": "markdown",
   "id": "3e6e6e06-ba7c-4d84-a56b-1fc988d0ee79",
   "metadata": {},
   "source": [
    "##### **분산 계산**"
   ]
  },
  {
   "cell_type": "code",
   "execution_count": 38,
   "id": "cd98847c-85b1-429e-854e-09ec47db4f90",
   "metadata": {},
   "outputs": [
    {
     "name": "stdout",
     "output_type": "stream",
     "text": [
      "symboling            1.562552e+00\n",
      "normalized-losses    1.010261e+03\n",
      "wheel-base           3.649361e+01\n",
      "length               1.522531e+02\n",
      "width                4.623677e+00\n",
      "height               5.965932e+00\n",
      "curb-weight          2.730659e+05\n",
      "engine-size          1.746999e+03\n",
      "bore                 7.510565e-02\n",
      "stroke               1.011384e-01\n",
      "compression-ratio    1.511822e+01\n",
      "horsepower           1.569141e+03\n",
      "peak-rpm             2.302274e+05\n",
      "city-mpg             4.263844e+01\n",
      "highway-mpg          4.726074e+01\n",
      "price                6.239354e+07\n",
      "dtype: float64\n",
      "5.965931814856364\n"
     ]
    },
    {
     "name": "stderr",
     "output_type": "stream",
     "text": [
      "C:\\Users\\skyme\\AppData\\Local\\Temp\\ipykernel_20988\\2915447891.py:2: FutureWarning: The default value of numeric_only in DataFrame.var is deprecated. In a future version, it will default to False. In addition, specifying 'numeric_only=None' is deprecated. Select only valid columns or specify the value of numeric_only to silence this warning.\n",
      "  variance = df.var()\n"
     ]
    }
   ],
   "source": [
    "#var() function\n",
    "variance = df.var()\n",
    "print(variance)\n",
    "# 특정 열의 분산 계산\n",
    "var_height = df.loc[:,'height'].var()\n",
    "print(var_height)"
   ]
  },
  {
   "cell_type": "code",
   "execution_count": 39,
   "id": "030b0127-9d93-4ff0-afea-09cc8400053b",
   "metadata": {},
   "outputs": [
    {
     "data": {
      "text/plain": [
       "5.965931814856364"
      ]
     },
     "execution_count": 39,
     "metadata": {},
     "output_type": "execute_result"
    }
   ],
   "source": [
    "df.loc[:,'height'].var()"
   ]
  },
  {
   "cell_type": "code",
   "execution_count": 40,
   "id": "4f67f9f9-e9b8-41b4-8e67-4923544de1b6",
   "metadata": {},
   "outputs": [
    {
     "data": {
      "text/plain": [
       "5.965931814856364"
      ]
     },
     "execution_count": 40,
     "metadata": {},
     "output_type": "execute_result"
    }
   ],
   "source": [
    "df['height'].var()"
   ]
  },
  {
   "cell_type": "markdown",
   "id": "83853456-88bc-4164-9716-adaa08d929b2",
   "metadata": {},
   "source": [
    "---\n",
    "> ### **왜도 계산**\n",
    "---"
   ]
  },
  {
   "cell_type": "code",
   "execution_count": 41,
   "id": "538a0c82-98b1-4443-986b-f4b48781fe93",
   "metadata": {},
   "outputs": [
    {
     "name": "stderr",
     "output_type": "stream",
     "text": [
      "C:\\Users\\skyme\\AppData\\Local\\Temp\\ipykernel_20988\\1665899112.py:1: FutureWarning: The default value of numeric_only in DataFrame.skew is deprecated. In a future version, it will default to False. In addition, specifying 'numeric_only=None' is deprecated. Select only valid columns or specify the value of numeric_only to silence this warning.\n",
      "  df.skew()\n"
     ]
    },
    {
     "data": {
      "text/plain": [
       "symboling            0.204275\n",
       "normalized-losses    0.864408\n",
       "wheel-base           1.041170\n",
       "length               0.154086\n",
       "width                0.900685\n",
       "height               0.064134\n",
       "curb-weight          0.668942\n",
       "engine-size          1.934993\n",
       "bore                 0.013419\n",
       "stroke              -0.669515\n",
       "compression-ratio    2.682640\n",
       "horsepower           1.391224\n",
       "peak-rpm             0.073094\n",
       "city-mpg             0.673533\n",
       "highway-mpg          0.549104\n",
       "price                1.812335\n",
       "dtype: float64"
      ]
     },
     "execution_count": 41,
     "metadata": {},
     "output_type": "execute_result"
    }
   ],
   "source": [
    "df.skew()"
   ]
  },
  {
   "cell_type": "code",
   "execution_count": 42,
   "id": "aabcfa7d-02e1-4899-9f30-1b53f6ca2201",
   "metadata": {},
   "outputs": [
    {
     "data": {
      "text/plain": [
       "0.06413448813322854"
      ]
     },
     "execution_count": 42,
     "metadata": {},
     "output_type": "execute_result"
    }
   ],
   "source": [
    "df.loc[:,'height'].skew()"
   ]
  },
  {
   "cell_type": "markdown",
   "id": "5e124c18-e291-45db-bd0b-6c398522fc52",
   "metadata": {},
   "source": [
    "---\n",
    "> ### **첨도 계산**\n",
    "---"
   ]
  },
  {
   "cell_type": "code",
   "execution_count": 43,
   "id": "867838ea-0c15-4154-9d50-2fdaf13c8295",
   "metadata": {},
   "outputs": [
    {
     "name": "stdout",
     "output_type": "stream",
     "text": [
      "symboling           -0.691709\n",
      "normalized-losses    1.403077\n",
      "wheel-base           0.986065\n",
      "length              -0.075680\n",
      "width                0.687375\n",
      "height              -0.429298\n",
      "curb-weight         -0.069648\n",
      "engine-size          5.233661\n",
      "bore                -0.830965\n",
      "stroke               2.030592\n",
      "compression-ratio    5.643878\n",
      "horsepower           2.646625\n",
      "peak-rpm             0.068155\n",
      "city-mpg             0.624470\n",
      "highway-mpg          0.479323\n",
      "price                3.287412\n",
      "dtype: float64\n",
      "-0.4292976016374439\n"
     ]
    },
    {
     "name": "stderr",
     "output_type": "stream",
     "text": [
      "C:\\Users\\skyme\\AppData\\Local\\Temp\\ipykernel_20988\\6738269.py:1: FutureWarning: The default value of numeric_only in DataFrame.kurt is deprecated. In a future version, it will default to False. In addition, specifying 'numeric_only=None' is deprecated. Select only valid columns or specify the value of numeric_only to silence this warning.\n",
      "  kurtosis = df.kurt()\n"
     ]
    }
   ],
   "source": [
    "kurtosis = df.kurt()\n",
    "print(kurtosis)\n",
    "\n",
    "sk_height = df['height'].kurt()\n",
    "print(sk_height)"
   ]
  },
  {
   "cell_type": "markdown",
   "id": "d0cedeca-47ac-4fbe-890a-1079a5f1f564",
   "metadata": {},
   "source": [
    "---\n",
    "> ### **산점도 그리기**\n",
    "---"
   ]
  },
  {
   "cell_type": "code",
   "execution_count": 44,
   "id": "7f4dc954-80f2-4143-a6e2-90aaa3e33f7c",
   "metadata": {},
   "outputs": [],
   "source": [
    "import matplotlib.pyplot as plt\n",
    "import seaborn as sns\n",
    "\n",
    "sns.set()\n",
    "plt.rcParams['figure.figsize'] = (10,6)"
   ]
  },
  {
   "cell_type": "markdown",
   "id": "4c12850b-103e-4a05-b893-3ffa9e58b8fc",
   "metadata": {},
   "source": [
    "##### **engine-size, price의 산점도**"
   ]
  },
  {
   "cell_type": "code",
   "execution_count": 45,
   "id": "fa8842a7-f80e-4bc7-b873-b45e2990d26f",
   "metadata": {},
   "outputs": [
    {
     "data": {
      "image/png": "[encoded data removed]",
      "text/plain": [
       "<Figure size 1000x600 with 1 Axes>"
      ]
     },
     "metadata": {},
     "output_type": "display_data"
    }
   ],
   "source": [
    "plt.scatter(df['price'],df['engine-size'])\n",
    "plt.title(\"Scatter Plot for engine-size vs price\")\n",
    "plt.xlabel(\"engine-size\")\n",
    "plt.ylabel('price');"
   ]
  },
  {
   "cell_type": "markdown",
   "id": "afb61511-ff6c-43db-bf68-5d5832229295",
   "metadata": {},
   "source": [
    "---\n",
    "> ### **박스플롯 그리기**\n",
    "---"
   ]
  },
  {
   "cell_type": "code",
   "execution_count": 46,
   "id": "03ff1862-3e12-4433-96fb-70a79d921fcc",
   "metadata": {},
   "outputs": [
    {
     "data": {
      "image/png": "[encoded data removed]",
      "text/plain": [
       "<Figure size 1000x600 with 1 Axes>"
      ]
     },
     "metadata": {},
     "output_type": "display_data"
    }
   ],
   "source": [
    "sns.boxplot(x='drive-wheels',y='price',data=df);"
   ]
  },
  {
   "cell_type": "markdown",
   "id": "0814e6ba-a772-469b-92eb-3fee93c6e3ad",
   "metadata": {},
   "source": [
    "---\n",
    "> ### **Percentiles(백분위수) 계산하기**\n",
    "---"
   ]
  },
  {
   "cell_type": "code",
   "execution_count": 47,
   "id": "d8dbff1e-eb2a-45ca-8fb9-2f2a87681913",
   "metadata": {},
   "outputs": [
    {
     "name": "stdout",
     "output_type": "stream",
     "text": [
      "54.1\n"
     ]
    }
   ],
   "source": [
    "height = df['height']\n",
    "percentile = np.percentile(height,50)\n",
    "print(percentile)"
   ]
  },
  {
   "cell_type": "markdown",
   "id": "72e258a3-64bd-4422-af59-5d0c22550896",
   "metadata": {},
   "source": [
    "---\n",
    "> ### **IQR(Inter Quartile Range, 사분위수) 계산하기**\n",
    "---"
   ]
  },
  {
   "cell_type": "code",
   "execution_count": 48,
   "id": "b0bfad14-b63f-475f-83b8-735de60f1d52",
   "metadata": {},
   "outputs": [
    {
     "data": {
      "text/plain": [
       "8718.5"
      ]
     },
     "execution_count": 48,
     "metadata": {},
     "output_type": "execute_result"
    }
   ],
   "source": [
    "price = df.price.sort_values()\n",
    "Q1 = np.percentile(price,25)\n",
    "Q2 = np.percentile(price,50)\n",
    "Q3 = np.percentile(price,75)\n",
    "IQR = Q3-Q1\n",
    "IQR"
   ]
  },
  {
   "cell_type": "code",
   "execution_count": 49,
   "id": "18c78fde-4859-4b72-99b9-bc8cd003f4b8",
   "metadata": {},
   "outputs": [
    {
     "name": "stdout",
     "output_type": "stream",
     "text": [
      "5118.0 7781.5 10595.0 16500.0 45400.0\n",
      "8718.5\n"
     ]
    }
   ],
   "source": [
    "min = df.price.quantile(0)\n",
    "Q1 = df.price.quantile(0.25)\n",
    "Q2 = df.price.quantile(0.5)\n",
    "Q3 = df.price.quantile(0.75)\n",
    "max = df.price.quantile(1)\n",
    "print(min, Q1,Q2,Q3,max)\n",
    "print(Q3-Q1)"
   ]
  },
  {
   "cell_type": "markdown",
   "id": "9fbdc25b-755c-4691-bc0f-65d115be1879",
   "metadata": {},
   "source": [
    "---\n",
    "> ### **박스플롯 그려보기**\n",
    "---"
   ]
  },
  {
   "cell_type": "code",
   "execution_count": 50,
   "id": "ee550737-7912-496b-a33c-97ff3d60869f",
   "metadata": {},
   "outputs": [],
   "source": [
    "scorePhysics = [34,35,35,35,35,35,36,36,37,37,37,37,37,38,38,38,39,39,\n",
    "   40,40,40,40,40,41,42,42,42,42,42,42,42,42,43,43,43,43,44,44,44,44,44,44,45,\n",
    "   45,45,45,45,46,46,46,46,46,46,47,47,47,47,47,47,48,48,48,48,48,49,49,49,49,\n",
    "   49,49,49,49,52,52,52,53,53,53,53,53,53,53,53,54,54,\n",
    "   54,54,54,54,54,55,55,55,55,55,56,56,56,56,56,56,57,57,57,58,58,59,59,59,59,\n",
    "   59,59,59,60,60,60,60,60,60,60,61,61,61,61,61,62,62,63,63,63,63,63,64,64,64,\n",
    "   64,64,64,64,65,65,65,66,66,67,67,68,68,68,68,68,68,68,69,70,71,71,71,72,72,\n",
    "   72,72,73,73,74,75,76,76,76,76,77,77,78,79,79,80,80,81,84,84,85,85,87,87,88]\n",
    "scoreLiterature = [49,49,50,51,51,52,52,52,52,53,54,54,55,55,55,55,56,\n",
    "   56,56,56,56,57,57,57,58,58,58,59,59,59,60,60,60,60,60,60,60,61,61,61,62,\n",
    "   62,62,62,63,63,67,67,68,68,68,68,68,68,69,69,69,69,69,69,\n",
    "   70,71,71,71,71,72,72,72,72,73,73,73,73,74,74,74,74,74,75,75,75,76,76,76,\n",
    "   77,77,78,78,78,79,79,79,80,80,82,83,85,88]\n",
    "scoreComputer = [56,57,58,58,58,60,60,61,61,61,61,61,61,62,62,62,62,\n",
    "   63,63,63,63,63,64,64,64,64,65,65,66,66,67,67,67,67,67,67,67,68,68,68,69,\n",
    "   69,70,70,70,71,71,71,73,73,74,75,75,76,76,77,77,77,78,78,81,82,\n",
    "   84,89,90]\n",
    "scores=[scorePhysics, scoreLiterature, scoreComputer]"
   ]
  },
  {
   "cell_type": "code",
   "execution_count": 51,
   "id": "de0a73be-283d-4eee-bf80-02e66b727056",
   "metadata": {},
   "outputs": [
    {
     "data": {
      "text/plain": [
       "{'whiskers': [<matplotlib.lines.Line2D at 0x2a4efd39430>,\n",
       "  <matplotlib.lines.Line2D at 0x2a4efd396d0>],\n",
       " 'caps': [<matplotlib.lines.Line2D at 0x2a4efd39970>,\n",
       "  <matplotlib.lines.Line2D at 0x2a4efd39c10>],\n",
       " 'boxes': [<matplotlib.lines.Line2D at 0x2a4efd39190>],\n",
       " 'medians': [<matplotlib.lines.Line2D at 0x2a4efd39eb0>],\n",
       " 'fliers': [<matplotlib.lines.Line2D at 0x2a4efd45430>],\n",
       " 'means': [<matplotlib.lines.Line2D at 0x2a4efd45190>]}"
      ]
     },
     "execution_count": 51,
     "metadata": {},
     "output_type": "execute_result"
    },
    {
     "data": {
      "image/png": "[encoded data removed]",
      "text/plain": [
       "<Figure size 1000x600 with 1 Axes>"
      ]
     },
     "metadata": {},
     "output_type": "display_data"
    }
   ],
   "source": [
    "plt.boxplot(scoreComputer, showmeans = True, whis = 1.5)"
   ]
  },
  {
   "cell_type": "code",
   "execution_count": 52,
   "id": "cbbc53ba-246c-4dcd-b94f-4f177baba277",
   "metadata": {},
   "outputs": [
    {
     "data": {
      "text/plain": [
       "[None]"
      ]
     },
     "execution_count": 52,
     "metadata": {},
     "output_type": "execute_result"
    },
    {
     "data": {
      "image/png": "[encoded data removed]",
      "text/plain": [
       "<Figure size 1000x600 with 1 Axes>"
      ]
     },
     "metadata": {},
     "output_type": "display_data"
    }
   ],
   "source": [
    "box = plt.boxplot(scores, showmeans =True, whis=1.5)\n",
    "plt.setp(box['boxes'][0], color ='blue')\n",
    "plt.setp(box['boxes'][0], color ='blue')"
   ]
  }
 ],
 "metadata": {
  "kernelspec": {
   "display_name": "Python 3 (ipykernel)",
   "language": "python",
   "name": "python3"
  },
  "language_info": {
   "codemirror_mode": {
    "name": "ipython",
    "version": 3
   },
   "file_extension": ".py",
   "mimetype": "text/x-python",
   "name": "python",
   "nbconvert_exporter": "python",
   "pygments_lexer": "ipython3",
   "version": "3.8.15"
  }
 },
 "nbformat": 4,
 "nbformat_minor": 5
}
